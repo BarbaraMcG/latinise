{
 "cells": [
  {
   "cell_type": "markdown",
   "metadata": {
    "id": "B3i1zJ4BQ1pc"
   },
   "source": [
    "# Semantic change in LatinISE\n",
    "\n",
    "\n",
    "Barbara McGillivray"
   ]
  },
  {
   "cell_type": "markdown",
   "metadata": {
    "id": "6NyL32TSUqyA"
   },
   "source": [
    "This notebook contains the code for detecting semantic change in the Latin corpus LatinISe using word embeddings."
   ]
  },
  {
   "cell_type": "markdown",
   "metadata": {
    "id": "5pZcI50Z-0-m"
   },
   "source": [
    "## Initialisation"
   ]
  },
  {
   "cell_type": "markdown",
   "metadata": {
    "id": "s04rDpqBSg-y"
   },
   "source": [
    "I install version 4.0 of gensim, which is needed to train the word2vec models."
   ]
  },
  {
   "cell_type": "code",
   "execution_count": 1,
   "metadata": {
    "colab": {
     "base_uri": "https://localhost:8080/"
    },
    "id": "6eiPamUMSivf",
    "outputId": "f393c82f-95ff-4f08-d739-7a743eced552"
   },
   "outputs": [
    {
     "name": "stdout",
     "output_type": "stream",
     "text": [
      "Requirement already satisfied: gensim==4.0 in /Users/barbaramcgillivray/opt/anaconda3/lib/python3.8/site-packages (4.0.0)\n",
      "Requirement already satisfied: smart-open>=1.8.1 in /Users/barbaramcgillivray/opt/anaconda3/lib/python3.8/site-packages (from gensim==4.0) (5.2.1)\n",
      "Requirement already satisfied: numpy>=1.11.3 in /Users/barbaramcgillivray/opt/anaconda3/lib/python3.8/site-packages (from gensim==4.0) (1.20.1)\n",
      "Requirement already satisfied: scipy>=0.18.1 in /Users/barbaramcgillivray/opt/anaconda3/lib/python3.8/site-packages (from gensim==4.0) (1.6.2)\n",
      "\n",
      "\u001b[1m[\u001b[0m\u001b[34;49mnotice\u001b[0m\u001b[1;39;49m]\u001b[0m\u001b[39;49m A new release of pip available: \u001b[0m\u001b[31;49m22.1.2\u001b[0m\u001b[39;49m -> \u001b[0m\u001b[32;49m22.2.2\u001b[0m\n",
      "\u001b[1m[\u001b[0m\u001b[34;49mnotice\u001b[0m\u001b[1;39;49m]\u001b[0m\u001b[39;49m To update, run: \u001b[0m\u001b[32;49mpip install --upgrade pip\u001b[0m\n",
      "Requirement already satisfied: plotly in /Users/barbaramcgillivray/opt/anaconda3/lib/python3.8/site-packages (5.9.0)\n",
      "Requirement already satisfied: tenacity>=6.2.0 in /Users/barbaramcgillivray/opt/anaconda3/lib/python3.8/site-packages (from plotly) (8.0.1)\n",
      "\n",
      "\u001b[1m[\u001b[0m\u001b[34;49mnotice\u001b[0m\u001b[1;39;49m]\u001b[0m\u001b[39;49m A new release of pip available: \u001b[0m\u001b[31;49m22.1.2\u001b[0m\u001b[39;49m -> \u001b[0m\u001b[32;49m22.2.2\u001b[0m\n",
      "\u001b[1m[\u001b[0m\u001b[34;49mnotice\u001b[0m\u001b[1;39;49m]\u001b[0m\u001b[39;49m To update, run: \u001b[0m\u001b[32;49mpip install --upgrade pip\u001b[0m\n"
     ]
    }
   ],
   "source": [
    "!pip install gensim==4.0\n",
    "!pip install plotly"
   ]
  },
  {
   "cell_type": "markdown",
   "metadata": {
    "id": "2EnttAvC_7Dg"
   },
   "source": [
    "Import libraries"
   ]
  },
  {
   "cell_type": "code",
   "execution_count": 2,
   "metadata": {
    "colab": {
     "base_uri": "https://localhost:8080/"
    },
    "id": "oCym1_NBADP6",
    "outputId": "f9fa567a-1127-402a-cc62-02469720b97d"
   },
   "outputs": [
    {
     "name": "stderr",
     "output_type": "stream",
     "text": [
      "/Users/barbaramcgillivray/opt/anaconda3/lib/python3.8/site-packages/gensim/similarities/__init__.py:15: UserWarning: The gensim.similarities.levenshtein submodule is disabled, because the optional Levenshtein package <https://pypi.org/project/python-Levenshtein/> is unavailable. Install Levenhstein (e.g. `pip install python-Levenshtein`) to suppress this warning.\n",
      "  warnings.warn(msg)\n"
     ]
    }
   ],
   "source": [
    "import os \n",
    "#from bs4 import BeautifulSoup\n",
    "import csv\n",
    "import numpy as np\n",
    "import pandas as pd\n",
    "#from nltk.tokenize import sent_tokenize, word_tokenize, RegexpTokenizer\n",
    "#from nltk.corpus import stopwords\n",
    "#import nltk\n",
    "#nltk.download('punkt')\n",
    "#nltk.download('stopwords')\n",
    "from gensim.models import FastText\n",
    "import gensim\n",
    "from scipy import spatial\n",
    "from sklearn.manifold import TSNE\n",
    "import matplotlib.pyplot as plt\n",
    "import time\n",
    "from sklearn.decomposition import PCA\n",
    "import spacy\n",
    "import plotly.express as px\n",
    "import re\n",
    "from statistics import mean\n",
    "#from langdetect import detect\n",
    "# to make our plot outputs appear and be stored within the notebook:\n",
    "%matplotlib inline "
   ]
  },
  {
   "cell_type": "markdown",
   "metadata": {},
   "source": [
    "# Parameters"
   ]
  },
  {
   "cell_type": "markdown",
   "metadata": {},
   "source": [
    "I set the parameters of the analysis."
   ]
  },
  {
   "cell_type": "code",
   "execution_count": 3,
   "metadata": {},
   "outputs": [],
   "source": [
    "lemmas_or_tokens = \"lemmas\" # this can be \"lemmas\" or \"tokens\""
   ]
  },
  {
   "cell_type": "markdown",
   "metadata": {
    "id": "hAk1QvSdQyOP"
   },
   "source": [
    "## Reading the files"
   ]
  },
  {
   "cell_type": "markdown",
   "metadata": {
    "id": "4w7hFq6SSUAf"
   },
   "source": [
    "I define the name of the folders:"
   ]
  },
  {
   "cell_type": "code",
   "execution_count": 4,
   "metadata": {
    "id": "sof23JqOSV3C"
   },
   "outputs": [],
   "source": [
    "dir_in = os.path.join(\"/Users\", \"barbaramcgillivray\", \"OneDrive - King's College London\", \"Research\", \"2022\", \"Nexus Linguarum WG4 UC4.2\",  \"LatinISE\")\n",
    "dir_out = os.path.join(dir_in, \"semantic_change_output\")"
   ]
  },
  {
   "cell_type": "markdown",
   "metadata": {
    "id": "4O5Io99ySN4W"
   },
   "source": [
    "I define the list of all files:"
   ]
  },
  {
   "cell_type": "code",
   "execution_count": 5,
   "metadata": {
    "id": "-g1Ld6VxRWik"
   },
   "outputs": [],
   "source": [
    "files = os.listdir(os.path.join(dir_in, \"preprocessed_\"+lemmas_or_tokens))"
   ]
  },
  {
   "cell_type": "markdown",
   "metadata": {
    "id": "VOLUEyREC1XF"
   },
   "source": [
    "How many files are in the folder?\n"
   ]
  },
  {
   "cell_type": "code",
   "execution_count": 6,
   "metadata": {
    "colab": {
     "base_uri": "https://localhost:8080/"
    },
    "id": "44-n5HICDGRm",
    "outputId": "2a1bbc46-1ad9-424e-eced-690dbfd0cc5f"
   },
   "outputs": [
    {
     "data": {
      "text/plain": [
       "1268"
      ]
     },
     "execution_count": 6,
     "metadata": {},
     "output_type": "execute_result"
    }
   ],
   "source": [
    "len(files)"
   ]
  },
  {
   "cell_type": "markdown",
   "metadata": {
    "id": "_F4SYzZKBiF8"
   },
   "source": [
    "We only want IntraText files:"
   ]
  },
  {
   "cell_type": "code",
   "execution_count": 7,
   "metadata": {
    "colab": {
     "base_uri": "https://localhost:8080/"
    },
    "id": "yc0MF7UGBkEi",
    "outputId": "5a311754-8ef6-472e-a24b-72b75b77f705"
   },
   "outputs": [
    {
     "data": {
      "text/plain": [
       "670"
      ]
     },
     "execution_count": 7,
     "metadata": {},
     "output_type": "execute_result"
    }
   ],
   "source": [
    "files = [f for f in files[:] if \"IT\" in f]\n",
    "len(files)"
   ]
  },
  {
   "cell_type": "markdown",
   "metadata": {
    "id": "Sx4Y8R_DaHTV"
   },
   "source": [
    "I read the metadata file:"
   ]
  },
  {
   "cell_type": "code",
   "execution_count": 8,
   "metadata": {
    "id": "1CTee5CAXIZZ"
   },
   "outputs": [
    {
     "data": {
      "text/html": [
       "<div>\n",
       "<style scoped>\n",
       "    .dataframe tbody tr th:only-of-type {\n",
       "        vertical-align: middle;\n",
       "    }\n",
       "\n",
       "    .dataframe tbody tr th {\n",
       "        vertical-align: top;\n",
       "    }\n",
       "\n",
       "    .dataframe thead th {\n",
       "        text-align: right;\n",
       "    }\n",
       "</style>\n",
       "<table border=\"1\" class=\"dataframe\">\n",
       "  <thead>\n",
       "    <tr style=\"text-align: right;\">\n",
       "      <th></th>\n",
       "      <th>id</th>\n",
       "      <th>title</th>\n",
       "      <th>creator</th>\n",
       "      <th>date</th>\n",
       "      <th>type</th>\n",
       "      <th>file</th>\n",
       "    </tr>\n",
       "  </thead>\n",
       "  <tbody>\n",
       "    <tr>\n",
       "      <th>18</th>\n",
       "      <td>IT-LAT0001</td>\n",
       "      <td>Vulgata</td>\n",
       "      <td>Hieronymus</td>\n",
       "      <td>382.0</td>\n",
       "      <td>poetry</td>\n",
       "      <td>lat_0382_IT-LAT0001.txt</td>\n",
       "    </tr>\n",
       "    <tr>\n",
       "      <th>19</th>\n",
       "      <td>IT-LAT0537</td>\n",
       "      <td>Ars amatoria</td>\n",
       "      <td>Ovidius Naso, Publius</td>\n",
       "      <td>-9.0</td>\n",
       "      <td>poetry</td>\n",
       "      <td>lat_-009_IT-LAT0537.txt</td>\n",
       "    </tr>\n",
       "    <tr>\n",
       "      <th>20</th>\n",
       "      <td>IT-LAT0011</td>\n",
       "      <td>S. Benedicti Regula</td>\n",
       "      <td>Benedictus Nursianus</td>\n",
       "      <td>524.0</td>\n",
       "      <td>prose</td>\n",
       "      <td>lat_0524_IT-LAT0011.txt</td>\n",
       "    </tr>\n",
       "    <tr>\n",
       "      <th>21</th>\n",
       "      <td>IT-LAT0012</td>\n",
       "      <td>In psalmis Davidis expositio</td>\n",
       "      <td>Thomas Aquinas: Sanctus</td>\n",
       "      <td>1254.0</td>\n",
       "      <td>prose</td>\n",
       "      <td>lat_1254_IT-LAT0012.txt</td>\n",
       "    </tr>\n",
       "    <tr>\n",
       "      <th>22</th>\n",
       "      <td>IT-LAT0014</td>\n",
       "      <td>Adoro te devote</td>\n",
       "      <td>Thomas Aquinas: Sanctus</td>\n",
       "      <td>1254.0</td>\n",
       "      <td>poetry</td>\n",
       "      <td>lat_1254_IT-LAT0014.txt</td>\n",
       "    </tr>\n",
       "    <tr>\n",
       "      <th>...</th>\n",
       "      <td>...</td>\n",
       "      <td>...</td>\n",
       "      <td>...</td>\n",
       "      <td>...</td>\n",
       "      <td>...</td>\n",
       "      <td>...</td>\n",
       "    </tr>\n",
       "    <tr>\n",
       "      <th>683</th>\n",
       "      <td>IT-LAT0534_1</td>\n",
       "      <td>De origine et situ Germanorum</td>\n",
       "      <td>Tacitus, Publius (Gaius) Cornelius</td>\n",
       "      <td>116.0</td>\n",
       "      <td>prose</td>\n",
       "      <td>lat_0116_IT-LAT0534_1.txt</td>\n",
       "    </tr>\n",
       "    <tr>\n",
       "      <th>684</th>\n",
       "      <td>IT-LAT0534_2</td>\n",
       "      <td>De vita Iulii Agricolae</td>\n",
       "      <td>Tacitus, Publius (Gaius) Cornelius</td>\n",
       "      <td>116.0</td>\n",
       "      <td>prose</td>\n",
       "      <td>lat_0116_IT-LAT0534_2.txt</td>\n",
       "    </tr>\n",
       "    <tr>\n",
       "      <th>685</th>\n",
       "      <td>IT-LAT0534_3</td>\n",
       "      <td>Dialogus de oratoribus</td>\n",
       "      <td>Tacitus, Publius (Gaius) Cornelius</td>\n",
       "      <td>116.0</td>\n",
       "      <td>prose</td>\n",
       "      <td>lat_0116_IT-LAT0534_3.txt</td>\n",
       "    </tr>\n",
       "    <tr>\n",
       "      <th>686</th>\n",
       "      <td>IT-LAT0534_4</td>\n",
       "      <td>Historiae</td>\n",
       "      <td>Tacitus, Publius (Gaius) Cornelius</td>\n",
       "      <td>116.0</td>\n",
       "      <td>prose</td>\n",
       "      <td>lat_0116_IT-LAT0534_4.txt</td>\n",
       "    </tr>\n",
       "    <tr>\n",
       "      <th>1265</th>\n",
       "      <td>IT-LAT0202</td>\n",
       "      <td>Institutiones</td>\n",
       "      <td>Iustinianus, Caesar Flavius (Imperator Iustini...</td>\n",
       "      <td>533.0</td>\n",
       "      <td>prose</td>\n",
       "      <td>lat_0533_IT-LAT0202.txt</td>\n",
       "    </tr>\n",
       "  </tbody>\n",
       "</table>\n",
       "<p>670 rows × 6 columns</p>\n",
       "</div>"
      ],
      "text/plain": [
       "                id                          title  \\\n",
       "18      IT-LAT0001                        Vulgata   \n",
       "19      IT-LAT0537                   Ars amatoria   \n",
       "20      IT-LAT0011            S. Benedicti Regula   \n",
       "21      IT-LAT0012   In psalmis Davidis expositio   \n",
       "22      IT-LAT0014                Adoro te devote   \n",
       "...            ...                            ...   \n",
       "683   IT-LAT0534_1  De origine et situ Germanorum   \n",
       "684   IT-LAT0534_2        De vita Iulii Agricolae   \n",
       "685   IT-LAT0534_3         Dialogus de oratoribus   \n",
       "686   IT-LAT0534_4                      Historiae   \n",
       "1265    IT-LAT0202                  Institutiones   \n",
       "\n",
       "                                                creator    date    type  \\\n",
       "18                                           Hieronymus   382.0  poetry   \n",
       "19                                Ovidius Naso, Publius    -9.0  poetry   \n",
       "20                                 Benedictus Nursianus   524.0   prose   \n",
       "21                              Thomas Aquinas: Sanctus  1254.0   prose   \n",
       "22                              Thomas Aquinas: Sanctus  1254.0  poetry   \n",
       "...                                                 ...     ...     ...   \n",
       "683                  Tacitus, Publius (Gaius) Cornelius   116.0   prose   \n",
       "684                  Tacitus, Publius (Gaius) Cornelius   116.0   prose   \n",
       "685                  Tacitus, Publius (Gaius) Cornelius   116.0   prose   \n",
       "686                  Tacitus, Publius (Gaius) Cornelius   116.0   prose   \n",
       "1265  Iustinianus, Caesar Flavius (Imperator Iustini...   533.0   prose   \n",
       "\n",
       "                           file  \n",
       "18      lat_0382_IT-LAT0001.txt  \n",
       "19      lat_-009_IT-LAT0537.txt  \n",
       "20      lat_0524_IT-LAT0011.txt  \n",
       "21      lat_1254_IT-LAT0012.txt  \n",
       "22      lat_1254_IT-LAT0014.txt  \n",
       "...                         ...  \n",
       "683   lat_0116_IT-LAT0534_1.txt  \n",
       "684   lat_0116_IT-LAT0534_2.txt  \n",
       "685   lat_0116_IT-LAT0534_3.txt  \n",
       "686   lat_0116_IT-LAT0534_4.txt  \n",
       "1265    lat_0533_IT-LAT0202.txt  \n",
       "\n",
       "[670 rows x 6 columns]"
      ]
     },
     "execution_count": 8,
     "metadata": {},
     "output_type": "execute_result"
    }
   ],
   "source": [
    "metadata_df = pd.read_csv(os.path.join(dir_in, 'latinise_metadata.csv'), sep = \",\")\n",
    "metadata_df = metadata_df[metadata_df['id'].str.startswith(\"IT\")]\n",
    "metadata_df"
   ]
  },
  {
   "cell_type": "code",
   "execution_count": 9,
   "metadata": {
    "colab": {
     "base_uri": "https://localhost:8080/"
    },
    "id": "nhZpiNQS4-e-",
    "outputId": "076277dd-fd2a-4d8a-fbd2-cfc27ee88c9d"
   },
   "outputs": [
    {
     "data": {
      "text/plain": [
       "(670, 6)"
      ]
     },
     "execution_count": 9,
     "metadata": {},
     "output_type": "execute_result"
    }
   ],
   "source": [
    "metadata_df.shape"
   ]
  },
  {
   "cell_type": "code",
   "execution_count": 10,
   "metadata": {},
   "outputs": [
    {
     "data": {
      "text/plain": [
       "Index(['id', 'title', 'creator', 'date', 'type', 'file'], dtype='object')"
      ]
     },
     "execution_count": 10,
     "metadata": {},
     "output_type": "execute_result"
    }
   ],
   "source": [
    "metadata_df.columns"
   ]
  },
  {
   "cell_type": "code",
   "execution_count": 11,
   "metadata": {},
   "outputs": [
    {
     "data": {
      "text/plain": [
       "<bound method NDFrame.describe of 18       382.0\n",
       "19        -9.0\n",
       "20       524.0\n",
       "21      1254.0\n",
       "22      1254.0\n",
       "         ...  \n",
       "683      116.0\n",
       "684      116.0\n",
       "685      116.0\n",
       "686      116.0\n",
       "1265     533.0\n",
       "Name: date, Length: 670, dtype: float64>"
      ]
     },
     "execution_count": 11,
     "metadata": {},
     "output_type": "execute_result"
    }
   ],
   "source": [
    "metadata_df['date'].describe"
   ]
  },
  {
   "cell_type": "code",
   "execution_count": 12,
   "metadata": {},
   "outputs": [
    {
     "data": {
      "text/plain": [
       "id          object\n",
       "title       object\n",
       "creator     object\n",
       "date       float64\n",
       "type        object\n",
       "file        object\n",
       "dtype: object"
      ]
     },
     "execution_count": 12,
     "metadata": {},
     "output_type": "execute_result"
    }
   ],
   "source": [
    "metadata_df.dtypes"
   ]
  },
  {
   "cell_type": "markdown",
   "metadata": {},
   "source": [
    "Convert date to integer"
   ]
  },
  {
   "cell_type": "code",
   "execution_count": 33,
   "metadata": {},
   "outputs": [
    {
     "data": {
      "text/plain": [
       "id               object\n",
       "title            object\n",
       "creator          object\n",
       "date              int64\n",
       "type             object\n",
       "file             object\n",
       "time_interval    object\n",
       "dtype: object"
      ]
     },
     "execution_count": 33,
     "metadata": {},
     "output_type": "execute_result"
    }
   ],
   "source": [
    "metadata_df['date'] = metadata_df['date'].astype(int)\n",
    "metadata_df.dtypes"
   ]
  },
  {
   "cell_type": "code",
   "execution_count": 13,
   "metadata": {},
   "outputs": [
    {
     "data": {
      "text/plain": [
       "<bound method NDFrame.head of                 id                          title  \\\n",
       "18      IT-LAT0001                        Vulgata   \n",
       "19      IT-LAT0537                   Ars amatoria   \n",
       "20      IT-LAT0011            S. Benedicti Regula   \n",
       "21      IT-LAT0012   In psalmis Davidis expositio   \n",
       "22      IT-LAT0014                Adoro te devote   \n",
       "...            ...                            ...   \n",
       "683   IT-LAT0534_1  De origine et situ Germanorum   \n",
       "684   IT-LAT0534_2        De vita Iulii Agricolae   \n",
       "685   IT-LAT0534_3         Dialogus de oratoribus   \n",
       "686   IT-LAT0534_4                      Historiae   \n",
       "1265    IT-LAT0202                  Institutiones   \n",
       "\n",
       "                                                creator    date    type  \\\n",
       "18                                           Hieronymus   382.0  poetry   \n",
       "19                                Ovidius Naso, Publius    -9.0  poetry   \n",
       "20                                 Benedictus Nursianus   524.0   prose   \n",
       "21                              Thomas Aquinas: Sanctus  1254.0   prose   \n",
       "22                              Thomas Aquinas: Sanctus  1254.0  poetry   \n",
       "...                                                 ...     ...     ...   \n",
       "683                  Tacitus, Publius (Gaius) Cornelius   116.0   prose   \n",
       "684                  Tacitus, Publius (Gaius) Cornelius   116.0   prose   \n",
       "685                  Tacitus, Publius (Gaius) Cornelius   116.0   prose   \n",
       "686                  Tacitus, Publius (Gaius) Cornelius   116.0   prose   \n",
       "1265  Iustinianus, Caesar Flavius (Imperator Iustini...   533.0   prose   \n",
       "\n",
       "                           file  \n",
       "18      lat_0382_IT-LAT0001.txt  \n",
       "19      lat_-009_IT-LAT0537.txt  \n",
       "20      lat_0524_IT-LAT0011.txt  \n",
       "21      lat_1254_IT-LAT0012.txt  \n",
       "22      lat_1254_IT-LAT0014.txt  \n",
       "...                         ...  \n",
       "683   lat_0116_IT-LAT0534_1.txt  \n",
       "684   lat_0116_IT-LAT0534_2.txt  \n",
       "685   lat_0116_IT-LAT0534_3.txt  \n",
       "686   lat_0116_IT-LAT0534_4.txt  \n",
       "1265    lat_0533_IT-LAT0202.txt  \n",
       "\n",
       "[670 rows x 6 columns]>"
      ]
     },
     "execution_count": 13,
     "metadata": {},
     "output_type": "execute_result"
    }
   ],
   "source": [
    "metadata_df.head"
   ]
  },
  {
   "cell_type": "markdown",
   "metadata": {
    "id": "oXZIYRhGYgHk"
   },
   "source": [
    "Number of works per year:"
   ]
  },
  {
   "cell_type": "code",
   "execution_count": 14,
   "metadata": {
    "colab": {
     "base_uri": "https://localhost:8080/"
    },
    "id": "rNyNLraB-imV",
    "outputId": "6fdd9486-2f12-4880-d566-393957afa2ab"
   },
   "outputs": [
    {
     "data": {
      "text/plain": [
       "date\n",
       "-450.0     1\n",
       "-229.0     1\n",
       "-199.0     3\n",
       "-185.0     1\n",
       "-149.0     2\n",
       "          ..\n",
       " 2001.0    4\n",
       " 2002.0    2\n",
       " 2003.0    1\n",
       " 2004.0    1\n",
       " 2005.0    1\n",
       "Name: id, Length: 263, dtype: int64"
      ]
     },
     "execution_count": 14,
     "metadata": {},
     "output_type": "execute_result"
    }
   ],
   "source": [
    "metadata_df0 = metadata_df.groupby(['date']).count()\n",
    "metadata_df0 = metadata_df0['id']\n",
    "metadata_df0"
   ]
  },
  {
   "cell_type": "code",
   "execution_count": 15,
   "metadata": {
    "colab": {
     "base_uri": "https://localhost:8080/",
     "height": 428
    },
    "id": "BGdacw4X-9nw",
    "outputId": "faa160f2-1800-41e6-8113-ea200ca0fc29"
   },
   "outputs": [
    {
     "data": {
      "image/png": "[encoded data removed]",
      "text/plain": [
       "<Figure size 1440x1152 with 1 Axes>"
      ]
     },
     "metadata": {
      "needs_background": "light"
     },
     "output_type": "display_data"
    }
   ],
   "source": [
    "ax = metadata_df0.plot(kind='bar', figsize=(20,16), color=\"indigo\", fontsize=10);\n",
    "#ax.set_alpha(0.5)\n",
    "ax.set_title(\"Number of works per year\", fontsize=22)\n",
    "plt.show()"
   ]
  },
  {
   "cell_type": "markdown",
   "metadata": {
    "id": "-RVdJPB8877F"
   },
   "source": [
    "## Split the corpus into subcorpora"
   ]
  },
  {
   "cell_type": "markdown",
   "metadata": {},
   "source": [
    "Find the first and last year in the dataset:"
   ]
  },
  {
   "cell_type": "code",
   "execution_count": 16,
   "metadata": {
    "colab": {
     "base_uri": "https://localhost:8080/"
    },
    "id": "XAJicX9P2-38",
    "outputId": "02845dc5-194d-4af0-e0a4-704e3848421e"
   },
   "outputs": [
    {
     "name": "stdout",
     "output_type": "stream",
     "text": [
      "-450.0\n",
      "2005.0\n"
     ]
    }
   ],
   "source": [
    "first_date = min(metadata_df.date)\n",
    "last_date = max(metadata_df.date)\n",
    "print(first_date)\n",
    "print(last_date)"
   ]
  },
  {
   "cell_type": "markdown",
   "metadata": {},
   "source": [
    "We stop at 900 CE."
   ]
  },
  {
   "cell_type": "code",
   "execution_count": 17,
   "metadata": {},
   "outputs": [],
   "source": [
    "last_date = 900"
   ]
  },
  {
   "cell_type": "markdown",
   "metadata": {},
   "source": [
    "Define size of the time intervals:"
   ]
  },
  {
   "cell_type": "code",
   "execution_count": 18,
   "metadata": {},
   "outputs": [],
   "source": [
    "size_interval = 450"
   ]
  },
  {
   "cell_type": "markdown",
   "metadata": {},
   "source": [
    "So there are"
   ]
  },
  {
   "cell_type": "code",
   "execution_count": 19,
   "metadata": {},
   "outputs": [
    {
     "data": {
      "text/plain": [
       "3"
      ]
     },
     "execution_count": 19,
     "metadata": {},
     "output_type": "execute_result"
    }
   ],
   "source": [
    "n_intervals = round((last_date-first_date)/size_interval)\n",
    "n_intervals"
   ]
  },
  {
   "cell_type": "markdown",
   "metadata": {},
   "source": [
    "time intervals."
   ]
  },
  {
   "cell_type": "markdown",
   "metadata": {
    "id": "bUW2Qo0e8rLF"
   },
   "source": [
    "Define the time periods and split the corpus:"
   ]
  },
  {
   "cell_type": "code",
   "execution_count": 23,
   "metadata": {},
   "outputs": [
    {
     "name": "stdout",
     "output_type": "stream",
     "text": [
      "[-450, 0, 450, 900]\n"
     ]
    }
   ],
   "source": [
    "intervals = [None]*(n_intervals+1)\n",
    "for t in range(n_intervals+1):\n",
    "    #print(t)\n",
    "    if t == 0:\n",
    "        intervals[t] = int(first_date)\n",
    "    else:\n",
    "        intervals[t] = int(intervals[t-1]+size_interval)\n",
    "    #print(intervals[t])\n",
    "    \n",
    "print(intervals)"
   ]
  },
  {
   "cell_type": "markdown",
   "metadata": {},
   "source": [
    "Add a column to the metadata_df for the time interval:"
   ]
  },
  {
   "cell_type": "code",
   "execution_count": 25,
   "metadata": {},
   "outputs": [
    {
     "name": "stdout",
     "output_type": "stream",
     "text": [
      "0\n",
      "range(-450, 0)\n",
      "19      -9.0\n",
      "34     -49.0\n",
      "39     -45.0\n",
      "42     -49.0\n",
      "57     -80.0\n",
      "       ...  \n",
      "635   -149.0\n",
      "638   -107.0\n",
      "642    -37.0\n",
      "643    -37.0\n",
      "649   -229.0\n",
      "Name: date, Length: 77, dtype: float64\n",
      "1\n",
      "range(0, 450)\n",
      "18     382.0\n",
      "23     399.0\n",
      "24     391.0\n",
      "37     158.0\n",
      "38      49.0\n",
      "       ...  \n",
      "682    382.0\n",
      "683    116.0\n",
      "684    116.0\n",
      "685    116.0\n",
      "686    116.0\n",
      "Name: date, Length: 235, dtype: float64\n",
      "2\n",
      "range(450, 900)\n",
      "20      524.0\n",
      "102     800.0\n",
      "104     800.0\n",
      "105     800.0\n",
      "106     800.0\n",
      "        ...  \n",
      "609     598.0\n",
      "634     550.0\n",
      "636     550.0\n",
      "645     450.0\n",
      "1265    533.0\n",
      "Name: date, Length: 73, dtype: float64\n"
     ]
    },
    {
     "data": {
      "text/html": [
       "<div>\n",
       "<style scoped>\n",
       "    .dataframe tbody tr th:only-of-type {\n",
       "        vertical-align: middle;\n",
       "    }\n",
       "\n",
       "    .dataframe tbody tr th {\n",
       "        vertical-align: top;\n",
       "    }\n",
       "\n",
       "    .dataframe thead th {\n",
       "        text-align: right;\n",
       "    }\n",
       "</style>\n",
       "<table border=\"1\" class=\"dataframe\">\n",
       "  <thead>\n",
       "    <tr style=\"text-align: right;\">\n",
       "      <th></th>\n",
       "      <th>id</th>\n",
       "      <th>title</th>\n",
       "      <th>creator</th>\n",
       "      <th>date</th>\n",
       "      <th>type</th>\n",
       "      <th>file</th>\n",
       "      <th>time_interval</th>\n",
       "    </tr>\n",
       "  </thead>\n",
       "  <tbody>\n",
       "    <tr>\n",
       "      <th>18</th>\n",
       "      <td>IT-LAT0001</td>\n",
       "      <td>Vulgata</td>\n",
       "      <td>Hieronymus</td>\n",
       "      <td>382.0</td>\n",
       "      <td>poetry</td>\n",
       "      <td>lat_0382_IT-LAT0001.txt</td>\n",
       "      <td>0</td>\n",
       "    </tr>\n",
       "    <tr>\n",
       "      <th>19</th>\n",
       "      <td>IT-LAT0537</td>\n",
       "      <td>Ars amatoria</td>\n",
       "      <td>Ovidius Naso, Publius</td>\n",
       "      <td>-9.0</td>\n",
       "      <td>poetry</td>\n",
       "      <td>lat_-009_IT-LAT0537.txt</td>\n",
       "      <td>-450</td>\n",
       "    </tr>\n",
       "    <tr>\n",
       "      <th>20</th>\n",
       "      <td>IT-LAT0011</td>\n",
       "      <td>S. Benedicti Regula</td>\n",
       "      <td>Benedictus Nursianus</td>\n",
       "      <td>524.0</td>\n",
       "      <td>prose</td>\n",
       "      <td>lat_0524_IT-LAT0011.txt</td>\n",
       "      <td>450</td>\n",
       "    </tr>\n",
       "    <tr>\n",
       "      <th>21</th>\n",
       "      <td>IT-LAT0012</td>\n",
       "      <td>In psalmis Davidis expositio</td>\n",
       "      <td>Thomas Aquinas: Sanctus</td>\n",
       "      <td>1254.0</td>\n",
       "      <td>prose</td>\n",
       "      <td>lat_1254_IT-LAT0012.txt</td>\n",
       "      <td></td>\n",
       "    </tr>\n",
       "    <tr>\n",
       "      <th>22</th>\n",
       "      <td>IT-LAT0014</td>\n",
       "      <td>Adoro te devote</td>\n",
       "      <td>Thomas Aquinas: Sanctus</td>\n",
       "      <td>1254.0</td>\n",
       "      <td>poetry</td>\n",
       "      <td>lat_1254_IT-LAT0014.txt</td>\n",
       "      <td></td>\n",
       "    </tr>\n",
       "    <tr>\n",
       "      <th>...</th>\n",
       "      <td>...</td>\n",
       "      <td>...</td>\n",
       "      <td>...</td>\n",
       "      <td>...</td>\n",
       "      <td>...</td>\n",
       "      <td>...</td>\n",
       "      <td>...</td>\n",
       "    </tr>\n",
       "    <tr>\n",
       "      <th>683</th>\n",
       "      <td>IT-LAT0534_1</td>\n",
       "      <td>De origine et situ Germanorum</td>\n",
       "      <td>Tacitus, Publius (Gaius) Cornelius</td>\n",
       "      <td>116.0</td>\n",
       "      <td>prose</td>\n",
       "      <td>lat_0116_IT-LAT0534_1.txt</td>\n",
       "      <td>0</td>\n",
       "    </tr>\n",
       "    <tr>\n",
       "      <th>684</th>\n",
       "      <td>IT-LAT0534_2</td>\n",
       "      <td>De vita Iulii Agricolae</td>\n",
       "      <td>Tacitus, Publius (Gaius) Cornelius</td>\n",
       "      <td>116.0</td>\n",
       "      <td>prose</td>\n",
       "      <td>lat_0116_IT-LAT0534_2.txt</td>\n",
       "      <td>0</td>\n",
       "    </tr>\n",
       "    <tr>\n",
       "      <th>685</th>\n",
       "      <td>IT-LAT0534_3</td>\n",
       "      <td>Dialogus de oratoribus</td>\n",
       "      <td>Tacitus, Publius (Gaius) Cornelius</td>\n",
       "      <td>116.0</td>\n",
       "      <td>prose</td>\n",
       "      <td>lat_0116_IT-LAT0534_3.txt</td>\n",
       "      <td>0</td>\n",
       "    </tr>\n",
       "    <tr>\n",
       "      <th>686</th>\n",
       "      <td>IT-LAT0534_4</td>\n",
       "      <td>Historiae</td>\n",
       "      <td>Tacitus, Publius (Gaius) Cornelius</td>\n",
       "      <td>116.0</td>\n",
       "      <td>prose</td>\n",
       "      <td>lat_0116_IT-LAT0534_4.txt</td>\n",
       "      <td>0</td>\n",
       "    </tr>\n",
       "    <tr>\n",
       "      <th>1265</th>\n",
       "      <td>IT-LAT0202</td>\n",
       "      <td>Institutiones</td>\n",
       "      <td>Iustinianus, Caesar Flavius (Imperator Iustini...</td>\n",
       "      <td>533.0</td>\n",
       "      <td>prose</td>\n",
       "      <td>lat_0533_IT-LAT0202.txt</td>\n",
       "      <td>450</td>\n",
       "    </tr>\n",
       "  </tbody>\n",
       "</table>\n",
       "<p>670 rows × 7 columns</p>\n",
       "</div>"
      ],
      "text/plain": [
       "                id                          title  \\\n",
       "18      IT-LAT0001                        Vulgata   \n",
       "19      IT-LAT0537                   Ars amatoria   \n",
       "20      IT-LAT0011            S. Benedicti Regula   \n",
       "21      IT-LAT0012   In psalmis Davidis expositio   \n",
       "22      IT-LAT0014                Adoro te devote   \n",
       "...            ...                            ...   \n",
       "683   IT-LAT0534_1  De origine et situ Germanorum   \n",
       "684   IT-LAT0534_2        De vita Iulii Agricolae   \n",
       "685   IT-LAT0534_3         Dialogus de oratoribus   \n",
       "686   IT-LAT0534_4                      Historiae   \n",
       "1265    IT-LAT0202                  Institutiones   \n",
       "\n",
       "                                                creator    date    type  \\\n",
       "18                                           Hieronymus   382.0  poetry   \n",
       "19                                Ovidius Naso, Publius    -9.0  poetry   \n",
       "20                                 Benedictus Nursianus   524.0   prose   \n",
       "21                              Thomas Aquinas: Sanctus  1254.0   prose   \n",
       "22                              Thomas Aquinas: Sanctus  1254.0  poetry   \n",
       "...                                                 ...     ...     ...   \n",
       "683                  Tacitus, Publius (Gaius) Cornelius   116.0   prose   \n",
       "684                  Tacitus, Publius (Gaius) Cornelius   116.0   prose   \n",
       "685                  Tacitus, Publius (Gaius) Cornelius   116.0   prose   \n",
       "686                  Tacitus, Publius (Gaius) Cornelius   116.0   prose   \n",
       "1265  Iustinianus, Caesar Flavius (Imperator Iustini...   533.0   prose   \n",
       "\n",
       "                           file time_interval  \n",
       "18      lat_0382_IT-LAT0001.txt             0  \n",
       "19      lat_-009_IT-LAT0537.txt          -450  \n",
       "20      lat_0524_IT-LAT0011.txt           450  \n",
       "21      lat_1254_IT-LAT0012.txt                \n",
       "22      lat_1254_IT-LAT0014.txt                \n",
       "...                         ...           ...  \n",
       "683   lat_0116_IT-LAT0534_1.txt             0  \n",
       "684   lat_0116_IT-LAT0534_2.txt             0  \n",
       "685   lat_0116_IT-LAT0534_3.txt             0  \n",
       "686   lat_0116_IT-LAT0534_4.txt             0  \n",
       "1265    lat_0533_IT-LAT0202.txt           450  \n",
       "\n",
       "[670 rows x 7 columns]"
      ]
     },
     "execution_count": 25,
     "metadata": {},
     "output_type": "execute_result"
    }
   ],
   "source": [
    "metadata_df['time_interval'] = \"\"\n",
    "for t in range(len(intervals)-1):\n",
    "    print(t)\n",
    "    print(range(intervals[t],intervals[t+1]))\n",
    "    metadata_df_t = metadata_df.loc[metadata_df['date'].isin(range(intervals[t],intervals[t+1]))]\n",
    "    print(metadata_df_t.date)\n",
    "    metadata_df.loc[metadata_df['date'].isin(range(intervals[t],intervals[t+1])),'time_interval'] = intervals[t]\n",
    "metadata_df"
   ]
  },
  {
   "cell_type": "markdown",
   "metadata": {},
   "source": [
    "Visualise distribution of time intervals:"
   ]
  },
  {
   "cell_type": "code",
   "execution_count": 26,
   "metadata": {},
   "outputs": [
    {
     "data": {
      "image/png": "[encoded data removed]",
      "text/plain": [
       "<Figure size 1440x1152 with 1 Axes>"
      ]
     },
     "metadata": {
      "needs_background": "light"
     },
     "output_type": "display_data"
    }
   ],
   "source": [
    "metadata_df0 = metadata_df.groupby(['time_interval']).count()\n",
    "metadata_df0 = metadata_df0['id']\n",
    "metadata_df0\n",
    "ax = metadata_df0.plot(kind='bar', figsize=(20,16), color=\"indigo\", fontsize=10);\n",
    "#ax.set_alpha(0.5)\n",
    "ax.set_title(\"Number of works per time interval\", fontsize=22)\n",
    "plt.show()"
   ]
  },
  {
   "cell_type": "markdown",
   "metadata": {},
   "source": [
    "We may want to do something about this inbalance. See further down for the \"Historical subcorpus\"."
   ]
  },
  {
   "cell_type": "markdown",
   "metadata": {},
   "source": [
    "## Training embeddings for the whole corpus"
   ]
  },
  {
   "cell_type": "markdown",
   "metadata": {
    "id": "JOVX-oApM02y"
   },
   "source": [
    "Function for printing the vocabulary of a model"
   ]
  },
  {
   "cell_type": "code",
   "execution_count": 27,
   "metadata": {
    "id": "ozTBJwmKM2th"
   },
   "outputs": [],
   "source": [
    "def print_vocab(model, top_n = None):\n",
    "  if model == '':\n",
    "    print(\"Empty model!\")\n",
    "  else:\n",
    "    count = 0\n",
    "    if top_n is not None:\n",
    "      for index, word in enumerate(model.wv.index_to_key):\n",
    "        count+= 1\n",
    "        if count < top_n:\n",
    "          print(f\"word #{index}/{len(model.wv.index_to_key)} is {word}\")\n",
    "    else:\n",
    "      for index, word in enumerate(model.wv.index_to_key):\n",
    "        print(f\"word #{index}/{len(model.wv.index_to_key)} is {word}\")"
   ]
  },
  {
   "cell_type": "markdown",
   "metadata": {},
   "source": [
    "Function that converts dates into the standard format:"
   ]
  },
  {
   "cell_type": "code",
   "execution_count": 28,
   "metadata": {},
   "outputs": [],
   "source": [
    "def convert_dates(sign, date0):\n",
    "\n",
    "    if sign == \"0\":\n",
    "        if date0 == 0:\n",
    "            final_date = \"+0000\"\n",
    "        elif date0 < 100:\n",
    "            final_date = \"+\" + \"00\" + str(date0)\n",
    "            #print(\"1-final_date\", final_date)\n",
    "        elif date0 < 1000:\n",
    "            final_date = \"+\" + \"0\" + str(date0)\n",
    "            #print(\"2-final_date\", final_date)\n",
    "        else:\n",
    "            final_date = \"+\" + str(date0)\n",
    "            #print(\"3-final_date\", final_date)\n",
    "    else:\n",
    "        if date0 == 0:\n",
    "            final_date = \"+0000\"\n",
    "        elif date0 < 100:\n",
    "            final_date = str(sign) + \"00\" + str(date0)\n",
    "            #print(\"1-final_date\", final_date)\n",
    "        elif date0 < 1000:\n",
    "            final_date = str(sign) + \"0\" + str(date0)\n",
    "            #print(\"2-final_date\", final_date)\n",
    "        else:\n",
    "            final_date = str(sign) + str(date0)\n",
    "            #print(\"3-final_date\", final_date)\n",
    "\n",
    "    if final_date.startswith(\"+\"):\n",
    "        final_date = final_date.replace(\"+\", \"\")\n",
    "    return final_date"
   ]
  },
  {
   "cell_type": "markdown",
   "metadata": {
    "id": "NkUJ4O9kuiYi"
   },
   "source": [
    "#### Stopwords exclusion and further filtering\n"
   ]
  },
  {
   "cell_type": "markdown",
   "metadata": {},
   "source": [
    "I exclude punctuation marks:"
   ]
  },
  {
   "cell_type": "code",
   "execution_count": 29,
   "metadata": {},
   "outputs": [],
   "source": [
    "punctuation = ['.', ',', '...', ';', ':', '?']"
   ]
  },
  {
   "cell_type": "markdown",
   "metadata": {},
   "source": [
    "I create a list of lists, containing the tokens of each sentence in the whole corpus:"
   ]
  },
  {
   "cell_type": "code",
   "execution_count": 31,
   "metadata": {},
   "outputs": [
    {
     "name": "stdout",
     "output_type": "stream",
     "text": [
      "3: lat_0382.0_IT-LAT0001.txt\n"
     ]
    },
    {
     "ename": "FileNotFoundError",
     "evalue": "[Errno 2] No such file or directory: \"/Users/barbaramcgillivray/OneDrive - King's College London/Research/2022/Nexus Linguarum WG4 UC4.2/LatinISE/preprocessed_lemmas/lat_0382.0_IT-LAT0001.txt\"",
     "output_type": "error",
     "traceback": [
      "\u001b[0;31m---------------------------------------------------------------------------\u001b[0m",
      "\u001b[0;31mFileNotFoundError\u001b[0m                         Traceback (most recent call last)",
      "\u001b[0;32m<ipython-input-31-5a4a1085b382>\u001b[0m in \u001b[0;36m<module>\u001b[0;34m\u001b[0m\n\u001b[1;32m     10\u001b[0m     \u001b[0mfile_name\u001b[0m \u001b[0;34m=\u001b[0m \u001b[0;34m'lat_'\u001b[0m\u001b[0;34m+\u001b[0m\u001b[0mstr\u001b[0m\u001b[0;34m(\u001b[0m\u001b[0mconvert_dates\u001b[0m\u001b[0;34m(\u001b[0m\u001b[0msign\u001b[0m\u001b[0;34m,\u001b[0m \u001b[0mabs\u001b[0m\u001b[0;34m(\u001b[0m\u001b[0mdf_line\u001b[0m\u001b[0;34m[\u001b[0m\u001b[0;34m'date'\u001b[0m\u001b[0;34m]\u001b[0m\u001b[0;34m)\u001b[0m\u001b[0;34m)\u001b[0m\u001b[0;34m)\u001b[0m\u001b[0;34m+\u001b[0m\u001b[0;34m\"_\"\u001b[0m\u001b[0;34m+\u001b[0m\u001b[0mstr\u001b[0m\u001b[0;34m(\u001b[0m\u001b[0mdf_line\u001b[0m\u001b[0;34m[\u001b[0m\u001b[0;34m'id'\u001b[0m\u001b[0;34m]\u001b[0m\u001b[0;34m)\u001b[0m\u001b[0;34m+\u001b[0m\u001b[0;34m'.txt'\u001b[0m\u001b[0;34m\u001b[0m\u001b[0;34m\u001b[0m\u001b[0m\n\u001b[1;32m     11\u001b[0m     \u001b[0mprint\u001b[0m\u001b[0;34m(\u001b[0m\u001b[0;34m\"3:\"\u001b[0m\u001b[0;34m,\u001b[0m\u001b[0mfile_name\u001b[0m\u001b[0;34m)\u001b[0m\u001b[0;34m\u001b[0m\u001b[0;34m\u001b[0m\u001b[0m\n\u001b[0;32m---> 12\u001b[0;31m     \u001b[0mfile\u001b[0m \u001b[0;34m=\u001b[0m \u001b[0mopen\u001b[0m\u001b[0;34m(\u001b[0m\u001b[0mos\u001b[0m\u001b[0;34m.\u001b[0m\u001b[0mpath\u001b[0m\u001b[0;34m.\u001b[0m\u001b[0mjoin\u001b[0m\u001b[0;34m(\u001b[0m\u001b[0mdir_in\u001b[0m\u001b[0;34m,\u001b[0m \u001b[0;34m\"preprocessed_\"\u001b[0m\u001b[0;34m+\u001b[0m\u001b[0mlemmas_or_tokens\u001b[0m\u001b[0;34m,\u001b[0m \u001b[0mfile_name\u001b[0m\u001b[0;34m)\u001b[0m\u001b[0;34m,\u001b[0m \u001b[0;34m'r'\u001b[0m\u001b[0;34m)\u001b[0m\u001b[0;34m\u001b[0m\u001b[0;34m\u001b[0m\u001b[0m\n\u001b[0m\u001b[1;32m     13\u001b[0m     \u001b[0msentences_this_file\u001b[0m \u001b[0;34m=\u001b[0m \u001b[0mlist\u001b[0m\u001b[0;34m(\u001b[0m\u001b[0;34m)\u001b[0m\u001b[0;34m\u001b[0m\u001b[0;34m\u001b[0m\u001b[0m\n\u001b[1;32m     14\u001b[0m     \u001b[0;32mwhile\u001b[0m \u001b[0;32mTrue\u001b[0m\u001b[0;34m:\u001b[0m\u001b[0;34m\u001b[0m\u001b[0;34m\u001b[0m\u001b[0m\n",
      "\u001b[0;31mFileNotFoundError\u001b[0m: [Errno 2] No such file or directory: \"/Users/barbaramcgillivray/OneDrive - King's College London/Research/2022/Nexus Linguarum WG4 UC4.2/LatinISE/preprocessed_lemmas/lat_0382.0_IT-LAT0001.txt\""
     ]
    }
   ],
   "source": [
    "corpus = list()\n",
    "files_corpus = metadata_df\n",
    "for index, df_line in files_corpus.iterrows():\n",
    "    #print(\"line:\",df_line['id'], df_line['time_interval'])\n",
    "    sign = \"+\"\n",
    "    #print(df_line['date'])\n",
    "    if df_line['date'] < 0:\n",
    "        sign = \"-\"\n",
    "    #print(\"date:\", convert_dates(sign, abs(df_line['date'])))\n",
    "    file_name = 'lat_'+str(convert_dates(sign, abs(df_line['date'])))+\"_\"+str(df_line['id'])+'.txt'\n",
    "    print(\"3:\",file_name)\n",
    "    file = open(os.path.join(dir_in, \"preprocessed_\"+lemmas_or_tokens, file_name), 'r')\n",
    "    sentences_this_file = list()\n",
    "    while True:\n",
    "        line = file.readline().strip()\n",
    "        if line != \"\":\n",
    "            #sentences_this_file.append(line.split(\" \"))\n",
    "            #sentences_this_file.append([token for token in line.split(\" \") if token not in punctuation])\n",
    "            corpus.append([token for token in line.split(\" \") if token not in punctuation])\n",
    "        # if line is empty end of file is reached\n",
    "        if not line:\n",
    "            break\n",
    "    file.close()\n",
    "corpus.append(sentences_this_file)"
   ]
  },
  {
   "cell_type": "code",
   "execution_count": null,
   "metadata": {},
   "outputs": [],
   "source": [
    "metadata_df"
   ]
  },
  {
   "cell_type": "code",
   "execution_count": null,
   "metadata": {},
   "outputs": [],
   "source": [
    "corpus"
   ]
  },
  {
   "cell_type": "code",
   "execution_count": null,
   "metadata": {},
   "outputs": [],
   "source": [
    "len(corpus)"
   ]
  },
  {
   "cell_type": "markdown",
   "metadata": {},
   "source": [
    "Function for training FastText models (from Krzysztof Nowak):"
   ]
  },
  {
   "cell_type": "code",
   "execution_count": null,
   "metadata": {},
   "outputs": [],
   "source": [
    "def fasttext(self, opts=dict()):\n",
    "        \"\"\"\n",
    "        Reads sentences from the corpus. Implements:\n",
    "            https://radimrehurek.com/gensim/models/fasttext.html#gensim.models.fasttext.FastText\n",
    "        Returns\n",
    "        -------\n",
    "        FastText model\n",
    "        \"\"\"\n",
    "        default_opts = dict(vector_size=100, alpha=0.025,\n",
    "                            window=5, min_count=5, epochs=5)\n",
    "        opts_new = default_opts\n",
    "        for opt in opts.keys():\n",
    "            opts_new[opt] = opts[opt]\n",
    "        model = FastText(\n",
    "            vector_size=opts_new[\"vector_size\"],\n",
    "            alpha=opts_new[\"alpha\"],\n",
    "            window=opts_new[\"window\"],\n",
    "            min_count=opts_new[\"min_count\"])\n",
    "        model.build_vocab(corpus_iterable=[sentence for sentence in\n",
    "                                           self.corpus.get_sents()])\n",
    "        total_examples = model.corpus_count\n",
    "        model.train(corpus_iterable=[sentence for sentence\n",
    "                                     in self.corpus.get_sents()],\n",
    "                    total_examples=total_examples,\n",
    "                    epochs=opts_new[\"epochs\"])\n",
    "        return model"
   ]
  },
  {
   "cell_type": "markdown",
   "metadata": {
    "id": "ZWZPf_3bUe8n"
   },
   "source": [
    "Parameters: \n",
    "\n",
    "`min_count`: the minimum frequency threshold allowed for a word to be included; set to 3 following Ribary & McGillivray (2020) or 5 following Sprugnoli et al. (2019).\n",
    "\n",
    "`vector_size`: the number of dimensions in which we wish to represent our word. This is the size of the word embedding; typically between 100 and 1,000. Set to 100 following Ribary & McGillivray (2020).\n",
    "\n",
    "`window`: The size of the context window determines how many words before and after a given word would be included as context words of the given word.  Typically between 5 and 10. Set to 10 following Sprugnoli et al. (2020).\n",
    "\n",
    "`sg`: – Training algorithm: 1 for skip-gram; otherwise CBOW. Set to 10 following Ribary & McGillivray (2020).\n"
   ]
  },
  {
   "cell_type": "markdown",
   "metadata": {},
   "source": [
    "Train FastText embeddings and, for full reproducibility, limit the model to a single worker thread (workers=1), to eliminate ordering jitter from OS thread scheduling:"
   ]
  },
  {
   "cell_type": "code",
   "execution_count": null,
   "metadata": {},
   "outputs": [],
   "source": [
    "model = FastText(vector_size=100, alpha=0.025, window=1, min_count=50, workers=1, seed=1, hashfxn=hash)\n",
    "model.build_vocab(corpus_iterable=corpus)\n",
    "model.train(corpus_iterable=corpus, total_examples=model.corpus_count, epochs=5)"
   ]
  },
  {
   "cell_type": "markdown",
   "metadata": {},
   "source": [
    "Let's see what words are similar to \"dies\":"
   ]
  },
  {
   "cell_type": "code",
   "execution_count": null,
   "metadata": {},
   "outputs": [],
   "source": [
    "model.wv.similar_by_word('dies', 10)"
   ]
  },
  {
   "cell_type": "markdown",
   "metadata": {},
   "source": [
    "Let's try with different parameters:"
   ]
  },
  {
   "cell_type": "code",
   "execution_count": null,
   "metadata": {},
   "outputs": [],
   "source": [
    "start = time.time()\n",
    "model = FastText(vector_size=100, window=5, min_count=5, workers=1, seed=1,hashfxn=hash)\n",
    "model.build_vocab(corpus_iterable=corpus)\n",
    "model.train(corpus_iterable=corpus, total_examples=model.corpus_count, epochs=5)\n",
    "end = time.time()\n",
    "print(\"It has taken\", round(end - start), \"seconds\")\n",
    "model.wv.similar_by_word('dies', 10)"
   ]
  },
  {
   "cell_type": "code",
   "execution_count": null,
   "metadata": {},
   "outputs": [],
   "source": [
    "start = time.time()\n",
    "model = FastText(vector_size=100, window=10, min_count=5, workers=1, seed=1,hashfxn=hash)\n",
    "model.build_vocab(corpus_iterable=corpus)\n",
    "model.train(corpus_iterable=corpus, total_examples=model.corpus_count, epochs=5)\n",
    "end = time.time()\n",
    "print(\"It has taken\", round(end - start), \"seconds\")\n",
    "model.wv.similar_by_word('dies', 10)"
   ]
  },
  {
   "cell_type": "markdown",
   "metadata": {},
   "source": [
    "I experiment with two equivalent ways to train a Fast Text model:"
   ]
  },
  {
   "cell_type": "code",
   "execution_count": null,
   "metadata": {},
   "outputs": [],
   "source": [
    "model = FastText(vector_size=100, alpha=0.025, window=1, min_count=50, workers=1, seed=1, hashfxn=hash)\n",
    "model.build_vocab(corpus_iterable=corpus)\n",
    "model.corpus_count\n",
    "model.train(corpus_iterable=corpus, total_examples=model.corpus_count, epochs=5)"
   ]
  },
  {
   "cell_type": "code",
   "execution_count": null,
   "metadata": {},
   "outputs": [],
   "source": [
    "model2 = FastText(vector_size=100, alpha=0.025, window=1, min_count=50, workers=1, seed=1, hashfxn=hash, \n",
    "                  sentences=corpus)\n",
    "model2.corpus_count"
   ]
  },
  {
   "cell_type": "code",
   "execution_count": null,
   "metadata": {
    "scrolled": true
   },
   "outputs": [],
   "source": [
    "np.allclose(model.wv['dies'], model2.wv['dies'])"
   ]
  },
  {
   "cell_type": "markdown",
   "metadata": {},
   "source": [
    "The models has a vocabulary of"
   ]
  },
  {
   "cell_type": "code",
   "execution_count": null,
   "metadata": {},
   "outputs": [],
   "source": [
    "model.corpus_total_words"
   ]
  },
  {
   "cell_type": "markdown",
   "metadata": {},
   "source": [
    "words and "
   ]
  },
  {
   "cell_type": "code",
   "execution_count": null,
   "metadata": {},
   "outputs": [],
   "source": [
    "model.corpus_count"
   ]
  },
  {
   "cell_type": "markdown",
   "metadata": {},
   "source": [
    "sentences."
   ]
  },
  {
   "cell_type": "markdown",
   "metadata": {},
   "source": [
    "I evaluate different configurations of the parameters for the embeddings against the gold standard set by Sprugnoli et al. (2019) (https://github.com/CIRCSE/Lemma-Embeddings-for-Latin/blob/master/syn-selection-benchmark-Latin.tsv) to find the best configuration of parameters:"
   ]
  },
  {
   "cell_type": "markdown",
   "metadata": {},
   "source": [
    "https://gitlab.surrey.ac.uk/mr0048/pydigest/-/blob/master/script/fasttext_003.py"
   ]
  },
  {
   "cell_type": "markdown",
   "metadata": {},
   "source": [
    "WE MAY ALSO WANT TO EVALUATE THE TIME-INSENSITIVE EMBEDDINGS (i.e. trained of the full corpus) similarly to Ribary & McGillivray (2020)"
   ]
  },
  {
   "cell_type": "markdown",
   "metadata": {},
   "source": [
    "## Training embeddings for each time interval"
   ]
  },
  {
   "cell_type": "markdown",
   "metadata": {
    "id": "MPcAmEUzA1if"
   },
   "source": [
    "For each time interval, I read the texts from files and create a list of lists, i.e. a list of sentences:"
   ]
  },
  {
   "cell_type": "code",
   "execution_count": null,
   "metadata": {},
   "outputs": [],
   "source": [
    "# dictionary that maps a time interval with the list of sentences of texts in that time interval\"\n",
    "time2corpus = dict()\n",
    "\n",
    "# I loop over all time intervals:\n",
    "for t in range(n_intervals+1):\n",
    "    files_corpus_t = metadata_df.loc[metadata_df['time_interval'] == intervals[t]]\n",
    "    #print(\"1:\",files_corpus_t, type(files_corpus_t))\n",
    "    corpus_t = list()\n",
    "    for index, df_line in files_corpus_t.iterrows():\n",
    "        #print(\"line:\",df_line['id'], df_line['time_interval'])\n",
    "        sign = \"+\"\n",
    "        #print(df_line['date'])\n",
    "        if df_line['date'] < 0:\n",
    "            sign = \"-\"\n",
    "        #print(\"date:\", convert_dates(sign, abs(df_line['date'])))\n",
    "        file_name = 'lat_'+str(convert_dates(sign, abs(df_line['date'])))+\"_\"+str(df_line['id'])+'.txt'\n",
    "        #print(\"3:\",file_name)\n",
    "        file = open(os.path.join(dir_in, \"preprocessed_\"+lemmas_or_tokens, file_name), 'r')\n",
    "        sentences_this_file = list()\n",
    "        while True:\n",
    "            line = file.readline().strip()\n",
    "            if line != \"\":\n",
    "                #sentences_this_file.append(line.split(\" \"))\n",
    "                #sentences_this_file.append([token for token in line.split(\" \") if token not in punctuation])\n",
    "                corpus_t.append([token for token in line.split(\" \") if token not in punctuation])\n",
    "            # if line is empty end of file is reached\n",
    "            if not line:\n",
    "                break\n",
    "        file.close()\n",
    "        #corpus_t.append(sentences_this_file)\n",
    "    #corpus_t1\n",
    "    #print(len(corpus_t1[0]))\n",
    "    time2corpus[t] = corpus_t\n"
   ]
  },
  {
   "cell_type": "markdown",
   "metadata": {},
   "source": [
    "Let's inspect the corpus for the first time interval:"
   ]
  },
  {
   "cell_type": "code",
   "execution_count": null,
   "metadata": {},
   "outputs": [],
   "source": [
    "time2corpus[0]"
   ]
  },
  {
   "cell_type": "markdown",
   "metadata": {},
   "source": [
    "And the second:"
   ]
  },
  {
   "cell_type": "code",
   "execution_count": null,
   "metadata": {},
   "outputs": [],
   "source": [
    "time2corpus[1]"
   ]
  },
  {
   "cell_type": "markdown",
   "metadata": {},
   "source": [
    "And the third:"
   ]
  },
  {
   "cell_type": "code",
   "execution_count": null,
   "metadata": {},
   "outputs": [],
   "source": [
    "time2corpus[2]"
   ]
  },
  {
   "cell_type": "markdown",
   "metadata": {},
   "source": [
    "Following the findings of Sprugnoli et al. (2019) and Ribary & McGillivray (2020), for each time interval I train a fasttext model:"
   ]
  },
  {
   "cell_type": "markdown",
   "metadata": {},
   "source": [
    "Start with the first subcorpus:"
   ]
  },
  {
   "cell_type": "code",
   "execution_count": null,
   "metadata": {
    "colab": {
     "base_uri": "https://localhost:8080/"
    },
    "id": "U7IjvEPpUfTQ",
    "outputId": "90320e7f-1107-4185-9e7e-c8808d04b65d"
   },
   "outputs": [],
   "source": [
    "start = time.time()\n",
    "#model = gensim.models.Word2Vec(time2corpus[0], min_count=5, vector_size=100, window = 10, sg = 1)\n",
    "start = time.time()\n",
    "model = FastText(vector_size=100, window=5, min_count=5, workers=1, seed=1,hashfxn=hash)\n",
    "model.build_vocab(corpus_iterable=time2corpus[0])\n",
    "model.train(corpus_iterable=time2corpus[0], total_examples=model.corpus_count, epochs=5)\n",
    "end = time.time()\n",
    "print(\"It has taken\", round(end - start), \"seconds\")\n",
    "model.wv.similar_by_word('dies', 10)"
   ]
  },
  {
   "cell_type": "code",
   "execution_count": null,
   "metadata": {
    "colab": {
     "base_uri": "https://localhost:8080/"
    },
    "id": "-SKoa9tdLH62",
    "outputId": "b3d6c08e-79fa-4832-e899-80933ad395d7"
   },
   "outputs": [],
   "source": [
    "print_vocab(model, 10)"
   ]
  },
  {
   "cell_type": "markdown",
   "metadata": {},
   "source": [
    "I now check the similar words to \"sum\":"
   ]
  },
  {
   "cell_type": "code",
   "execution_count": null,
   "metadata": {},
   "outputs": [],
   "source": [
    "model.wv.similar_by_word('sum', 10)"
   ]
  },
  {
   "cell_type": "markdown",
   "metadata": {},
   "source": [
    "The corpus is small and the fasttext seems to prefer orthographic similarity with smaller min_counts. We're not interested in dies being similar to rabies, but rather dies being similar to annus or mensis. So, we have two options: we may either turn off the subwords or apply high frequency threshold (but we're going to loose low-frequency terms) "
   ]
  },
  {
   "cell_type": "markdown",
   "metadata": {},
   "source": [
    "Let's try changing the parameters to exclude subwords:"
   ]
  },
  {
   "cell_type": "code",
   "execution_count": null,
   "metadata": {},
   "outputs": [],
   "source": [
    "start = time.time()\n",
    "#model = gensim.models.Word2Vec(time2corpus[0], min_count=5, vector_size=100, window = 10, sg = 1)\n",
    "start = time.time()\n",
    "model = FastText(vector_size=100, window=5, min_count=5, workers=1, seed=1, hashfxn=hash, max_n=0) \n",
    "model.build_vocab(corpus_iterable=time2corpus[0])\n",
    "model.train(corpus_iterable=time2corpus[0], total_examples=model.corpus_count, epochs=5)\n",
    "end = time.time()\n",
    "print(\"It has taken\", round(end - start), \"seconds\")\n",
    "model.wv.similar_by_word('dies', 10)"
   ]
  },
  {
   "cell_type": "markdown",
   "metadata": {},
   "source": [
    "Additionally, we could set a higher frequency threshold, but that we would lose low-frequency terms:"
   ]
  },
  {
   "cell_type": "code",
   "execution_count": null,
   "metadata": {},
   "outputs": [],
   "source": [
    "start = time.time()\n",
    "#model = gensim.models.Word2Vec(time2corpus[0], min_count=5, vector_size=100, window = 10, sg = 1)\n",
    "start = time.time()\n",
    "model = FastText(vector_size=100, window=5, min_count=50, workers=1, seed=1, hashfxn=hash, max_n=0) \n",
    "model.build_vocab(corpus_iterable=time2corpus[0])\n",
    "model.train(corpus_iterable=time2corpus[0], total_examples=model.corpus_count, epochs=5)\n",
    "end = time.time()\n",
    "print(\"It has taken\", round(end - start), \"seconds\")\n",
    "model.wv.similar_by_word('dies', 10)"
   ]
  },
  {
   "cell_type": "code",
   "execution_count": null,
   "metadata": {},
   "outputs": [],
   "source": [
    "model.wv.similar_by_word('sum', 10)"
   ]
  },
  {
   "cell_type": "markdown",
   "metadata": {},
   "source": [
    "I now train one model for each time interval:"
   ]
  },
  {
   "cell_type": "code",
   "execution_count": null,
   "metadata": {},
   "outputs": [],
   "source": [
    "len(time2corpus)"
   ]
  },
  {
   "cell_type": "code",
   "execution_count": null,
   "metadata": {},
   "outputs": [],
   "source": [
    "models = list()\n",
    "start = time.time()\n",
    "for t in range(len(time2corpus)):\n",
    "    if len(time2corpus[t])>0:\n",
    "        print(t)\n",
    "        #model = gensim.models.Word2Vec(time2corpus[0][0], min_count=1, vector_size=300, window = 5, sg = 0)\n",
    "        model = FastText(vector_size=100, window=5, min_count=50, workers=1, seed=1, hashfxn=hash, max_n=0)  # instantiate\n",
    "        model.build_vocab(corpus_iterable=time2corpus[t])\n",
    "        model.train(corpus_iterable=time2corpus[t], total_examples=len(time2corpus[t]), epochs=10)  # train\n",
    "        models.append(model)\n",
    "        #model = fasttext.train_unsupervised(time2corpus[0][0], model='skipgram')\n",
    "end = time.time()\n",
    "print(\"It has taken\", round(end - start), \"seconds, or \", round((end - start)/60), \"minutes\")"
   ]
  },
  {
   "cell_type": "markdown",
   "metadata": {},
   "source": [
    "Let's check some models:"
   ]
  },
  {
   "cell_type": "code",
   "execution_count": null,
   "metadata": {},
   "outputs": [],
   "source": [
    "print_vocab(models[0], 20)"
   ]
  },
  {
   "cell_type": "code",
   "execution_count": null,
   "metadata": {},
   "outputs": [],
   "source": [
    "models[0].wv.similar_by_word('dies', 10)"
   ]
  },
  {
   "cell_type": "code",
   "execution_count": null,
   "metadata": {},
   "outputs": [],
   "source": [
    "print_vocab(models[1], 20)"
   ]
  },
  {
   "cell_type": "code",
   "execution_count": null,
   "metadata": {},
   "outputs": [],
   "source": [
    "models[1].wv.similar_by_word('dies', 10)"
   ]
  },
  {
   "cell_type": "code",
   "execution_count": null,
   "metadata": {},
   "outputs": [],
   "source": [
    "models[2].wv.similar_by_word('dies', 10)"
   ]
  },
  {
   "cell_type": "markdown",
   "metadata": {
    "id": "S4rjlshWPPkX"
   },
   "source": [
    "##  Embedding space alignment"
   ]
  },
  {
   "cell_type": "markdown",
   "metadata": {},
   "source": [
    "I will be using code from https://gist.github.com/zhicongchen/9e23d5c3f1e5b1293b16133485cd17d8, ported from HistWords https://github.com/williamleif/histwords.\n",
    "\n",
    "First, I define a function to find the intersection between the vocabularies of two word2vec models:\n",
    "\n"
   ]
  },
  {
   "cell_type": "code",
   "execution_count": null,
   "metadata": {},
   "outputs": [],
   "source": [
    "def intersection_align_gensim(m1, m2, words=None):\n",
    "    \"\"\"\n",
    "    Intersect two gensim word2vec models, m1 and m2.\n",
    "    Only the shared vocabulary between them is kept.\n",
    "    If 'words' is set (as list or set), then the vocabulary is intersected with this list as well.\n",
    "    Indices are re-organized from 0..N in order of descending frequency (=sum of counts from both m1 and m2).\n",
    "    These indices correspond to the new syn0 and syn0norm objects in both gensim models:\n",
    "        -- so that Row 0 of m1.syn0 will be for the same word as Row 0 of m2.syn0\n",
    "        -- you can find the index of any word on the .index2word list: model.index2word.index(word) => 2\n",
    "    The .vocab dictionary is also updated for each model, preserving the count but updating the index.\n",
    "    \"\"\"\n",
    "\n",
    "    # Get the vocab for each model\n",
    "    vocab_m1 = set(m1.wv.index_to_key)\n",
    "    vocab_m2 = set(m2.wv.index_to_key)\n",
    "\n",
    "    # Find the common vocabulary\n",
    "    common_vocab = vocab_m1 & vocab_m2\n",
    "    if words: common_vocab &= set(words)\n",
    "\n",
    "    # If no alignment necessary because vocab is identical...\n",
    "    if not vocab_m1 - common_vocab and not vocab_m2 - common_vocab:\n",
    "        return (common_vocab, m1,m2)\n",
    "\n",
    "    # Otherwise sort by frequency (summed for both)\n",
    "    common_vocab = list(common_vocab)\n",
    "    common_vocab.sort(key=lambda w: m1.wv.get_vecattr(w, \"count\") + m2.wv.get_vecattr(w, \"count\"), reverse=True)\n",
    "    # print(len(common_vocab))\n",
    "\n",
    "    # Then for each model...\n",
    "    for m in [m1, m2]:\n",
    "        # Replace old syn0norm array with new one (with common vocab)\n",
    "        indices = [m.wv.key_to_index[w] for w in common_vocab]\n",
    "        old_arr = m.wv.vectors\n",
    "        new_arr = np.array([old_arr[index] for index in indices])\n",
    "        m.wv.vectors = new_arr\n",
    "\n",
    "        # Replace old vocab dictionary with new one (with common vocab)\n",
    "        # and old index2word with new one\n",
    "        new_key_to_index = {}\n",
    "        new_index_to_key = []\n",
    "        for new_index, key in enumerate(common_vocab):\n",
    "            new_key_to_index[key] = new_index\n",
    "            new_index_to_key.append(key)\n",
    "        m.wv.key_to_index = new_key_to_index\n",
    "        m.wv.index_to_key = new_index_to_key\n",
    "        \n",
    "        print(len(m.wv.key_to_index), len(m.wv.vectors))\n",
    "        \n",
    "    print(common_vocab)\n",
    "    print(m1)\n",
    "    print(m2)\n",
    "    return (common_vocab, m1, m2)"
   ]
  },
  {
   "cell_type": "markdown",
   "metadata": {},
   "source": [
    "Then, I define a function for aligning two spaces with Orthogonal Procrustes:"
   ]
  },
  {
   "cell_type": "code",
   "execution_count": null,
   "metadata": {},
   "outputs": [],
   "source": [
    "def smart_procrustes_align_gensim(base_embed, other_embed, words=None):\n",
    "    \"\"\"\n",
    "    Original script: https://gist.github.com/quadrismegistus/09a93e219a6ffc4f216fb85235535faf\n",
    "    Procrustes align two gensim word2vec models (to allow for comparison between same word across models).\n",
    "    Code ported from HistWords <https://github.com/williamleif/histwords> by William Hamilton <wleif@stanford.edu>.\n",
    "        \n",
    "    First, intersect the vocabularies (see `intersection_align_gensim` documentation).\n",
    "    Then do the alignment on the other_embed model.\n",
    "    Replace the other_embed model's syn0 and syn0norm numpy matrices with the aligned version.\n",
    "    Return other_embed.\n",
    "    If `words` is set, intersect the two models' vocabulary with the vocabulary in words (see `intersection_align_gensim` documentation).\n",
    "    \"\"\"\n",
    "\n",
    "    # make sure vocabulary and indices are aligned\n",
    "    common_vocab, in_base_embed, in_other_embed = intersection_align_gensim(base_embed, other_embed, words=words)\n",
    "\n",
    "    # re-filling the normed vectors: the following two lines were added following Japleen Gulati, following amacanovic's comments in the discussion below this page: https://gist.github.com/zhicongchen/9e23d5c3f1e5b1293b16133485cd17d8\n",
    "\n",
    "    in_base_embed.wv.fill_norms(force=True)\n",
    "    in_other_embed.wv.fill_norms(force=True)\n",
    "    \n",
    "    # get the (normalized) embedding matrices\n",
    "    base_vecs = in_base_embed.wv.get_normed_vectors()\n",
    "    other_vecs = in_other_embed.wv.get_normed_vectors()\n",
    "\n",
    "    # just a matrix dot product with numpy\n",
    "    m = other_vecs.T.dot(base_vecs) \n",
    "    # SVD method from numpy\n",
    "    u, _, v = np.linalg.svd(m)\n",
    "    # another matrix operation\n",
    "    ortho = u.dot(v) \n",
    "    # Replace original array with modified one, i.e. multiplying the embedding matrix by \"ortho\"\n",
    "    other_embed.wv.vectors = (other_embed.wv.vectors).dot(ortho)    \n",
    "    \n",
    "    return other_embed\n"
   ]
  },
  {
   "cell_type": "markdown",
   "metadata": {
    "id": "mhvxxR7qQ3Hc"
   },
   "source": [
    "Now I can apply the function to my models:"
   ]
  },
  {
   "cell_type": "code",
   "execution_count": null,
   "metadata": {},
   "outputs": [],
   "source": [
    "smart_procrustes_align_gensim(models[2], models[0])"
   ]
  },
  {
   "cell_type": "markdown",
   "metadata": {},
   "source": [
    "I align all models:"
   ]
  },
  {
   "cell_type": "code",
   "execution_count": null,
   "metadata": {
    "colab": {
     "base_uri": "https://localhost:8080/"
    },
    "id": "oI3tPmmNRXcU",
    "outputId": "c347bdb8-ad34-4133-fecb-f37416bbcf2f"
   },
   "outputs": [],
   "source": [
    "from functools import reduce\n",
    "#for t in range(len(models)):\n",
    "#    smart_procrustes_align_gensim(models[t], models[0], words=None)\n",
    "for i in range(0,len(models)-1):\n",
    "    reduce(smart_procrustes_align_gensim, models)\n",
    "    "
   ]
  },
  {
   "cell_type": "markdown",
   "metadata": {
    "id": "EKGD6NZPbxza"
   },
   "source": [
    "Now the models have been aligned and have the same vocabulary:"
   ]
  },
  {
   "cell_type": "code",
   "execution_count": null,
   "metadata": {},
   "outputs": [],
   "source": [
    "for i in range(0,len(models)):\n",
    "    print(i, len(models[i].wv.index_to_key))"
   ]
  },
  {
   "cell_type": "markdown",
   "metadata": {
    "id": "HeSIUxsE8nF7"
   },
   "source": [
    "# Semantic change with cosine similarity"
   ]
  },
  {
   "cell_type": "code",
   "execution_count": null,
   "metadata": {},
   "outputs": [],
   "source": [
    "intervals"
   ]
  },
  {
   "cell_type": "code",
   "execution_count": null,
   "metadata": {},
   "outputs": [],
   "source": [
    "models"
   ]
  },
  {
   "cell_type": "markdown",
   "metadata": {},
   "source": [
    "I define a function that, given a reference step (either \"first\" or \"last), it returns the time intervals' range to be used to compare models against this reference step:"
   ]
  },
  {
   "cell_type": "code",
   "execution_count": null,
   "metadata": {},
   "outputs": [],
   "source": [
    "def find_reference_intervals(reference_step, intervals):\n",
    "    \n",
    "    if reference_step == \"first\":\n",
    "        #range_intervals = range(intervals[1], intervals[len(intervals)-1], size_interval)\n",
    "        #range_intervals_index = range(1, len(intervals)-1)\n",
    "        #reference_interval = intervals[0]\n",
    "        reference_interval_index = 0\n",
    "    elif reference_step == \"last\":\n",
    "        #range_intervals = range(intervals[0], intervals[len(intervals)-2], size_interval)\n",
    "        #range_intervals_index = range(0, len(intervals)-2)\n",
    "        #reference_interval = intervals[len(intervals)-1]\n",
    "        reference_interval_index = len(intervals)-2\n",
    "        \n",
    "    #return (range_intervals, range_intervals_index, reference_interval, reference_interval_index)\n",
    "    return reference_interval_index"
   ]
  },
  {
   "cell_type": "code",
   "execution_count": null,
   "metadata": {},
   "outputs": [],
   "source": [
    "find_reference_intervals(\"first\", intervals)"
   ]
  },
  {
   "cell_type": "code",
   "execution_count": null,
   "metadata": {},
   "outputs": [],
   "source": [
    "find_reference_intervals(\"last\", intervals)"
   ]
  },
  {
   "cell_type": "markdown",
   "metadata": {
    "id": "j2hcRfD-Bkm0"
   },
   "source": [
    "Let's define a function that calculates the cosine similarity between the embedding of a word in a time interval t and the embedding of the same word in the reference time interval:"
   ]
  },
  {
   "cell_type": "code",
   "execution_count": null,
   "metadata": {
    "id": "qTFtfuLkCUJN"
   },
   "outputs": [],
   "source": [
    "def cosine_similarity(word, t, reference_step, models, intervals):\n",
    "    #(range_intervals, range_intervals_index, reference_interval, reference_interval_index)= find_reference_intervals(reference_step)\n",
    "    reference_interval_index = find_reference_intervals(reference_step, intervals)\n",
    "    sc = np.nan\n",
    "    if models[reference_interval_index] == '':\n",
    "        print(\"Model of reference interval is empty!\")\n",
    "    else:\n",
    "        if models[t] != '':\n",
    "            #print(t, word)\n",
    "            sc = 1-spatial.distance.cosine(models[t].wv[word], models[reference_interval_index].wv[word])\n",
    "    return sc"
   ]
  },
  {
   "cell_type": "code",
   "execution_count": null,
   "metadata": {},
   "outputs": [],
   "source": [
    "cosine_similarity(\"sum\", 2, \"last\", models, intervals)"
   ]
  },
  {
   "cell_type": "code",
   "execution_count": null,
   "metadata": {},
   "outputs": [],
   "source": [
    "cosine_similarity(\"sum\", 2, \"first\", models, intervals)"
   ]
  },
  {
   "cell_type": "markdown",
   "metadata": {
    "id": "WtrQJ2QwCaZA"
   },
   "source": [
    "Now I define a function that, given a reference step and a time interval index (starting from 0 for the first model), calculates the semantic similarity for all words in the vocabulary between these two time intervals, and stores this in the dataframe cosine_similarity_df:"
   ]
  },
  {
   "cell_type": "code",
   "execution_count": null,
   "metadata": {
    "colab": {
     "base_uri": "https://localhost:8080/",
     "height": 419
    },
    "id": "usdtS7hxCiDc",
    "outputId": "97b22c9e-c219-4750-84df-5cf7988e168b"
   },
   "outputs": [],
   "source": [
    "def cosine_similarity_dataframe(reference_step, time_interval_index, models, intervals):\n",
    "    if time_interval_index<0 or time_interval_index>len(models)-1:\n",
    "        print(\"Second argument needs to be between 0 and \", len(models)-1)\n",
    "        \n",
    "    reference_interval_index = find_reference_intervals(reference_step, intervals)\n",
    "    #print(reference_interval_index)\n",
    "    if models[reference_interval_index] != '' and models[time_interval_index] != '':\n",
    "        cosine_similarity_df = pd.DataFrame(([w, \n",
    "            models[reference_interval_index].wv.get_vecattr(w, \"count\"),\n",
    "            models[time_interval_index].wv.get_vecattr(w, \"count\"),\n",
    "            cosine_similarity(w,time_interval_index, reference_step, models, intervals)  \n",
    "            ] for w in models[time_interval_index].wv.index_to_key), \n",
    "        columns = ('Word', \"Frequency_t_reference-\"+str(reference_step), \"Frequency_t\"+str(time_interval_index), \n",
    "        'Cosine_similarity(w_t_reference-'+str(reference_step)+',w_t'+str(time_interval_index)+')'))\n",
    "    else:\n",
    "        print(\"The reference model or the current model are empty!\")\n",
    "        cosine_similarity_df = pd.DataFrame()\n",
    "    return cosine_similarity_df"
   ]
  },
  {
   "cell_type": "code",
   "execution_count": null,
   "metadata": {},
   "outputs": [],
   "source": [
    "cosine_similarity_dataframe(\"last\", 0, models, intervals)"
   ]
  },
  {
   "cell_type": "code",
   "execution_count": null,
   "metadata": {},
   "outputs": [],
   "source": [
    "cosine_similarity_dataframe(\"last\", 1, models, intervals)"
   ]
  },
  {
   "cell_type": "markdown",
   "metadata": {
    "id": "A7ztnymCHzuk"
   },
   "source": [
    "Visualise the distribution of the semantic similarity scores with a histogram:"
   ]
  },
  {
   "cell_type": "code",
   "execution_count": null,
   "metadata": {
    "colab": {
     "base_uri": "https://localhost:8080/",
     "height": 268
    },
    "id": "fXq_oDpmH21j",
    "outputId": "f7facee9-335c-40a6-d832-98f9bd6266e1"
   },
   "outputs": [],
   "source": [
    "#hist = cosine_similarity_df['Cosine_similarity(w_t0,w_t1)'].hist()\n",
    "# I display the last column of the data frame:\n",
    "hist = cosine_similarity_dataframe(\"last\", 0, models, intervals).iloc[:,-1].hist()"
   ]
  },
  {
   "cell_type": "markdown",
   "metadata": {
    "id": "UoGHlv8M-lje"
   },
   "source": [
    "Now I can store the full time series of the cosine similarity between the embedding of a word in each time interval and the embedding of that same word in the reference interval (set to \"last\"):"
   ]
  },
  {
   "cell_type": "code",
   "execution_count": null,
   "metadata": {},
   "outputs": [],
   "source": [
    "intervals"
   ]
  },
  {
   "cell_type": "code",
   "execution_count": null,
   "metadata": {},
   "outputs": [],
   "source": [
    "reference_step = \"last\"\n",
    "time_series = list()\n",
    "reference_interval_index = find_reference_intervals(reference_step, intervals)\n",
    "time_series_df = pd.DataFrame()\n",
    "#for w in models[reference_interval_index].wv.index_to_key:\n",
    "df = cosine_similarity_dataframe(reference_step, reference_interval_index, models, intervals)\n",
    "time_series_df[df.columns[0]] = df.iloc[:,0]\n",
    "time_series_df[df.columns[1]] = df.iloc[:,1]\n",
    "for i in range(len(models)):\n",
    "    #print(reference_interval_index)\n",
    "    print(\"Interval\", str(intervals[i]), \"with\", str(list(intervals)[reference_interval_index]))\n",
    "    df = cosine_similarity_dataframe(reference_step, i, models, intervals)\n",
    "#    if i == reference_interval_index:\n",
    "#        time_series_df = df\n",
    "#        col_i = \"interval-\"+str(reference_interval_index)\n",
    "#        time_series_df[col_i] = [reference_interval_index for w in models[reference_interval_index].wv.index_to_key]\n",
    "#        col_n = \"neighbours_ref-\"+reference_step\n",
    "#        time_series_df[col_n] = [models[reference_interval_index].wv.similar_by_word(w, 10) for w in models[reference_interval_index].wv.index_to_key]\n",
    "#    else:\n",
    "#        #time_series_df = time_series_df, df.iloc[:,-2:]\n",
    "#        tmp_df = df.iloc[:,-2:]\n",
    "#        #df.iloc[:,-2:].column[0]\n",
    "#        #print(tmp_df.iloc[:,0])\n",
    "#        time_series_df[tmp_df.columns[0]] = tmp_df.iloc[:,0]\n",
    "#        time_series_df[tmp_df.columns[1]] = tmp_df.iloc[:,1]\n",
    "#        col_i = \"interval-\"+str(i)\n",
    "#        time_series_df[col_i] = [i for w in models[reference_interval_index].wv.index_to_key]\n",
    "#        #Finding top 10 nearest neighbours:\n",
    "#        col_n = \"neighbours_t\"+str(i)\n",
    "#        time_series_df[col_n] = [models[i].wv.similar_by_word(w, 10) for w in models[i].wv.index_to_key]\n",
    "    if i != reference_interval_index:\n",
    "        tmp_df = df.iloc[:,-2:]\n",
    "        #df.iloc[:,-2:].column[0]\n",
    "        #print(df.iloc[:,0])\n",
    "        time_series_df[tmp_df.columns[0]] = tmp_df.iloc[:,0]\n",
    "        time_series_df[tmp_df.columns[1]] = tmp_df.iloc[:,1]\n",
    "        col_i = \"interval-\"+str(i)\n",
    "        time_series_df[col_i] = [i for w in models[reference_interval_index].wv.index_to_key]\n",
    "        #Finding top 10 nearest neighbours:\n",
    "        col_n = \"neighbours_t\"+str(i)\n",
    "        time_series_df[col_n] = [models[i].wv.similar_by_word(w, 10) for w in models[i].wv.index_to_key]\n",
    "        #print(time_series_df)\n",
    "    else:\n",
    "        tmp_df = df.iloc[:,-2:]\n",
    "        #df.iloc[:,-2:].column[0]\n",
    "        #print(df.iloc[:,0])\n",
    "        time_series_df[tmp_df.columns[0]] = tmp_df.iloc[:,0]\n",
    "        time_series_df[tmp_df.columns[1]] = tmp_df.iloc[:,1]\n",
    "        col_i = \"interval-\"+str(i)\n",
    "        time_series_df[col_i] = [i for w in models[reference_interval_index].wv.index_to_key]\n",
    "        #Finding top 10 nearest neighbours:\n",
    "        col_n = \"neighbours_t\"+str(i)\n",
    "        time_series_df[col_n] = [models[i].wv.similar_by_word(w, 10) for w in models[i].wv.index_to_key]\n",
    "    \n",
    "time_series_df"
   ]
  },
  {
   "cell_type": "markdown",
   "metadata": {},
   "source": [
    "Print to a file:"
   ]
  },
  {
   "cell_type": "code",
   "execution_count": null,
   "metadata": {},
   "outputs": [],
   "source": [
    "time_series_df.to_csv(os.path.join(dir_out, 'semantic_change_'+str(size_interval)+'_allwords.csv'), index=None)"
   ]
  },
  {
   "cell_type": "code",
   "execution_count": null,
   "metadata": {},
   "outputs": [],
   "source": [
    "time_series_df.columns"
   ]
  },
  {
   "cell_type": "code",
   "execution_count": null,
   "metadata": {},
   "outputs": [],
   "source": [
    "time_series_df[['interval-0', 'Cosine_similarity(w_t_reference-last,w_t0)']]"
   ]
  },
  {
   "cell_type": "code",
   "execution_count": null,
   "metadata": {},
   "outputs": [],
   "source": [
    "time_series_df[['interval-0', 'Cosine_similarity(w_t_reference-last,w_t0)']].describe"
   ]
  },
  {
   "cell_type": "code",
   "execution_count": null,
   "metadata": {},
   "outputs": [],
   "source": [
    "time_series_df[['interval-1', 'Cosine_similarity(w_t_reference-last,w_t1)']]"
   ]
  },
  {
   "cell_type": "code",
   "execution_count": null,
   "metadata": {},
   "outputs": [],
   "source": [
    "time_series_df[['Cosine_similarity(w_t_reference-last,w_t0)',\n",
    "                           'Cosine_similarity(w_t_reference-last,w_t1)'\n",
    "               ]].iloc[0]"
   ]
  },
  {
   "cell_type": "code",
   "execution_count": null,
   "metadata": {},
   "outputs": [],
   "source": [
    "px.line(time_series_df[['interval-0', 'Cosine_similarity(w_t_reference-last,w_t0)']], \n",
    "        x = 'interval-0', y = 'Cosine_similarity(w_t_reference-last,w_t0)')"
   ]
  },
  {
   "cell_type": "code",
   "execution_count": null,
   "metadata": {},
   "outputs": [],
   "source": [
    "plt.scatter([0,1], \n",
    "            time_series_df[['Cosine_similarity(w_t_reference-last,w_t0)',\n",
    "                           'Cosine_similarity(w_t_reference-last,w_t1)'\n",
    "                           ]].iloc[0])\n",
    "plt.show()"
   ]
  },
  {
   "cell_type": "markdown",
   "metadata": {},
   "source": [
    "I rearrange the dataframe for visualization:"
   ]
  },
  {
   "cell_type": "code",
   "execution_count": null,
   "metadata": {},
   "outputs": [],
   "source": [
    "time_series_df.columns"
   ]
  },
  {
   "cell_type": "code",
   "execution_count": null,
   "metadata": {},
   "outputs": [],
   "source": [
    "time_series_df"
   ]
  },
  {
   "cell_type": "code",
   "execution_count": null,
   "metadata": {},
   "outputs": [],
   "source": [
    "#time_series_df1 = pd.DataFrame(columns=['Time_interval', 'Cosine_sim', 'Word'])\n",
    "time_series_df1 = pd.DataFrame()\n",
    "for index, row in time_series_df.iterrows():\n",
    "    #print(row['interval-0'], row['Cosine_similarity(w_t_reference-last,w_t0)'])\n",
    "    \n",
    "    #temp = pd.DataFrame(\n",
    "    #    {\n",
    "    #        'Time_interval': row['interval-0'],\n",
    "    #        'Cosine_sim': row['Cosine_similarity(w_t_reference-last,w_t0)'],\n",
    "    #        'Word': row['Word']\n",
    "    #    }\n",
    "    #)\n",
    "    #print([row['interval-0'],row['Cosine_similarity(w_t_reference-last,w_t0)'],row['Word']])\n",
    "    #print(pd.DataFrame(\n",
    "    #    [row['interval-0'],row['Cosine_similarity(w_t_reference-last,w_t0)'],row['Word']]))\n",
    "    time_series_df1 = pd.concat([time_series_df1, pd.DataFrame(\n",
    "        [row['interval-0'],row['Cosine_similarity(w_t_reference-last,w_t0)'],row['Word']]).transpose()])\n",
    "    time_series_df1 = pd.concat([time_series_df1, pd.DataFrame(\n",
    "        [row['interval-1'],row['Cosine_similarity(w_t_reference-last,w_t1)'],row['Word']]).transpose()])\n",
    "    #print(time_series_df1)\n",
    "\n",
    "time_series_df1.columns = ['Time_interval', 'Cosine_sim', 'Word']\n",
    "time_series_df1"
   ]
  },
  {
   "cell_type": "markdown",
   "metadata": {},
   "source": [
    "Print to output file:"
   ]
  },
  {
   "cell_type": "code",
   "execution_count": null,
   "metadata": {},
   "outputs": [],
   "source": [
    "time_series_df1.to_csv(os.path.join(dir_out, 'semantic_change1_'+str(size_interval)+'_allwords.csv'), index=None) "
   ]
  },
  {
   "cell_type": "markdown",
   "metadata": {},
   "source": [
    "List of socio-political terms:"
   ]
  },
  {
   "cell_type": "code",
   "execution_count": null,
   "metadata": {},
   "outputs": [],
   "source": [
    "socio_political_terms = [\"civitas\", \"consilium\", \"consul\", \"dux\", \"gens\", \"hostis\", \"imperator\", \"jus\", \"labor\", \"natio\", \"nobilitas\", \"pontifex\", \"pontificium\", \"populus\", \"potestas\", \"regnum\", \"senatus\", \"sodes\", \"urbs\"]"
   ]
  },
  {
   "cell_type": "code",
   "execution_count": null,
   "metadata": {},
   "outputs": [],
   "source": [
    "time_series_df_socpol = time_series_df[time_series_df['Word'].isin(socio_political_terms)]\n",
    "time_series_df_socpol.to_csv(os.path.join(dir_out, 'semantic_change_'+str(size_interval)+'_socpolwords.csv'), index=None) \n",
    "time_series_df_socpol"
   ]
  },
  {
   "cell_type": "code",
   "execution_count": null,
   "metadata": {},
   "outputs": [],
   "source": [
    "time_series_df1_socpol = time_series_df1[time_series_df1['Word'].isin(socio_political_terms)]\n",
    "time_series_df1_socpol.to_csv(os.path.join(dir_out, 'semantic_change1_'+str(size_interval)+'_socpolwords.csv'), index=None) \n",
    "time_series_df1_socpol"
   ]
  },
  {
   "cell_type": "code",
   "execution_count": null,
   "metadata": {},
   "outputs": [],
   "source": [
    "time_series_df1_socpol.dtypes"
   ]
  },
  {
   "cell_type": "code",
   "execution_count": null,
   "metadata": {},
   "outputs": [],
   "source": [
    "time_series_df1_socpol[\"Time_interval\"] = pd.to_numeric(time_series_df1_socpol[\"Time_interval\"], downcast='integer')"
   ]
  },
  {
   "cell_type": "code",
   "execution_count": null,
   "metadata": {},
   "outputs": [],
   "source": [
    "time_series_df1_socpol[\"Cosine_sim\"] = pd.to_numeric(time_series_df1_socpol[\"Cosine_sim\"], downcast='float')"
   ]
  },
  {
   "cell_type": "code",
   "execution_count": null,
   "metadata": {},
   "outputs": [],
   "source": [
    "for i in range(len(socio_political_terms)):\n",
    "    plt.scatter(time_series_df1_socpol[['Time_interval']].iloc[i], \n",
    "            time_series_df1_socpol[['Cosine_sim']].iloc[i])\n",
    "plt.show()"
   ]
  },
  {
   "cell_type": "code",
   "execution_count": null,
   "metadata": {},
   "outputs": [],
   "source": [
    "import seaborn as sns\n",
    "#sns.lmplot('Time_interval', 'Cosine_sim', data=time_series_df_socpol, hue='Word', fit_reg=False)\n",
    "sns.lineplot(x='Time_interval', y='Cosine_sim', data=time_series_df1_socpol, hue='Word', legend=\"full\")\n",
    "plt.show()"
   ]
  },
  {
   "cell_type": "markdown",
   "metadata": {},
   "source": [
    "## Historiography subcorpus"
   ]
  },
  {
   "cell_type": "markdown",
   "metadata": {},
   "source": [
    "I select by time period before 800CE and historical genre:"
   ]
  },
  {
   "cell_type": "code",
   "execution_count": null,
   "metadata": {},
   "outputs": [],
   "source": [
    "selected_texts = ['LAT0142', 'LAT0241', 'LAT0529', 'LAT0172', 'LAT0123', 'LAT0134', 'LAT0849', 'LAT0148', 'LAT0325', 'LAT0278', 'LAT1040', 'LAT1042', 'LAT0111', 'LAT0054', 'LAT0201', 'LAT0896', 'LAT0959', 'LAT0115', 'LAT0612', 'LAT0776', 'LAT0850', 'LAT0886', 'LAT0121', 'LAT0726', 'LAT0878', 'LAT0768', 'LAT0410', 'LAT0791', 'LAT0196', 'LAT0906', 'LAT0783', 'LAT0909']\n",
    "selected_texts = ['IT-'+f for f in selected_texts]\n",
    "selected_texts"
   ]
  },
  {
   "cell_type": "code",
   "execution_count": null,
   "metadata": {},
   "outputs": [],
   "source": [
    "len(selected_texts)"
   ]
  },
  {
   "cell_type": "code",
   "execution_count": null,
   "metadata": {},
   "outputs": [],
   "source": [
    "#metadata_df_sel = pd.read_csv(os.path.join(dir_in, 'Metadata_selected_corpus.csv'), sep = \",\")\n",
    "#metadata_df_sel = metadata_df_sel[(metadata_df_sel['Selected for our study (1 or 0)'] == 1)\n",
    "#                          & (metadata_df_sel['historical texts'] == 1)]\n",
    "metadata_df_sel  = metadata_df[(metadata_df['id'].isin(selected_texts))]\n",
    "metadata_df_sel.shape"
   ]
  },
  {
   "cell_type": "code",
   "execution_count": null,
   "metadata": {},
   "outputs": [],
   "source": [
    "metadata_df_sel"
   ]
  },
  {
   "cell_type": "markdown",
   "metadata": {},
   "source": [
    "Define size of the time intervals:"
   ]
  },
  {
   "cell_type": "code",
   "execution_count": null,
   "metadata": {},
   "outputs": [],
   "source": [
    "size_interval = 450"
   ]
  },
  {
   "cell_type": "markdown",
   "metadata": {},
   "source": [
    "So there are"
   ]
  },
  {
   "cell_type": "code",
   "execution_count": null,
   "metadata": {},
   "outputs": [],
   "source": [
    "n_intervals = round((last_date-first_date)/size_interval)\n",
    "n_intervals"
   ]
  },
  {
   "cell_type": "markdown",
   "metadata": {},
   "source": [
    "time intervals."
   ]
  },
  {
   "cell_type": "code",
   "execution_count": null,
   "metadata": {},
   "outputs": [],
   "source": [
    "intervals = [None]*(n_intervals+1)\n",
    "for t in range(n_intervals+1):\n",
    "    #print(t)\n",
    "    if t == 0:\n",
    "        intervals[t] = first_date\n",
    "    else:\n",
    "        intervals[t] = intervals[t-1]+size_interval\n",
    "    #print(intervals[t])\n",
    "    \n",
    "print(intervals)"
   ]
  },
  {
   "cell_type": "markdown",
   "metadata": {},
   "source": [
    "Add a column to the metadata_df for the time interval:"
   ]
  },
  {
   "cell_type": "code",
   "execution_count": null,
   "metadata": {},
   "outputs": [],
   "source": [
    "metadata_df_sel['time_interval'] = \"\"\n",
    "for t in range(len(intervals)-1):\n",
    "    #print(t)\n",
    "    #print(range(intervals[t],intervals[t+1]))\n",
    "    metadata_df_sel_t = metadata_df_sel.loc[metadata_df_sel['date'].isin(range(intervals[t],intervals[t+1]))]\n",
    "    #print(metadata_df_sel_t.date)\n",
    "    metadata_df_sel.loc[metadata_df_sel['date'].isin(range(intervals[t],intervals[t+1])),'time_interval'] = intervals[t]\n",
    "    #print(intervals[t])\n",
    "metadata_df_sel"
   ]
  },
  {
   "cell_type": "code",
   "execution_count": null,
   "metadata": {},
   "outputs": [],
   "source": [
    "metadata_df_sel.describe"
   ]
  },
  {
   "cell_type": "markdown",
   "metadata": {},
   "source": [
    "Visualise distribution of time intervals:"
   ]
  },
  {
   "cell_type": "code",
   "execution_count": null,
   "metadata": {},
   "outputs": [],
   "source": [
    "metadata_df0_sel = metadata_df_sel.groupby(['time_interval']).count()\n",
    "metadata_df0_sel = metadata_df0_sel['id']\n",
    "metadata_df0_sel\n",
    "ax = metadata_df0_sel.plot(kind='bar', figsize=(20,16), color=\"indigo\", fontsize=10);\n",
    "#ax.set_alpha(0.5)\n",
    "ax.set_title(\"Number of works per time interval\", fontsize=22)\n",
    "plt.show()"
   ]
  },
  {
   "cell_type": "markdown",
   "metadata": {},
   "source": [
    "There are:"
   ]
  },
  {
   "cell_type": "code",
   "execution_count": null,
   "metadata": {},
   "outputs": [],
   "source": [
    "n_intervals_sel = round((max(metadata_df_sel['time_interval'])-min(metadata_df_sel['time_interval']))/size_interval)\n",
    "n_intervals_sel"
   ]
  },
  {
   "cell_type": "markdown",
   "metadata": {},
   "source": [
    "in the historical subcorpus."
   ]
  },
  {
   "cell_type": "markdown",
   "metadata": {},
   "source": [
    "## Training embeddings for the whole subcorpus"
   ]
  },
  {
   "cell_type": "markdown",
   "metadata": {
    "id": "NkUJ4O9kuiYi"
   },
   "source": [
    "#### Stopwords exclusion and further filtering\n"
   ]
  },
  {
   "cell_type": "markdown",
   "metadata": {},
   "source": [
    "I create a list of lists, containing the tokens of each sentence in the whole corpus:"
   ]
  },
  {
   "cell_type": "code",
   "execution_count": null,
   "metadata": {},
   "outputs": [],
   "source": [
    "corpus_sel = list()\n",
    "files_corpus_sel = metadata_df_sel\n",
    "for index, df_line in files_corpus_sel.iterrows():\n",
    "    #print(\"line:\",df_line['id'], df_line['time_interval'])\n",
    "    sign = \"+\"\n",
    "    #print(df_line['date'])\n",
    "    if df_line['date'] < 0:\n",
    "        sign = \"-\"\n",
    "    #print(\"date:\", convert_dates(sign, abs(df_line['date'])))\n",
    "    file_name = 'lat_'+str(convert_dates(sign, abs(df_line['date'])))+\"_\"+str(df_line['id'])+'.txt'\n",
    "    #print(\"3:\",file_name)\n",
    "    file = open(os.path.join(dir_in, \"preprocessed_\"+lemmas_or_tokens, file_name), 'r')\n",
    "    sentences_this_file = list()\n",
    "    while True:\n",
    "        line = file.readline().strip()\n",
    "        if line != \"\":\n",
    "            #sentences_this_file.append(line.split(\" \"))\n",
    "            #sentences_this_file.append([token for token in line.split(\" \") if token not in punctuation])\n",
    "            corpus_sel.append([token for token in line.split(\" \") if token not in punctuation])\n",
    "        # if line is empty end of file is reached\n",
    "        if not line:\n",
    "            break\n",
    "    file.close()\n",
    "corpus_sel.append(sentences_this_file)"
   ]
  },
  {
   "cell_type": "code",
   "execution_count": null,
   "metadata": {},
   "outputs": [],
   "source": [
    "corpus_sel"
   ]
  },
  {
   "cell_type": "code",
   "execution_count": null,
   "metadata": {},
   "outputs": [],
   "source": [
    "metadata_df_sel"
   ]
  },
  {
   "cell_type": "code",
   "execution_count": null,
   "metadata": {},
   "outputs": [],
   "source": [
    "metadata_df_sel.shape"
   ]
  },
  {
   "cell_type": "code",
   "execution_count": null,
   "metadata": {},
   "outputs": [],
   "source": [
    "metadata_df_sel.describe"
   ]
  },
  {
   "cell_type": "markdown",
   "metadata": {},
   "source": [
    "Train FastText embeddings and, for full reproducibility, limit the model to a single worker thread (workers=1), to eliminate ordering jitter from OS thread scheduling:"
   ]
  },
  {
   "cell_type": "code",
   "execution_count": null,
   "metadata": {},
   "outputs": [],
   "source": [
    "start = time.time()\n",
    "model_sel = FastText(vector_size=100, alpha=0.025, window=5, min_count=50, workers=1, seed=1, hashfxn=hash, max_n=0, \n",
    "                  sentences=corpus_sel)\n",
    "end = time.time()\n",
    "print(\"It has taken\", round(end - start), \"seconds\")"
   ]
  },
  {
   "cell_type": "markdown",
   "metadata": {},
   "source": [
    "Let's see what words are similar to \"dies\":"
   ]
  },
  {
   "cell_type": "code",
   "execution_count": null,
   "metadata": {},
   "outputs": [],
   "source": [
    "model_sel.wv.similar_by_word('dies', 10)"
   ]
  },
  {
   "cell_type": "markdown",
   "metadata": {},
   "source": [
    "## Training embeddings for each time interval"
   ]
  },
  {
   "cell_type": "markdown",
   "metadata": {
    "id": "MPcAmEUzA1if"
   },
   "source": [
    "For each time interval, I read the texts from files and create a list of lists, i.e. a list of sentences:"
   ]
  },
  {
   "cell_type": "code",
   "execution_count": null,
   "metadata": {},
   "outputs": [],
   "source": [
    "intervals_sel = [None]*(n_intervals_sel+1)\n",
    "for t in range(n_intervals_sel+1):\n",
    "    print(t)\n",
    "    if t == 0:\n",
    "        intervals_sel[t] = min(metadata_df_sel['time_interval'])\n",
    "    else:\n",
    "        intervals_sel[t] = intervals_sel[t-1]+size_interval\n",
    "    print(intervals_sel[t])\n",
    "    \n",
    "print(intervals_sel)"
   ]
  },
  {
   "cell_type": "code",
   "execution_count": null,
   "metadata": {},
   "outputs": [],
   "source": [
    "# dictionary that maps a time interval with the list of sentences of texts in that time interval\"\n",
    "time2corpus_sel = dict()\n",
    "\n",
    "# I loop over all time intervals:\n",
    "for t in range(n_intervals_sel+1):\n",
    "    files_corpus_sel_t = metadata_df_sel.loc[metadata_df_sel['time_interval'] == intervals_sel[t]]\n",
    "    print(\"1:\",t, intervals_sel[t], \"\\n\", files_corpus_sel_t, type(files_corpus_t))\n",
    "    corpus_sel_t = list()\n",
    "    for index, df_line in files_corpus_sel_t.iterrows():\n",
    "        print(\"line:\",df_line['id'], df_line['time_interval'])\n",
    "        sign = \"+\"\n",
    "        #print(df_line['date'])\n",
    "        if df_line['date'] < 0:\n",
    "            sign = \"-\"\n",
    "        #print(\"date:\", convert_dates(sign, abs(df_line['date'])))\n",
    "        file_name = 'lat_'+str(convert_dates(sign, abs(df_line['date'])))+\"_\"+str(df_line['id'])+'.txt'\n",
    "        #print(\"3:\",file_name)\n",
    "        file = open(os.path.join(dir_in, \"preprocessed_\"+lemmas_or_tokens, file_name), 'r')\n",
    "        sentences_this_file = list()\n",
    "        while True:\n",
    "            line = file.readline().strip()\n",
    "            if line != \"\":\n",
    "                #sentences_this_file.append(line.split(\" \"))\n",
    "                #sentences_this_file.append([token for token in line.split(\" \") if token not in punctuation])\n",
    "                corpus_sel_t.append([token for token in line.split(\" \") if token not in punctuation])\n",
    "            # if line is empty end of file is reached\n",
    "            if not line:\n",
    "                break\n",
    "        file.close()\n",
    "        #corpus_t.append(sentences_this_file)\n",
    "    #corpus_t1\n",
    "    #print(len(corpus_t1[0]))\n",
    "    time2corpus_sel[t] = corpus_sel_t\n"
   ]
  },
  {
   "cell_type": "code",
   "execution_count": null,
   "metadata": {},
   "outputs": [],
   "source": [
    "time2corpus_sel"
   ]
  },
  {
   "cell_type": "markdown",
   "metadata": {},
   "source": [
    "Let's inspect the corpus for the first time interval:"
   ]
  },
  {
   "cell_type": "code",
   "execution_count": null,
   "metadata": {},
   "outputs": [],
   "source": [
    "time2corpus_sel[0]"
   ]
  },
  {
   "cell_type": "markdown",
   "metadata": {},
   "source": [
    "And the second:"
   ]
  },
  {
   "cell_type": "code",
   "execution_count": null,
   "metadata": {},
   "outputs": [],
   "source": [
    "time2corpus_sel[1]"
   ]
  },
  {
   "cell_type": "markdown",
   "metadata": {},
   "source": [
    "And another one:"
   ]
  },
  {
   "cell_type": "code",
   "execution_count": null,
   "metadata": {},
   "outputs": [],
   "source": [
    "time2corpus_sel[2]"
   ]
  },
  {
   "cell_type": "markdown",
   "metadata": {},
   "source": [
    "Following the findings of Sprugnoli et al. (2019) and Ribary & McGillivray (2020), for each time interval I train a fasttext model:"
   ]
  },
  {
   "cell_type": "code",
   "execution_count": null,
   "metadata": {},
   "outputs": [],
   "source": [
    "len(time2corpus_sel)"
   ]
  },
  {
   "cell_type": "code",
   "execution_count": null,
   "metadata": {},
   "outputs": [],
   "source": [
    "models_sel = list()\n",
    "start = time.time()\n",
    "for t in range(len(time2corpus_sel)):\n",
    "    if len(time2corpus_sel[t])>0:\n",
    "        print(t)\n",
    "        #model = gensim.models.Word2Vec(time2corpus[0][0], min_count=1, vector_size=300, window = 5, sg = 0)\n",
    "        model_sel = FastText(vector_size=100, window=5, min_count=5, workers=1, seed=1,hashfxn=hash, max_n=0)  # instantiate\n",
    "        model_sel.build_vocab(corpus_iterable=time2corpus_sel[t])\n",
    "        model_sel.train(corpus_iterable=time2corpus_sel[t], total_examples=len(time2corpus_sel[t]), epochs=10)  # train\n",
    "        models_sel.append(model_sel)\n",
    "        #model = fasttext.train_unsupervised(time2corpus[0][0], model='skipgram')\n",
    "    else:\n",
    "        models_sel.append(\"\")\n",
    "end = time.time()\n",
    "print(\"It has taken\", round(end - start), \"seconds, or \", round((end - start)/60), \"minutes\")"
   ]
  },
  {
   "cell_type": "markdown",
   "metadata": {},
   "source": [
    "Let's check some models:"
   ]
  },
  {
   "cell_type": "code",
   "execution_count": null,
   "metadata": {},
   "outputs": [],
   "source": [
    "print_vocab(models_sel[0], 20)"
   ]
  },
  {
   "cell_type": "code",
   "execution_count": null,
   "metadata": {},
   "outputs": [],
   "source": [
    "print_vocab(models_sel[2], 20)"
   ]
  },
  {
   "cell_type": "code",
   "execution_count": null,
   "metadata": {},
   "outputs": [],
   "source": [
    "models_sel[0].wv.similar_by_word('dies', 10)"
   ]
  },
  {
   "cell_type": "code",
   "execution_count": null,
   "metadata": {},
   "outputs": [],
   "source": [
    "models_sel[1].wv.similar_by_word('dies', 10)"
   ]
  },
  {
   "cell_type": "code",
   "execution_count": null,
   "metadata": {},
   "outputs": [],
   "source": [
    "models_sel[2].wv.similar_by_word('dies', 10)"
   ]
  },
  {
   "cell_type": "markdown",
   "metadata": {
    "id": "S4rjlshWPPkX"
   },
   "source": [
    "##  Embedding space alignment"
   ]
  },
  {
   "cell_type": "markdown",
   "metadata": {},
   "source": [
    "I align all models:"
   ]
  },
  {
   "cell_type": "code",
   "execution_count": null,
   "metadata": {
    "colab": {
     "base_uri": "https://localhost:8080/"
    },
    "id": "oI3tPmmNRXcU",
    "outputId": "c347bdb8-ad34-4133-fecb-f37416bbcf2f"
   },
   "outputs": [],
   "source": [
    "from functools import reduce\n",
    "#for t in range(len(models)):\n",
    "#    smart_procrustes_align_gensim(models[t], models[0], words=None)\n",
    "for i in range(0,len(models_sel)-1):\n",
    "    reduce(smart_procrustes_align_gensim, [m for m in models_sel if m != ''])\n",
    "    "
   ]
  },
  {
   "cell_type": "markdown",
   "metadata": {
    "id": "EKGD6NZPbxza"
   },
   "source": [
    "Now the models have been aligned and have the same vocabulary:"
   ]
  },
  {
   "cell_type": "code",
   "execution_count": null,
   "metadata": {},
   "outputs": [],
   "source": [
    "for i in range(0,len(models_sel)):\n",
    "    if models_sel[i] != '':\n",
    "        print(i, len(models_sel[i].wv.index_to_key))"
   ]
  },
  {
   "cell_type": "markdown",
   "metadata": {
    "id": "HeSIUxsE8nF7"
   },
   "source": [
    "# Semantic change with cosine similarity"
   ]
  },
  {
   "cell_type": "code",
   "execution_count": null,
   "metadata": {},
   "outputs": [],
   "source": [
    "intervals_sel"
   ]
  },
  {
   "cell_type": "code",
   "execution_count": null,
   "metadata": {},
   "outputs": [],
   "source": [
    "models_sel"
   ]
  },
  {
   "cell_type": "code",
   "execution_count": null,
   "metadata": {},
   "outputs": [],
   "source": [
    "reference_interval_index = find_reference_intervals(\"last\", intervals_sel)\n",
    "reference_interval_index"
   ]
  },
  {
   "cell_type": "code",
   "execution_count": null,
   "metadata": {},
   "outputs": [],
   "source": [
    "models_sel[2].wv[\"sum\"]"
   ]
  },
  {
   "cell_type": "code",
   "execution_count": null,
   "metadata": {},
   "outputs": [],
   "source": [
    "reference_interval_index = find_reference_intervals(\"last\", intervals_sel)\n",
    "reference_interval_index\n",
    "#cosine_similarity(\"sum\", 4, \"last\", models_sel)"
   ]
  },
  {
   "cell_type": "code",
   "execution_count": null,
   "metadata": {},
   "outputs": [],
   "source": [
    "cosine_similarity(\"sum\", 2, \"first\", models_sel, intervals_sel)"
   ]
  },
  {
   "cell_type": "code",
   "execution_count": null,
   "metadata": {},
   "outputs": [],
   "source": [
    "models_sel"
   ]
  },
  {
   "cell_type": "code",
   "execution_count": null,
   "metadata": {},
   "outputs": [],
   "source": [
    "cosine_similarity_dataframe(\"last\", 0, models_sel, intervals_sel)"
   ]
  },
  {
   "cell_type": "code",
   "execution_count": null,
   "metadata": {},
   "outputs": [],
   "source": [
    "cosine_similarity_dataframe(\"first\", 2, models_sel, intervals_sel)"
   ]
  },
  {
   "cell_type": "markdown",
   "metadata": {
    "id": "A7ztnymCHzuk"
   },
   "source": [
    "Visualise the distribution of the semantic similarity scores with a histogram:"
   ]
  },
  {
   "cell_type": "code",
   "execution_count": null,
   "metadata": {
    "colab": {
     "base_uri": "https://localhost:8080/",
     "height": 268
    },
    "id": "fXq_oDpmH21j",
    "outputId": "f7facee9-335c-40a6-d832-98f9bd6266e1"
   },
   "outputs": [],
   "source": [
    "#hist = cosine_similarity_df['Cosine_similarity(w_t0,w_t1)'].hist()\n",
    "# I display the last column of the data frame:\n",
    "hist = cosine_similarity_dataframe(\"first\", 2, models_sel, intervals_sel).iloc[:,-1].hist()"
   ]
  },
  {
   "cell_type": "markdown",
   "metadata": {
    "id": "UoGHlv8M-lje"
   },
   "source": [
    "Now I can store the full time series of the cosine similarity between the embedding of a word in each time interval and the embedding of that same word in the reference interval (set to \"last\"):"
   ]
  },
  {
   "cell_type": "code",
   "execution_count": null,
   "metadata": {},
   "outputs": [],
   "source": [
    "intervals"
   ]
  },
  {
   "cell_type": "code",
   "execution_count": null,
   "metadata": {},
   "outputs": [],
   "source": [
    "reference_step = \"last\"\n",
    "time_series = list()\n",
    "reference_interval_index = find_reference_intervals(reference_step, intervals)\n",
    "time_series_df_sel = pd.DataFrame()\n",
    "#for w in models[reference_interval_index].wv.index_to_key:\n",
    "df = cosine_similarity_dataframe(reference_step, reference_interval_index, models_sel, intervals_sel)\n",
    "time_series_df_sel[df.columns[0]] = df.iloc[:,0]\n",
    "time_series_df_sel[df.columns[1]] = df.iloc[:,1]\n",
    "for i in range(len(models_sel)):\n",
    "    #print(reference_interval_index)\n",
    "    print(\"Interval\", str(intervals_sel[i]), \"with\", str(list(intervals_sel)[reference_interval_index]))\n",
    "    df = cosine_similarity_dataframe(reference_step, i, models_sel, intervals_sel)\n",
    "#    if i == reference_interval_index:\n",
    "#        time_series_df = df\n",
    "#        col_i = \"interval-\"+str(reference_interval_index)\n",
    "#        time_series_df[col_i] = [reference_interval_index for w in models[reference_interval_index].wv.index_to_key]\n",
    "#        col_n = \"neighbours_ref-\"+reference_step\n",
    "#        time_series_df[col_n] = [models[reference_interval_index].wv.similar_by_word(w, 10) for w in models[reference_interval_index].wv.index_to_key]\n",
    "#    else:\n",
    "#        #time_series_df = time_series_df, df.iloc[:,-2:]\n",
    "#        tmp_df = df.iloc[:,-2:]\n",
    "#        #df.iloc[:,-2:].column[0]\n",
    "#        #print(tmp_df.iloc[:,0])\n",
    "#        time_series_df[tmp_df.columns[0]] = tmp_df.iloc[:,0]\n",
    "#        time_series_df[tmp_df.columns[1]] = tmp_df.iloc[:,1]\n",
    "#        col_i = \"interval-\"+str(i)\n",
    "#        time_series_df[col_i] = [i for w in models[reference_interval_index].wv.index_to_key]\n",
    "#        #Finding top 10 nearest neighbours:\n",
    "#        col_n = \"neighbours_t\"+str(i)\n",
    "#        time_series_df[col_n] = [models[i].wv.similar_by_word(w, 10) for w in models[i].wv.index_to_key]\n",
    "    if i != reference_interval_index:\n",
    "        tmp_df = df.iloc[:,-2:]\n",
    "        #df.iloc[:,-2:].column[0]\n",
    "        #print(df.iloc[:,0])\n",
    "        time_series_df_sel[tmp_df.columns[0]] = tmp_df.iloc[:,0]\n",
    "        time_series_df_sel[tmp_df.columns[1]] = tmp_df.iloc[:,1]\n",
    "        col_i = \"interval-\"+str(i)\n",
    "        time_series_df_sel[col_i] = [i for w in models_sel[reference_interval_index].wv.index_to_key]\n",
    "        #Finding top 10 nearest neighbours:\n",
    "        col_n = \"neighbours_t\"+str(i)\n",
    "        time_series_df_sel[col_n] = [models_sel[i].wv.similar_by_word(w, 10) for w in models_sel[i].wv.index_to_key]\n",
    "        #print(time_series_df)\n",
    "    else:\n",
    "        tmp_df = df.iloc[:,-2:]\n",
    "        #df.iloc[:,-2:].column[0]\n",
    "        #print(df.iloc[:,0])\n",
    "        time_series_df_sel[tmp_df.columns[0]] = tmp_df.iloc[:,0]\n",
    "        time_series_df_sel[tmp_df.columns[1]] = tmp_df.iloc[:,1]\n",
    "        col_i = \"interval-\"+str(i)\n",
    "        time_series_df_sel[col_i] = [i for w in models_sel[reference_interval_index].wv.index_to_key]\n",
    "        #Finding top 10 nearest neighbours:\n",
    "        col_n = \"neighbours_t\"+str(i)\n",
    "        time_series_df_sel[col_n] = [models_sel[i].wv.similar_by_word(w, 10) for w in models_sel[i].wv.index_to_key]\n",
    "    \n",
    "time_series_df_sel"
   ]
  },
  {
   "cell_type": "markdown",
   "metadata": {},
   "source": [
    "Print to a file:"
   ]
  },
  {
   "cell_type": "code",
   "execution_count": null,
   "metadata": {},
   "outputs": [],
   "source": [
    "time_series_df_sel.to_csv(os.path.join(dir_out, 'semantic_change_histcorpus_'+str(size_interval)+'_allwords.csv'), index=None)"
   ]
  },
  {
   "cell_type": "code",
   "execution_count": null,
   "metadata": {},
   "outputs": [],
   "source": [
    "px.line(time_series_df_sel[['interval-0', 'Cosine_similarity(w_t_reference-last,w_t0)']], \n",
    "        x = 'interval-0', y = 'Cosine_similarity(w_t_reference-last,w_t0)')"
   ]
  },
  {
   "cell_type": "code",
   "execution_count": null,
   "metadata": {},
   "outputs": [],
   "source": [
    "plt.scatter([0,1], \n",
    "            time_series_df_sel[['Cosine_similarity(w_t_reference-last,w_t0)',\n",
    "                           'Cosine_similarity(w_t_reference-last,w_t1)'\n",
    "                           ]].iloc[0])\n",
    "plt.show()"
   ]
  },
  {
   "cell_type": "markdown",
   "metadata": {},
   "source": [
    "I rearrange the dataframe for visualization:"
   ]
  },
  {
   "cell_type": "code",
   "execution_count": null,
   "metadata": {},
   "outputs": [],
   "source": [
    "time_series_df_sel.columns"
   ]
  },
  {
   "cell_type": "code",
   "execution_count": null,
   "metadata": {},
   "outputs": [],
   "source": [
    "time_series_df_sel"
   ]
  },
  {
   "cell_type": "code",
   "execution_count": null,
   "metadata": {},
   "outputs": [],
   "source": [
    "#time_series_df1 = pd.DataFrame(columns=['Time_interval', 'Cosine_sim', 'Word'])\n",
    "time_series_df1_sel = pd.DataFrame()\n",
    "for index, row in time_series_df_sel.iterrows():\n",
    "    #print(row['interval-0'], row['Cosine_similarity(w_t_reference-last,w_t0)'])\n",
    "    \n",
    "    #temp = pd.DataFrame(\n",
    "    #    {\n",
    "    #        'Time_interval': row['interval-0'],\n",
    "    #        'Cosine_sim': row['Cosine_similarity(w_t_reference-last,w_t0)'],\n",
    "    #        'Word': row['Word']\n",
    "    #    }\n",
    "    #)\n",
    "    #print([row['interval-0'],row['Cosine_similarity(w_t_reference-last,w_t0)'],row['Word']])\n",
    "    #print(pd.DataFrame(\n",
    "    #    [row['interval-0'],row['Cosine_similarity(w_t_reference-last,w_t0)'],row['Word']]))\n",
    "    time_series_df1_sel = pd.concat([time_series_df1_sel, pd.DataFrame(\n",
    "        [row['interval-0'],row['Cosine_similarity(w_t_reference-last,w_t0)'],row['Word']]).transpose()])\n",
    "    time_series_df1_sel = pd.concat([time_series_df1_sel, pd.DataFrame(\n",
    "        [row['interval-1'],row['Cosine_similarity(w_t_reference-last,w_t1)'],row['Word']]).transpose()])\n",
    "    #print(time_series_df1_sel)\n",
    "\n",
    "time_series_df1_sel.columns = ['Time_interval', 'Cosine_sim', 'Word']\n",
    "time_series_df1_sel"
   ]
  },
  {
   "cell_type": "markdown",
   "metadata": {},
   "source": [
    "Print to output file:"
   ]
  },
  {
   "cell_type": "code",
   "execution_count": null,
   "metadata": {},
   "outputs": [],
   "source": [
    "time_series_df1_sel.to_csv(os.path.join(dir_out, 'semantic_change1_histcorpus_'+str(size_interval)+'_allwords.csv'), index=None) "
   ]
  },
  {
   "cell_type": "markdown",
   "metadata": {},
   "source": [
    "List of socio-political terms:"
   ]
  },
  {
   "cell_type": "code",
   "execution_count": null,
   "metadata": {},
   "outputs": [],
   "source": [
    "socio_political_terms = [\"civitas\", \"consilium\", \"consul\", \"dux\", \"gens\", \"hostis\", \"imperator\", \"jus\", \"labor\", \"natio\", \"nobilitas\", \"pontifex\", \"pontificium\", \"populus\", \"potestas\", \"regnum\", \"senatus\", \"sodes\", \"urbs\"]"
   ]
  },
  {
   "cell_type": "code",
   "execution_count": null,
   "metadata": {},
   "outputs": [],
   "source": [
    "time_series_df_socpol_sel = time_series_df_sel[time_series_df_sel['Word'].isin(socio_political_terms)]\n",
    "time_series_df_socpol_sel.to_csv(os.path.join(dir_out, 'semantic_change_histcorpus_'+str(size_interval)+'_socpolwords.csv'), index=None) \n",
    "time_series_df_socpol_sel"
   ]
  },
  {
   "cell_type": "code",
   "execution_count": null,
   "metadata": {},
   "outputs": [],
   "source": [
    "time_series_df1_socpol_sel = time_series_df1_sel[time_series_df1_sel['Word'].isin(socio_political_terms)]\n",
    "time_series_df1_socpol_sel.to_csv(os.path.join(dir_out, 'semantic_change1_histcorpus_'+str(size_interval)+'_socpolwords.csv'), index=None) \n",
    "time_series_df1_socpol_sel"
   ]
  },
  {
   "cell_type": "code",
   "execution_count": null,
   "metadata": {},
   "outputs": [],
   "source": [
    "time_series_df1_socpol_sel.dtypes"
   ]
  },
  {
   "cell_type": "code",
   "execution_count": null,
   "metadata": {},
   "outputs": [],
   "source": [
    "time_series_df1_socpol_sel[\"Time_interval\"] = pd.to_numeric(time_series_df1_socpol_sel[\"Time_interval\"], downcast='integer')"
   ]
  },
  {
   "cell_type": "code",
   "execution_count": null,
   "metadata": {},
   "outputs": [],
   "source": [
    "time_series_df1_socpol_sel[\"Cosine_sim\"] = pd.to_numeric(time_series_df1_socpol_sel[\"Cosine_sim\"], downcast='float')"
   ]
  },
  {
   "cell_type": "code",
   "execution_count": null,
   "metadata": {},
   "outputs": [],
   "source": [
    "for i in range(len(socio_political_terms)):\n",
    "    plt.scatter(time_series_df1_socpol_sel[['Time_interval']].iloc[i], \n",
    "            time_series_df1_socpol_sel[['Cosine_sim']].iloc[i])\n",
    "plt.show()"
   ]
  },
  {
   "cell_type": "code",
   "execution_count": null,
   "metadata": {},
   "outputs": [],
   "source": [
    "import seaborn as sns\n",
    "#sns.lmplot('Time_interval', 'Cosine_sim', data=time_series_df_socpol, hue='Word', fit_reg=False)\n",
    "sns.lineplot(x='Time_interval', y='Cosine_sim', data=time_series_df1_socpol_sel, hue='Word', legend=\"full\")\n",
    "plt.show()"
   ]
  },
  {
   "cell_type": "code",
   "execution_count": null,
   "metadata": {},
   "outputs": [],
   "source": []
  }
 ],
 "metadata": {
  "colab": {
   "collapsed_sections": [],
   "name": "Semantic_change.ipynb",
   "provenance": []
  },
  "kernelspec": {
   "display_name": "Python 3",
   "language": "python",
   "name": "python3"
  },
  "language_info": {
   "codemirror_mode": {
    "name": "ipython",
    "version": 3
   },
   "file_extension": ".py",
   "mimetype": "text/x-python",
   "name": "python",
   "nbconvert_exporter": "python",
   "pygments_lexer": "ipython3",
   "version": "3.8.8"
  }
 },
 "nbformat": 4,
 "nbformat_minor": 4
}
