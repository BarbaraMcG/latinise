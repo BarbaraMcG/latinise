{
 "cells": [
  {
   "cell_type": "markdown",
   "metadata": {
    "id": "B3i1zJ4BQ1pc"
   },
   "source": [
    "# Semantic change in LatinISE\n",
    "\n",
    "\n",
    "Barbara McGillivray"
   ]
  },
  {
   "cell_type": "markdown",
   "metadata": {
    "id": "6NyL32TSUqyA"
   },
   "source": [
    "This notebook contains the code for detecting semantic change in the Latin corpus LatinISe using word embeddings."
   ]
  },
  {
   "cell_type": "markdown",
   "metadata": {
    "id": "5pZcI50Z-0-m"
   },
   "source": [
    "## Initialisation"
   ]
  },
  {
   "cell_type": "markdown",
   "metadata": {
    "id": "s04rDpqBSg-y"
   },
   "source": [
    "I install version 4.0 of gensim, which is needed to train the word2vec models."
   ]
  },
  {
   "cell_type": "code",
   "execution_count": 1,
   "metadata": {
    "colab": {
     "base_uri": "https://localhost:8080/"
    },
    "id": "6eiPamUMSivf",
    "outputId": "f393c82f-95ff-4f08-d739-7a743eced552"
   },
   "outputs": [
    {
     "name": "stdout",
     "output_type": "stream",
     "text": [
      "Requirement already satisfied: gensim==4.0 in /Users/barbaramcgillivray/opt/anaconda3/lib/python3.8/site-packages (4.0.0)\n",
      "Requirement already satisfied: numpy>=1.11.3 in /Users/barbaramcgillivray/opt/anaconda3/lib/python3.8/site-packages (from gensim==4.0) (1.20.1)\n",
      "Requirement already satisfied: smart-open>=1.8.1 in /Users/barbaramcgillivray/opt/anaconda3/lib/python3.8/site-packages (from gensim==4.0) (5.2.1)\n",
      "Requirement already satisfied: scipy>=0.18.1 in /Users/barbaramcgillivray/opt/anaconda3/lib/python3.8/site-packages (from gensim==4.0) (1.6.2)\n"
     ]
    }
   ],
   "source": [
    "!pip install gensim==4.0"
   ]
  },
  {
   "cell_type": "markdown",
   "metadata": {
    "id": "2EnttAvC_7Dg"
   },
   "source": [
    "Import libraries"
   ]
  },
  {
   "cell_type": "code",
   "execution_count": 2,
   "metadata": {
    "colab": {
     "base_uri": "https://localhost:8080/"
    },
    "id": "oCym1_NBADP6",
    "outputId": "f9fa567a-1127-402a-cc62-02469720b97d"
   },
   "outputs": [
    {
     "name": "stderr",
     "output_type": "stream",
     "text": [
      "/Users/barbaramcgillivray/opt/anaconda3/lib/python3.8/site-packages/gensim/similarities/__init__.py:15: UserWarning: The gensim.similarities.levenshtein submodule is disabled, because the optional Levenshtein package <https://pypi.org/project/python-Levenshtein/> is unavailable. Install Levenhstein (e.g. `pip install python-Levenshtein`) to suppress this warning.\n",
      "  warnings.warn(msg)\n"
     ]
    }
   ],
   "source": [
    "import os \n",
    "#from bs4 import BeautifulSoup\n",
    "import csv\n",
    "import numpy as np\n",
    "import pandas as pd\n",
    "#from nltk.tokenize import sent_tokenize, word_tokenize, RegexpTokenizer\n",
    "#from nltk.corpus import stopwords\n",
    "#import nltk\n",
    "#nltk.download('punkt')\n",
    "#nltk.download('stopwords')\n",
    "import gensim\n",
    "from scipy import spatial\n",
    "from sklearn.manifold import TSNE\n",
    "import matplotlib.pyplot as plt\n",
    "import time\n",
    "from sklearn.decomposition import PCA\n",
    "import spacy\n",
    "import re\n",
    "from statistics import mean\n",
    "#from langdetect import detect\n",
    "# to make our plot outputs appear and be stored within the notebook:\n",
    "%matplotlib inline "
   ]
  },
  {
   "cell_type": "markdown",
   "metadata": {},
   "source": [
    "# Parameters"
   ]
  },
  {
   "cell_type": "markdown",
   "metadata": {},
   "source": [
    "I set the parameters of the analysis."
   ]
  },
  {
   "cell_type": "code",
   "execution_count": 3,
   "metadata": {},
   "outputs": [],
   "source": [
    "lemmas_or_tokens = \"tokens\" # this can be \"lemmas\" or \"tokens\""
   ]
  },
  {
   "cell_type": "markdown",
   "metadata": {
    "id": "hAk1QvSdQyOP"
   },
   "source": [
    "## Reading the files"
   ]
  },
  {
   "cell_type": "markdown",
   "metadata": {
    "id": "4w7hFq6SSUAf"
   },
   "source": [
    "I define the name of the folders:"
   ]
  },
  {
   "cell_type": "code",
   "execution_count": 4,
   "metadata": {
    "id": "sof23JqOSV3C"
   },
   "outputs": [
    {
     "data": {
      "text/plain": [
       "\"/Users/barbaramcgillivray/OneDrive - King's College London/Research/2022/Nexus Linguarum WG4 UC4.2/LatinISE\""
      ]
     },
     "execution_count": 4,
     "metadata": {},
     "output_type": "execute_result"
    }
   ],
   "source": [
    "dir_in = os.path.join(\"/Users\", \"barbaramcgillivray\", \"OneDrive - King's College London\", \"Research\", \"2022\", \"Nexus Linguarum WG4 UC4.2\",  \"LatinISE\")\n",
    "dir_in"
   ]
  },
  {
   "cell_type": "markdown",
   "metadata": {
    "id": "4O5Io99ySN4W"
   },
   "source": [
    "I define the list of all files:"
   ]
  },
  {
   "cell_type": "code",
   "execution_count": 7,
   "metadata": {
    "id": "-g1Ld6VxRWik"
   },
   "outputs": [],
   "source": [
    "files = os.listdir(os.path.join(dir_in, \"preprocessed_\"+lemmas_or_tokens))"
   ]
  },
  {
   "cell_type": "markdown",
   "metadata": {
    "id": "VOLUEyREC1XF"
   },
   "source": [
    "How many files are in the folder?\n"
   ]
  },
  {
   "cell_type": "code",
   "execution_count": 8,
   "metadata": {
    "colab": {
     "base_uri": "https://localhost:8080/"
    },
    "id": "44-n5HICDGRm",
    "outputId": "2a1bbc46-1ad9-424e-eced-690dbfd0cc5f"
   },
   "outputs": [
    {
     "data": {
      "text/plain": [
       "1146"
      ]
     },
     "execution_count": 8,
     "metadata": {},
     "output_type": "execute_result"
    }
   ],
   "source": [
    "len(files)"
   ]
  },
  {
   "cell_type": "markdown",
   "metadata": {
    "id": "_F4SYzZKBiF8"
   },
   "source": [
    "We only want IntraText files:"
   ]
  },
  {
   "cell_type": "code",
   "execution_count": 10,
   "metadata": {
    "colab": {
     "base_uri": "https://localhost:8080/"
    },
    "id": "yc0MF7UGBkEi",
    "outputId": "5a311754-8ef6-472e-a24b-72b75b77f705"
   },
   "outputs": [
    {
     "data": {
      "text/plain": [
       "553"
      ]
     },
     "execution_count": 10,
     "metadata": {},
     "output_type": "execute_result"
    }
   ],
   "source": [
    "files = [f for f in files[:] if \"IT\" in f]\n",
    "len(files)"
   ]
  },
  {
   "cell_type": "markdown",
   "metadata": {
    "id": "Sx4Y8R_DaHTV"
   },
   "source": [
    "I read the metadata file:"
   ]
  },
  {
   "cell_type": "code",
   "execution_count": 11,
   "metadata": {
    "id": "1CTee5CAXIZZ"
   },
   "outputs": [],
   "source": [
    "metadata_df = pd.read_csv(os.path.join(dir_in, 'latinise_metadata.csv'), sep = \",\")\n",
    "metadata_df = metadata_df[metadata_df['id'].str.startswith(\"IT\")]"
   ]
  },
  {
   "cell_type": "code",
   "execution_count": 12,
   "metadata": {
    "colab": {
     "base_uri": "https://localhost:8080/"
    },
    "id": "nhZpiNQS4-e-",
    "outputId": "076277dd-fd2a-4d8a-fbd2-cfc27ee88c9d"
   },
   "outputs": [
    {
     "data": {
      "text/plain": [
       "(670, 5)"
      ]
     },
     "execution_count": 12,
     "metadata": {},
     "output_type": "execute_result"
    }
   ],
   "source": [
    "metadata_df.shape"
   ]
  },
  {
   "cell_type": "code",
   "execution_count": 13,
   "metadata": {},
   "outputs": [
    {
     "data": {
      "text/plain": [
       "Index(['id', 'title', 'creator', 'date', 'type'], dtype='object')"
      ]
     },
     "execution_count": 13,
     "metadata": {},
     "output_type": "execute_result"
    }
   ],
   "source": [
    "metadata_df.columns"
   ]
  },
  {
   "cell_type": "code",
   "execution_count": 14,
   "metadata": {},
   "outputs": [
    {
     "data": {
      "text/plain": [
       "<bound method NDFrame.describe of 18      382\n",
       "19       -9\n",
       "20      524\n",
       "21     1254\n",
       "22     1254\n",
       "       ... \n",
       "683     116\n",
       "684     116\n",
       "685     116\n",
       "686     116\n",
       "687     533\n",
       "Name: date, Length: 670, dtype: int64>"
      ]
     },
     "execution_count": 14,
     "metadata": {},
     "output_type": "execute_result"
    }
   ],
   "source": [
    "metadata_df['date'].describe"
   ]
  },
  {
   "cell_type": "code",
   "execution_count": 15,
   "metadata": {},
   "outputs": [
    {
     "data": {
      "text/plain": [
       "<bound method NDFrame.head of              id                          title  \\\n",
       "18   IT-LAT0001                        Vulgata   \n",
       "19   IT-LAT0537                   Ars amatoria   \n",
       "20   IT-LAT0011            S. Benedicti Regula   \n",
       "21   IT-LAT0012   In psalmis Davidis expositio   \n",
       "22   IT-LAT0014                Adoro te devote   \n",
       "..          ...                            ...   \n",
       "683  IT-LAT0534  De origine et situ Germanorum   \n",
       "684  IT-LAT0534        De vita Iulii Agricolae   \n",
       "685  IT-LAT0534         Dialogus de oratoribus   \n",
       "686  IT-LAT0534                      Historiae   \n",
       "687  IT-LAT0202                  Institutiones   \n",
       "\n",
       "                                               creator  date    type  \n",
       "18                                          Hieronymus   382  poetry  \n",
       "19                               Ovidius Naso, Publius    -9  poetry  \n",
       "20                                Benedictus Nursianus   524   prose  \n",
       "21                             Thomas Aquinas: Sanctus  1254   prose  \n",
       "22                             Thomas Aquinas: Sanctus  1254  poetry  \n",
       "..                                                 ...   ...     ...  \n",
       "683                 Tacitus, Publius (Gaius) Cornelius   116   prose  \n",
       "684                 Tacitus, Publius (Gaius) Cornelius   116   prose  \n",
       "685                 Tacitus, Publius (Gaius) Cornelius   116   prose  \n",
       "686                 Tacitus, Publius (Gaius) Cornelius   116   prose  \n",
       "687  Iustinianus, Caesar Flavius (Imperator Iustini...   533   prose  \n",
       "\n",
       "[670 rows x 5 columns]>"
      ]
     },
     "execution_count": 15,
     "metadata": {},
     "output_type": "execute_result"
    }
   ],
   "source": [
    "metadata_df.head"
   ]
  },
  {
   "cell_type": "markdown",
   "metadata": {
    "id": "oXZIYRhGYgHk"
   },
   "source": [
    "Number of works per year:"
   ]
  },
  {
   "cell_type": "code",
   "execution_count": 16,
   "metadata": {
    "colab": {
     "base_uri": "https://localhost:8080/"
    },
    "id": "rNyNLraB-imV",
    "outputId": "6fdd9486-2f12-4880-d566-393957afa2ab"
   },
   "outputs": [
    {
     "data": {
      "text/plain": [
       "date\n",
       "-450     1\n",
       "-229     1\n",
       "-199     3\n",
       "-185     1\n",
       "-149     2\n",
       "        ..\n",
       " 2001    4\n",
       " 2002    2\n",
       " 2003    1\n",
       " 2004    1\n",
       " 2005    1\n",
       "Name: id, Length: 263, dtype: int64"
      ]
     },
     "execution_count": 16,
     "metadata": {},
     "output_type": "execute_result"
    }
   ],
   "source": [
    "metadata_df0 = metadata_df.groupby(['date']).count()\n",
    "metadata_df0 = metadata_df0['id']\n",
    "metadata_df0"
   ]
  },
  {
   "cell_type": "code",
   "execution_count": 17,
   "metadata": {
    "colab": {
     "base_uri": "https://localhost:8080/",
     "height": 428
    },
    "id": "BGdacw4X-9nw",
    "outputId": "faa160f2-1800-41e6-8113-ea200ca0fc29"
   },
   "outputs": [
    {
     "data": {
      "image/png": "[encoded data removed]",
      "text/plain": [
       "<Figure size 1440x1152 with 1 Axes>"
      ]
     },
     "metadata": {
      "needs_background": "light"
     },
     "output_type": "display_data"
    }
   ],
   "source": [
    "ax = metadata_df0.plot(kind='bar', figsize=(20,16), color=\"indigo\", fontsize=10);\n",
    "#ax.set_alpha(0.5)\n",
    "ax.set_title(\"Number of works per year\", fontsize=22)\n",
    "plt.show()"
   ]
  },
  {
   "cell_type": "markdown",
   "metadata": {
    "id": "NkUJ4O9kuiYi"
   },
   "source": [
    "#### Stopwords exclusion and further filtering\n",
    "TO BE DONE"
   ]
  },
  {
   "cell_type": "markdown",
   "metadata": {
    "id": "-RVdJPB8877F"
   },
   "source": [
    "## Train word embeddings for each time period\n"
   ]
  },
  {
   "cell_type": "markdown",
   "metadata": {},
   "source": [
    "Find the first and last year in the dataset:"
   ]
  },
  {
   "cell_type": "code",
   "execution_count": 18,
   "metadata": {
    "colab": {
     "base_uri": "https://localhost:8080/"
    },
    "id": "XAJicX9P2-38",
    "outputId": "02845dc5-194d-4af0-e0a4-704e3848421e"
   },
   "outputs": [
    {
     "name": "stdout",
     "output_type": "stream",
     "text": [
      "-450\n",
      "2005\n"
     ]
    }
   ],
   "source": [
    "first_date = min(metadata_df.date)\n",
    "last_date = max(metadata_df.date)\n",
    "print(first_date)\n",
    "print(last_date)"
   ]
  },
  {
   "cell_type": "markdown",
   "metadata": {},
   "source": [
    "Define size of the time intervals:"
   ]
  },
  {
   "cell_type": "code",
   "execution_count": 19,
   "metadata": {},
   "outputs": [],
   "source": [
    "size_interval = 100"
   ]
  },
  {
   "cell_type": "markdown",
   "metadata": {},
   "source": [
    "So there are"
   ]
  },
  {
   "cell_type": "code",
   "execution_count": 20,
   "metadata": {},
   "outputs": [
    {
     "data": {
      "text/plain": [
       "25"
      ]
     },
     "execution_count": 20,
     "metadata": {},
     "output_type": "execute_result"
    }
   ],
   "source": [
    "n_intervals = round((last_date-first_date)/size_interval)\n",
    "n_intervals"
   ]
  },
  {
   "cell_type": "markdown",
   "metadata": {},
   "source": [
    "time intervals."
   ]
  },
  {
   "cell_type": "markdown",
   "metadata": {
    "id": "bUW2Qo0e8rLF"
   },
   "source": [
    "Define the time periods and split the corpus:"
   ]
  },
  {
   "cell_type": "code",
   "execution_count": 21,
   "metadata": {},
   "outputs": [
    {
     "name": "stdout",
     "output_type": "stream",
     "text": [
      "[-450, -350, -250, -150, -50, 50, 150, 250, 350, 450, 550, 650, 750, 850, 950, 1050, 1150, 1250, 1350, 1450, 1550, 1650, 1750, 1850, 1950, 2050]\n"
     ]
    }
   ],
   "source": [
    "intervals = [None]*(n_intervals+1)\n",
    "for t in range(n_intervals+1):\n",
    "    #print(t)\n",
    "    if t == 0:\n",
    "        intervals[t] = first_date\n",
    "    else:\n",
    "        intervals[t] = intervals[t-1]+size_interval\n",
    "    #print(intervals[t])\n",
    "    \n",
    "print(intervals)"
   ]
  },
  {
   "cell_type": "markdown",
   "metadata": {},
   "source": [
    "Add a column to the metadata_df for the time interval:"
   ]
  },
  {
   "cell_type": "code",
   "execution_count": 22,
   "metadata": {},
   "outputs": [
    {
     "name": "stdout",
     "output_type": "stream",
     "text": [
      "0\n",
      "range(-450, -350)\n",
      "169   -450\n",
      "Name: date, dtype: int64\n",
      "1\n",
      "range(-350, -250)\n",
      "Series([], Name: date, dtype: int64)\n",
      "2\n",
      "range(-250, -150)\n",
      "137   -199\n",
      "219   -199\n",
      "232   -199\n",
      "605   -185\n",
      "649   -229\n",
      "Name: date, dtype: int64\n",
      "3\n",
      "range(-150, -50)\n",
      "57     -80\n",
      "58     -79\n",
      "59     -61\n",
      "60     -51\n",
      "79     -75\n",
      "80     -65\n",
      "81     -62\n",
      "82     -62\n",
      "84     -58\n",
      "88     -55\n",
      "89     -55\n",
      "90     -55\n",
      "91     -53\n",
      "92     -54\n",
      "127    -59\n",
      "129    -55\n",
      "130    -84\n",
      "141    -89\n",
      "154    -51\n",
      "213    -91\n",
      "215   -149\n",
      "223    -79\n",
      "322    -51\n",
      "635   -149\n",
      "638   -107\n",
      "Name: date, dtype: int64\n",
      "4\n",
      "range(-50, 50)\n",
      "19     -9\n",
      "34    -49\n",
      "38     49\n",
      "39    -45\n",
      "42    -49\n",
      "48     49\n",
      "50      0\n",
      "54     40\n",
      "61    -43\n",
      "62    -43\n",
      "64    -43\n",
      "65      0\n",
      "67    -49\n",
      "70     43\n",
      "73     41\n",
      "76     -2\n",
      "83      0\n",
      "93    -45\n",
      "94    -45\n",
      "95    -44\n",
      "97     -1\n",
      "98     29\n",
      "103   -43\n",
      "110   -45\n",
      "111   -45\n",
      "112   -45\n",
      "113   -45\n",
      "114     0\n",
      "115   -45\n",
      "116   -45\n",
      "119   -45\n",
      "121   -45\n",
      "124   -45\n",
      "125   -45\n",
      "126   -45\n",
      "128   -45\n",
      "131   -45\n",
      "133   -45\n",
      "135   -45\n",
      "142   -49\n",
      "143   -49\n",
      "151   -47\n",
      "152   -44\n",
      "164   -49\n",
      "166    13\n",
      "168   -49\n",
      "171   -45\n",
      "172   -45\n",
      "181   -44\n",
      "217   -49\n",
      "218     1\n",
      "221    30\n",
      "225   -49\n",
      "535   -49\n",
      "555    30\n",
      "587   -45\n",
      "607   -44\n",
      "608   -44\n",
      "642   -37\n",
      "643   -37\n",
      "Name: date, dtype: int64\n",
      "5\n",
      "range(50, 150)\n",
      "40      50\n",
      "41     121\n",
      "46      50\n",
      "47      62\n",
      "49      63\n",
      "51      62\n",
      "52      58\n",
      "68      65\n",
      "69     100\n",
      "71      50\n",
      "77     113\n",
      "100     50\n",
      "101     50\n",
      "132     54\n",
      "134     62\n",
      "138     65\n",
      "140     50\n",
      "159     50\n",
      "160     50\n",
      "182     50\n",
      "184     91\n",
      "190    100\n",
      "191    100\n",
      "192    100\n",
      "193    100\n",
      "194    100\n",
      "195    100\n",
      "196    100\n",
      "197    100\n",
      "198    100\n",
      "202     50\n",
      "245     50\n",
      "321    116\n",
      "339     50\n",
      "362     50\n",
      "399     50\n",
      "446    113\n",
      "483    100\n",
      "542     50\n",
      "599     67\n",
      "683    116\n",
      "684    116\n",
      "685    116\n",
      "686    116\n",
      "Name: date, dtype: int64\n",
      "6\n",
      "range(150, 250)\n",
      "37     158\n",
      "43     199\n",
      "45     197\n",
      "146    197\n",
      "147    198\n",
      "153    198\n",
      "161    150\n",
      "199    205\n",
      "205    150\n",
      "233    150\n",
      "234    150\n",
      "260    197\n",
      "274    200\n",
      "376    210\n",
      "452    210\n",
      "453    213\n",
      "454    198\n",
      "457    205\n",
      "458    210\n",
      "459    213\n",
      "460    198\n",
      "461    198\n",
      "464    213\n",
      "487    213\n",
      "581    150\n",
      "Name: date, dtype: int64\n",
      "7\n",
      "range(250, 350)\n",
      "75     250\n",
      "120    250\n",
      "122    300\n",
      "123    250\n",
      "158    300\n",
      "162    318\n",
      "200    300\n",
      "237    250\n",
      "377    250\n",
      "388    250\n",
      "426    250\n",
      "532    250\n",
      "540    250\n",
      "546    300\n",
      "557    330\n",
      "561    260\n",
      "562    260\n",
      "563    260\n",
      "579    250\n",
      "580    250\n",
      "611    250\n",
      "Name: date, dtype: int64\n",
      "8\n",
      "range(350, 450)\n",
      "18     382\n",
      "23     399\n",
      "24     391\n",
      "44     387\n",
      "53     385\n",
      "      ... \n",
      "678    382\n",
      "679    382\n",
      "680    382\n",
      "681    382\n",
      "682    382\n",
      "Name: date, Length: 131, dtype: int64\n",
      "9\n",
      "range(450, 550)\n",
      "20     524\n",
      "148    540\n",
      "149    535\n",
      "150    535\n",
      "185    450\n",
      "186    450\n",
      "187    450\n",
      "238    450\n",
      "378    450\n",
      "381    450\n",
      "541    531\n",
      "570    450\n",
      "582    502\n",
      "645    450\n",
      "687    533\n",
      "Name: date, dtype: int64\n",
      "10\n",
      "range(550, 650)\n",
      "118    550\n",
      "144    562\n",
      "173    550\n",
      "226    550\n",
      "228    550\n",
      "229    550\n",
      "230    550\n",
      "235    550\n",
      "239    550\n",
      "247    550\n",
      "248    550\n",
      "249    550\n",
      "250    550\n",
      "264    550\n",
      "266    550\n",
      "281    562\n",
      "455    550\n",
      "482    550\n",
      "490    550\n",
      "548    550\n",
      "572    550\n",
      "574    598\n",
      "575    598\n",
      "609    598\n",
      "634    550\n",
      "636    550\n",
      "Name: date, dtype: int64\n",
      "11\n",
      "range(650, 750)\n",
      "240    704\n",
      "241    704\n",
      "242    704\n",
      "243    704\n",
      "244    721\n",
      "484    650\n",
      "534    650\n",
      "586    731\n",
      "Name: date, dtype: int64\n",
      "12\n",
      "range(750, 850)\n",
      "102    800\n",
      "104    800\n",
      "105    800\n",
      "106    800\n",
      "107    800\n",
      "108    800\n",
      "109    800\n",
      "189    792\n",
      "203    759\n",
      "204    759\n",
      "224    818\n",
      "270    800\n",
      "283    775\n",
      "287    838\n",
      "293    833\n",
      "558    841\n",
      "573    770\n",
      "577    800\n",
      "601    833\n",
      "Name: date, dtype: int64\n",
      "13\n",
      "range(850, 950)\n",
      "269    850\n",
      "275    909\n",
      "475    850\n",
      "481    871\n",
      "491    850\n",
      "559    907\n",
      "585    850\n",
      "Name: date, dtype: int64\n",
      "14\n",
      "range(950, 1050)\n",
      "268     950\n",
      "384     950\n",
      "449    1000\n",
      "450     950\n",
      "485     950\n",
      "628     950\n",
      "Name: date, dtype: int64\n",
      "15\n",
      "range(1050, 1150)\n",
      "246    1110\n",
      "271    1141\n",
      "276    1098\n",
      "277    1096\n",
      "280    1050\n",
      "290    1098\n",
      "298    1125\n",
      "316    1118\n",
      "354    1050\n",
      "358    1065\n",
      "370    1050\n",
      "375    1050\n",
      "386    1088\n",
      "425    1112\n",
      "433    1073\n",
      "465    1100\n",
      "480    1142\n",
      "507    1148\n",
      "566    1078\n",
      "569    1136\n",
      "576    1112\n",
      "578    1073\n",
      "612    1110\n",
      "613    1110\n",
      "614    1110\n",
      "615    1110\n",
      "616    1110\n",
      "617    1110\n",
      "618    1110\n",
      "619    1110\n",
      "620    1110\n",
      "621    1110\n",
      "622    1110\n",
      "623    1110\n",
      "624    1067\n",
      "625    1110\n",
      "626    1110\n",
      "Name: date, dtype: int64\n",
      "16\n",
      "range(1150, 1250)\n",
      "25     1224\n",
      "26     1150\n",
      "273    1242\n",
      "278    1150\n",
      "289    1200\n",
      "       ... \n",
      "550    1150\n",
      "556    1235\n",
      "567    1157\n",
      "571    1218\n",
      "583    1247\n",
      "Name: date, Length: 61, dtype: int64\n",
      "17\n",
      "range(1250, 1350)\n",
      "21     1254\n",
      "22     1254\n",
      "31     1260\n",
      "32     1250\n",
      "167    1254\n",
      "174    1312\n",
      "175    1278\n",
      "253    1319\n",
      "254    1293\n",
      "255    1320\n",
      "256    1310\n",
      "257    1304\n",
      "292    1300\n",
      "385    1250\n",
      "434    1289\n",
      "435    1323\n",
      "436    1324\n",
      "444    1254\n",
      "506    1316\n",
      "517    1250\n",
      "518    1250\n",
      "520    1250\n",
      "523    1250\n",
      "530    1250\n",
      "568    1254\n",
      "602    1337\n",
      "603    1339\n",
      "610    1250\n",
      "Name: date, dtype: int64\n",
      "18\n",
      "range(1350, 1450)\n",
      "145    1428\n",
      "165    1350\n",
      "252    1435\n",
      "262    1438\n",
      "263    1438\n",
      "265    1438\n",
      "288    1410\n",
      "344    1360\n",
      "352    1445\n",
      "414    1350\n",
      "415    1350\n",
      "509    1350\n",
      "595    1434\n",
      "596    1434\n",
      "597    1434\n",
      "604    1355\n",
      "606    1397\n",
      "Name: date, dtype: int64\n",
      "19\n",
      "range(1450, 1550)\n",
      "28     1517\n",
      "29     1547\n",
      "30     1530\n",
      "214    1450\n",
      "282    1492\n",
      "284    1526\n",
      "326    1545\n",
      "327    1524\n",
      "335    1546\n",
      "336    1519\n",
      "337    1516\n",
      "338    1506\n",
      "345    1530\n",
      "346    1517\n",
      "350    1478\n",
      "351    1486\n",
      "360    1494\n",
      "387    1492\n",
      "405    1483\n",
      "410    1450\n",
      "411    1450\n",
      "413    1494\n",
      "427    1504\n",
      "428    1511\n",
      "430    1500\n",
      "437    1482\n",
      "552    1486\n",
      "588    1501\n",
      "589    1501\n",
      "590    1501\n",
      "592    1475\n",
      "593    1501\n",
      "598    1528\n",
      "644    1501\n",
      "646    1483\n",
      "Name: date, dtype: int64\n",
      "20\n",
      "range(1550, 1650)\n",
      "272    1550\n",
      "285    1550\n",
      "361    1550\n",
      "363    1632\n",
      "404    1550\n",
      "406    1627\n",
      "407    1550\n",
      "417    1593\n",
      "418    1593\n",
      "431    1595\n",
      "442    1600\n",
      "508    1570\n",
      "515    1588\n",
      "539    1550\n",
      "547    1550\n",
      "560    1610\n",
      "591    1603\n",
      "594    1568\n",
      "637    1550\n",
      "639    1621\n",
      "640    1614\n",
      "647    1550\n",
      "650    1555\n",
      "Name: date, dtype: int64\n",
      "21\n",
      "range(1650, 1750)\n",
      "364    1668\n",
      "368    1707\n",
      "391    1667\n",
      "392    1695\n",
      "393    1695\n",
      "394    1695\n",
      "395    1695\n",
      "396    1695\n",
      "397    1695\n",
      "398    1695\n",
      "401    1650\n",
      "403    1650\n",
      "412    1650\n",
      "416    1650\n",
      "538    1650\n",
      "564    1699\n",
      "565    1741\n",
      "600    1708\n",
      "641    1685\n",
      "651    1684\n",
      "652    1684\n",
      "Name: date, dtype: int64\n",
      "22\n",
      "range(1750, 1850)\n",
      "279    1766\n",
      "343    1820\n",
      "349    1815\n",
      "353    1750\n",
      "440    1795\n",
      "441    1810\n",
      "443    1767\n",
      "473    1781\n",
      "488    1760\n",
      "489    1779\n",
      "554    1792\n",
      "Name: date, dtype: int64\n",
      "23\n",
      "range(1850, 1950)\n",
      "355    1868\n",
      "356    1868\n",
      "357    1869\n",
      "432    1872\n",
      "438    1858\n",
      "505    1917\n",
      "516    1909\n",
      "629    1897\n",
      "630    1902\n",
      "631    1891\n",
      "632    1892\n",
      "633    1892\n",
      "Name: date, dtype: int64\n",
      "24\n",
      "range(1950, 2050)\n",
      "27     2000\n",
      "33     1998\n",
      "35     2001\n",
      "36     1992\n",
      "220    1998\n",
      "251    2001\n",
      "258    2002\n",
      "259    2001\n",
      "261    1994\n",
      "267    1998\n",
      "323    2002\n",
      "347    1998\n",
      "348    1998\n",
      "408    1988\n",
      "409    1999\n",
      "429    1979\n",
      "462    1998\n",
      "463    1999\n",
      "466    1990\n",
      "467    1978\n",
      "468    1975\n",
      "469    1975\n",
      "470    2003\n",
      "471    1978\n",
      "474    1957\n",
      "486    1998\n",
      "500    1997\n",
      "511    1968\n",
      "521    2001\n",
      "522    1980\n",
      "525    2004\n",
      "526    2005\n",
      "Name: date, dtype: int64\n"
     ]
    },
    {
     "data": {
      "text/html": [
       "<div>\n",
       "<style scoped>\n",
       "    .dataframe tbody tr th:only-of-type {\n",
       "        vertical-align: middle;\n",
       "    }\n",
       "\n",
       "    .dataframe tbody tr th {\n",
       "        vertical-align: top;\n",
       "    }\n",
       "\n",
       "    .dataframe thead th {\n",
       "        text-align: right;\n",
       "    }\n",
       "</style>\n",
       "<table border=\"1\" class=\"dataframe\">\n",
       "  <thead>\n",
       "    <tr style=\"text-align: right;\">\n",
       "      <th></th>\n",
       "      <th>id</th>\n",
       "      <th>title</th>\n",
       "      <th>creator</th>\n",
       "      <th>date</th>\n",
       "      <th>type</th>\n",
       "      <th>time_interval</th>\n",
       "    </tr>\n",
       "  </thead>\n",
       "  <tbody>\n",
       "    <tr>\n",
       "      <th>18</th>\n",
       "      <td>IT-LAT0001</td>\n",
       "      <td>Vulgata</td>\n",
       "      <td>Hieronymus</td>\n",
       "      <td>382</td>\n",
       "      <td>poetry</td>\n",
       "      <td>350</td>\n",
       "    </tr>\n",
       "    <tr>\n",
       "      <th>19</th>\n",
       "      <td>IT-LAT0537</td>\n",
       "      <td>Ars amatoria</td>\n",
       "      <td>Ovidius Naso, Publius</td>\n",
       "      <td>-9</td>\n",
       "      <td>poetry</td>\n",
       "      <td>-50</td>\n",
       "    </tr>\n",
       "    <tr>\n",
       "      <th>20</th>\n",
       "      <td>IT-LAT0011</td>\n",
       "      <td>S. Benedicti Regula</td>\n",
       "      <td>Benedictus Nursianus</td>\n",
       "      <td>524</td>\n",
       "      <td>prose</td>\n",
       "      <td>450</td>\n",
       "    </tr>\n",
       "    <tr>\n",
       "      <th>21</th>\n",
       "      <td>IT-LAT0012</td>\n",
       "      <td>In psalmis Davidis expositio</td>\n",
       "      <td>Thomas Aquinas: Sanctus</td>\n",
       "      <td>1254</td>\n",
       "      <td>prose</td>\n",
       "      <td>1250</td>\n",
       "    </tr>\n",
       "    <tr>\n",
       "      <th>22</th>\n",
       "      <td>IT-LAT0014</td>\n",
       "      <td>Adoro te devote</td>\n",
       "      <td>Thomas Aquinas: Sanctus</td>\n",
       "      <td>1254</td>\n",
       "      <td>poetry</td>\n",
       "      <td>1250</td>\n",
       "    </tr>\n",
       "    <tr>\n",
       "      <th>...</th>\n",
       "      <td>...</td>\n",
       "      <td>...</td>\n",
       "      <td>...</td>\n",
       "      <td>...</td>\n",
       "      <td>...</td>\n",
       "      <td>...</td>\n",
       "    </tr>\n",
       "    <tr>\n",
       "      <th>683</th>\n",
       "      <td>IT-LAT0534</td>\n",
       "      <td>De origine et situ Germanorum</td>\n",
       "      <td>Tacitus, Publius (Gaius) Cornelius</td>\n",
       "      <td>116</td>\n",
       "      <td>prose</td>\n",
       "      <td>50</td>\n",
       "    </tr>\n",
       "    <tr>\n",
       "      <th>684</th>\n",
       "      <td>IT-LAT0534</td>\n",
       "      <td>De vita Iulii Agricolae</td>\n",
       "      <td>Tacitus, Publius (Gaius) Cornelius</td>\n",
       "      <td>116</td>\n",
       "      <td>prose</td>\n",
       "      <td>50</td>\n",
       "    </tr>\n",
       "    <tr>\n",
       "      <th>685</th>\n",
       "      <td>IT-LAT0534</td>\n",
       "      <td>Dialogus de oratoribus</td>\n",
       "      <td>Tacitus, Publius (Gaius) Cornelius</td>\n",
       "      <td>116</td>\n",
       "      <td>prose</td>\n",
       "      <td>50</td>\n",
       "    </tr>\n",
       "    <tr>\n",
       "      <th>686</th>\n",
       "      <td>IT-LAT0534</td>\n",
       "      <td>Historiae</td>\n",
       "      <td>Tacitus, Publius (Gaius) Cornelius</td>\n",
       "      <td>116</td>\n",
       "      <td>prose</td>\n",
       "      <td>50</td>\n",
       "    </tr>\n",
       "    <tr>\n",
       "      <th>687</th>\n",
       "      <td>IT-LAT0202</td>\n",
       "      <td>Institutiones</td>\n",
       "      <td>Iustinianus, Caesar Flavius (Imperator Iustini...</td>\n",
       "      <td>533</td>\n",
       "      <td>prose</td>\n",
       "      <td>450</td>\n",
       "    </tr>\n",
       "  </tbody>\n",
       "</table>\n",
       "<p>670 rows × 6 columns</p>\n",
       "</div>"
      ],
      "text/plain": [
       "             id                          title  \\\n",
       "18   IT-LAT0001                        Vulgata   \n",
       "19   IT-LAT0537                   Ars amatoria   \n",
       "20   IT-LAT0011            S. Benedicti Regula   \n",
       "21   IT-LAT0012   In psalmis Davidis expositio   \n",
       "22   IT-LAT0014                Adoro te devote   \n",
       "..          ...                            ...   \n",
       "683  IT-LAT0534  De origine et situ Germanorum   \n",
       "684  IT-LAT0534        De vita Iulii Agricolae   \n",
       "685  IT-LAT0534         Dialogus de oratoribus   \n",
       "686  IT-LAT0534                      Historiae   \n",
       "687  IT-LAT0202                  Institutiones   \n",
       "\n",
       "                                               creator  date    type  \\\n",
       "18                                          Hieronymus   382  poetry   \n",
       "19                               Ovidius Naso, Publius    -9  poetry   \n",
       "20                                Benedictus Nursianus   524   prose   \n",
       "21                             Thomas Aquinas: Sanctus  1254   prose   \n",
       "22                             Thomas Aquinas: Sanctus  1254  poetry   \n",
       "..                                                 ...   ...     ...   \n",
       "683                 Tacitus, Publius (Gaius) Cornelius   116   prose   \n",
       "684                 Tacitus, Publius (Gaius) Cornelius   116   prose   \n",
       "685                 Tacitus, Publius (Gaius) Cornelius   116   prose   \n",
       "686                 Tacitus, Publius (Gaius) Cornelius   116   prose   \n",
       "687  Iustinianus, Caesar Flavius (Imperator Iustini...   533   prose   \n",
       "\n",
       "    time_interval  \n",
       "18            350  \n",
       "19            -50  \n",
       "20            450  \n",
       "21           1250  \n",
       "22           1250  \n",
       "..            ...  \n",
       "683            50  \n",
       "684            50  \n",
       "685            50  \n",
       "686            50  \n",
       "687           450  \n",
       "\n",
       "[670 rows x 6 columns]"
      ]
     },
     "execution_count": 22,
     "metadata": {},
     "output_type": "execute_result"
    }
   ],
   "source": [
    "metadata_df['time_interval'] = \"\"\n",
    "for t in range(len(intervals)-1):\n",
    "    print(t)\n",
    "    print(range(intervals[t],intervals[t+1]))\n",
    "    metadata_df_t = metadata_df.loc[metadata_df['date'].isin(range(intervals[t],intervals[t+1]))]\n",
    "    print(metadata_df_t.date)\n",
    "    metadata_df.loc[metadata_df['date'].isin(range(intervals[t],intervals[t+1])),'time_interval'] = intervals[t]\n",
    "metadata_df"
   ]
  },
  {
   "cell_type": "markdown",
   "metadata": {},
   "source": [
    "Visualise distribution of time intervals:"
   ]
  },
  {
   "cell_type": "code",
   "execution_count": 23,
   "metadata": {},
   "outputs": [
    {
     "data": {
      "image/png": "[encoded data removed]",
      "text/plain": [
       "<Figure size 1440x1152 with 1 Axes>"
      ]
     },
     "metadata": {
      "needs_background": "light"
     },
     "output_type": "display_data"
    }
   ],
   "source": [
    "metadata_df0 = metadata_df.groupby(['time_interval']).count()\n",
    "metadata_df0 = metadata_df0['id']\n",
    "metadata_df0\n",
    "ax = metadata_df0.plot(kind='bar', figsize=(20,16), color=\"indigo\", fontsize=10);\n",
    "#ax.set_alpha(0.5)\n",
    "ax.set_title(\"Number of works per time interval\", fontsize=22)\n",
    "plt.show()"
   ]
  },
  {
   "cell_type": "markdown",
   "metadata": {},
   "source": [
    "WE MAY WANT TO DO SOMETHING ABOUT THIS INBALANCE"
   ]
  },
  {
   "cell_type": "markdown",
   "metadata": {
    "id": "qs8R0RYgTJid"
   },
   "source": [
    "## Training word embeddings"
   ]
  },
  {
   "cell_type": "markdown",
   "metadata": {
    "id": "JOVX-oApM02y"
   },
   "source": [
    "Function for printing the vocabulary of a model"
   ]
  },
  {
   "cell_type": "code",
   "execution_count": null,
   "metadata": {
    "id": "ozTBJwmKM2th"
   },
   "outputs": [],
   "source": [
    "def print_vocab(model, top_n = None):\n",
    "  count = 0\n",
    "  if top_n is not None:\n",
    "    for index, word in enumerate(model.wv.index_to_key):\n",
    "      count+= 1\n",
    "      if count < top_n:\n",
    "        print(f\"word #{index}/{len(model.wv.index_to_key)} is {word}\")\n",
    "  else:\n",
    "    for index, word in enumerate(model.wv.index_to_key):\n",
    "      print(f\"word #{index}/{len(model.wv.index_to_key)} is {word}\")"
   ]
  },
  {
   "cell_type": "markdown",
   "metadata": {},
   "source": [
    "Function that converts dates into the standard format:"
   ]
  },
  {
   "cell_type": "code",
   "execution_count": null,
   "metadata": {},
   "outputs": [],
   "source": [
    "def convert_dates(sign, date0):\n",
    "\n",
    "    if sign == \"0\":\n",
    "        if date0 == 0:\n",
    "            final_date = \"+0000\"\n",
    "        elif date0 < 100:\n",
    "            final_date = \"+\" + \"00\" + str(date0)\n",
    "            #print(\"1-final_date\", final_date)\n",
    "        elif date0 < 1000:\n",
    "            final_date = \"+\" + \"0\" + str(date0)\n",
    "            #print(\"2-final_date\", final_date)\n",
    "        else:\n",
    "            final_date = \"+\" + str(date0)\n",
    "            #print(\"3-final_date\", final_date)\n",
    "    else:\n",
    "        if date0 == 0:\n",
    "            final_date = \"+0000\"\n",
    "        elif date0 < 100:\n",
    "            final_date = str(sign) + \"00\" + str(date0)\n",
    "            #print(\"1-final_date\", final_date)\n",
    "        elif date0 < 1000:\n",
    "            final_date = str(sign) + \"0\" + str(date0)\n",
    "            #print(\"2-final_date\", final_date)\n",
    "        else:\n",
    "            final_date = str(sign) + str(date0)\n",
    "            #print(\"3-final_date\", final_date)\n",
    "\n",
    "    if final_date.startswith(\"+\"):\n",
    "        final_date = final_date.replace(\"+\", \"\")\n",
    "    return final_date"
   ]
  },
  {
   "cell_type": "markdown",
   "metadata": {
    "id": "MPcAmEUzA1if"
   },
   "source": [
    "For each time interval, I read the texts from files and create a list of lists, i.e. a list of sentences:"
   ]
  },
  {
   "cell_type": "code",
   "execution_count": null,
   "metadata": {},
   "outputs": [],
   "source": [
    "# dictionary that maps a time interval with the list of sentences of texts in that time interval\"\n",
    "time2corpus = dict()\n",
    "\n",
    "# I loop over all time intervals:\n",
    "for t in range(n_intervals+1):\n",
    "    files_corpus_t = metadata_df.loc[metadata_df['time_interval'] == intervals[t]]\n",
    "    #print(\"1:\",files_corpus_t, type(files_corpus_t))\n",
    "    corpus_t = list()\n",
    "    for index, df_line in files_corpus_t.iterrows():\n",
    "        #print(\"line:\",df_line['id'], df_line['time_interval'])\n",
    "        sign = \"+\"\n",
    "        #print(df_line['date'])\n",
    "        if df_line['date'] < 0:\n",
    "            sign = \"-\"\n",
    "        #print(\"date:\", convert_dates(sign, abs(df_line['date'])))\n",
    "        file_name = 'lat_'+str(convert_dates(sign, abs(df_line['date'])))+\"_\"+str(df_line['id'])+'.txt'\n",
    "        #print(\"3:\",file_name)\n",
    "        file = open(os.path.join(dir_in, \"preprocessed_\"+lemmas_or_tokens, file_name), 'r')\n",
    "        sentences_this_file = list()\n",
    "        while True:\n",
    "            line = file.readline().strip()\n",
    "            if line != \"\":\n",
    "                sentences_this_file.append(line.split(\" \"))\n",
    "            # if line is empty end of file is reached\n",
    "            if not line:\n",
    "                break\n",
    "        file.close()\n",
    "        corpus_t.append(sentences_this_file)\n",
    "    #corpus_t1\n",
    "    #print(len(corpus_t1[0]))\n",
    "    time2corpus[t] = corpus_t\n"
   ]
  },
  {
   "cell_type": "markdown",
   "metadata": {},
   "source": [
    "Let's inspect the corpus for the first time interval:"
   ]
  },
  {
   "cell_type": "code",
   "execution_count": null,
   "metadata": {},
   "outputs": [],
   "source": [
    "time2corpus[0][0]"
   ]
  },
  {
   "cell_type": "markdown",
   "metadata": {},
   "source": [
    "And the second:"
   ]
  },
  {
   "cell_type": "code",
   "execution_count": null,
   "metadata": {},
   "outputs": [],
   "source": [
    "time2corpus[1]"
   ]
  },
  {
   "cell_type": "markdown",
   "metadata": {},
   "source": [
    "And the third:"
   ]
  },
  {
   "cell_type": "code",
   "execution_count": null,
   "metadata": {},
   "outputs": [],
   "source": [
    "time2corpus[2]"
   ]
  },
  {
   "cell_type": "markdown",
   "metadata": {},
   "source": [
    "For each time interval I train a word2vec model:"
   ]
  },
  {
   "cell_type": "markdown",
   "metadata": {
    "id": "ZWZPf_3bUe8n"
   },
   "source": [
    "I train Word2Vec embeddings from the texts. \n",
    "\n",
    "`min_count`: the minimum frequency threshold allowed for a word to be included\n",
    "\n",
    "`vector_size`: the number of dimensions in which we wish to represent our word. This is the size of the word embedding; typically between 100 and 1,000.\n",
    "\n",
    "`window`: The size of the context window determines how many words before and after a given word would be included as context words of the given word.  Typically between 5 and 10.\n",
    "\n",
    "`sg`: – Training algorithm: 1 for skip-gram; otherwise CBOW.\n"
   ]
  },
  {
   "cell_type": "code",
   "execution_count": 7,
   "metadata": {
    "colab": {
     "base_uri": "https://localhost:8080/"
    },
    "id": "U7IjvEPpUfTQ",
    "outputId": "90320e7f-1107-4185-9e7e-c8808d04b65d"
   },
   "outputs": [
    {
     "ename": "NameError",
     "evalue": "name 'time2corpus' is not defined",
     "output_type": "error",
     "traceback": [
      "\u001b[0;31m---------------------------------------------------------------------------\u001b[0m",
      "\u001b[0;31mNameError\u001b[0m                                 Traceback (most recent call last)",
      "\u001b[0;32m<ipython-input-7-10fe532944dd>\u001b[0m in \u001b[0;36m<module>\u001b[0;34m\u001b[0m\n\u001b[1;32m      1\u001b[0m \u001b[0mstart\u001b[0m \u001b[0;34m=\u001b[0m \u001b[0mtime\u001b[0m\u001b[0;34m.\u001b[0m\u001b[0mtime\u001b[0m\u001b[0;34m(\u001b[0m\u001b[0;34m)\u001b[0m\u001b[0;34m\u001b[0m\u001b[0;34m\u001b[0m\u001b[0m\n\u001b[0;32m----> 2\u001b[0;31m \u001b[0mcbow_w5_f1_300\u001b[0m \u001b[0;34m=\u001b[0m \u001b[0mgensim\u001b[0m\u001b[0;34m.\u001b[0m\u001b[0mmodels\u001b[0m\u001b[0;34m.\u001b[0m\u001b[0mWord2Vec\u001b[0m\u001b[0;34m(\u001b[0m\u001b[0mtime2corpus\u001b[0m\u001b[0;34m[\u001b[0m\u001b[0;36m0\u001b[0m\u001b[0;34m]\u001b[0m\u001b[0;34m[\u001b[0m\u001b[0;36m0\u001b[0m\u001b[0;34m]\u001b[0m\u001b[0;34m,\u001b[0m \u001b[0mmin_count\u001b[0m\u001b[0;34m=\u001b[0m\u001b[0;36m1\u001b[0m\u001b[0;34m,\u001b[0m \u001b[0mvector_size\u001b[0m\u001b[0;34m=\u001b[0m\u001b[0;36m300\u001b[0m\u001b[0;34m,\u001b[0m \u001b[0mwindow\u001b[0m \u001b[0;34m=\u001b[0m \u001b[0;36m5\u001b[0m\u001b[0;34m,\u001b[0m \u001b[0msg\u001b[0m \u001b[0;34m=\u001b[0m \u001b[0;36m0\u001b[0m\u001b[0;34m)\u001b[0m\u001b[0;34m\u001b[0m\u001b[0;34m\u001b[0m\u001b[0m\n\u001b[0m\u001b[1;32m      3\u001b[0m \u001b[0mend\u001b[0m \u001b[0;34m=\u001b[0m \u001b[0mtime\u001b[0m\u001b[0;34m.\u001b[0m\u001b[0mtime\u001b[0m\u001b[0;34m(\u001b[0m\u001b[0;34m)\u001b[0m\u001b[0;34m\u001b[0m\u001b[0;34m\u001b[0m\u001b[0m\n\u001b[1;32m      4\u001b[0m \u001b[0mprint\u001b[0m\u001b[0;34m(\u001b[0m\u001b[0;34m\"It has taken\"\u001b[0m\u001b[0;34m,\u001b[0m \u001b[0mround\u001b[0m\u001b[0;34m(\u001b[0m\u001b[0mend\u001b[0m \u001b[0;34m-\u001b[0m \u001b[0mstart\u001b[0m\u001b[0;34m)\u001b[0m\u001b[0;34m,\u001b[0m \u001b[0;34m\"seconds\"\u001b[0m\u001b[0;34m)\u001b[0m\u001b[0;34m\u001b[0m\u001b[0;34m\u001b[0m\u001b[0m\n",
      "\u001b[0;31mNameError\u001b[0m: name 'time2corpus' is not defined"
     ]
    }
   ],
   "source": [
    "start = time.time()\n",
    "cbow_w5_f1_300 = gensim.models.Word2Vec(time2corpus[0][0], min_count=1, vector_size=300, window = 5, sg = 0)\n",
    "end = time.time()\n",
    "print(\"It has taken\", round(end - start), \"seconds\")"
   ]
  },
  {
   "cell_type": "code",
   "execution_count": null,
   "metadata": {
    "colab": {
     "base_uri": "https://localhost:8080/"
    },
    "id": "-SKoa9tdLH62",
    "outputId": "b3d6c08e-79fa-4832-e899-80933ad395d7"
   },
   "outputs": [],
   "source": [
    "print_vocab(cbow_w5_f1_300, 10)"
   ]
  },
  {
   "cell_type": "markdown",
   "metadata": {},
   "source": [
    "I'VE STOPPED HERE!!!"
   ]
  },
  {
   "cell_type": "markdown",
   "metadata": {
    "id": "HeSIUxsE8nF7"
   },
   "source": [
    "# Semantic change with cosine similarity"
   ]
  },
  {
   "cell_type": "markdown",
   "metadata": {
    "id": "rD_hjxyy9AP8"
   },
   "source": [
    "I train two word2vec models, one for each dataframe corresponding to a time period. I choose the parameters that led to the best model (see script 1_Corpus_Processing script). This takes approximately 5 minutes. **You can skip this cell.**"
   ]
  },
  {
   "cell_type": "code",
   "execution_count": null,
   "metadata": {
    "colab": {
     "base_uri": "https://localhost:8080/",
     "height": 324
    },
    "id": "PlsqbLKV9GV0",
    "outputId": "d5a12604-75b3-4ce8-9cb7-67e98ffe612f"
   },
   "outputs": [],
   "source": [
    "model1 = gensim.models.Word2Vec(df1['Lemmas_clean'], min_count=1, vector_size=300, window = 5, sg = 1)\n",
    "model2 = gensim.models.Word2Vec(df2['Lemmas_clean'], min_count=1, vector_size=300, window = 5, sg = 1)"
   ]
  },
  {
   "cell_type": "markdown",
   "metadata": {
    "id": "Ou38w-yl9MfQ"
   },
   "source": [
    "Save the models. **You can skip this cell.**"
   ]
  },
  {
   "cell_type": "code",
   "execution_count": null,
   "metadata": {
    "colab": {
     "base_uri": "https://localhost:8080/"
    },
    "id": "5fKbDNDx9NK4",
    "outputId": "3a75bd27-df60-4cdc-f6ec-562fdb3e17bc"
   },
   "outputs": [],
   "source": [
    "models_folder = '/content/drive/My Drive/2021/Darwin paper/Files/Models'\n",
    "models = [model1, model2]\n",
    "models_names = [\"model1\", \"model2\"]\n",
    "for i in range(len(models)):\n",
    "  print(\"Saving model number\", i+1)\n",
    "  models[i].save(os.path.join(models_folder, models_names[i]))"
   ]
  },
  {
   "cell_type": "markdown",
   "metadata": {
    "id": "Ekxdd56L9Q4n"
   },
   "source": [
    "I load the models:"
   ]
  },
  {
   "cell_type": "code",
   "execution_count": null,
   "metadata": {
    "id": "beokoQ3T9SOy"
   },
   "outputs": [],
   "source": [
    "models_folder = '/content/drive/My Drive/2021/Darwin paper/Files/Models'\n",
    "model1 = gensim.models.Word2Vec.load(os.path.join(models_folder, \"model1\"))\n",
    "model2 = gensim.models.Word2Vec.load(os.path.join(models_folder, \"model2\"))\n",
    "models = [model1, model2]\n",
    "models_names = [\"model1\", \"model2\"]"
   ]
  },
  {
   "cell_type": "markdown",
   "metadata": {
    "id": "EJ0JeUIY9UiQ"
   },
   "source": [
    "What are the vocabularies of these models?"
   ]
  },
  {
   "cell_type": "code",
   "execution_count": null,
   "metadata": {
    "colab": {
     "base_uri": "https://localhost:8080/"
    },
    "id": "LF7BWh-43S0-",
    "outputId": "b8b7e5b2-19d0-4746-f5ed-ef2f46837d61"
   },
   "outputs": [],
   "source": [
    "print_vocab(model1, 10)"
   ]
  },
  {
   "cell_type": "code",
   "execution_count": null,
   "metadata": {
    "colab": {
     "base_uri": "https://localhost:8080/"
    },
    "id": "HZWwOnWl3mf4",
    "outputId": "ddfb4633-2249-457a-d92a-227069c2b3fe"
   },
   "outputs": [],
   "source": [
    "print_vocab(model2,10)"
   ]
  },
  {
   "cell_type": "code",
   "execution_count": null,
   "metadata": {
    "colab": {
     "base_uri": "https://localhost:8080/"
    },
    "id": "huhIE_-G9bgx",
    "outputId": "fe5f9743-5098-44ee-ac38-9ab26ef2402e"
   },
   "outputs": [],
   "source": [
    "print(str(len(list(model1.wv.index_to_key))))\n",
    "print(str(len(list(model2.wv.index_to_key))))"
   ]
  },
  {
   "cell_type": "markdown",
   "metadata": {
    "id": "1eXUKgJ2aLGe"
   },
   "source": [
    "The intersection between the vocabularies of the two models:"
   ]
  },
  {
   "cell_type": "code",
   "execution_count": null,
   "metadata": {
    "colab": {
     "base_uri": "https://localhost:8080/"
    },
    "id": "ljpmd1xbaOeN",
    "outputId": "858c2453-16af-4016-fc66-78d4740d2b5f"
   },
   "outputs": [],
   "source": [
    "vocab1 = set(list(model1.wv.index_to_key))\n",
    "vocab2 = set(list(model2.wv.index_to_key))\n",
    "len(vocab1.intersection(vocab2))"
   ]
  },
  {
   "cell_type": "markdown",
   "metadata": {
    "id": "S4rjlshWPPkX"
   },
   "source": [
    "## Step 3. Embedding space alignment"
   ]
  },
  {
   "cell_type": "markdown",
   "metadata": {
    "id": "2-ldNIkIP_ew"
   },
   "source": [
    "I will be using code from https://gist.github.com/zhicongchen/9e23d5c3f1e5b1293b16133485cd17d8, ported from HistWords <https://github.com/williamleif/histwords>."
   ]
  },
  {
   "cell_type": "markdown",
   "metadata": {
    "id": "lMCblsx5QZTl"
   },
   "source": [
    "First, I define a function to find the intersection between the vocabularies of two word2vec models:"
   ]
  },
  {
   "cell_type": "code",
   "execution_count": null,
   "metadata": {
    "id": "8OeU87DWPbse"
   },
   "outputs": [],
   "source": [
    "def intersection_align_gensim(m1, m2, words=None):\n",
    "    \"\"\"\n",
    "    Intersect two gensim word2vec models, m1 and m2.\n",
    "    Only the shared vocabulary between them is kept.\n",
    "    If 'words' is set (as list or set), then the vocabulary is intersected with this list as well.\n",
    "    Indices are re-organized from 0..N in order of descending frequency (=sum of counts from both m1 and m2).\n",
    "    These indices correspond to the new syn0 and syn0norm objects in both gensim models:\n",
    "        -- so that Row 0 of m1.syn0 will be for the same word as Row 0 of m2.syn0\n",
    "        -- you can find the index of any word on the .index2word list: model.index2word.index(word) => 2\n",
    "    The .vocab dictionary is also updated for each model, preserving the count but updating the index.\n",
    "    \"\"\"\n",
    "\n",
    "    # Get the vocab for each model\n",
    "    vocab_m1 = set(m1.wv.index_to_key)\n",
    "    vocab_m2 = set(m2.wv.index_to_key)\n",
    "\n",
    "    # Find the common vocabulary\n",
    "    common_vocab = vocab_m1 & vocab_m2\n",
    "    if words: common_vocab &= set(words)\n",
    "\n",
    "    # If no alignment necessary because vocab is identical...\n",
    "    if not vocab_m1 - common_vocab and not vocab_m2 - common_vocab:\n",
    "        return (m1,m2)\n",
    "\n",
    "    # Otherwise sort by frequency (summed for both)\n",
    "    common_vocab = list(common_vocab)\n",
    "    common_vocab.sort(key=lambda w: m1.wv.get_vecattr(w, \"count\") + m2.wv.get_vecattr(w, \"count\"), reverse=True)\n",
    "    # print(len(common_vocab))\n",
    "\n",
    "    # Then for each model...\n",
    "    for m in [m1, m2]:\n",
    "        # Replace old syn0norm array with new one (with common vocab)\n",
    "        indices = [m.wv.key_to_index[w] for w in common_vocab]\n",
    "        old_arr = m.wv.vectors\n",
    "        new_arr = np.array([old_arr[index] for index in indices])\n",
    "        m.wv.vectors = new_arr\n",
    "\n",
    "        # Replace old vocab dictionary with new one (with common vocab)\n",
    "        # and old index2word with new one\n",
    "        new_key_to_index = {}\n",
    "        new_index_to_key = []\n",
    "        for new_index, key in enumerate(common_vocab):\n",
    "            new_key_to_index[key] = new_index\n",
    "            new_index_to_key.append(key)\n",
    "        m.wv.key_to_index = new_key_to_index\n",
    "        m.wv.index_to_key = new_index_to_key\n",
    "        \n",
    "        print(len(m.wv.key_to_index), len(m.wv.vectors))\n",
    "        \n",
    "    return (m1,m2)"
   ]
  },
  {
   "cell_type": "markdown",
   "metadata": {
    "id": "1le410lRPWhz"
   },
   "source": [
    "Then, I define a function for aligning two spaces with [Orthogonal Procrustes](https://simonensemble.github.io/2018-10/orthogonal-procrustes.html):"
   ]
  },
  {
   "cell_type": "code",
   "execution_count": null,
   "metadata": {
    "id": "BQGkiPKjQrus"
   },
   "outputs": [],
   "source": [
    "def smart_procrustes_align_gensim(base_embed, other_embed, words=None):\n",
    "    \"\"\"\n",
    "    Original script: https://gist.github.com/quadrismegistus/09a93e219a6ffc4f216fb85235535faf\n",
    "    Procrustes align two gensim word2vec models (to allow for comparison between same word across models).\n",
    "    Code ported from HistWords <https://github.com/williamleif/histwords> by William Hamilton <wleif@stanford.edu>.\n",
    "        \n",
    "    First, intersect the vocabularies (see `intersection_align_gensim` documentation).\n",
    "    Then do the alignment on the other_embed model.\n",
    "    Replace the other_embed model's syn0 and syn0norm numpy matrices with the aligned version.\n",
    "    Return other_embed.\n",
    "    If `words` is set, intersect the two models' vocabulary with the vocabulary in words (see `intersection_align_gensim` documentation).\n",
    "    \"\"\"\n",
    "\n",
    "    # make sure vocabulary and indices are aligned\n",
    "    in_base_embed, in_other_embed = intersection_align_gensim(base_embed, other_embed, words=words)\n",
    "\n",
    "    # get the (normalized) embedding matrices\n",
    "    base_vecs = in_base_embed.wv.get_normed_vectors()\n",
    "    other_vecs = in_other_embed.wv.get_normed_vectors()\n",
    "\n",
    "    # just a matrix dot product with numpy\n",
    "    m = other_vecs.T.dot(base_vecs) \n",
    "    # SVD method from numpy\n",
    "    u, _, v = np.linalg.svd(m)\n",
    "    # another matrix operation\n",
    "    ortho = u.dot(v) \n",
    "    # Replace original array with modified one, i.e. multiplying the embedding matrix by \"ortho\"\n",
    "    other_embed.wv.vectors = (other_embed.wv.vectors).dot(ortho)    \n",
    "    \n",
    "    return other_embed"
   ]
  },
  {
   "cell_type": "markdown",
   "metadata": {
    "id": "mhvxxR7qQ3Hc"
   },
   "source": [
    "Now I can apply the function to my models:"
   ]
  },
  {
   "cell_type": "code",
   "execution_count": null,
   "metadata": {
    "colab": {
     "base_uri": "https://localhost:8080/"
    },
    "id": "oI3tPmmNRXcU",
    "outputId": "c347bdb8-ad34-4133-fecb-f37416bbcf2f"
   },
   "outputs": [],
   "source": [
    "smart_procrustes_align_gensim(model1, model2, words=None)"
   ]
  },
  {
   "cell_type": "markdown",
   "metadata": {
    "id": "EKGD6NZPbxza"
   },
   "source": [
    "Now the two models have been aligned and have the same vocabulary:"
   ]
  },
  {
   "cell_type": "code",
   "execution_count": null,
   "metadata": {
    "colab": {
     "base_uri": "https://localhost:8080/"
    },
    "id": "drWn32avbcju",
    "outputId": "46b2c80a-9d1c-4ae2-f0df-4b61cc8895ae"
   },
   "outputs": [],
   "source": [
    "len(model1.wv.index_to_key)"
   ]
  },
  {
   "cell_type": "code",
   "execution_count": null,
   "metadata": {
    "colab": {
     "base_uri": "https://localhost:8080/"
    },
    "id": "HdPZFhTcbtXN",
    "outputId": "67fd1a9b-365b-487c-9cee-1049d65e7b03"
   },
   "outputs": [],
   "source": [
    "len(model2.wv.index_to_key)"
   ]
  },
  {
   "cell_type": "code",
   "execution_count": null,
   "metadata": {
    "colab": {
     "base_uri": "https://localhost:8080/"
    },
    "id": "Q9zqjWWmb7GE",
    "outputId": "b5c928f6-9734-4de0-f920-986420aabdab"
   },
   "outputs": [],
   "source": [
    "model1.wv.index_to_key == model2.wv.index_to_key"
   ]
  },
  {
   "cell_type": "markdown",
   "metadata": {
    "id": "EZEq7aRCbLiC"
   },
   "source": [
    "I print the vocabulary:"
   ]
  },
  {
   "cell_type": "code",
   "execution_count": null,
   "metadata": {
    "id": "sbcY4CXkcAZ-"
   },
   "outputs": [],
   "source": [
    "model1.wv.index_to_key"
   ]
  },
  {
   "cell_type": "markdown",
   "metadata": {
    "id": "1MKJmJccbO_3"
   },
   "source": [
    "I save the aligned models:"
   ]
  },
  {
   "cell_type": "code",
   "execution_count": null,
   "metadata": {
    "colab": {
     "base_uri": "https://localhost:8080/"
    },
    "id": "tybKgXYj9sHm",
    "outputId": "b62668eb-a747-4f25-847c-b4bc83efd9a9"
   },
   "outputs": [],
   "source": [
    "for i in range(len(models)):\n",
    "  print(models_names[i])\n",
    "  models[i].save(os.path.join(models_folder, models_names[i] + \"_aligned\"))"
   ]
  },
  {
   "cell_type": "markdown",
   "metadata": {
    "id": "S1cOEvel_kkD"
   },
   "source": [
    "Let's look at the similarity between two words in the two spaces:"
   ]
  },
  {
   "cell_type": "code",
   "execution_count": null,
   "metadata": {
    "colab": {
     "base_uri": "https://localhost:8080/"
    },
    "id": "HOkOOvUR_cvG",
    "outputId": "8f350bd0-88ff-4916-e427-f09d74a3a089"
   },
   "outputs": [],
   "source": [
    "model1.wv.similarity(\"letter\", \"note\")"
   ]
  },
  {
   "cell_type": "code",
   "execution_count": null,
   "metadata": {
    "colab": {
     "base_uri": "https://localhost:8080/"
    },
    "id": "5E8vT0c__iJt",
    "outputId": "1c027a0c-78d4-4a02-f125-fd863172a47e"
   },
   "outputs": [],
   "source": [
    "model2.wv.similarity(\"letter\", \"note\")"
   ]
  },
  {
   "cell_type": "markdown",
   "metadata": {
    "id": "YzRXv3DX-jRn"
   },
   "source": [
    "## Step 4: Measure change"
   ]
  },
  {
   "cell_type": "markdown",
   "metadata": {
    "id": "UoGHlv8M-lje"
   },
   "source": [
    "Now I can measure the cosine similarity between the embedding of a word in the first time period and the embedding of the same word in the second time period. "
   ]
  },
  {
   "cell_type": "markdown",
   "metadata": {
    "id": "j2hcRfD-Bkm0"
   },
   "source": [
    "Let's define a function that calculates the cosine similarity between the embedding of a word in t1 and the embedding of the same word in t2:"
   ]
  },
  {
   "cell_type": "code",
   "execution_count": null,
   "metadata": {
    "id": "qTFtfuLkCUJN"
   },
   "outputs": [],
   "source": [
    "def cosine_similarity(word):\n",
    "  sc = 1-spatial.distance.cosine(model1.wv[word], model2.wv[word])\n",
    "  return sc"
   ]
  },
  {
   "cell_type": "markdown",
   "metadata": {
    "id": "WtrQJ2QwCaZA"
   },
   "source": [
    "Now I calculate the semantic similarity for all words in the vocabulary, and store this in the dataframe cosine_similarity; I also add a column for the frequency of the word in the first space and another one for its frequency in the second space:"
   ]
  },
  {
   "cell_type": "code",
   "execution_count": null,
   "metadata": {
    "colab": {
     "base_uri": "https://localhost:8080/",
     "height": 419
    },
    "id": "usdtS7hxCiDc",
    "outputId": "97b22c9e-c219-4750-84df-5cf7988e168b"
   },
   "outputs": [],
   "source": [
    "cosine_similarity_df = pd.DataFrame(([w, cosine_similarity(w), model1.wv.get_vecattr(w, \"count\") , model2.wv.get_vecattr(w, \"count\") ] for w in model1.wv.index_to_key), columns = ('Word', 'Cosine_similarity', \"Frequency_t1\", \"Frequency_t2\"))\n",
    "cosine_similarity_df"
   ]
  },
  {
   "cell_type": "markdown",
   "metadata": {
    "id": "A7ztnymCHzuk"
   },
   "source": [
    "Visualise the distribution of the semantic similarity scores with a histogram:"
   ]
  },
  {
   "cell_type": "code",
   "execution_count": null,
   "metadata": {
    "colab": {
     "base_uri": "https://localhost:8080/",
     "height": 268
    },
    "id": "fXq_oDpmH21j",
    "outputId": "f7facee9-335c-40a6-d832-98f9bd6266e1"
   },
   "outputs": [],
   "source": [
    "hist = cosine_similarity_df['Cosine_similarity'].hist()"
   ]
  },
  {
   "cell_type": "markdown",
   "metadata": {
    "id": "esWwpTRWFd5E"
   },
   "source": [
    "Now I sort by decreasing semantic change score:"
   ]
  },
  {
   "cell_type": "code",
   "execution_count": null,
   "metadata": {
    "colab": {
     "base_uri": "https://localhost:8080/",
     "height": 204
    },
    "id": "y_Xd7GIZFg37",
    "outputId": "c459088f-5290-4a88-e629-8a290ecc49bf"
   },
   "outputs": [],
   "source": [
    "cosine_similarity_df_sorted = cosine_similarity_df.sort_values(by='Cosine_similarity', ascending=True)\n",
    "cosine_similarity_df_sorted.head()"
   ]
  },
  {
   "cell_type": "markdown",
   "metadata": {
    "id": "NsRvkamuUgRd"
   },
   "source": [
    "I add the total frequency:"
   ]
  },
  {
   "cell_type": "code",
   "execution_count": null,
   "metadata": {
    "colab": {
     "base_uri": "https://localhost:8080/",
     "height": 419
    },
    "id": "MzVHc5vWUjN-",
    "outputId": "4f8a9512-6587-4a21-f1aa-ac4ca3e98209"
   },
   "outputs": [],
   "source": [
    "cosine_similarity_df_sorted[\"Total_Frequency\"] = cosine_similarity_df_sorted[\"Frequency_t1\"]+cosine_similarity_df_sorted[\"Frequency_t2\"]\n",
    "cosine_similarity_df_sorted"
   ]
  },
  {
   "cell_type": "markdown",
   "metadata": {
    "id": "F8DORQZ2lUWP"
   },
   "source": [
    "I add a column with the category (function word, foreign word, numeral, and proper noun)."
   ]
  },
  {
   "cell_type": "markdown",
   "metadata": {
    "id": "_JPiipUCn9rZ"
   },
   "source": [
    "List of function words (from https://www.eltconcourse.com/training/initial/lexis/function_words.html)"
   ]
  },
  {
   "cell_type": "code",
   "execution_count": null,
   "metadata": {
    "id": "Y0q6J4H2n_gQ"
   },
   "outputs": [],
   "source": [
    "function_words = ['after', 'although', 'and', 'as', 'because', 'before', 'both', 'but', 'either', 'for', 'however', 'if','neither','nor','once','or','since','so','than','that','therefore','though','thus','till','unless','until','when','whenever','where','wherever','whether','while','yet\ta','all','another','any','both','each','either','every','her','his','its','my','neither','no','other','our','per','some','that','the','their','these','this','those','whatever','whichever','your\tabout','above','across','after','against','ahead','along','among','amongst','around','as','at','bar','before','behind','below','beneath','beside','besides','between','beyond','but','by','down','during','except','for','from','in','inside','into','less','like\tnear','of','off','on','onto','opposite','outside','over','past','per','round','save','since','through','till','to','toward','under','underneath','until','up','upon','with','within','without\tall','another','any','anybody','anyone','anything','both','each','either','everybody','everyone','everything','few','he','I','it','many','mine','neither','nobody','none','nothing','one','other','several','she','some','somebody','someone','something','that','these','they\tthis','those','we','what','whatever','which','whichever','who','whoever','whom','whose','you']"
   ]
  },
  {
   "cell_type": "markdown",
   "metadata": {
    "id": "suuoGhkh2hrw"
   },
   "source": [
    "Applying the detect package doesn't work on individual words so I use the NLTK's English dictionary instead:"
   ]
  },
  {
   "cell_type": "code",
   "execution_count": null,
   "metadata": {
    "colab": {
     "base_uri": "https://localhost:8080/"
    },
    "id": "VjAL1Kspxb8Q",
    "outputId": "c31cc6b6-d81b-43f8-ffc0-b2247cdfe70e"
   },
   "outputs": [],
   "source": [
    "#semantic_change.df.sorted['Language'] = semantic_change.df.sorted['Word'].apply(detect) \n",
    "import nltk\n",
    "nltk.download('words')\n",
    "english_vocab = set(w.lower() for w in nltk.corpus.words.words())\n",
    "len(english_vocab)"
   ]
  },
  {
   "cell_type": "code",
   "execution_count": null,
   "metadata": {
    "colab": {
     "base_uri": "https://localhost:8080/",
     "height": 419
    },
    "id": "TYLErVYbuK9B",
    "outputId": "f56b6d1f-2b86-48b1-8849-50b8f4aa4859"
   },
   "outputs": [],
   "source": [
    "# create a list of our conditions\n",
    "conditions = [\n",
    "    (cosine_similarity_df_sorted['Word'].isin(function_words)), # function words\n",
    "    ((cosine_similarity_df_sorted.Word.str.isdigit()) | (cosine_similarity_df_sorted['Word'].str.match('^\\d*?1st$')) | (cosine_similarity_df_sorted['Word'].str.match('^\\d*?2nd$')) | (cosine_similarity_df_sorted['Word'].str.match('^\\d*?3rd$')) | (cosine_similarity_df_sorted['Word'].str.match('^\\d*[^123]th$'))), # numbers\n",
    "    (cosine_similarity_df_sorted['Word'].apply(lambda x: x[0].isupper() and x[1:len(x)].islower())), # proper nouns\n",
    "    (np.invert(cosine_similarity_df_sorted['Word'].str.lower().isin(english_vocab))) # foreign words\n",
    "    ]\n",
    "\n",
    "# create a list of the values we want to assign for each condition\n",
    "values = ['Function word','Numeral', 'Proper noun', 'Foreign word']\n",
    "\n",
    "# create a new column and use np.select to assign values to it using our lists as arguments\n",
    "cosine_similarity_df_sorted['Category_automatic'] = np.select(conditions, values, default = \"\")\n",
    "cosine_similarity_df_sorted"
   ]
  },
  {
   "cell_type": "markdown",
   "metadata": {
    "id": "RNghUTXgF6JS"
   },
   "source": [
    "I save this to a file:"
   ]
  },
  {
   "cell_type": "code",
   "execution_count": null,
   "metadata": {
    "id": "neiDlSneF-Nc"
   },
   "outputs": [],
   "source": [
    "output_folder = '/content/drive/MyDrive/2021/Darwin paper/Files/Semantic_change_output/'\n",
    "if not os.path.exists(output_folder):\n",
    "  os.makedirs(output_folder)\n",
    "cosine_similarity_df_sorted.to_csv(os.path.join(output_folder, 'Cosine_similarity_all_words.csv'), encoding='utf-8')"
   ]
  },
  {
   "cell_type": "markdown",
   "metadata": {
    "id": "1qq3y2bLFzEO"
   },
   "source": [
    "The top most changed words:"
   ]
  },
  {
   "cell_type": "code",
   "execution_count": null,
   "metadata": {
    "colab": {
     "base_uri": "https://localhost:8080/",
     "height": 419
    },
    "id": "wdLX3acPFn8g",
    "outputId": "1ca52968-093f-4b5b-ad2c-46ea6f557669"
   },
   "outputs": [],
   "source": [
    "cosine_similarity_df_sorted.head(100)"
   ]
  },
  {
   "cell_type": "code",
   "execution_count": null,
   "metadata": {
    "colab": {
     "base_uri": "https://localhost:8080/",
     "height": 80
    },
    "id": "CtRGJvCmSRPR",
    "outputId": "8ff2b316-1a28-41bf-fdf4-8ce0a6198948"
   },
   "outputs": [],
   "source": [
    "cosine_similarity_df_sorted[cosine_similarity_df_sorted['Word'] ==\"scientist\"]"
   ]
  },
  {
   "cell_type": "markdown",
   "metadata": {
    "id": "hTaeKriwU1NA"
   },
   "source": [
    "I plot the terms by their total frequency and semantic change score:"
   ]
  },
  {
   "cell_type": "code",
   "execution_count": null,
   "metadata": {
    "colab": {
     "base_uri": "https://localhost:8080/",
     "height": 280
    },
    "id": "UQTXISnnU5JP",
    "outputId": "458ea3b4-bc81-477c-dc85-624dca7dc5bb"
   },
   "outputs": [],
   "source": [
    "ax = cosine_similarity_df_sorted.set_index('Cosine_similarity')['Total_Frequency'].plot(style='o')"
   ]
  },
  {
   "cell_type": "markdown",
   "metadata": {
    "id": "0HUsnjAgehab"
   },
   "source": [
    "Which words are the outliers? Function words and *Darwin*:"
   ]
  },
  {
   "cell_type": "code",
   "execution_count": null,
   "metadata": {
    "colab": {
     "base_uri": "https://localhost:8080/"
    },
    "id": "13as3ptbek3A",
    "outputId": "fbf8da29-7102-4573-df3d-e86c99cf3ba2"
   },
   "outputs": [],
   "source": [
    "cosine_similarity_df_sorted.loc[cosine_similarity_df_sorted['Total_Frequency'] > 10000].Word.tolist()"
   ]
  },
  {
   "cell_type": "markdown",
   "metadata": {
    "id": "N3czF1s6fg6M"
   },
   "source": [
    "I exclude the outliers:"
   ]
  },
  {
   "cell_type": "code",
   "execution_count": null,
   "metadata": {
    "colab": {
     "base_uri": "https://localhost:8080/"
    },
    "id": "iGydr4Vwfmgc",
    "outputId": "37678dde-8017-4990-a494-294fc923ae71"
   },
   "outputs": [],
   "source": [
    "cosine_similarity_df_sorted_nooutliers = cosine_similarity_df_sorted.loc[cosine_similarity_df_sorted['Total_Frequency'] < 10000]\n",
    "cosine_similarity_df_sorted_nooutliers.shape"
   ]
  },
  {
   "cell_type": "markdown",
   "metadata": {
    "id": "pEUKL06P11t0"
   },
   "source": [
    "Plot:"
   ]
  },
  {
   "cell_type": "code",
   "execution_count": null,
   "metadata": {
    "colab": {
     "base_uri": "https://localhost:8080/",
     "height": 280
    },
    "id": "MFgBQ6E0126I",
    "outputId": "6e951096-1876-439f-c9d0-a9e29633af06"
   },
   "outputs": [],
   "source": [
    "ax = cosine_similarity_df_sorted_nooutliers.set_index('Cosine_similarity')['Total_Frequency'].plot(style='o')"
   ]
  },
  {
   "cell_type": "markdown",
   "metadata": {
    "id": "ecevJ4CO-a9f"
   },
   "source": [
    "What is the semantic change of the words we have chosen?"
   ]
  },
  {
   "cell_type": "code",
   "execution_count": null,
   "metadata": {
    "id": "KJnVV70g59ql"
   },
   "outputs": [],
   "source": [
    "words_chosen = ['protoplasm', 'curious', 'fertilisation', 'fertilise', 'analogy', 'analogous', 'homology', 'homologous', 'cleistogamic', 'physiology', 'physiological', 'ferment', 'science', 'scientist', 'scientific', 'evolution', 'evolutionary', 'evolve']"
   ]
  },
  {
   "cell_type": "code",
   "execution_count": null,
   "metadata": {
    "colab": {
     "base_uri": "https://localhost:8080/",
     "height": 80
    },
    "id": "8VCbOMAc5qv4",
    "outputId": "0f2d8066-05eb-4eef-b9d1-9d3d9e5b85bc"
   },
   "outputs": [],
   "source": [
    "cosine_similarity_df_sorted[cosine_similarity_df_sorted['Word'] == \"scientist\"]\n"
   ]
  },
  {
   "cell_type": "code",
   "execution_count": null,
   "metadata": {
    "colab": {
     "base_uri": "https://localhost:8080/",
     "height": 545
    },
    "id": "9zn40M5a-4Jv",
    "outputId": "00f6d1f9-c64b-4336-bf8c-b6b2519225d3"
   },
   "outputs": [],
   "source": [
    "cosine_similarity_chosen = cosine_similarity_df_sorted[cosine_similarity_df_sorted['Word'].isin(words_chosen)]\n",
    "cosine_similarity_chosen.to_csv(os.path.join(output_folder, 'cosine_similarity_chosen_words.csv'), encoding='utf-8')\n",
    "cosine_similarity_chosen"
   ]
  },
  {
   "cell_type": "code",
   "execution_count": null,
   "metadata": {
    "colab": {
     "base_uri": "https://localhost:8080/"
    },
    "id": "BZZy0Rbk2cqq",
    "outputId": "9b7677d0-490a-461c-9d43-655b77a05553"
   },
   "outputs": [],
   "source": [
    "min(cosine_similarity_chosen.Cosine_similarity)"
   ]
  },
  {
   "cell_type": "code",
   "execution_count": null,
   "metadata": {
    "colab": {
     "base_uri": "https://localhost:8080/"
    },
    "id": "XKHTQwSF2gys",
    "outputId": "bc2621ca-6fc1-4777-d286-2f49a3b315d5"
   },
   "outputs": [],
   "source": [
    "min(cosine_similarity_chosen.Total_Frequency)"
   ]
  },
  {
   "cell_type": "code",
   "execution_count": null,
   "metadata": {
    "colab": {
     "base_uri": "https://localhost:8080/"
    },
    "id": "6y-EDiyKMamL",
    "outputId": "8f1d3d28-5ff9-4bfa-e434-694cf09f0a7b"
   },
   "outputs": [],
   "source": [
    "min(cosine_similarity_df_sorted.Cosine_similarity)"
   ]
  },
  {
   "cell_type": "markdown",
   "metadata": {
    "id": "0GuntCYYg7cS"
   },
   "source": [
    "Now I focus on those words that have a frequency higher than min(semantic_change_chosen.Total_Frequency). How many are there?"
   ]
  },
  {
   "cell_type": "code",
   "execution_count": null,
   "metadata": {
    "colab": {
     "base_uri": "https://localhost:8080/"
    },
    "id": "XtCUX_MGhE5H",
    "outputId": "4bce5a86-946c-42e7-8148-95414c726948"
   },
   "outputs": [],
   "source": [
    "cosine_similarity_df_sorted_filtered = cosine_similarity_df_sorted_nooutliers.loc[(cosine_similarity_df_sorted_nooutliers['Total_Frequency'] >= min(cosine_similarity_chosen.Total_Frequency))]\n",
    "cosine_similarity_df_sorted_filtered.shape"
   ]
  },
  {
   "cell_type": "markdown",
   "metadata": {
    "id": "yUnP9qJmhrtk"
   },
   "source": [
    "Which words are these words?"
   ]
  },
  {
   "cell_type": "code",
   "execution_count": null,
   "metadata": {
    "colab": {
     "base_uri": "https://localhost:8080/",
     "height": 419
    },
    "id": "act3DZ6fhtdH",
    "outputId": "c1570d9d-f1d8-48ef-890d-0fdd8e1131de"
   },
   "outputs": [],
   "source": [
    "cosine_similarity_df_sorted_filtered"
   ]
  },
  {
   "cell_type": "markdown",
   "metadata": {
    "id": "IaQf5AJk2u3A"
   },
   "source": [
    "Neighbours of *fertilisation* in the two time periods:"
   ]
  },
  {
   "cell_type": "code",
   "execution_count": null,
   "metadata": {
    "colab": {
     "base_uri": "https://localhost:8080/",
     "height": 134
    },
    "id": "f4yUdAMp5KBs",
    "outputId": "de6140a9-5c9c-4a43-f434-e4a81eafa880"
   },
   "outputs": [],
   "source": [
    "print(model1.wv.similar_by_word(\"fertilisation\", 10))\n",
    "print(model2.wv.similar_by_word(\"fertilisation\", 10))\n",
    "cosine_similarity_df_sorted_filtered[cosine_similarity_df_sorted_filtered['Word'] == \"fertilisation\"]"
   ]
  },
  {
   "cell_type": "markdown",
   "metadata": {
    "id": "Djk1QuvMiaRK"
   },
   "source": [
    "I create a list for these words:"
   ]
  },
  {
   "cell_type": "code",
   "execution_count": null,
   "metadata": {
    "colab": {
     "base_uri": "https://localhost:8080/"
    },
    "id": "FeyKOudwicWy",
    "outputId": "bfe82b09-8955-4aeb-d195-48bb9d61a187"
   },
   "outputs": [],
   "source": [
    "highfreq_words = cosine_similarity_df_sorted_filtered.Word.tolist()\n",
    "highfreq_words[:10]"
   ]
  },
  {
   "cell_type": "markdown",
   "metadata": {
    "id": "lY2pzonjhFFy"
   },
   "source": [
    "Now I annotate the plot with these:"
   ]
  },
  {
   "cell_type": "code",
   "execution_count": null,
   "metadata": {
    "id": "Yj5Yw5WbaeZC"
   },
   "outputs": [],
   "source": [
    "cosine_similarity_df_sorted_filtered_p = cosine_similarity_df_sorted_filtered[['Word','Cosine_similarity', 'Total_Frequency']]\n",
    "fig, ax = plt.subplots()\n",
    "cosine_similarity_df_sorted_filtered_p.plot('Cosine_similarity', 'Total_Frequency', kind='scatter', ax=ax)\n",
    "for k, v in cosine_similarity_df_sorted_filtered_p.iterrows():\n",
    "  word = v['Word']\n",
    "  sc = v['Cosine_similarity']\n",
    "  f = v['Total_Frequency']\n",
    "  #print(\"w\", v['Word'])\n",
    "  #print(\"sc:\", str(sc))\n",
    "  #print(\"f:\", str(f))\n",
    "  ax.annotate(word, xy=(sc,f))"
   ]
  },
  {
   "cell_type": "markdown",
   "metadata": {
    "id": "51UEstlEiNeJ"
   },
   "source": [
    "What are the neighbours of these words in the two spaces?"
   ]
  },
  {
   "cell_type": "code",
   "execution_count": null,
   "metadata": {
    "id": "6ifSX158iQO3"
   },
   "outputs": [],
   "source": [
    "count = 0\n",
    "for word in highfreq_words:\n",
    "  count += 1\n",
    "  if count < 10:\n",
    "    print(word)\n",
    "    print(\"Neighbours in first space:\")\n",
    "    print(model1.wv.similar_by_word(word, 10))\n",
    "    print(\"Neighbours in second space:\")\n",
    "    print(model2.wv.similar_by_word(word, 10))"
   ]
  },
  {
   "cell_type": "markdown",
   "metadata": {
    "id": "3EgDeP0Qi9aE"
   },
   "source": [
    "I print this to an output file:"
   ]
  },
  {
   "cell_type": "code",
   "execution_count": null,
   "metadata": {
    "id": "MqqyXdujjFVH"
   },
   "outputs": [],
   "source": [
    "outfile = open(os.path.join(output_folder, 'Neighbours_freq_words.csv'), 'w+')\n",
    "\n",
    "# Write header row:\n",
    "outfile.write(\"Word, followed by  neighbours in first space and neighbours in second space\\n\") \n",
    "for word in highfreq_words:\n",
    "  #print(word)\n",
    "  #print(\"Neighbours in first space:\")\n",
    "  #print(model1.wv.similar_by_word(word, 10))\n",
    "  #print(\"Neighbours in second space:\")\n",
    "  #print(model2.wv.similar_by_word(word, 10))\n",
    "  for (w,c) in model1.wv.similar_by_word(word, 10):\n",
    "    outfile.write(word+\"\\t\" + w+\"\\t\"+str(c))\n",
    "  outfile.write(\"\\n\")\n",
    "  for (w,c) in model2.wv.similar_by_word(word, 10):\n",
    "    outfile.write(word+\"\\t\"+w+\"\\t\"+str(c))\n",
    "  outfile.write(\"\\n\")\n",
    "  \n",
    "outfile.close()"
   ]
  },
  {
   "cell_type": "markdown",
   "metadata": {
    "id": "RI6kthbqaEsD"
   },
   "source": [
    "## Semantic change detection using neighbours"
   ]
  },
  {
   "cell_type": "markdown",
   "metadata": {
    "id": "9zi0MzFNaJWy"
   },
   "source": [
    "We're going to implement the method proposed by Gonen, H., Jawahar, G., Seddah, D., & Goldberg, Y. (2020). Simple, Interpretable and Stable Method for Detecting Words with Usage Change across Corpora. In Proceedings of the 58th Annual Meeting of the Association for Computational Linguistics (pp. 538–555). https://doi.org/10.18653/v1/2020.acl-main.51 "
   ]
  },
  {
   "cell_type": "markdown",
   "metadata": {
    "id": "YXfljFwWe0Lc"
   },
   "source": [
    "Print the histogram of the frequency of the words in the corpus:"
   ]
  },
  {
   "cell_type": "code",
   "execution_count": null,
   "metadata": {
    "colab": {
     "base_uri": "https://localhost:8080/",
     "height": 468
    },
    "id": "VbPkhceRfLaj",
    "outputId": "6ee57f65-651b-44f2-e2ee-544dd48a46d6"
   },
   "outputs": [],
   "source": [
    "model = sg_w5_f1\n",
    "vocab = model.wv.index_to_key\n",
    "frequencies = list()\n",
    "for w in vocab:\n",
    "  frequencies.append(model.wv.get_vecattr(w, \"count\"))\n",
    "print(pd.DataFrame({'Word':vocab,'Freq':frequencies}).describe())\n",
    "pd.DataFrame({'Word':vocab,'Freq':frequencies}).hist()"
   ]
  },
  {
   "cell_type": "markdown",
   "metadata": {
    "id": "iqp46rC7aOP8"
   },
   "source": [
    "I exclude all words with frequency lower than min_freq and higher than max_freq:"
   ]
  },
  {
   "cell_type": "code",
   "execution_count": null,
   "metadata": {
    "id": "YJ4EguRYVAjt"
   },
   "outputs": [],
   "source": [
    "def filter_words(model, min_freq, max_freq):\n",
    "  vocab = model.wv.index_to_key\n",
    "  vocab_filtered = []\n",
    "  for w in vocab:\n",
    "    if model.wv.get_vecattr(w, \"count\") <max_freq and model.wv.get_vecattr(w, \"count\")>min_freq:\n",
    "      vocab_filtered.append(w)\n",
    "  return vocab_filtered\n",
    "\n",
    "vocab1_filtered = filter_words(model1,2,50000)\n",
    "vocab2_filtered = filter_words(model2,2,50000)\n",
    "vocab_filtered = list(set(vocab1_filtered) & set(vocab2_filtered))"
   ]
  },
  {
   "cell_type": "markdown",
   "metadata": {
    "id": "_gLjcAvLTk1l"
   },
   "source": [
    "How many words?"
   ]
  },
  {
   "cell_type": "code",
   "execution_count": null,
   "metadata": {
    "colab": {
     "base_uri": "https://localhost:8080/"
    },
    "id": "4WTrJxl6TmiI",
    "outputId": "3c25ac08-95bc-47fb-b2b3-115349dbd58e"
   },
   "outputs": [],
   "source": [
    "print(str(len(vocab_filtered)))"
   ]
  },
  {
   "cell_type": "markdown",
   "metadata": {
    "id": "0PV2tkQPhaBM"
   },
   "source": [
    "Distribution of filtered word frequencies:"
   ]
  },
  {
   "cell_type": "code",
   "execution_count": null,
   "metadata": {
    "colab": {
     "base_uri": "https://localhost:8080/",
     "height": 468
    },
    "id": "6rxKUZOThcNt",
    "outputId": "f813f924-c1f5-4548-8631-329584882666"
   },
   "outputs": [],
   "source": [
    "word2freq = pd.DataFrame({'Word':vocab,'Freq':frequencies})\n",
    "print(word2freq[(word2freq.Freq<100000) & (word2freq.Freq>3)].describe())\n",
    "word2freq[(word2freq.Freq<50000) & (word2freq.Freq>2)].hist()"
   ]
  },
  {
   "cell_type": "markdown",
   "metadata": {
    "id": "hE4aKzJuTt7M"
   },
   "source": [
    "I extract the top_n neighbours and save them in a dictionary mapping a word to the list of its 100 neighbours:"
   ]
  },
  {
   "cell_type": "code",
   "execution_count": null,
   "metadata": {
    "id": "i4JzSdeyUmrQ"
   },
   "outputs": [],
   "source": [
    "def extract_neighbours(w2vmodel, vocab_list, top_n):\n",
    "  count = 0\n",
    "  word2neighbours = dict()\n",
    "  for w in vocab_list:\n",
    "    count += 1\n",
    "    #if (count % 100) == 0:\n",
    "    #  print(str(count), \"out of\", str(len(vocab_list)), w)\n",
    "    neighbours = w2vmodel.wv.similar_by_word(w, top_n)\n",
    "    #print(str(neighbours))\n",
    "    neighbour_list = list()\n",
    "    for n in neighbours:\n",
    "      neighbour_list.append(n[0])\n",
    "    word2neighbours[w] = neighbour_list\n",
    "  return word2neighbours"
   ]
  },
  {
   "cell_type": "markdown",
   "metadata": {
    "id": "qNlucnnHYTZU"
   },
   "source": [
    "I apply this to model1 and model2 for filtered words:"
   ]
  },
  {
   "cell_type": "code",
   "execution_count": null,
   "metadata": {
    "colab": {
     "base_uri": "https://localhost:8080/"
    },
    "id": "8MyQQOIuYqaq",
    "outputId": "f7ac31ac-e079-4114-dfb4-35b621ea09a3"
   },
   "outputs": [],
   "source": [
    "#word2neighbours1 = extract_neighbours(model1, model1.wv.index_to_key)\n",
    "word2neighbours1 = extract_neighbours(model1, vocab1_filtered, 100)\n",
    "#word2neighbours2 = extract_neighbours(model2, model2.wv.index_to_key)\n",
    "word2neighbours2 = extract_neighbours(model2, vocab2_filtered, 100)"
   ]
  },
  {
   "cell_type": "markdown",
   "metadata": {
    "id": "7tPkHAkwYA6J"
   },
   "source": [
    "For every word in the intersection between the two vocabularies, compare its neighbours in t1 and its neighbours in t2; the semantic change score is the number of shared neighbours between the two divided by 100.\n",
    "NB This is different from the formula in Gonen et al. (2020), who take the negative of the overlap."
   ]
  },
  {
   "cell_type": "code",
   "execution_count": null,
   "metadata": {
    "id": "XV4M2cVfYLl2"
   },
   "outputs": [],
   "source": [
    "#vocab_12 = list(set(model1.wv.index_to_key) & set(model2.wv.index_to_key))\n",
    "w2sc = dict()\n",
    "for w in vocab_filtered:\n",
    "  sc = len(list(set(word2neighbours1[w]) & set(word2neighbours2[w])))/100\n",
    "  w2sc[w] = sc"
   ]
  },
  {
   "cell_type": "markdown",
   "metadata": {
    "id": "CweZkNdPag-g"
   },
   "source": [
    "I have saved these scores in the w2sc dictionary. Now I sort it by decreasing score to see which words changed the most:"
   ]
  },
  {
   "cell_type": "code",
   "execution_count": null,
   "metadata": {
    "colab": {
     "base_uri": "https://localhost:8080/"
    },
    "id": "DmvVWTxyaokt",
    "outputId": "8a0ea841-faea-4dd3-e205-4f4e96188a58"
   },
   "outputs": [],
   "source": [
    "w2sc_sorted = sorted(w2sc.items(), key=lambda kv: kv[1], reverse=False)\n",
    "w2sc_sorted[:10]"
   ]
  },
  {
   "cell_type": "markdown",
   "metadata": {
    "id": "5z2cxTQzbmhh"
   },
   "source": [
    "What are the most changed words?"
   ]
  },
  {
   "cell_type": "code",
   "execution_count": null,
   "metadata": {
    "colab": {
     "base_uri": "https://localhost:8080/"
    },
    "id": "LROKrzxibolH",
    "outputId": "3dd9cf5c-8834-4653-aece-6977d8a13c14"
   },
   "outputs": [],
   "source": [
    "top_changed = [i[0] for i in w2sc_sorted][:20]\n",
    "top_changed"
   ]
  },
  {
   "cell_type": "markdown",
   "metadata": {
    "id": "3KZlBbEDbj1z"
   },
   "source": [
    "What are their neighbours?"
   ]
  },
  {
   "cell_type": "code",
   "execution_count": null,
   "metadata": {
    "colab": {
     "base_uri": "https://localhost:8080/"
    },
    "id": "caIiP6ESbq1H",
    "outputId": "d84882ff-b6dd-406c-8017-43fa0e7ae2dc"
   },
   "outputs": [],
   "source": [
    "for w in top_changed:\n",
    "  print(w)\n",
    "  print(str(word2neighbours1[w]))\n",
    "  print(str(word2neighbours2[w]))"
   ]
  },
  {
   "cell_type": "code",
   "execution_count": null,
   "metadata": {
    "colab": {
     "base_uri": "https://localhost:8080/",
     "height": 297
    },
    "id": "f5AXTSaoWUPP",
    "outputId": "71aa5041-8c3c-4368-885b-a47607bab27b"
   },
   "outputs": [],
   "source": [
    "neighbours_df = pd.DataFrame(([w, w2sc[w], model1.wv.get_vecattr(w, \"count\") , model2.wv.get_vecattr(w, \"count\") ] for w in vocab_filtered), columns = ('Word', 'Neighbour_score', \"Frequency_t1\", \"Frequency_t2\"))\n",
    "neighbours_df.describe()"
   ]
  },
  {
   "cell_type": "markdown",
   "metadata": {
    "id": "da1Qi0OtWUPV"
   },
   "source": [
    "Visualise the distribution of the semantic change scores with a histogram:"
   ]
  },
  {
   "cell_type": "code",
   "execution_count": null,
   "metadata": {
    "colab": {
     "base_uri": "https://localhost:8080/",
     "height": 265
    },
    "id": "2ghdve2tWUPW",
    "outputId": "4a337b5f-8879-4511-9756-eee598ec6b7e"
   },
   "outputs": [],
   "source": [
    "hist = neighbours_df['Neighbour_score'].hist()"
   ]
  },
  {
   "cell_type": "markdown",
   "metadata": {
    "id": "YrBABO7pWUPW"
   },
   "source": [
    "Now I sort by increasing neighbour score:"
   ]
  },
  {
   "cell_type": "code",
   "execution_count": null,
   "metadata": {
    "colab": {
     "base_uri": "https://localhost:8080/",
     "height": 1000
    },
    "id": "myMUQACLWUPW",
    "outputId": "c06af804-813f-4761-9d02-dacd4059a388"
   },
   "outputs": [],
   "source": [
    "neighbours_df_sorted = neighbours_df.sort_values(by='Neighbour_score', ascending=True)\n",
    "neighbours_df_sorted.head(50)"
   ]
  },
  {
   "cell_type": "markdown",
   "metadata": {
    "id": "-zG9V-grWUPW"
   },
   "source": [
    "I add the total frequency:"
   ]
  },
  {
   "cell_type": "code",
   "execution_count": null,
   "metadata": {
    "colab": {
     "base_uri": "https://localhost:8080/",
     "height": 419
    },
    "id": "R-SYY-JhWUPW",
    "outputId": "7f2af20d-5b4b-44d8-9e56-c2478b3c1523"
   },
   "outputs": [],
   "source": [
    "neighbours_df_sorted[\"Total_Frequency\"] = neighbours_df_sorted[\"Frequency_t1\"]+neighbours_df_sorted[\"Frequency_t2\"]\n",
    "neighbours_df_sorted"
   ]
  },
  {
   "cell_type": "markdown",
   "metadata": {
    "id": "EeAEgWOHWUPW"
   },
   "source": [
    "I add a column with the category (function word, foreign word, numeral, and proper noun)."
   ]
  },
  {
   "cell_type": "code",
   "execution_count": null,
   "metadata": {
    "colab": {
     "base_uri": "https://localhost:8080/",
     "height": 419
    },
    "id": "S2Gac0WvWUPX",
    "outputId": "eaae6bf4-e7f6-457c-83c9-a910bf9f80c9"
   },
   "outputs": [],
   "source": [
    "# create a list of our conditions\n",
    "conditions = [\n",
    "    (neighbours_df_sorted['Word'].isin(function_words)), # function words\n",
    "    ((neighbours_df_sorted.Word.str.isdigit()) | (neighbours_df_sorted['Word'].str.match('^\\d*?1st$')) | (neighbours_df_sorted['Word'].str.match('^\\d*?2nd$')) | (neighbours_df_sorted['Word'].str.match('^\\d*?3rd$')) | (neighbours_df_sorted['Word'].str.match('^\\d*[^123]th$'))), # numbers\n",
    "    (neighbours_df_sorted['Word'].apply(lambda x: x[0].isupper() and x[1:len(x)].islower())), # proper nouns\n",
    "    (np.invert(neighbours_df_sorted['Word'].str.lower().isin(english_vocab))) # foreign words\n",
    "    ]\n",
    "\n",
    "# create a list of the values we want to assign for each condition\n",
    "values = ['Function word','Numeral', 'Proper noun', 'Foreign word']\n",
    "\n",
    "# create a new column and use np.select to assign values to it using our lists as arguments\n",
    "neighbours_df_sorted['Category_automatic'] = np.select(conditions, values, default = \"\")\n",
    "neighbours_df_sorted"
   ]
  },
  {
   "cell_type": "markdown",
   "metadata": {
    "id": "PFUitkPpWUPX"
   },
   "source": [
    "I save this to a file:"
   ]
  },
  {
   "cell_type": "code",
   "execution_count": null,
   "metadata": {
    "id": "RfRG5TS0WUPX"
   },
   "outputs": [],
   "source": [
    "output_folder = '/content/drive/MyDrive/2021/Darwin paper/Files/Semantic_change_output/'\n",
    "if not os.path.exists(output_folder):\n",
    "  os.makedirs(output_folder)\n",
    "neighbours_df_sorted.to_csv(os.path.join(output_folder, 'all_words_neighbourscore.csv'), encoding='utf-8')"
   ]
  },
  {
   "cell_type": "markdown",
   "metadata": {
    "id": "b2sXbIKoWUPX"
   },
   "source": [
    "## Comparison of the two methods for semantic change detection"
   ]
  },
  {
   "cell_type": "code",
   "execution_count": null,
   "metadata": {
    "colab": {
     "base_uri": "https://localhost:8080/",
     "height": 419
    },
    "id": "lI46M6c5WUPX",
    "outputId": "11834b1f-a660-4b3d-f700-882cb83f8d26"
   },
   "outputs": [],
   "source": [
    "neighbours_df_sorted.sort_values(by='Word', ascending=True)"
   ]
  },
  {
   "cell_type": "code",
   "execution_count": null,
   "metadata": {
    "colab": {
     "base_uri": "https://localhost:8080/",
     "height": 419
    },
    "id": "3hIRgbreu-vZ",
    "outputId": "1da303bd-4224-45bb-bd4d-d174d78ac543"
   },
   "outputs": [],
   "source": [
    "cosine_similarity_df_sorted.sort_values(by='Word', ascending=True)"
   ]
  },
  {
   "cell_type": "code",
   "execution_count": null,
   "metadata": {
    "colab": {
     "base_uri": "https://localhost:8080/",
     "height": 419
    },
    "id": "v-SNmOddvgCq",
    "outputId": "7a6f0cde-6465-4347-ec4c-c8881cde6f6e"
   },
   "outputs": [],
   "source": [
    "semantic_change_2methods = cosine_similarity_df_sorted.merge(neighbours_df_sorted, how = 'inner')\n",
    "semantic_change_2methods"
   ]
  },
  {
   "cell_type": "markdown",
   "metadata": {
    "id": "BbsY3voMxGXN"
   },
   "source": [
    "I integrate the neighbour score in the file:"
   ]
  },
  {
   "cell_type": "code",
   "execution_count": null,
   "metadata": {
    "colab": {
     "base_uri": "https://localhost:8080/",
     "height": 419
    },
    "id": "1uD7-CCdxK9V",
    "outputId": "fa7bbf81-ad9d-4edf-f319-161a876145f6"
   },
   "outputs": [],
   "source": [
    "semantic_change_2methods_all = cosine_similarity_df_sorted.merge(neighbours_df_sorted, how = 'outer')\n",
    "semantic_change_2methods_all.to_csv(os.path.join(output_folder, 'all_words_2scores.csv'), encoding='utf-8')\n",
    "semantic_change_2methods_all"
   ]
  },
  {
   "cell_type": "code",
   "execution_count": null,
   "metadata": {
    "colab": {
     "base_uri": "https://localhost:8080/",
     "height": 80
    },
    "id": "zpQp4qRCRe4I",
    "outputId": "cdb5c822-4077-463c-9a9c-aecd31f2e7af"
   },
   "outputs": [],
   "source": [
    "semantic_change_2methods_all[semantic_change_2methods_all['Word'] ==\"scientist\"]"
   ]
  },
  {
   "cell_type": "markdown",
   "metadata": {
    "id": "KfJlUJRpWUPX"
   },
   "source": [
    "I plot the terms by two semantic change scores:"
   ]
  },
  {
   "cell_type": "code",
   "execution_count": null,
   "metadata": {
    "colab": {
     "base_uri": "https://localhost:8080/",
     "height": 283
    },
    "id": "5P8PptneWUPY",
    "outputId": "3ba5b231-de1a-438c-a471-9f4c13d7756e"
   },
   "outputs": [],
   "source": [
    "ax = semantic_change_2methods.set_index('Cosine_similarity')['Neighbour_score'].plot(style='o')"
   ]
  },
  {
   "cell_type": "code",
   "execution_count": null,
   "metadata": {
    "colab": {
     "base_uri": "https://localhost:8080/",
     "height": 204
    },
    "id": "r4gfyTtuYB0r",
    "outputId": "55584f69-6cc5-4ef7-8850-b37e85756a11"
   },
   "outputs": [],
   "source": [
    "semantic_change_2methods_all.corr(method=\"spearman\")"
   ]
  },
  {
   "cell_type": "markdown",
   "metadata": {
    "id": "LqEt1d3_wUSC"
   },
   "source": [
    "There seems to be a positive correlation: the higher the cosine similarity the higher the neighbour similarity.\n",
    "\n"
   ]
  },
  {
   "cell_type": "code",
   "execution_count": null,
   "metadata": {
    "colab": {
     "base_uri": "https://localhost:8080/",
     "height": 297
    },
    "id": "X6GBffxgUnVi",
    "outputId": "36647ba3-5301-41f5-9e74-1d9749e28926"
   },
   "outputs": [],
   "source": [
    "semantic_change_2methods_all.describe()"
   ]
  },
  {
   "cell_type": "markdown",
   "metadata": {
    "id": "SGxWm1xdZ9OB"
   },
   "source": [
    "Scores for chosen words:"
   ]
  },
  {
   "cell_type": "code",
   "execution_count": null,
   "metadata": {
    "colab": {
     "base_uri": "https://localhost:8080/",
     "height": 297
    },
    "id": "82sgdmrjZRky",
    "outputId": "b7f7e822-aa15-451e-84ff-cc39832cf490"
   },
   "outputs": [],
   "source": [
    "semantic_change_2methods_all[semantic_change_2methods_all['Word'].isin(words_chosen)].describe()"
   ]
  },
  {
   "cell_type": "markdown",
   "metadata": {
    "id": "pFcjuQrsaBrS"
   },
   "source": [
    "Scores for not chosen words:"
   ]
  },
  {
   "cell_type": "code",
   "execution_count": null,
   "metadata": {
    "colab": {
     "base_uri": "https://localhost:8080/",
     "height": 297
    },
    "id": "aax2tQleZmup",
    "outputId": "4ceb4761-0f62-4237-d9eb-4500a36d4957"
   },
   "outputs": [],
   "source": [
    "semantic_change_2methods_all[~semantic_change_2methods_all['Word'].isin(words_chosen)].describe()"
   ]
  },
  {
   "cell_type": "markdown",
   "metadata": {
    "id": "NrCpoqBCfAsv"
   },
   "source": [
    "Compare the two means:"
   ]
  },
  {
   "cell_type": "code",
   "execution_count": null,
   "metadata": {
    "colab": {
     "base_uri": "https://localhost:8080/"
    },
    "id": "nCoun2yPajJa",
    "outputId": "36df6afa-69c3-40b9-f733-d363b45127c4"
   },
   "outputs": [],
   "source": [
    "semantic_change_2methods_all[semantic_change_2methods_all['Word'].isin(words_chosen)].mean()[[0,4]]"
   ]
  },
  {
   "cell_type": "markdown",
   "metadata": {
    "id": "WvLL11EzmUiJ"
   },
   "source": [
    "I define a list of words that I expect did not change:"
   ]
  },
  {
   "cell_type": "code",
   "execution_count": null,
   "metadata": {
    "id": "w8akuJ_cmhZ8"
   },
   "outputs": [],
   "source": [
    "not_changed = ['the', 'it', 'for', 'a', 'at', 'in', 'be', 'of', 'on', 'over', 'under']"
   ]
  },
  {
   "cell_type": "markdown",
   "metadata": {
    "id": "xCjs9t3Rmjo7"
   },
   "source": [
    "Then I look at their scores:"
   ]
  },
  {
   "cell_type": "code",
   "execution_count": null,
   "metadata": {
    "colab": {
     "base_uri": "https://localhost:8080/",
     "height": 359
    },
    "id": "JfRqMw43mnSj",
    "outputId": "eb577620-ee20-45c9-91ff-6008dfe9d106"
   },
   "outputs": [],
   "source": [
    "semantic_change_2methods_all[semantic_change_2methods_all['Word'].isin(not_changed)]"
   ]
  },
  {
   "cell_type": "code",
   "execution_count": null,
   "metadata": {
    "colab": {
     "base_uri": "https://localhost:8080/",
     "height": 297
    },
    "id": "kTUZ4d0dnXvd",
    "outputId": "154a3eb3-bb2c-4ddc-e4b9-a8eb71298ac7"
   },
   "outputs": [],
   "source": [
    "semantic_change_2methods_all[semantic_change_2methods_all['Word'].isin(not_changed)].describe()"
   ]
  },
  {
   "cell_type": "code",
   "execution_count": null,
   "metadata": {
    "colab": {
     "base_uri": "https://localhost:8080/",
     "height": 297
    },
    "id": "LoB9mxn5naBu",
    "outputId": "dddc2cfa-405d-4533-d009-a2ffb7adedba"
   },
   "outputs": [],
   "source": [
    "semantic_change_2methods_all[semantic_change_2methods_all['Word'].isin(words_chosen)].describe()"
   ]
  },
  {
   "cell_type": "markdown",
   "metadata": {
    "id": "Vo_ETdUtn5Ee"
   },
   "source": [
    "Let's look at species:"
   ]
  },
  {
   "cell_type": "code",
   "execution_count": null,
   "metadata": {
    "colab": {
     "base_uri": "https://localhost:8080/",
     "height": 80
    },
    "id": "S2idTOrWn8Gu",
    "outputId": "c05462b7-914f-4662-f8d4-c6d6c836231c"
   },
   "outputs": [],
   "source": [
    "semantic_change_2methods_all[semantic_change_2methods_all['Word']=='species']"
   ]
  },
  {
   "cell_type": "code",
   "execution_count": null,
   "metadata": {
    "colab": {
     "base_uri": "https://localhost:8080/",
     "height": 80
    },
    "id": "OafnIIwDoI5v",
    "outputId": "ada11751-919a-4190-a0d8-298572c99207"
   },
   "outputs": [],
   "source": [
    "semantic_change_2methods_all[semantic_change_2methods_all['Word']=='descent']"
   ]
  },
  {
   "cell_type": "markdown",
   "metadata": {
    "id": "rXE6sNn5fppq"
   },
   "source": [
    "I compare the means:"
   ]
  },
  {
   "cell_type": "code",
   "execution_count": null,
   "metadata": {
    "colab": {
     "base_uri": "https://localhost:8080/"
    },
    "id": "zjE2usQSfq06",
    "outputId": "38b5fbf8-e9c8-4944-9f2c-8559cc23f2f2"
   },
   "outputs": [],
   "source": [
    "semantic_change_2methods_all[semantic_change_2methods_all['Word'].isin(not_changed)].mean()[[0,4]]"
   ]
  },
  {
   "cell_type": "markdown",
   "metadata": {
    "id": "VNeosLSdf0sn"
   },
   "source": [
    "### Systematic comparison of cosine similarity and neighbour similarity by different values of parameters"
   ]
  },
  {
   "cell_type": "markdown",
   "metadata": {
    "id": "MWhQSZofnM9F"
   },
   "source": [
    "This is the list of non-scientific words currently analysed in the article:"
   ]
  },
  {
   "cell_type": "code",
   "execution_count": null,
   "metadata": {
    "id": "Ib-fraEdnQx4"
   },
   "outputs": [],
   "source": [
    "nonsci_analysed = ['lunch', 'presentation', 'herewith', 'heartfelt', 'presentation', 'inconvenient']"
   ]
  },
  {
   "cell_type": "markdown",
   "metadata": {
    "id": "SqIbprHinXkL"
   },
   "source": [
    "This is the list of scientific words currently analysed in the article:"
   ]
  },
  {
   "cell_type": "code",
   "execution_count": null,
   "metadata": {
    "id": "OtwKi0bznaBx"
   },
   "outputs": [],
   "source": [
    "sci_analysed = ['molecule', 'fundamental', 'spiritual', 'latent', 'wriggle', 'sediment']"
   ]
  },
  {
   "cell_type": "markdown",
   "metadata": {
    "id": "7jdvk25Ii4J1"
   },
   "source": [
    "I define a function that, given a minimum frequency, a maximum frequency and the number of top neighbours, does the following: filter the vocabularies, apply this to model1 and model2 for filtered words, calculates the neghbour similarity score, define a dataframe with this score, save to a file, combine the dataframe with the cosine similarity score, I plot the terms by two semantic change scores, calculate Spearman correlation between the two scores, compares the means of the two scores for the chosen words (gold standard), the words that did not change, the words that were not in the gold standard, the non-scientific words currently analysed in the article and the scientific words currently analysed in the article."
   ]
  },
  {
   "cell_type": "code",
   "execution_count": null,
   "metadata": {
    "id": "uq771BgogctR"
   },
   "outputs": [],
   "source": [
    "def compare_two_methods(min_freq, max_freq, top_n):\n",
    "  vocab1_filtered = filter_words(model1,min_freq, max_freq)\n",
    "  vocab2_filtered = filter_words(model2,min_freq, max_freq)\n",
    "  #print(\"Vocabulary 1 filtered: \"+str(len(vocab1_filtered)))\n",
    "  #print(\"Vocabulary 2 filtered: \"+str(len(vocab2_filtered)))\n",
    "  vocab_filtered = list(set(vocab1_filtered) & set(vocab2_filtered))\n",
    "  #print(\"1\")\n",
    "  word2neighbours1 = extract_neighbours(model1, vocab1_filtered, top_n)\n",
    "  #print(\"2\")\n",
    "  word2neighbours2 = extract_neighbours(model2, vocab2_filtered, top_n)\n",
    "  #print(\"3\")\n",
    "  w2sc = dict()\n",
    "  for w in vocab_filtered:\n",
    "    sc = len(list(set(word2neighbours1[w]) & set(word2neighbours2[w])))/100\n",
    "    w2sc[w] = sc\n",
    "  #print(\"4\")\n",
    "  w2sc_sorted = sorted(w2sc.items(), key=lambda kv: kv[1], reverse=False)\n",
    "  neighbours_df = pd.DataFrame(([w, w2sc[w], model1.wv.get_vecattr(w, \"count\") , model2.wv.get_vecattr(w, \"count\") ] for w in vocab_filtered), columns = ('Word', 'Neighbour_score', \"Frequency_t1\", \"Frequency_t2\"))\n",
    "  #print(\"5\")\n",
    "  #print(\"6\")\n",
    "  neighbours_df_sorted = neighbours_df.sort_values(by='Neighbour_score', ascending=True)\n",
    "  #print(\"7\")\n",
    "  neighbours_df_sorted[\"Total_Frequency\"] = neighbours_df_sorted[\"Frequency_t1\"]+neighbours_df_sorted[\"Frequency_t2\"]\n",
    "  #print(\"8\")\n",
    "  conditions = [\n",
    "    (neighbours_df_sorted['Word'].isin(function_words)), # function words\n",
    "    ((neighbours_df_sorted.Word.str.isdigit()) | (neighbours_df_sorted['Word'].str.match('^\\d*?1st$')) | (neighbours_df_sorted['Word'].str.match('^\\d*?2nd$')) | (neighbours_df_sorted['Word'].str.match('^\\d*?3rd$')) | (neighbours_df_sorted['Word'].str.match('^\\d*[^123]th$'))), # numbers\n",
    "    (neighbours_df_sorted['Word'].apply(lambda x: x[0].isupper() and x[1:len(x)].islower())), # proper nouns\n",
    "    (np.invert(neighbours_df_sorted['Word'].str.lower().isin(english_vocab))) # foreign words\n",
    "    ]\n",
    "  # create a list of the values we want to assign for each condition\n",
    "  values = ['Function word','Numeral', 'Proper noun', 'Foreign word']\n",
    "  neighbours_df_sorted['Category_automatic'] = np.select(conditions, values, default = \"\")\n",
    "  #print(\"9\")\n",
    "  neighbours_df_sorted.to_csv(os.path.join(output_folder, 'all_words_neighbourscore'+str(min_freq)+'-'+str(max_freq)+'-'+str(top_n)+'.csv'), encoding='utf-8')\n",
    "  #print(\"10\")\n",
    "  semantic_change_2methods = cosine_similarity_df_sorted.merge(neighbours_df_sorted, how = 'inner')\n",
    "  #print(\"11\")\n",
    "  semantic_change_2methods_all = cosine_similarity_df_sorted.merge(neighbours_df_sorted, how = 'outer')\n",
    "  #print(\"12\")\n",
    "  semantic_change_2methods_all.to_csv(os.path.join(output_folder, 'all_words_2scores'+str(min_freq)+'-'+str(max_freq)+'-'+str(top_n)+'.csv'), encoding='utf-8')\n",
    "  #print(\"13\")\n",
    "  ax = semantic_change_2methods.set_index('Cosine_similarity')['Neighbour_score'].plot(style='o')\n",
    "  #print(\"14\")\n",
    "  corr = (semantic_change_2methods_all.corr(method=\"spearman\")).Neighbour_score[0]\n",
    "  #print(\"Correlation:\",corr)\n",
    "  #print(\"Means of chosen words:\")\n",
    "  mean_cos_chosen = semantic_change_2methods_all[semantic_change_2methods_all['Word'].isin(words_chosen)].mean()[[0]][0]\n",
    "  mean_nei_chosen = semantic_change_2methods_all[semantic_change_2methods_all['Word'].isin(words_chosen)].mean()[[4]][0]\n",
    "  median_cos_chosen = semantic_change_2methods_all[semantic_change_2methods_all['Word'].isin(words_chosen)].median()[[0]][0]\n",
    "  median_nei_chosen = semantic_change_2methods_all[semantic_change_2methods_all['Word'].isin(words_chosen)].median()[[4]][0]\n",
    "  #print(semantic_change_2methods_all[semantic_change_2methods_all['Word'].isin(words_chosen)].mean()[[0,4]])\n",
    "  #print(\"Means of all other words:\")\n",
    "  mean_cos_other = semantic_change_2methods_all[~semantic_change_2methods_all['Word'].isin(words_chosen)].mean()[[0]][0]\n",
    "  mean_nei_other = semantic_change_2methods_all[~semantic_change_2methods_all['Word'].isin(words_chosen)].mean()[[4]][0]\n",
    "  median_cos_other = semantic_change_2methods_all[~semantic_change_2methods_all['Word'].isin(words_chosen)].median()[[0]][0]\n",
    "  median_nei_other = semantic_change_2methods_all[~semantic_change_2methods_all['Word'].isin(words_chosen)].median()[[4]][0]\n",
    "  #print(semantic_change_2methods_all[~semantic_change_2methods_all['Word'].isin(words_chosen)].mean()[[0,4]])\n",
    "  #print(\"Means of not changed words:\")\n",
    "  mean_cos_unchanged = semantic_change_2methods_all[~semantic_change_2methods_all['Word'].isin(not_changed)].mean()[[0]][0]\n",
    "  mean_nei_unchanged = semantic_change_2methods_all[~semantic_change_2methods_all['Word'].isin(not_changed)].mean()[[4]][0]\n",
    "  median_cos_unchanged = semantic_change_2methods_all[~semantic_change_2methods_all['Word'].isin(not_changed)].median()[[0]][0]\n",
    "  median_nei_unchanged = semantic_change_2methods_all[~semantic_change_2methods_all['Word'].isin(not_changed)].median()[[4]][0]\n",
    "  #print(semantic_change_2methods_all[semantic_change_2methods_all['Word'].isin(not_changed)].mean()[[0,4]])\n",
    "  #print(\"Means of non-scientific words currently analysed in the article:\")\n",
    "  mean_cos_nonscian = semantic_change_2methods_all[~semantic_change_2methods_all['Word'].isin(nonsci_analysed)].mean()[[0]][0]\n",
    "  mean_nei_nonscian = semantic_change_2methods_all[~semantic_change_2methods_all['Word'].isin(nonsci_analysed)].mean()[[4]][0]\n",
    "  median_cos_nonscian = semantic_change_2methods_all[~semantic_change_2methods_all['Word'].isin(nonsci_analysed)].median()[[0]][0]\n",
    "  median_nei_nonscian = semantic_change_2methods_all[~semantic_change_2methods_all['Word'].isin(nonsci_analysed)].median()[[4]][0]\n",
    "  #print(semantic_change_2methods_all[semantic_change_2methods_all['Word'].isin(nonsci_analysed)].mean()[[0,4]])\n",
    "  #print(\"Means of scientific words currently analysed in the article:\")\n",
    "  mean_cos_scian = semantic_change_2methods_all[~semantic_change_2methods_all['Word'].isin(sci_analysed)].mean()[[0]][0]\n",
    "  mean_nei_scian = semantic_change_2methods_all[~semantic_change_2methods_all['Word'].isin(sci_analysed)].mean()[[4]][0]\n",
    "  median_cos_scian = semantic_change_2methods_all[~semantic_change_2methods_all['Word'].isin(sci_analysed)].median()[[0]][0]\n",
    "  median_nei_scian = semantic_change_2methods_all[~semantic_change_2methods_all['Word'].isin(sci_analysed)].median()[[4]][0]\n",
    "  #print(semantic_change_2methods_all[semantic_change_2methods_all['Word'].isin(sci_analysed)].mean()[[0,4]])\n",
    "  return [vocab1_filtered, vocab2_filtered, vocab_filtered, corr, \n",
    "          mean_cos_chosen, mean_nei_chosen, mean_cos_other, mean_nei_other, mean_cos_unchanged, mean_nei_unchanged, mean_cos_nonscian, mean_nei_nonscian, mean_cos_scian, mean_nei_scian, \n",
    "          median_cos_chosen, median_nei_chosen, median_cos_other, median_nei_other, median_cos_unchanged, median_nei_unchanged, median_cos_nonscian, median_nei_nonscian, median_cos_scian,median_nei_scian]"
   ]
  },
  {
   "cell_type": "markdown",
   "metadata": {
    "id": "wGgmduVklhg2"
   },
   "source": [
    "I try different parameters:"
   ]
  },
  {
   "cell_type": "code",
   "execution_count": null,
   "metadata": {
    "colab": {
     "background_save": true,
     "base_uri": "https://localhost:8080/"
    },
    "id": "SNA_uH89ljRv",
    "outputId": "37608f86-bd93-4a6d-d749-907962a1926d"
   },
   "outputs": [],
   "source": [
    "summary = open(os.path.join(output_folder, 'summary_results.csv'), 'w+')\n",
    "writer = csv.writer(summary, delimiter=',', quotechar='|', quoting=csv.QUOTE_MINIMAL)\n",
    "writer.writerow(['min_freq','max_freq', 'top_n', 'vocab1_filtered', 'vocab2_filtered', \n",
    "                 'Spearman correlation cosine_sim-neighbour_sim', \n",
    "                 'mean_neighbourscore_chosen_words','mean_cosinescore_chosen_words',\n",
    "                 'mean_neighbourscore_other_words','mean_cosinescore_other_words',\n",
    "                 'mean_neighbourscore_unchanged_words','mean_cosinescore_unchanged_words',\n",
    "                 'mean_neighbourscore_non_sci_words_analysed','mean_cosinescore_non_sci_words_analysed',\n",
    "                 'mean_neighbourscore_sci_words_analysed','mean_cosinescore_sci_words_analysed',\n",
    "                 'median_neighbourscore_chosen_words','median_cosinescore_chosen_words',\n",
    "                 'median_neighbourscore_other_words','median_cosinescore_other_words',\n",
    "                 'median_neighbourscore_unchanged_words','median_cosinescore_unchanged_words',\n",
    "                 'median_neighbourscore_non_sci_words_analysed','median_cosinescore_non_sci_words_analysed',\n",
    "                 'median_neighbourscore_sci_words_analysed','median_cosinescore_sci_words_analysed'])\n",
    "min_freq_values = [0,1,5,10,50]\n",
    "max_freq_values = [10000,100000,200000]\n",
    "top_n_values = [10,50,100,1000]\n",
    "for min_freq in min_freq_values:\n",
    "  for max_freq in max_freq_values:\n",
    "    for top_n in top_n_values:\n",
    "      print(min_freq, max_freq, top_n)\n",
    "      [vocab1_filtered, vocab2_filtered, vocab_filtered, corr, \n",
    "       mean_cos_chosen, mean_nei_chosen, mean_cos_other, mean_nei_other, mean_cos_unchanged, mean_nei_unchanged, mean_cos_nonscian, mean_nei_nonscian, mean_cos_scian, mean_nei_scian, \n",
    "       median_cos_chosen, median_nei_chosen, median_cos_other, median_nei_other, median_cos_unchanged, median_nei_unchanged, median_cos_nonscian, median_nei_nonscian, median_cos_scian, median_nei_scian] = compare_two_methods(min_freq, max_freq, top_n)\n",
    "      writer.writerow([min_freq, max_freq, top_n, len(vocab1_filtered), len(vocab2_filtered), corr,\n",
    "                 mean_cos_chosen,mean_nei_chosen,mean_cos_other,mean_nei_other,mean_cos_unchanged,mean_nei_unchanged, mean_cos_nonscian, mean_nei_nonscian,mean_cos_scian,mean_nei_scian,\n",
    "                 median_cos_chosen,median_nei_chosen,median_cos_other,median_nei_other,median_cos_unchanged,median_nei_unchanged, median_cos_nonscian, median_nei_nonscian,median_cos_scian,median_nei_scian])\n",
    "summary.close()"
   ]
  },
  {
   "cell_type": "code",
   "execution_count": null,
   "metadata": {
    "id": "1FZ-HjxvQEqI"
   },
   "outputs": [],
   "source": [
    "\n",
    "\n"
   ]
  }
 ],
 "metadata": {
  "colab": {
   "collapsed_sections": [],
   "name": "Semantic_change.ipynb",
   "provenance": []
  },
  "kernelspec": {
   "display_name": "Python 3",
   "language": "python",
   "name": "python3"
  },
  "language_info": {
   "codemirror_mode": {
    "name": "ipython",
    "version": 3
   },
   "file_extension": ".py",
   "mimetype": "text/x-python",
   "name": "python",
   "nbconvert_exporter": "python",
   "pygments_lexer": "ipython3",
   "version": "3.8.8"
  }
 },
 "nbformat": 4,
 "nbformat_minor": 1
}
