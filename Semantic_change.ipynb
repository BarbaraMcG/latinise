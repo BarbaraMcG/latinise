{
 "cells": [
  {
   "cell_type": "markdown",
   "metadata": {
    "id": "B3i1zJ4BQ1pc"
   },
   "source": [
    "# Semantic change in LatinISE\n",
    "\n",
    "\n",
    "Barbara McGillivray"
   ]
  },
  {
   "cell_type": "markdown",
   "metadata": {
    "id": "6NyL32TSUqyA"
   },
   "source": [
    "This notebook contains the code for detecting semantic change in the Latin corpus LatinISe using word embeddings."
   ]
  },
  {
   "cell_type": "markdown",
   "metadata": {
    "id": "5pZcI50Z-0-m"
   },
   "source": [
    "## Initialisation"
   ]
  },
  {
   "cell_type": "markdown",
   "metadata": {
    "id": "s04rDpqBSg-y"
   },
   "source": [
    "I install version 4.0 of gensim, which is needed to train the word2vec models."
   ]
  },
  {
   "cell_type": "code",
   "execution_count": 137,
   "metadata": {
    "colab": {
     "base_uri": "https://localhost:8080/"
    },
    "id": "6eiPamUMSivf",
    "outputId": "f393c82f-95ff-4f08-d739-7a743eced552"
   },
   "outputs": [
    {
     "name": "stdout",
     "output_type": "stream",
     "text": [
      "Requirement already satisfied: gensim==4.0 in /Users/barbaramcgillivray/opt/anaconda3/lib/python3.8/site-packages (4.0.0)\r\n",
      "Requirement already satisfied: numpy>=1.11.3 in /Users/barbaramcgillivray/opt/anaconda3/lib/python3.8/site-packages (from gensim==4.0) (1.20.1)\r\n",
      "Requirement already satisfied: smart-open>=1.8.1 in /Users/barbaramcgillivray/opt/anaconda3/lib/python3.8/site-packages (from gensim==4.0) (5.2.1)\r\n",
      "Requirement already satisfied: scipy>=0.18.1 in /Users/barbaramcgillivray/opt/anaconda3/lib/python3.8/site-packages (from gensim==4.0) (1.6.2)\r\n"
     ]
    }
   ],
   "source": [
    "!pip install gensim==4.0"
   ]
  },
  {
   "cell_type": "markdown",
   "metadata": {
    "id": "2EnttAvC_7Dg"
   },
   "source": [
    "Import libraries"
   ]
  },
  {
   "cell_type": "code",
   "execution_count": 138,
   "metadata": {
    "colab": {
     "base_uri": "https://localhost:8080/"
    },
    "id": "oCym1_NBADP6",
    "outputId": "f9fa567a-1127-402a-cc62-02469720b97d"
   },
   "outputs": [],
   "source": [
    "import os \n",
    "#from bs4 import BeautifulSoup\n",
    "import csv\n",
    "import numpy as np\n",
    "import pandas as pd\n",
    "#from nltk.tokenize import sent_tokenize, word_tokenize, RegexpTokenizer\n",
    "#from nltk.corpus import stopwords\n",
    "#import nltk\n",
    "#nltk.download('punkt')\n",
    "#nltk.download('stopwords')\n",
    "from gensim.models import FastText\n",
    "import gensim\n",
    "from scipy import spatial\n",
    "from sklearn.manifold import TSNE\n",
    "import matplotlib.pyplot as plt\n",
    "import time\n",
    "from sklearn.decomposition import PCA\n",
    "import spacy\n",
    "import re\n",
    "from statistics import mean\n",
    "#from langdetect import detect\n",
    "# to make our plot outputs appear and be stored within the notebook:\n",
    "%matplotlib inline "
   ]
  },
  {
   "cell_type": "markdown",
   "metadata": {},
   "source": [
    "# Parameters"
   ]
  },
  {
   "cell_type": "markdown",
   "metadata": {},
   "source": [
    "I set the parameters of the analysis."
   ]
  },
  {
   "cell_type": "code",
   "execution_count": 139,
   "metadata": {},
   "outputs": [],
   "source": [
    "lemmas_or_tokens = \"lemmas\" # this can be \"lemmas\" or \"tokens\""
   ]
  },
  {
   "cell_type": "markdown",
   "metadata": {
    "id": "hAk1QvSdQyOP"
   },
   "source": [
    "## Reading the files"
   ]
  },
  {
   "cell_type": "markdown",
   "metadata": {
    "id": "4w7hFq6SSUAf"
   },
   "source": [
    "I define the name of the folders:"
   ]
  },
  {
   "cell_type": "code",
   "execution_count": 140,
   "metadata": {
    "id": "sof23JqOSV3C"
   },
   "outputs": [
    {
     "data": {
      "text/plain": [
       "\"/Users/barbaramcgillivray/OneDrive - King's College London/Research/2022/Nexus Linguarum WG4 UC4.2/LatinISE\""
      ]
     },
     "execution_count": 140,
     "metadata": {},
     "output_type": "execute_result"
    }
   ],
   "source": [
    "dir_in = os.path.join(\"/Users\", \"barbaramcgillivray\", \"OneDrive - King's College London\", \"Research\", \"2022\", \"Nexus Linguarum WG4 UC4.2\",  \"LatinISE\")\n",
    "dir_in"
   ]
  },
  {
   "cell_type": "markdown",
   "metadata": {
    "id": "4O5Io99ySN4W"
   },
   "source": [
    "I define the list of all files:"
   ]
  },
  {
   "cell_type": "code",
   "execution_count": 141,
   "metadata": {
    "id": "-g1Ld6VxRWik"
   },
   "outputs": [],
   "source": [
    "files = os.listdir(os.path.join(dir_in, \"preprocessed_\"+lemmas_or_tokens))"
   ]
  },
  {
   "cell_type": "markdown",
   "metadata": {
    "id": "VOLUEyREC1XF"
   },
   "source": [
    "How many files are in the folder?\n"
   ]
  },
  {
   "cell_type": "code",
   "execution_count": 142,
   "metadata": {
    "colab": {
     "base_uri": "https://localhost:8080/"
    },
    "id": "44-n5HICDGRm",
    "outputId": "2a1bbc46-1ad9-424e-eced-690dbfd0cc5f"
   },
   "outputs": [
    {
     "data": {
      "text/plain": [
       "1146"
      ]
     },
     "execution_count": 142,
     "metadata": {},
     "output_type": "execute_result"
    }
   ],
   "source": [
    "len(files)"
   ]
  },
  {
   "cell_type": "markdown",
   "metadata": {
    "id": "_F4SYzZKBiF8"
   },
   "source": [
    "We only want IntraText files:"
   ]
  },
  {
   "cell_type": "code",
   "execution_count": 143,
   "metadata": {
    "colab": {
     "base_uri": "https://localhost:8080/"
    },
    "id": "yc0MF7UGBkEi",
    "outputId": "5a311754-8ef6-472e-a24b-72b75b77f705"
   },
   "outputs": [
    {
     "data": {
      "text/plain": [
       "553"
      ]
     },
     "execution_count": 143,
     "metadata": {},
     "output_type": "execute_result"
    }
   ],
   "source": [
    "files = [f for f in files[:] if \"IT\" in f]\n",
    "len(files)"
   ]
  },
  {
   "cell_type": "markdown",
   "metadata": {
    "id": "Sx4Y8R_DaHTV"
   },
   "source": [
    "I read the metadata file:"
   ]
  },
  {
   "cell_type": "code",
   "execution_count": 144,
   "metadata": {
    "id": "1CTee5CAXIZZ"
   },
   "outputs": [],
   "source": [
    "metadata_df = pd.read_csv(os.path.join(dir_in, 'latinise_metadata.csv'), sep = \",\")\n",
    "metadata_df = metadata_df[metadata_df['id'].str.startswith(\"IT\")]"
   ]
  },
  {
   "cell_type": "code",
   "execution_count": 145,
   "metadata": {
    "colab": {
     "base_uri": "https://localhost:8080/"
    },
    "id": "nhZpiNQS4-e-",
    "outputId": "076277dd-fd2a-4d8a-fbd2-cfc27ee88c9d"
   },
   "outputs": [
    {
     "data": {
      "text/plain": [
       "(670, 5)"
      ]
     },
     "execution_count": 145,
     "metadata": {},
     "output_type": "execute_result"
    }
   ],
   "source": [
    "metadata_df.shape"
   ]
  },
  {
   "cell_type": "code",
   "execution_count": 146,
   "metadata": {},
   "outputs": [
    {
     "data": {
      "text/plain": [
       "Index(['id', 'title', 'creator', 'date', 'type'], dtype='object')"
      ]
     },
     "execution_count": 146,
     "metadata": {},
     "output_type": "execute_result"
    }
   ],
   "source": [
    "metadata_df.columns"
   ]
  },
  {
   "cell_type": "code",
   "execution_count": 147,
   "metadata": {},
   "outputs": [
    {
     "data": {
      "text/plain": [
       "<bound method NDFrame.describe of 18      382\n",
       "19       -9\n",
       "20      524\n",
       "21     1254\n",
       "22     1254\n",
       "       ... \n",
       "683     116\n",
       "684     116\n",
       "685     116\n",
       "686     116\n",
       "687     533\n",
       "Name: date, Length: 670, dtype: int64>"
      ]
     },
     "execution_count": 147,
     "metadata": {},
     "output_type": "execute_result"
    }
   ],
   "source": [
    "metadata_df['date'].describe"
   ]
  },
  {
   "cell_type": "code",
   "execution_count": 148,
   "metadata": {},
   "outputs": [
    {
     "data": {
      "text/plain": [
       "<bound method NDFrame.head of              id                          title  \\\n",
       "18   IT-LAT0001                        Vulgata   \n",
       "19   IT-LAT0537                   Ars amatoria   \n",
       "20   IT-LAT0011            S. Benedicti Regula   \n",
       "21   IT-LAT0012   In psalmis Davidis expositio   \n",
       "22   IT-LAT0014                Adoro te devote   \n",
       "..          ...                            ...   \n",
       "683  IT-LAT0534  De origine et situ Germanorum   \n",
       "684  IT-LAT0534        De vita Iulii Agricolae   \n",
       "685  IT-LAT0534         Dialogus de oratoribus   \n",
       "686  IT-LAT0534                      Historiae   \n",
       "687  IT-LAT0202                  Institutiones   \n",
       "\n",
       "                                               creator  date    type  \n",
       "18                                          Hieronymus   382  poetry  \n",
       "19                               Ovidius Naso, Publius    -9  poetry  \n",
       "20                                Benedictus Nursianus   524   prose  \n",
       "21                             Thomas Aquinas: Sanctus  1254   prose  \n",
       "22                             Thomas Aquinas: Sanctus  1254  poetry  \n",
       "..                                                 ...   ...     ...  \n",
       "683                 Tacitus, Publius (Gaius) Cornelius   116   prose  \n",
       "684                 Tacitus, Publius (Gaius) Cornelius   116   prose  \n",
       "685                 Tacitus, Publius (Gaius) Cornelius   116   prose  \n",
       "686                 Tacitus, Publius (Gaius) Cornelius   116   prose  \n",
       "687  Iustinianus, Caesar Flavius (Imperator Iustini...   533   prose  \n",
       "\n",
       "[670 rows x 5 columns]>"
      ]
     },
     "execution_count": 148,
     "metadata": {},
     "output_type": "execute_result"
    }
   ],
   "source": [
    "metadata_df.head"
   ]
  },
  {
   "cell_type": "markdown",
   "metadata": {
    "id": "oXZIYRhGYgHk"
   },
   "source": [
    "Number of works per year:"
   ]
  },
  {
   "cell_type": "code",
   "execution_count": 149,
   "metadata": {
    "colab": {
     "base_uri": "https://localhost:8080/"
    },
    "id": "rNyNLraB-imV",
    "outputId": "6fdd9486-2f12-4880-d566-393957afa2ab"
   },
   "outputs": [
    {
     "data": {
      "text/plain": [
       "date\n",
       "-450     1\n",
       "-229     1\n",
       "-199     3\n",
       "-185     1\n",
       "-149     2\n",
       "        ..\n",
       " 2001    4\n",
       " 2002    2\n",
       " 2003    1\n",
       " 2004    1\n",
       " 2005    1\n",
       "Name: id, Length: 263, dtype: int64"
      ]
     },
     "execution_count": 149,
     "metadata": {},
     "output_type": "execute_result"
    }
   ],
   "source": [
    "metadata_df0 = metadata_df.groupby(['date']).count()\n",
    "metadata_df0 = metadata_df0['id']\n",
    "metadata_df0"
   ]
  },
  {
   "cell_type": "code",
   "execution_count": 150,
   "metadata": {
    "colab": {
     "base_uri": "https://localhost:8080/",
     "height": 428
    },
    "id": "BGdacw4X-9nw",
    "outputId": "faa160f2-1800-41e6-8113-ea200ca0fc29"
   },
   "outputs": [
    {
     "data": {
      "image/png": "[encoded data removed]",
      "text/plain": [
       "<Figure size 1440x1152 with 1 Axes>"
      ]
     },
     "metadata": {
      "needs_background": "light"
     },
     "output_type": "display_data"
    }
   ],
   "source": [
    "ax = metadata_df0.plot(kind='bar', figsize=(20,16), color=\"indigo\", fontsize=10);\n",
    "#ax.set_alpha(0.5)\n",
    "ax.set_title(\"Number of works per year\", fontsize=22)\n",
    "plt.show()"
   ]
  },
  {
   "cell_type": "markdown",
   "metadata": {
    "id": "-RVdJPB8877F"
   },
   "source": [
    "## Train word embeddings for each time period\n"
   ]
  },
  {
   "cell_type": "markdown",
   "metadata": {},
   "source": [
    "Find the first and last year in the dataset:"
   ]
  },
  {
   "cell_type": "code",
   "execution_count": 151,
   "metadata": {
    "colab": {
     "base_uri": "https://localhost:8080/"
    },
    "id": "XAJicX9P2-38",
    "outputId": "02845dc5-194d-4af0-e0a4-704e3848421e"
   },
   "outputs": [
    {
     "name": "stdout",
     "output_type": "stream",
     "text": [
      "-450\n",
      "2005\n"
     ]
    }
   ],
   "source": [
    "first_date = min(metadata_df.date)\n",
    "last_date = max(metadata_df.date)\n",
    "print(first_date)\n",
    "print(last_date)"
   ]
  },
  {
   "cell_type": "markdown",
   "metadata": {},
   "source": [
    "Define size of the time intervals:"
   ]
  },
  {
   "cell_type": "code",
   "execution_count": 152,
   "metadata": {},
   "outputs": [],
   "source": [
    "size_interval = 100"
   ]
  },
  {
   "cell_type": "markdown",
   "metadata": {},
   "source": [
    "So there are"
   ]
  },
  {
   "cell_type": "code",
   "execution_count": 153,
   "metadata": {},
   "outputs": [
    {
     "data": {
      "text/plain": [
       "25"
      ]
     },
     "execution_count": 153,
     "metadata": {},
     "output_type": "execute_result"
    }
   ],
   "source": [
    "n_intervals = round((last_date-first_date)/size_interval)\n",
    "n_intervals"
   ]
  },
  {
   "cell_type": "markdown",
   "metadata": {},
   "source": [
    "time intervals."
   ]
  },
  {
   "cell_type": "markdown",
   "metadata": {
    "id": "bUW2Qo0e8rLF"
   },
   "source": [
    "Define the time periods and split the corpus:"
   ]
  },
  {
   "cell_type": "code",
   "execution_count": 154,
   "metadata": {},
   "outputs": [
    {
     "name": "stdout",
     "output_type": "stream",
     "text": [
      "[-450, -350, -250, -150, -50, 50, 150, 250, 350, 450, 550, 650, 750, 850, 950, 1050, 1150, 1250, 1350, 1450, 1550, 1650, 1750, 1850, 1950, 2050]\n"
     ]
    }
   ],
   "source": [
    "intervals = [None]*(n_intervals+1)\n",
    "for t in range(n_intervals+1):\n",
    "    #print(t)\n",
    "    if t == 0:\n",
    "        intervals[t] = first_date\n",
    "    else:\n",
    "        intervals[t] = intervals[t-1]+size_interval\n",
    "    #print(intervals[t])\n",
    "    \n",
    "print(intervals)"
   ]
  },
  {
   "cell_type": "markdown",
   "metadata": {},
   "source": [
    "Add a column to the metadata_df for the time interval:"
   ]
  },
  {
   "cell_type": "code",
   "execution_count": 155,
   "metadata": {},
   "outputs": [
    {
     "name": "stdout",
     "output_type": "stream",
     "text": [
      "0\n",
      "range(-450, -350)\n",
      "169   -450\n",
      "Name: date, dtype: int64\n",
      "1\n",
      "range(-350, -250)\n",
      "Series([], Name: date, dtype: int64)\n",
      "2\n",
      "range(-250, -150)\n",
      "137   -199\n",
      "219   -199\n",
      "232   -199\n",
      "605   -185\n",
      "649   -229\n",
      "Name: date, dtype: int64\n",
      "3\n",
      "range(-150, -50)\n",
      "57     -80\n",
      "58     -79\n",
      "59     -61\n",
      "60     -51\n",
      "79     -75\n",
      "80     -65\n",
      "81     -62\n",
      "82     -62\n",
      "84     -58\n",
      "88     -55\n",
      "89     -55\n",
      "90     -55\n",
      "91     -53\n",
      "92     -54\n",
      "127    -59\n",
      "129    -55\n",
      "130    -84\n",
      "141    -89\n",
      "154    -51\n",
      "213    -91\n",
      "215   -149\n",
      "223    -79\n",
      "322    -51\n",
      "635   -149\n",
      "638   -107\n",
      "Name: date, dtype: int64\n",
      "4\n",
      "range(-50, 50)\n",
      "19     -9\n",
      "34    -49\n",
      "38     49\n",
      "39    -45\n",
      "42    -49\n",
      "48     49\n",
      "50      0\n",
      "54     40\n",
      "61    -43\n",
      "62    -43\n",
      "64    -43\n",
      "65      0\n",
      "67    -49\n",
      "70     43\n",
      "73     41\n",
      "76     -2\n",
      "83      0\n",
      "93    -45\n",
      "94    -45\n",
      "95    -44\n",
      "97     -1\n",
      "98     29\n",
      "103   -43\n",
      "110   -45\n",
      "111   -45\n",
      "112   -45\n",
      "113   -45\n",
      "114     0\n",
      "115   -45\n",
      "116   -45\n",
      "119   -45\n",
      "121   -45\n",
      "124   -45\n",
      "125   -45\n",
      "126   -45\n",
      "128   -45\n",
      "131   -45\n",
      "133   -45\n",
      "135   -45\n",
      "142   -49\n",
      "143   -49\n",
      "151   -47\n",
      "152   -44\n",
      "164   -49\n",
      "166    13\n",
      "168   -49\n",
      "171   -45\n",
      "172   -45\n",
      "181   -44\n",
      "217   -49\n",
      "218     1\n",
      "221    30\n",
      "225   -49\n",
      "535   -49\n",
      "555    30\n",
      "587   -45\n",
      "607   -44\n",
      "608   -44\n",
      "642   -37\n",
      "643   -37\n",
      "Name: date, dtype: int64\n",
      "5\n",
      "range(50, 150)\n",
      "40      50\n",
      "41     121\n",
      "46      50\n",
      "47      62\n",
      "49      63\n",
      "51      62\n",
      "52      58\n",
      "68      65\n",
      "69     100\n",
      "71      50\n",
      "77     113\n",
      "100     50\n",
      "101     50\n",
      "132     54\n",
      "134     62\n",
      "138     65\n",
      "140     50\n",
      "159     50\n",
      "160     50\n",
      "182     50\n",
      "184     91\n",
      "190    100\n",
      "191    100\n",
      "192    100\n",
      "193    100\n",
      "194    100\n",
      "195    100\n",
      "196    100\n",
      "197    100\n",
      "198    100\n",
      "202     50\n",
      "245     50\n",
      "321    116\n",
      "339     50\n",
      "362     50\n",
      "399     50\n",
      "446    113\n",
      "483    100\n",
      "542     50\n",
      "599     67\n",
      "683    116\n",
      "684    116\n",
      "685    116\n",
      "686    116\n",
      "Name: date, dtype: int64\n",
      "6\n",
      "range(150, 250)\n",
      "37     158\n",
      "43     199\n",
      "45     197\n",
      "146    197\n",
      "147    198\n",
      "153    198\n",
      "161    150\n",
      "199    205\n",
      "205    150\n",
      "233    150\n",
      "234    150\n",
      "260    197\n",
      "274    200\n",
      "376    210\n",
      "452    210\n",
      "453    213\n",
      "454    198\n",
      "457    205\n",
      "458    210\n",
      "459    213\n",
      "460    198\n",
      "461    198\n",
      "464    213\n",
      "487    213\n",
      "581    150\n",
      "Name: date, dtype: int64\n",
      "7\n",
      "range(250, 350)\n",
      "75     250\n",
      "120    250\n",
      "122    300\n",
      "123    250\n",
      "158    300\n",
      "162    318\n",
      "200    300\n",
      "237    250\n",
      "377    250\n",
      "388    250\n",
      "426    250\n",
      "532    250\n",
      "540    250\n",
      "546    300\n",
      "557    330\n",
      "561    260\n",
      "562    260\n",
      "563    260\n",
      "579    250\n",
      "580    250\n",
      "611    250\n",
      "Name: date, dtype: int64\n",
      "8\n",
      "range(350, 450)\n",
      "18     382\n",
      "23     399\n",
      "24     391\n",
      "44     387\n",
      "53     385\n",
      "      ... \n",
      "678    382\n",
      "679    382\n",
      "680    382\n",
      "681    382\n",
      "682    382\n",
      "Name: date, Length: 131, dtype: int64\n",
      "9\n",
      "range(450, 550)\n",
      "20     524\n",
      "148    540\n",
      "149    535\n",
      "150    535\n",
      "185    450\n",
      "186    450\n",
      "187    450\n",
      "238    450\n",
      "378    450\n",
      "381    450\n",
      "541    531\n",
      "570    450\n",
      "582    502\n",
      "645    450\n",
      "687    533\n",
      "Name: date, dtype: int64\n",
      "10\n",
      "range(550, 650)\n",
      "118    550\n",
      "144    562\n",
      "173    550\n",
      "226    550\n",
      "228    550\n",
      "229    550\n",
      "230    550\n",
      "235    550\n",
      "239    550\n",
      "247    550\n",
      "248    550\n",
      "249    550\n",
      "250    550\n",
      "264    550\n",
      "266    550\n",
      "281    562\n",
      "455    550\n",
      "482    550\n",
      "490    550\n",
      "548    550\n",
      "572    550\n",
      "574    598\n",
      "575    598\n",
      "609    598\n",
      "634    550\n",
      "636    550\n",
      "Name: date, dtype: int64\n",
      "11\n",
      "range(650, 750)\n",
      "240    704\n",
      "241    704\n",
      "242    704\n",
      "243    704\n",
      "244    721\n",
      "484    650\n",
      "534    650\n",
      "586    731\n",
      "Name: date, dtype: int64\n",
      "12\n",
      "range(750, 850)\n",
      "102    800\n",
      "104    800\n",
      "105    800\n",
      "106    800\n",
      "107    800\n",
      "108    800\n",
      "109    800\n",
      "189    792\n",
      "203    759\n",
      "204    759\n",
      "224    818\n",
      "270    800\n",
      "283    775\n",
      "287    838\n",
      "293    833\n",
      "558    841\n",
      "573    770\n",
      "577    800\n",
      "601    833\n",
      "Name: date, dtype: int64\n",
      "13\n",
      "range(850, 950)\n",
      "269    850\n",
      "275    909\n",
      "475    850\n",
      "481    871\n",
      "491    850\n",
      "559    907\n",
      "585    850\n",
      "Name: date, dtype: int64\n",
      "14\n",
      "range(950, 1050)\n",
      "268     950\n",
      "384     950\n",
      "449    1000\n",
      "450     950\n",
      "485     950\n",
      "628     950\n",
      "Name: date, dtype: int64\n",
      "15\n",
      "range(1050, 1150)\n",
      "246    1110\n",
      "271    1141\n",
      "276    1098\n",
      "277    1096\n",
      "280    1050\n",
      "290    1098\n",
      "298    1125\n",
      "316    1118\n",
      "354    1050\n",
      "358    1065\n",
      "370    1050\n",
      "375    1050\n",
      "386    1088\n",
      "425    1112\n",
      "433    1073\n",
      "465    1100\n",
      "480    1142\n",
      "507    1148\n",
      "566    1078\n",
      "569    1136\n",
      "576    1112\n",
      "578    1073\n",
      "612    1110\n",
      "613    1110\n",
      "614    1110\n",
      "615    1110\n",
      "616    1110\n",
      "617    1110\n",
      "618    1110\n",
      "619    1110\n",
      "620    1110\n",
      "621    1110\n",
      "622    1110\n",
      "623    1110\n",
      "624    1067\n",
      "625    1110\n",
      "626    1110\n",
      "Name: date, dtype: int64\n",
      "16\n",
      "range(1150, 1250)\n",
      "25     1224\n",
      "26     1150\n",
      "273    1242\n",
      "278    1150\n",
      "289    1200\n",
      "       ... \n",
      "550    1150\n",
      "556    1235\n",
      "567    1157\n",
      "571    1218\n",
      "583    1247\n",
      "Name: date, Length: 61, dtype: int64\n",
      "17\n",
      "range(1250, 1350)\n",
      "21     1254\n",
      "22     1254\n",
      "31     1260\n",
      "32     1250\n",
      "167    1254\n",
      "174    1312\n",
      "175    1278\n",
      "253    1319\n",
      "254    1293\n",
      "255    1320\n",
      "256    1310\n",
      "257    1304\n",
      "292    1300\n",
      "385    1250\n",
      "434    1289\n",
      "435    1323\n",
      "436    1324\n",
      "444    1254\n",
      "506    1316\n",
      "517    1250\n",
      "518    1250\n",
      "520    1250\n",
      "523    1250\n",
      "530    1250\n",
      "568    1254\n",
      "602    1337\n",
      "603    1339\n",
      "610    1250\n",
      "Name: date, dtype: int64\n",
      "18\n",
      "range(1350, 1450)\n",
      "145    1428\n",
      "165    1350\n",
      "252    1435\n",
      "262    1438\n",
      "263    1438\n",
      "265    1438\n",
      "288    1410\n",
      "344    1360\n",
      "352    1445\n",
      "414    1350\n",
      "415    1350\n",
      "509    1350\n",
      "595    1434\n",
      "596    1434\n",
      "597    1434\n",
      "604    1355\n",
      "606    1397\n",
      "Name: date, dtype: int64\n",
      "19\n",
      "range(1450, 1550)\n",
      "28     1517\n",
      "29     1547\n",
      "30     1530\n",
      "214    1450\n",
      "282    1492\n",
      "284    1526\n",
      "326    1545\n",
      "327    1524\n",
      "335    1546\n",
      "336    1519\n",
      "337    1516\n",
      "338    1506\n",
      "345    1530\n",
      "346    1517\n",
      "350    1478\n",
      "351    1486\n",
      "360    1494\n",
      "387    1492\n",
      "405    1483\n",
      "410    1450\n",
      "411    1450\n",
      "413    1494\n",
      "427    1504\n",
      "428    1511\n",
      "430    1500\n",
      "437    1482\n",
      "552    1486\n",
      "588    1501\n",
      "589    1501\n",
      "590    1501\n",
      "592    1475\n",
      "593    1501\n",
      "598    1528\n",
      "644    1501\n",
      "646    1483\n",
      "Name: date, dtype: int64\n",
      "20\n",
      "range(1550, 1650)\n",
      "272    1550\n",
      "285    1550\n",
      "361    1550\n",
      "363    1632\n",
      "404    1550\n",
      "406    1627\n",
      "407    1550\n",
      "417    1593\n",
      "418    1593\n",
      "431    1595\n",
      "442    1600\n",
      "508    1570\n",
      "515    1588\n",
      "539    1550\n",
      "547    1550\n",
      "560    1610\n",
      "591    1603\n",
      "594    1568\n",
      "637    1550\n",
      "639    1621\n",
      "640    1614\n",
      "647    1550\n",
      "650    1555\n",
      "Name: date, dtype: int64\n",
      "21\n",
      "range(1650, 1750)\n",
      "364    1668\n",
      "368    1707\n",
      "391    1667\n",
      "392    1695\n",
      "393    1695\n",
      "394    1695\n",
      "395    1695\n",
      "396    1695\n",
      "397    1695\n",
      "398    1695\n",
      "401    1650\n",
      "403    1650\n",
      "412    1650\n",
      "416    1650\n",
      "538    1650\n",
      "564    1699\n",
      "565    1741\n",
      "600    1708\n",
      "641    1685\n",
      "651    1684\n",
      "652    1684\n",
      "Name: date, dtype: int64\n",
      "22\n",
      "range(1750, 1850)\n",
      "279    1766\n",
      "343    1820\n",
      "349    1815\n",
      "353    1750\n",
      "440    1795\n",
      "441    1810\n",
      "443    1767\n",
      "473    1781\n",
      "488    1760\n",
      "489    1779\n",
      "554    1792\n",
      "Name: date, dtype: int64\n",
      "23\n",
      "range(1850, 1950)\n",
      "355    1868\n",
      "356    1868\n",
      "357    1869\n",
      "432    1872\n",
      "438    1858\n",
      "505    1917\n",
      "516    1909\n",
      "629    1897\n",
      "630    1902\n",
      "631    1891\n",
      "632    1892\n",
      "633    1892\n",
      "Name: date, dtype: int64\n",
      "24\n",
      "range(1950, 2050)\n",
      "27     2000\n",
      "33     1998\n",
      "35     2001\n",
      "36     1992\n",
      "220    1998\n",
      "251    2001\n",
      "258    2002\n",
      "259    2001\n",
      "261    1994\n",
      "267    1998\n",
      "323    2002\n",
      "347    1998\n",
      "348    1998\n",
      "408    1988\n",
      "409    1999\n",
      "429    1979\n",
      "462    1998\n",
      "463    1999\n",
      "466    1990\n",
      "467    1978\n",
      "468    1975\n",
      "469    1975\n",
      "470    2003\n",
      "471    1978\n",
      "474    1957\n",
      "486    1998\n",
      "500    1997\n",
      "511    1968\n",
      "521    2001\n",
      "522    1980\n",
      "525    2004\n",
      "526    2005\n",
      "Name: date, dtype: int64\n"
     ]
    },
    {
     "data": {
      "text/html": [
       "<div>\n",
       "<style scoped>\n",
       "    .dataframe tbody tr th:only-of-type {\n",
       "        vertical-align: middle;\n",
       "    }\n",
       "\n",
       "    .dataframe tbody tr th {\n",
       "        vertical-align: top;\n",
       "    }\n",
       "\n",
       "    .dataframe thead th {\n",
       "        text-align: right;\n",
       "    }\n",
       "</style>\n",
       "<table border=\"1\" class=\"dataframe\">\n",
       "  <thead>\n",
       "    <tr style=\"text-align: right;\">\n",
       "      <th></th>\n",
       "      <th>id</th>\n",
       "      <th>title</th>\n",
       "      <th>creator</th>\n",
       "      <th>date</th>\n",
       "      <th>type</th>\n",
       "      <th>time_interval</th>\n",
       "    </tr>\n",
       "  </thead>\n",
       "  <tbody>\n",
       "    <tr>\n",
       "      <th>18</th>\n",
       "      <td>IT-LAT0001</td>\n",
       "      <td>Vulgata</td>\n",
       "      <td>Hieronymus</td>\n",
       "      <td>382</td>\n",
       "      <td>poetry</td>\n",
       "      <td>350</td>\n",
       "    </tr>\n",
       "    <tr>\n",
       "      <th>19</th>\n",
       "      <td>IT-LAT0537</td>\n",
       "      <td>Ars amatoria</td>\n",
       "      <td>Ovidius Naso, Publius</td>\n",
       "      <td>-9</td>\n",
       "      <td>poetry</td>\n",
       "      <td>-50</td>\n",
       "    </tr>\n",
       "    <tr>\n",
       "      <th>20</th>\n",
       "      <td>IT-LAT0011</td>\n",
       "      <td>S. Benedicti Regula</td>\n",
       "      <td>Benedictus Nursianus</td>\n",
       "      <td>524</td>\n",
       "      <td>prose</td>\n",
       "      <td>450</td>\n",
       "    </tr>\n",
       "    <tr>\n",
       "      <th>21</th>\n",
       "      <td>IT-LAT0012</td>\n",
       "      <td>In psalmis Davidis expositio</td>\n",
       "      <td>Thomas Aquinas: Sanctus</td>\n",
       "      <td>1254</td>\n",
       "      <td>prose</td>\n",
       "      <td>1250</td>\n",
       "    </tr>\n",
       "    <tr>\n",
       "      <th>22</th>\n",
       "      <td>IT-LAT0014</td>\n",
       "      <td>Adoro te devote</td>\n",
       "      <td>Thomas Aquinas: Sanctus</td>\n",
       "      <td>1254</td>\n",
       "      <td>poetry</td>\n",
       "      <td>1250</td>\n",
       "    </tr>\n",
       "    <tr>\n",
       "      <th>...</th>\n",
       "      <td>...</td>\n",
       "      <td>...</td>\n",
       "      <td>...</td>\n",
       "      <td>...</td>\n",
       "      <td>...</td>\n",
       "      <td>...</td>\n",
       "    </tr>\n",
       "    <tr>\n",
       "      <th>683</th>\n",
       "      <td>IT-LAT0534</td>\n",
       "      <td>De origine et situ Germanorum</td>\n",
       "      <td>Tacitus, Publius (Gaius) Cornelius</td>\n",
       "      <td>116</td>\n",
       "      <td>prose</td>\n",
       "      <td>50</td>\n",
       "    </tr>\n",
       "    <tr>\n",
       "      <th>684</th>\n",
       "      <td>IT-LAT0534</td>\n",
       "      <td>De vita Iulii Agricolae</td>\n",
       "      <td>Tacitus, Publius (Gaius) Cornelius</td>\n",
       "      <td>116</td>\n",
       "      <td>prose</td>\n",
       "      <td>50</td>\n",
       "    </tr>\n",
       "    <tr>\n",
       "      <th>685</th>\n",
       "      <td>IT-LAT0534</td>\n",
       "      <td>Dialogus de oratoribus</td>\n",
       "      <td>Tacitus, Publius (Gaius) Cornelius</td>\n",
       "      <td>116</td>\n",
       "      <td>prose</td>\n",
       "      <td>50</td>\n",
       "    </tr>\n",
       "    <tr>\n",
       "      <th>686</th>\n",
       "      <td>IT-LAT0534</td>\n",
       "      <td>Historiae</td>\n",
       "      <td>Tacitus, Publius (Gaius) Cornelius</td>\n",
       "      <td>116</td>\n",
       "      <td>prose</td>\n",
       "      <td>50</td>\n",
       "    </tr>\n",
       "    <tr>\n",
       "      <th>687</th>\n",
       "      <td>IT-LAT0202</td>\n",
       "      <td>Institutiones</td>\n",
       "      <td>Iustinianus, Caesar Flavius (Imperator Iustini...</td>\n",
       "      <td>533</td>\n",
       "      <td>prose</td>\n",
       "      <td>450</td>\n",
       "    </tr>\n",
       "  </tbody>\n",
       "</table>\n",
       "<p>670 rows × 6 columns</p>\n",
       "</div>"
      ],
      "text/plain": [
       "             id                          title  \\\n",
       "18   IT-LAT0001                        Vulgata   \n",
       "19   IT-LAT0537                   Ars amatoria   \n",
       "20   IT-LAT0011            S. Benedicti Regula   \n",
       "21   IT-LAT0012   In psalmis Davidis expositio   \n",
       "22   IT-LAT0014                Adoro te devote   \n",
       "..          ...                            ...   \n",
       "683  IT-LAT0534  De origine et situ Germanorum   \n",
       "684  IT-LAT0534        De vita Iulii Agricolae   \n",
       "685  IT-LAT0534         Dialogus de oratoribus   \n",
       "686  IT-LAT0534                      Historiae   \n",
       "687  IT-LAT0202                  Institutiones   \n",
       "\n",
       "                                               creator  date    type  \\\n",
       "18                                          Hieronymus   382  poetry   \n",
       "19                               Ovidius Naso, Publius    -9  poetry   \n",
       "20                                Benedictus Nursianus   524   prose   \n",
       "21                             Thomas Aquinas: Sanctus  1254   prose   \n",
       "22                             Thomas Aquinas: Sanctus  1254  poetry   \n",
       "..                                                 ...   ...     ...   \n",
       "683                 Tacitus, Publius (Gaius) Cornelius   116   prose   \n",
       "684                 Tacitus, Publius (Gaius) Cornelius   116   prose   \n",
       "685                 Tacitus, Publius (Gaius) Cornelius   116   prose   \n",
       "686                 Tacitus, Publius (Gaius) Cornelius   116   prose   \n",
       "687  Iustinianus, Caesar Flavius (Imperator Iustini...   533   prose   \n",
       "\n",
       "    time_interval  \n",
       "18            350  \n",
       "19            -50  \n",
       "20            450  \n",
       "21           1250  \n",
       "22           1250  \n",
       "..            ...  \n",
       "683            50  \n",
       "684            50  \n",
       "685            50  \n",
       "686            50  \n",
       "687           450  \n",
       "\n",
       "[670 rows x 6 columns]"
      ]
     },
     "execution_count": 155,
     "metadata": {},
     "output_type": "execute_result"
    }
   ],
   "source": [
    "metadata_df['time_interval'] = \"\"\n",
    "for t in range(len(intervals)-1):\n",
    "    print(t)\n",
    "    print(range(intervals[t],intervals[t+1]))\n",
    "    metadata_df_t = metadata_df.loc[metadata_df['date'].isin(range(intervals[t],intervals[t+1]))]\n",
    "    print(metadata_df_t.date)\n",
    "    metadata_df.loc[metadata_df['date'].isin(range(intervals[t],intervals[t+1])),'time_interval'] = intervals[t]\n",
    "metadata_df"
   ]
  },
  {
   "cell_type": "markdown",
   "metadata": {},
   "source": [
    "Visualise distribution of time intervals:"
   ]
  },
  {
   "cell_type": "code",
   "execution_count": 156,
   "metadata": {},
   "outputs": [
    {
     "data": {
      "image/png": "[encoded data removed]",
      "text/plain": [
       "<Figure size 1440x1152 with 1 Axes>"
      ]
     },
     "metadata": {
      "needs_background": "light"
     },
     "output_type": "display_data"
    }
   ],
   "source": [
    "metadata_df0 = metadata_df.groupby(['time_interval']).count()\n",
    "metadata_df0 = metadata_df0['id']\n",
    "metadata_df0\n",
    "ax = metadata_df0.plot(kind='bar', figsize=(20,16), color=\"indigo\", fontsize=10);\n",
    "#ax.set_alpha(0.5)\n",
    "ax.set_title(\"Number of works per time interval\", fontsize=22)\n",
    "plt.show()"
   ]
  },
  {
   "cell_type": "markdown",
   "metadata": {},
   "source": [
    "WE MAY WANT TO DO SOMETHING ABOUT THIS INBALANCE"
   ]
  },
  {
   "cell_type": "markdown",
   "metadata": {},
   "source": [
    "WE MAY ALSO WANT TO EVALUATE THE TIME-INSENSITIVE EMBEDDINGS (i.e. trained of the full corpus) similarly to Ribary & McGillivray (2020)"
   ]
  },
  {
   "cell_type": "markdown",
   "metadata": {
    "id": "qs8R0RYgTJid"
   },
   "source": [
    "## Training word embeddings"
   ]
  },
  {
   "cell_type": "markdown",
   "metadata": {
    "id": "JOVX-oApM02y"
   },
   "source": [
    "Function for printing the vocabulary of a model"
   ]
  },
  {
   "cell_type": "code",
   "execution_count": 157,
   "metadata": {
    "id": "ozTBJwmKM2th"
   },
   "outputs": [],
   "source": [
    "def print_vocab(model, top_n = None):\n",
    "  count = 0\n",
    "  if top_n is not None:\n",
    "    for index, word in enumerate(model.wv.index_to_key):\n",
    "      count+= 1\n",
    "      if count < top_n:\n",
    "        print(f\"word #{index}/{len(model.wv.index_to_key)} is {word}\")\n",
    "  else:\n",
    "    for index, word in enumerate(model.wv.index_to_key):\n",
    "      print(f\"word #{index}/{len(model.wv.index_to_key)} is {word}\")"
   ]
  },
  {
   "cell_type": "markdown",
   "metadata": {},
   "source": [
    "Function that converts dates into the standard format:"
   ]
  },
  {
   "cell_type": "code",
   "execution_count": 158,
   "metadata": {},
   "outputs": [],
   "source": [
    "def convert_dates(sign, date0):\n",
    "\n",
    "    if sign == \"0\":\n",
    "        if date0 == 0:\n",
    "            final_date = \"+0000\"\n",
    "        elif date0 < 100:\n",
    "            final_date = \"+\" + \"00\" + str(date0)\n",
    "            #print(\"1-final_date\", final_date)\n",
    "        elif date0 < 1000:\n",
    "            final_date = \"+\" + \"0\" + str(date0)\n",
    "            #print(\"2-final_date\", final_date)\n",
    "        else:\n",
    "            final_date = \"+\" + str(date0)\n",
    "            #print(\"3-final_date\", final_date)\n",
    "    else:\n",
    "        if date0 == 0:\n",
    "            final_date = \"+0000\"\n",
    "        elif date0 < 100:\n",
    "            final_date = str(sign) + \"00\" + str(date0)\n",
    "            #print(\"1-final_date\", final_date)\n",
    "        elif date0 < 1000:\n",
    "            final_date = str(sign) + \"0\" + str(date0)\n",
    "            #print(\"2-final_date\", final_date)\n",
    "        else:\n",
    "            final_date = str(sign) + str(date0)\n",
    "            #print(\"3-final_date\", final_date)\n",
    "\n",
    "    if final_date.startswith(\"+\"):\n",
    "        final_date = final_date.replace(\"+\", \"\")\n",
    "    return final_date"
   ]
  },
  {
   "cell_type": "markdown",
   "metadata": {
    "id": "NkUJ4O9kuiYi"
   },
   "source": [
    "#### Stopwords exclusion and further filtering\n"
   ]
  },
  {
   "cell_type": "markdown",
   "metadata": {},
   "source": [
    "I exclude punctuation marks:"
   ]
  },
  {
   "cell_type": "code",
   "execution_count": 159,
   "metadata": {},
   "outputs": [],
   "source": [
    "punctuation = ['.', ',', '...', ';', ':']"
   ]
  },
  {
   "cell_type": "markdown",
   "metadata": {
    "id": "MPcAmEUzA1if"
   },
   "source": [
    "For each time interval, I read the texts from files and create a list of lists, i.e. a list of sentences:"
   ]
  },
  {
   "cell_type": "code",
   "execution_count": 164,
   "metadata": {},
   "outputs": [
    {
     "name": "stdout",
     "output_type": "stream",
     "text": [
      "1:              id                title      creator  date   type time_interval\n",
      "169  IT-LAT0285  XII Tabularum Leges  [Anonymous]  -450  prose          -450 <class 'pandas.core.frame.DataFrame'>\n",
      "1: Empty DataFrame\n",
      "Columns: [id, title, creator, date, type, time_interval]\n",
      "Index: [] <class 'pandas.core.frame.DataFrame'>\n",
      "1:              id                               title                  creator  \\\n",
      "137  IT-LAT0236                           Orationes     Cato Porcius, Marcus   \n",
      "219  IT-LAT0380                   Decretum Hastense  Aemilius Paulus, Lucius   \n",
      "232  IT-LAT0405                      De agricultura     Cato Porcius, Marcus   \n",
      "605  IT-LAT0952  Senatus consultum de Bacchanalibus           Auctores varii   \n",
      "649  IT-LAT1006                           Praecepta    Marcius Vates, Gnaeus   \n",
      "\n",
      "     date    type time_interval  \n",
      "137  -199   prose          -250  \n",
      "219  -199  poetry          -250  \n",
      "232  -199   prose          -250  \n",
      "605  -185   prose          -250  \n",
      "649  -229   prose          -250   <class 'pandas.core.frame.DataFrame'>\n",
      "1:              id                                  title  \\\n",
      "57   IT-LAT0093                           Pro Quinctio   \n",
      "58   IT-LAT0094                     Pro Roscio Amerino   \n",
      "59   IT-LAT0095                              Pro Sulla   \n",
      "60   IT-LAT0096                             Pro Milone   \n",
      "79   IT-LAT0122                     Pro Roscio Comoedo   \n",
      "80   IT-LAT0124                           Pro Cluentio   \n",
      "81   IT-LAT0125                            Pro Rabirio   \n",
      "82   IT-LAT0126                        De lege agraria   \n",
      "84   IT-LAT0128                             Pro Flacco   \n",
      "88   IT-LAT0133                            In Vatinium   \n",
      "89   IT-LAT0134             De provinciis consularibus   \n",
      "90   IT-LAT0135                              Pro Balbo   \n",
      "91   IT-LAT0136                    Pro Rabirio Postumo   \n",
      "92   IT-LAT0137               In L. Calpurnium Pisonem   \n",
      "127  IT-LAT0218                       De consulatu suo   \n",
      "129  IT-LAT0220                             Pro Caelio   \n",
      "130  IT-LAT0221                          De inventione   \n",
      "141  IT-LAT0240      Commentarius de bello Alexandrino   \n",
      "154  IT-LAT0257                             De legibus   \n",
      "213  IT-LAT0370      Edictum adversus Latinos rhetores   \n",
      "215  IT-LAT0372                        Ad Gaium filium   \n",
      "223  IT-LAT0384  L. Aurelii Hermiae elogium sepulcrale   \n",
      "322  IT-LAT0535                Omnia quae extant opera   \n",
      "635  IT-LAT0988                                Boeotia   \n",
      "638  IT-LAT0992            Epistula ad Quintum Catulum   \n",
      "\n",
      "                      creator  date    type time_interval  \n",
      "57     Cicero, Marcus Tullius   -80   prose          -150  \n",
      "58     Cicero, Marcus Tullius   -79   prose          -150  \n",
      "59     Cicero, Marcus Tullius   -61   prose          -150  \n",
      "60     Cicero, Marcus Tullius   -51   prose          -150  \n",
      "79     Cicero, Marcus Tullius   -75   prose          -150  \n",
      "80     Cicero, Marcus Tullius   -65   prose          -150  \n",
      "81     Cicero, Marcus Tullius   -62   prose          -150  \n",
      "82     Cicero, Marcus Tullius   -62   prose          -150  \n",
      "84     Cicero, Marcus Tullius   -58   prose          -150  \n",
      "88     Cicero, Marcus Tullius   -55   prose          -150  \n",
      "89     Cicero, Marcus Tullius   -55   prose          -150  \n",
      "90     Cicero, Marcus Tullius   -55   prose          -150  \n",
      "91     Cicero, Marcus Tullius   -53   prose          -150  \n",
      "92     Cicero, Marcus Tullius   -54   prose          -150  \n",
      "127    Cicero, Marcus Tullius   -59  poetry          -150  \n",
      "129    Cicero, Marcus Tullius   -55   prose          -150  \n",
      "130    Cicero, Marcus Tullius   -84   prose          -150  \n",
      "141            Hirtius, Aulus   -89   prose          -150  \n",
      "154    Cicero, Marcus Tullius   -51   prose          -150  \n",
      "213               [Anonymous]   -91   prose          -150  \n",
      "215                  Cornelia  -149   prose          -150  \n",
      "223               [Anonymous]   -79  poetry          -150  \n",
      "322      Caesar, Caius Iulius   -51   prose          -150  \n",
      "635                  Aquilius  -149  poetry          -150  \n",
      "638  Catilina, Lucius Sergius  -107   prose          -150   <class 'pandas.core.frame.DataFrame'>\n",
      "1:              id                                          title  \\\n",
      "19   IT-LAT0537                                   Ars amatoria   \n",
      "34   IT-LAT0029                        Omnia quae extant opera   \n",
      "38   IT-LAT0045                             De brevitate vitae   \n",
      "39   IT-LAT0047                                         Brutus   \n",
      "42   IT-LAT0056                                  De re rustica   \n",
      "48   IT-LAT0072                        De constantia sapientis   \n",
      "50   IT-LAT0075                                    Philippicae   \n",
      "54   IT-LAT0083                          Consolatio ad Marciam   \n",
      "61   IT-LAT0097                            Laelius de amicitia   \n",
      "62   IT-LAT0098                        Cato Maior de senectute   \n",
      "64   IT-LAT0101                                 De divinatione   \n",
      "65   IT-LAT0102                                    De officiis   \n",
      "67   IT-LAT0108                                      Epistulae   \n",
      "70   IT-LAT0112                         Consolatio ad Polybium   \n",
      "73   IT-LAT0116                   Consolatio ad Helviam matrem   \n",
      "76   IT-LAT0119                                  De re publica   \n",
      "83   IT-LAT0127                                    Pro Caecina   \n",
      "93   IT-LAT0138                                   Pro Marcello   \n",
      "94   IT-LAT0139                                    Pro Ligario   \n",
      "95   IT-LAT0140                                   Pro Deiotaro   \n",
      "97   IT-LAT0142                                Ab Urbe condita   \n",
      "98   IT-LAT0148                                Historia Romana   \n",
      "103  IT-LAT0155                                        De fato   \n",
      "110  IT-LAT0922                      Commentariolum petitionis   \n",
      "111  IT-LAT0922                         De haruspicum responso   \n",
      "112  IT-LAT0922       De imperio Cn. Pompei ad Quirites oratio   \n",
      "113  IT-LAT0922                      De optimo genere oratorum   \n",
      "114  IT-LAT0181                                       Poenulus   \n",
      "115  IT-LAT0922                                     De oratore   \n",
      "116  IT-LAT0922                                   In Catilinam   \n",
      "119  IT-LAT0922                                         Orator   \n",
      "121  IT-LAT0922               Post  reditum ad Quirites oratio   \n",
      "124  IT-LAT0922                         Post reditum in senatu   \n",
      "125  IT-LAT0922                                     Pro Archia   \n",
      "126  IT-LAT0217                         De partitione oratoria   \n",
      "128  IT-LAT0922                                     Pro Murena   \n",
      "131  IT-LAT0922                                    Pro Fonteio   \n",
      "133  IT-LAT0922                                     Pro Scauro   \n",
      "135  IT-LAT0922                                     Pro Sestio   \n",
      "142  IT-LAT0241                                De bello Africo   \n",
      "143  IT-LAT0242                           De bello Hispaniensi   \n",
      "151  IT-LAT0254                             Paradoxa Stoicorum   \n",
      "152  IT-LAT0255                  De finibus bonorum et malorum   \n",
      "164  IT-LAT0272                                     Sententiae   \n",
      "166  IT-LAT0278                                     Res gestae   \n",
      "168  IT-LAT0284                            Appendix Vergiliana   \n",
      "171  IT-LAT0922                                         Topica   \n",
      "172  IT-LAT0922                                     Tusculanae   \n",
      "181  IT-LAT0320                                        Timaeus   \n",
      "217  IT-LAT0377             De ratione dicendi ad C. Herennium   \n",
      "218  IT-LAT0378                              Epistula ad Gaium   \n",
      "221  IT-LAT0382                                    De medicina   \n",
      "225  IT-LAT0393                                Fragmenta varia   \n",
      "535  IT-LAT0849                            Historica fragmenta   \n",
      "555  IT-LAT0883  Factorum et dictorum memorabilium libri novem   \n",
      "587  IT-LAT0922                                      Academica   \n",
      "607  IT-LAT0955                             Prognostica Aratea   \n",
      "608  IT-LAT0956                              Phaenomena Aratea   \n",
      "642  IT-LAT0996                                    Res romanae   \n",
      "643  IT-LAT0997                             De morte Ciceronis   \n",
      "\n",
      "                                      creator  date    type time_interval  \n",
      "19                      Ovidius Naso, Publius    -9  poetry           -50  \n",
      "34                  Sallustius Crispus, Caius   -49   prose           -50  \n",
      "38                     Seneca, Lucius Annaeus    49   prose           -50  \n",
      "39                     Cicero, Marcus Tullius   -45   prose           -50  \n",
      "42                    Varro, Marcus Terentius   -49   prose           -50  \n",
      "48                     Seneca, Lucius Annaeus    49   prose           -50  \n",
      "50                     Cicero, Marcus Tullius     0   prose           -50  \n",
      "54                     Seneca, Lucius Annaeus    40   prose           -50  \n",
      "61                     Cicero, Marcus Tullius   -43   prose           -50  \n",
      "62                     Cicero, Marcus Tullius   -43   prose           -50  \n",
      "64                     Cicero, Marcus Tullius   -43   prose           -50  \n",
      "65                     Cicero, Marcus Tullius     0   prose           -50  \n",
      "67                                   Sulpicia   -49  poetry           -50  \n",
      "70                     Seneca, Lucius Annaeus    43   prose           -50  \n",
      "73                     Seneca, Lucius Annaeus    41   prose           -50  \n",
      "76                     Cicero, Marcus Tullius    -2   prose           -50  \n",
      "83                     Cicero, Marcus Tullius     0   prose           -50  \n",
      "93                     Cicero, Marcus Tullius   -45   prose           -50  \n",
      "94                     Cicero, Marcus Tullius   -45   prose           -50  \n",
      "95                     Cicero, Marcus Tullius   -44   prose           -50  \n",
      "97                              Livius, Titus    -1   prose           -50  \n",
      "98                 Velleius Paterculus, Caius    29   prose           -50  \n",
      "103                    Cicero, Marcus Tullius   -43   prose           -50  \n",
      "110                    Cicero, Marcus Tullius   -45   prose           -50  \n",
      "111                    Cicero, Marcus Tullius   -45   prose           -50  \n",
      "112                    Cicero, Marcus Tullius   -45   prose           -50  \n",
      "113                    Cicero, Marcus Tullius   -45   prose           -50  \n",
      "114                    Plautus, Titus Maccius     0  poetry           -50  \n",
      "115                    Cicero, Marcus Tullius   -45   prose           -50  \n",
      "116                    Cicero, Marcus Tullius   -45   prose           -50  \n",
      "119                    Cicero, Marcus Tullius   -45   prose           -50  \n",
      "121                    Cicero, Marcus Tullius   -45   prose           -50  \n",
      "124                    Cicero, Marcus Tullius   -45   prose           -50  \n",
      "125                    Cicero, Marcus Tullius   -45   prose           -50  \n",
      "126                    Cicero, Marcus Tullius   -45   prose           -50  \n",
      "128                    Cicero, Marcus Tullius   -45   prose           -50  \n",
      "131                    Cicero, Marcus Tullius   -45   prose           -50  \n",
      "133                    Cicero, Marcus Tullius   -45   prose           -50  \n",
      "135                    Cicero, Marcus Tullius   -45   prose           -50  \n",
      "142                         [Auctor incertus]   -49   prose           -50  \n",
      "143                         [Auctor incertus]   -49   prose           -50  \n",
      "151                    Cicero, Marcus Tullius   -47   prose           -50  \n",
      "152                    Cicero, Marcus Tullius   -44   prose           -50  \n",
      "164                         [Auctor incertus]   -49   prose           -50  \n",
      "166  Augustus, Gaius Iulius Caesar Octavianus    13   prose           -50  \n",
      "168                         [Auctor incertus]   -49  poetry           -50  \n",
      "171                    Cicero, Marcus Tullius   -45   prose           -50  \n",
      "172                    Cicero, Marcus Tullius   -45   prose           -50  \n",
      "181                    Cicero, Marcus Tullius   -44   prose           -50  \n",
      "217                         [Auctor incertus]   -49   prose           -50  \n",
      "218  Augustus, Gaius Iulius Caesar Octavianus     1   prose           -50  \n",
      "221                   Celsus, Cornelius Aulus    30   prose           -50  \n",
      "225                         Nepos, Cornelius    -49   prose           -50  \n",
      "535                     Actorius Naso, Marcus   -49   prose           -50  \n",
      "555                          Valerius Maximus    30   prose           -50  \n",
      "587                    Cicero, Marcus Tullius   -45   prose           -50  \n",
      "607                    Cicero, Marcus Tullius   -44  poetry           -50  \n",
      "608                    Cicero, Marcus Tullius   -44  poetry           -50  \n",
      "642                         Cornelius Severus   -37  poetry           -50  \n",
      "643                         Cornelius Severus   -37  poetry           -50   <class 'pandas.core.frame.DataFrame'>\n"
     ]
    },
    {
     "name": "stdout",
     "output_type": "stream",
     "text": [
      "1:              id                                   title  \\\n",
      "40   IT-LAT0051                                 Fabulae   \n",
      "41   IT-LAT0054                          Vitae Caesarum   \n",
      "46   IT-LAT0563                                  Silvae   \n",
      "47   IT-LAT0071                 De tranquillitate animi   \n",
      "49   IT-LAT0073                          De providentia   \n",
      "51   IT-LAT0078                                 De otio   \n",
      "52   IT-LAT0079                           De vita beata   \n",
      "68   IT-LAT0109                               Agamemnon   \n",
      "69   IT-LAT0111                     Panegyricus Traiano   \n",
      "71   IT-LAT0114                              Achilleida   \n",
      "77   IT-LAT0120            De grammaticis et rhetoribus   \n",
      "100  IT-LAT0588               Opuscula rerum rusticarum   \n",
      "101  IT-LAT0588                            Strategemata   \n",
      "132  IT-LAT0228            Apocolocyntosis Divi Claudii   \n",
      "134  IT-LAT0230           Epistulae morales ad Lucilium   \n",
      "138  IT-LAT0237                                   Ilias   \n",
      "140  IT-LAT0239                            De arboribus   \n",
      "159  IT-LAT0265               De aquaeductu urbis Romae   \n",
      "160  IT-LAT0266                         De chorographia   \n",
      "182  IT-LAT0325     Historiarum Alexandri Magni libri X   \n",
      "184  IT-LAT0332                     Institutio oratoria   \n",
      "190  IT-LAT0339                De condicionibus agrorum   \n",
      "191  IT-LAT0340                De divisis et assignatis   \n",
      "192  IT-LAT0341                    De quaestoriis agris   \n",
      "193  IT-LAT0342      Expositio et ratio omnium formarum   \n",
      "194  IT-LAT0345                            De limitibus   \n",
      "195  IT-LAT0346            De generibus controversiarum   \n",
      "196  IT-LAT0347               De munitionibus castrorum   \n",
      "197  IT-LAT0348                             Constitutio   \n",
      "198  IT-LAT0349                De condicionibus agrorum   \n",
      "202  IT-LAT0355                           De astronomia   \n",
      "245  IT-LAT0425                             Commentarii   \n",
      "321  IT-LAT0534                             Opera omnia   \n",
      "339  IT-LAT0563                 Omnia quae extant opera   \n",
      "362  IT-LAT0588                 Omnia quae extant opera   \n",
      "399  IT-LAT0632  De figuris sententiarum et elocutionis   \n",
      "446  IT-LAT0720                               De poetis   \n",
      "483  IT-LAT0784                           Declamationes   \n",
      "542  IT-LAT0868                                Bucolica   \n",
      "599  IT-LAT0934                   Declamationes maiores   \n",
      "683  IT-LAT0534           De origine et situ Germanorum   \n",
      "684  IT-LAT0534                 De vita Iulii Agricolae   \n",
      "685  IT-LAT0534                  Dialogus de oratoribus   \n",
      "686  IT-LAT0534                               Historiae   \n",
      "\n",
      "                                creator  date    type time_interval  \n",
      "40                Hyginus, Gaius Iulius    50   prose            50  \n",
      "41         Svetonius Tranquillus, Caius   121   prose            50  \n",
      "46            Statius, Publius Papinius    50  poetry            50  \n",
      "47               Seneca, Lucius Annaeus    62   prose            50  \n",
      "49               Seneca, Lucius Annaeus    63   prose            50  \n",
      "51               Seneca, Lucius Annaeus    62   prose            50  \n",
      "52               Seneca, Lucius Annaeus    58   prose            50  \n",
      "68               Seneca, Lucius Annaeus    65  poetry            50  \n",
      "69     Plinius Gaius, Cecilius Secundus   100   prose            50  \n",
      "71            Statius, Publius Papinius    50  poetry            50  \n",
      "77         Svetonius Tranquillus, Caius   113   prose            50  \n",
      "100            Frontinus, Sextus Iulius    50   prose            50  \n",
      "101            Frontinus, Sextus Iulius    50   prose            50  \n",
      "132              Seneca, Lucius Annaeus    54   prose            50  \n",
      "134              Seneca, Lucius Annaeus    62   prose            50  \n",
      "138                         [Anonymous]    65  poetry            50  \n",
      "140  Columella, Lucius Iunius Moderatus    50   prose            50  \n",
      "159            Frontinus, Sextus Iulius    50   prose            50  \n",
      "160                     Mela, Pomponius    50   prose            50  \n",
      "182              Curtius Rufus, Quintus    50   prose            50  \n",
      "184         Quintilianus, Marcus Fabius    91   prose            50  \n",
      "190                    Flaccus, Siculus   100   prose            50  \n",
      "191                    Flaccus, Siculus   100   prose            50  \n",
      "192                    Flaccus, Siculus   100   prose            50  \n",
      "193                              Balbus   100   prose            50  \n",
      "194                 Hyginus: Gromaticus   100   prose            50  \n",
      "195                 Hyginus: Gromaticus   100   prose            50  \n",
      "196                 Hyginus: Gromaticus   100   prose            50  \n",
      "197                 Hyginus: Gromaticus   100   prose            50  \n",
      "198                 Hyginus: Gromaticus   100   prose            50  \n",
      "202               Hyginus, Gaius Iulius    50   prose            50  \n",
      "245                  Pedianus, Asconius    50   prose            50  \n",
      "321  Tacitus, Publius (Gaius) Cornelius   116   prose            50  \n",
      "339           Statius, Publius Papinius    50  poetry            50  \n",
      "362            Frontinus, Sextus Iulius    50   prose            50  \n",
      "399             Lupus, Publius Rutilius    50   prose            50  \n",
      "446        Svetonius Tranquillus, Caius   113   prose            50  \n",
      "483                  Calpurnius Flaccus   100   prose            50  \n",
      "542           Calpurnius Siculus, Titus    50  poetry            50  \n",
      "599         Quintilianus, Marcus Fabius    67   prose            50  \n",
      "683  Tacitus, Publius (Gaius) Cornelius   116   prose            50  \n",
      "684  Tacitus, Publius (Gaius) Cornelius   116   prose            50  \n",
      "685  Tacitus, Publius (Gaius) Cornelius   116   prose            50  \n",
      "686  Tacitus, Publius (Gaius) Cornelius   116   prose            50   <class 'pandas.core.frame.DataFrame'>\n",
      "1:              id                                      title  \\\n",
      "37   IT-LAT0043                              Metamorphoses   \n",
      "43   IT-LAT0058                             De spectaculis   \n",
      "45   IT-LAT0062                                Ad martyres   \n",
      "146  IT-LAT0246                               Apologeticum   \n",
      "147  IT-LAT0248                       De testimonio animae   \n",
      "153  IT-LAT0256                                De Baptismo   \n",
      "161  IT-LAT0267                                   Octavius   \n",
      "199  IT-LAT0350                                De oratione   \n",
      "205  IT-LAT0360                             Noctes Atticae   \n",
      "233  IT-LAT0406                     De nugis philosophorum   \n",
      "234  IT-LAT0407                                Quaestiones   \n",
      "260  IT-LAT0448                                Ad nationes   \n",
      "274  IT-LAT0471  Passio Sanctarum Perpetuae et Felicitatis   \n",
      "376  IT-LAT0606              De resurrectione carnis liber   \n",
      "452  IT-LAT0733                    Liber de corona militis   \n",
      "453  IT-LAT0736                     De virginibus velandis   \n",
      "454  IT-LAT0737                           Adversus Iudaeos   \n",
      "457  IT-LAT0744                 De exhortatione castitatis   \n",
      "458  IT-LAT0746                             De anima liber   \n",
      "459  IT-LAT0747              Liber de fuga in persecutione   \n",
      "460  IT-LAT0749                        Ad uxorem libri duo   \n",
      "461  IT-LAT0750               De cultu feminarum libri duo   \n",
      "464  IT-LAT0755                         Liber de monogamia   \n",
      "487  IT-LAT0788                           Adversus Praxean   \n",
      "581  IT-LAT0916                           De verbis dubiis   \n",
      "\n",
      "                                     creator  date   type time_interval  \n",
      "37                          Apuleius, Lucius   158  prose           150  \n",
      "43   Tertullianus, Quintus Septimius Florens   199  prose           150  \n",
      "45   Tertullianus, Quintus Septimius Florens   197  prose           150  \n",
      "146  Tertullianus, Quintus Septimius Florens   197  prose           150  \n",
      "147  Tertullianus, Quintus Septimius Florens   198  prose           150  \n",
      "153  Tertullianus, Quintus Septimius Florens   198  prose           150  \n",
      "161                   Minucius Felix, Marcus   150  prose           150  \n",
      "199  Tertullianus, Quintus Septimius Florens   205  prose           150  \n",
      "205                           Gellius, Aulus   150  prose           150  \n",
      "233              Balbus, [Pseudo-] Caecilius   150  prose           150  \n",
      "234              Caecilius Africanus, Sextus   150  prose           150  \n",
      "260  Tertullianus, Quintus Septimius Florens   197  prose           150  \n",
      "274                              [Anonymous]   200  prose           150  \n",
      "376  Tertullianus, Quintus Septimius Florens   210  prose           150  \n",
      "452  Tertullianus, Quintus Septimius Florens   210  prose           150  \n",
      "453  Tertullianus, Quintus Septimius Florens   213  prose           150  \n",
      "454  Tertullianus, Quintus Septimius Florens   198  prose           150  \n",
      "457  Tertullianus, Quintus Septimius Florens   205  prose           150  \n",
      "458  Tertullianus, Quintus Septimius Florens   210  prose           150  \n",
      "459  Tertullianus, Quintus Septimius Florens   213  prose           150  \n",
      "460  Tertullianus, Quintus Septimius Florens   198  prose           150  \n",
      "461  Tertullianus, Quintus Septimius Florens   198  prose           150  \n",
      "464  Tertullianus, Quintus Septimius Florens   213  prose           150  \n",
      "487  Tertullianus, Quintus Septimius Florens   213  prose           150  \n",
      "581                           Caper, Flavius   150  prose           150   <class 'pandas.core.frame.DataFrame'>\n",
      "1:              id                                           title  \\\n",
      "75   IT-LAT0118                             Pervigilium Veneris   \n",
      "120  IT-LAT0201  Epitome Historiarum Philippicarum Pompei Trogi   \n",
      "122  IT-LAT0203                                 De ave phoenice   \n",
      "123  IT-LAT0204                                Disticha Catonis   \n",
      "158  IT-LAT0264                               Adversus nationes   \n",
      "162  IT-LAT0268                        De mortibus persecutorum   \n",
      "200  IT-LAT0351                                Liber memorialis   \n",
      "237  IT-LAT0413                    Concubitus Martis et Veneris   \n",
      "377  IT-LAT0607                          De saeculi istius fine   \n",
      "388  IT-LAT0621           Sententiarum receptarum libri quinque   \n",
      "426  IT-LAT0665                            De mirabilibus mundi   \n",
      "532  IT-LAT0846                                            Acta   \n",
      "540  IT-LAT0865                                    De Trinitate   \n",
      "546  IT-LAT0873                                         Carmina   \n",
      "557  IT-LAT0886        Epistulae de iure civitatis Orcistenorum   \n",
      "561  IT-LAT0893                                      Curae boum   \n",
      "562  IT-LAT0895                   Medicina ex oleribus et pomis   \n",
      "563  IT-LAT0896                           Vita Alexandri Severi   \n",
      "579  IT-LAT0913                           Fragmentum de metriis   \n",
      "580  IT-LAT0914                            De musica fragmentum   \n",
      "611  IT-LAT0959                                           Vitae   \n",
      "\n",
      "                                    creator  date    type time_interval  \n",
      "75                              [Anonymous]   250  poetry           250  \n",
      "120               Iustinus Iunianus, Marcus   250   prose           250  \n",
      "122                             [Anonymous]   300  poetry           250  \n",
      "123                             [Anonymous]   250  poetry           250  \n",
      "158                                Arnobius   300   prose           250  \n",
      "162  Lactantius, Lucius Caecilius Firmianus   318   prose           250  \n",
      "200                        Ampelius, Lucius   300   prose           250  \n",
      "237                              Reposianus   250  poetry           250  \n",
      "377                             Commodianus   250  poetry           250  \n",
      "388                          Paulus, Julius   250   prose           250  \n",
      "426                   Solinus, Caius Iulius   250   prose           250  \n",
      "532                                Acholius   250   prose           250  \n",
      "540                              Novatianus   250   prose           250  \n",
      "546        Optatianus Porphyrius, Publilius   300  poetry           250  \n",
      "557                                Ablabius   330   prose           250  \n",
      "561            Gargilius Martialis, Quintus   260   prose           250  \n",
      "562            Gargilius Martialis, Quintus   260   prose           250  \n",
      "563            Gargilius Martialis, Quintus   260   prose           250  \n",
      "579                              Censorinus   250   prose           250  \n",
      "580                              Censorinus   250   prose           250  \n",
      "611                   Cordus, Aelius Junius   250   prose           250   <class 'pandas.core.frame.DataFrame'>\n",
      "1:              id          title                   creator  date    type  \\\n",
      "18   IT-LAT0001        Vulgata                Hieronymus   382  poetry   \n",
      "23   IT-LAT0015   Confessiones      Augustinus, Aurelius   399   prose   \n",
      "24   IT-LAT0016         Regula      Augustinus, Aurelius   391   prose   \n",
      "44   IT-LAT0061  De dialectica      Augustinus, Aurelius   387   prose   \n",
      "53   IT-LAT0574     De Bissula  Ausonius, Decimus Magnus   385  poetry   \n",
      "..          ...            ...                       ...   ...     ...   \n",
      "678  IT-LAT0001        Vulgata                Hieronymus   382  poetry   \n",
      "679  IT-LAT0001        Vulgata                Hieronymus   382  poetry   \n",
      "680  IT-LAT0001        Vulgata                Hieronymus   382  poetry   \n",
      "681  IT-LAT0001        Vulgata                Hieronymus   382  poetry   \n",
      "682  IT-LAT1039        Vulgata                Hieronymus   382   prose   \n",
      "\n",
      "    time_interval  \n",
      "18            350  \n",
      "23            350  \n",
      "24            350  \n",
      "44            350  \n",
      "53            350  \n",
      "..            ...  \n",
      "678           350  \n",
      "679           350  \n",
      "680           350  \n",
      "681           350  \n",
      "682           350  \n",
      "\n",
      "[131 rows x 6 columns] <class 'pandas.core.frame.DataFrame'>\n"
     ]
    },
    {
     "name": "stdout",
     "output_type": "stream",
     "text": [
      "1:              id                                              title  \\\n",
      "20   IT-LAT0011                                S. Benedicti Regula   \n",
      "148  IT-LAT0250                                           De Anima   \n",
      "149  IT-LAT0251                    Epistulae Theodoricianae variae   \n",
      "150  IT-LAT0252                                          Orationes   \n",
      "185  IT-LAT0333                                   De centum metris   \n",
      "186  IT-LAT0334                                  De metris Horatii   \n",
      "187  IT-LAT0336                         Explanatio in artem Donati   \n",
      "238  IT-LAT0414                              A solis ortus cardine   \n",
      "378  IT-LAT0608                                     De laude eremi   \n",
      "381  IT-LAT0611                                             Ecloga   \n",
      "541  IT-LAT0867                                              Codex   \n",
      "570  IT-LAT0904  Adversus profanas omnium novitates haereticoru...   \n",
      "582  IT-LAT0917                       Porphyrii Isagoge translatio   \n",
      "645  IT-LAT1001                                 Excerpta Valesiana   \n",
      "687  IT-LAT0202                                      Institutiones   \n",
      "\n",
      "                                               creator  date    type  \\\n",
      "20                                Benedictus Nursianus   524   prose   \n",
      "148               Cassiodorus, Flavius Magnus Aurelius   540   prose   \n",
      "149               Cassiodorus, Flavius Magnus Aurelius   535   prose   \n",
      "150               Cassiodorus, Flavius Magnus Aurelius   535   prose   \n",
      "185                          Servius, Marius Honoratus   450   prose   \n",
      "186                          Servius, Marius Honoratus   450   prose   \n",
      "187                          Servius, Marius Honoratus   450   prose   \n",
      "238                                           Sedulius   450  poetry   \n",
      "378                          Eucherius Arelas: Sanctus   450   prose   \n",
      "381                                          Theodulus   450  poetry   \n",
      "541  Iustinianus, Caesar Flavius (Imperator Iustini...   531   prose   \n",
      "570                                  Vincent de Lérins   450   prose   \n",
      "582                Boethius, Anicius Manlius Severinus   502   prose   \n",
      "645                                        [Anonymous]   450   prose   \n",
      "687  Iustinianus, Caesar Flavius (Imperator Iustini...   533   prose   \n",
      "\n",
      "    time_interval  \n",
      "20            450  \n",
      "148           450  \n",
      "149           450  \n",
      "150           450  \n",
      "185           450  \n",
      "186           450  \n",
      "187           450  \n",
      "238           450  \n",
      "378           450  \n",
      "381           450  \n",
      "541           450  \n",
      "570           450  \n",
      "582           450  \n",
      "645           450  \n",
      "687           450   <class 'pandas.core.frame.DataFrame'>\n",
      "1:              id                                              title  \\\n",
      "118  IT-LAT0196                      De origine actibusque Getarum   \n",
      "144  IT-LAT0243                                          De Musica   \n",
      "173  IT-LAT0990  Concilium Bracarense primum octo episcoporum,<...   \n",
      "226  IT-LAT0990  Concilium Bracarense secundum duodecim episcop...   \n",
      "228  IT-LAT0990                          De correctione rusticorum   \n",
      "229  IT-LAT0990                                             De ira   \n",
      "230  IT-LAT0990                                          De Pascha   \n",
      "235  IT-LAT0990                                        De superbia   \n",
      "239  IT-LAT0990                                  De Trina Mersione   \n",
      "247  IT-LAT0429             Capitula ex orientalium patrum synodis   \n",
      "248  IT-LAT0431                             Formula vitae honestae   \n",
      "249  IT-LAT0433                           Pro repellenda iactantia   \n",
      "250  IT-LAT0435                      Sententiae patrum Aegyptiorum   \n",
      "264  IT-LAT0990                             Exhortatio humilitatis   \n",
      "266  IT-LAT0990  Formula vitae honestae</p><p classPITstitolo>D...   \n",
      "281  IT-LAT0482  Institutiones divinarum et saecularium litterarum   \n",
      "455  IT-LAT0739  Concilium Bracarense secundum duodecim episcop...   \n",
      "482  IT-LAT0783                                          Historiae   \n",
      "490  IT-LAT0791                                          Chronicon   \n",
      "548  IT-LAT0875      Tractatus de nativitate Domini Nostri Christi   \n",
      "572  IT-LAT0906  De summa temporum vel origine actibusque genti...   \n",
      "574  IT-LAT0908                                         Sententiae   \n",
      "575  IT-LAT0909  Historia de regibus Gothorum, Vandalorum et Su...   \n",
      "609  IT-LAT0957           De natura rerum ad Sisebutum regem liber   \n",
      "634  IT-LAT0987                            De observatione ciborum   \n",
      "636  IT-LAT0990             Capitula ex orientalium patrum synodis   \n",
      "\n",
      "                                  creator  date   type time_interval  \n",
      "118                              Iordanes   550  prose           550  \n",
      "144  Cassiodorus, Flavius Magnus Aurelius   562  prose           550  \n",
      "173                  Martinus Bracarensis   550  prose           550  \n",
      "226                  Martinus Bracarensis   550  prose           550  \n",
      "228                  Martinus Bracarensis   550  prose           550  \n",
      "229                  Martinus Bracarensis   550  prose           550  \n",
      "230                  Martinus Bracarensis   550  prose           550  \n",
      "235                  Martinus Bracarensis   550  prose           550  \n",
      "239                  Martinus Bracarensis   550  prose           550  \n",
      "247                 Martinus Bracarensis    550  prose           550  \n",
      "248                 Martinus Bracarensis    550  prose           550  \n",
      "249                 Martinus Bracarensis    550  prose           550  \n",
      "250                 Martinus Bracarensis    550  prose           550  \n",
      "264                  Martinus Bracarensis   550  prose           550  \n",
      "266                  Martinus Bracarensis   550  prose           550  \n",
      "281  Cassiodorus, Flavius Magnus Aurelius   562  prose           550  \n",
      "455                 Martinus Bracarensis    550  prose           550  \n",
      "482                  Gregorius Turonensis   550  prose           550  \n",
      "490                     Marcellinus Comes   550  prose           550  \n",
      "548                      Thomas Edessenus   550  prose           550  \n",
      "572                              Iordanes   550  prose           550  \n",
      "574        Isidorus Hispalensis Episcopus   598  prose           550  \n",
      "575        Isidorus Hispalensis Episcopus   598  prose           550  \n",
      "609        Isidorus Hispalensis Episcopus   598  prose           550  \n",
      "634                              Anthimus   550  prose           550  \n",
      "636                  Martinus Bracarensis   550  prose           550   <class 'pandas.core.frame.DataFrame'>\n",
      "1:              id                                     title           creator  \\\n",
      "240  IT-LAT0419            Vita quinque sanctorum abbatum  Beda Venerabilis   \n",
      "241  IT-LAT0420               Epistula ad Albinum abbatem  Beda Venerabilis   \n",
      "242  IT-LAT0421         Epistula ad Ecgberctum antistetem  Beda Venerabilis   \n",
      "243  IT-LAT0422                           De orthographia  Beda Venerabilis   \n",
      "244  IT-LAT0423                     Vita Sancti Cuthberti  Beda Venerabilis   \n",
      "484  IT-LAT0785                                 Chronicon       Fredegarius   \n",
      "534  IT-LAT0848                    Epistola ad Desiderium     Abbo Metensis   \n",
      "586  IT-LAT0921  Historiam ecclesiasticam gentis Anglorum  Beda Venerabilis   \n",
      "\n",
      "     date    type time_interval  \n",
      "240   704   prose           650  \n",
      "241   704   prose           650  \n",
      "242   704   prose           650  \n",
      "243   704   prose           650  \n",
      "244   721  poetry           650  \n",
      "484   650   prose           650  \n",
      "534   650   prose           650  \n",
      "586   731   prose           650   <class 'pandas.core.frame.DataFrame'>\n",
      "1:              id                                              title  \\\n",
      "102  IT-LAT0911                                   De cella Alcuini   \n",
      "104  IT-LAT0911                                        De luscinia   \n",
      "105  IT-LAT0911           Disputatio de rhetorica et de virtutibus   \n",
      "106  IT-LAT0911                                         Epitaphium   \n",
      "107  IT-LAT0911                                      Propositiones   \n",
      "108  IT-LAT0911                       Sequentia de Sancto Michaele   \n",
      "109  IT-LAT0911                                   Versus de cuculo   \n",
      "189  IT-LAT0338                             Historia Langobardorum   \n",
      "203  IT-LAT0357                                            Fabulae   \n",
      "204  IT-LAT0358                                            Carmina   \n",
      "224  IT-LAT0386                              Veni creator spiritus   \n",
      "270  IT-LAT0461                                Epistula ad Aquilam   \n",
      "283  IT-LAT0486                            Constitutum Constantini   \n",
      "287  IT-LAT0494  Liber pontificalis sive vitae pontificum Raven...   \n",
      "293  IT-LAT0500                                  Vita Karoli Magni   \n",
      "558  IT-LAT0888           Versus de bella quae fuit acta Fontaneto   \n",
      "573  IT-LAT0907                                    Historia Romana   \n",
      "577  IT-LAT0911                                   Operum collectio   \n",
      "601  IT-LAT0936                                 Historia brittonum   \n",
      "\n",
      "               creator  date    type time_interval  \n",
      "102           Alcuinus   800  poetry           750  \n",
      "104           Alcuinus   800  poetry           750  \n",
      "105           Alcuinus   800  poetry           750  \n",
      "106           Alcuinus   800  poetry           750  \n",
      "107           Alcuinus   800  poetry           750  \n",
      "108           Alcuinus   800  poetry           750  \n",
      "109           Alcuinus   800  poetry           750  \n",
      "189    Paulus Diaconus   792   prose           750  \n",
      "203    Paulus Diaconus   759  poetry           750  \n",
      "204    Paulus Diaconus   759  poetry           750  \n",
      "224    Hrabanus Maurus   818  poetry           750  \n",
      "270          Alcuinus    800   prose           750  \n",
      "283  [Auctor incertus]   775   prose           750  \n",
      "287  Agnellus Ravennas   838  poetry           750  \n",
      "293          Einhardus   833   prose           750  \n",
      "558        Angilbertus   841  poetry           750  \n",
      "573    Paulus Diaconus   770   prose           750  \n",
      "577           Alcuinus   800  poetry           750  \n",
      "601    Various Authors   833   prose           750   <class 'pandas.core.frame.DataFrame'>\n",
      "1:              id                                  title               creator  \\\n",
      "269  IT-LAT0459             Vita Hludowici imperatoris  Theganus Trevirensis   \n",
      "275  IT-LAT0472               De rebus gestis Aelfredi              Asserius   \n",
      "475  IT-LAT0773                              Chronicon      Andreas Bergomas   \n",
      "481  IT-LAT0782                      Annales Vedastini           [Anonymous]   \n",
      "491  IT-LAT0792  Historia Langobardorum Beneventanorum          Erchempertus   \n",
      "559  IT-LAT0891            Metrum Parhemiacum Tragicum    Eugenius Vulgarius   \n",
      "585  IT-LAT0920                        Liber de causis     [Auctor incertus]   \n",
      "\n",
      "     date    type time_interval  \n",
      "269   850   prose           850  \n",
      "275   909   prose           850  \n",
      "475   850   prose           850  \n",
      "481   871   prose           850  \n",
      "491   850   prose           850  \n",
      "559   907  poetry           850  \n",
      "585   850   prose           850   <class 'pandas.core.frame.DataFrame'>\n",
      "1:              id                                title  \\\n",
      "268  IT-LAT0458                Waltharius Manufortis   \n",
      "384  IT-LAT0617       De ortu et tempore Antichristi   \n",
      "449  IT-LAT0724                          De luscinia   \n",
      "450  IT-LAT0725                          Nivis natus   \n",
      "485  IT-LAT0786                            Historiae   \n",
      "628  IT-LAT0980  Historia de preliis Alexandri Magni   \n",
      "\n",
      "                        creator  date    type time_interval  \n",
      "268    Ekkeardus I Sangallensis   950  poetry           950  \n",
      "384              Adso Dervensis   950   prose           950  \n",
      "449  Fulbert de Chartres: Saint  1000  poetry           950  \n",
      "450           [Auctor incertus]   950  poetry           950  \n",
      "485                    Richerus   950   prose           950  \n",
      "628          Leo Archipresbyter   950   prose           950   <class 'pandas.core.frame.DataFrame'>\n",
      "1:              id                                              title  \\\n",
      "246  IT-LAT0428                        Ad amicum suum consolatoria   \n",
      "271  IT-LAT0463                              Mirabilia urbis Romae   \n",
      "276  IT-LAT0477                          Epistula ad Urbanum papam   \n",
      "277  IT-LAT0478                                      Cur Deus homo   \n",
      "280  IT-LAT0481                            Carmina Cantabrigiensia   \n",
      "290  IT-LAT0497  Epistula Guidonis Michaeli monacho de ignoto c...   \n",
      "298  IT-LAT0506                                       Didascalicon   \n",
      "316  IT-LAT0524                        Soliloquium de arrha animae   \n",
      "354  IT-LAT0580                     Regimen sanitatis Salernitanum   \n",
      "358  IT-LAT0584                                        Epigrammata   \n",
      "370  IT-LAT0597                                Sequentia paschalis   \n",
      "375  IT-LAT0605                                       Apologeticus   \n",
      "386  IT-LAT0619                      Carmen in victoriam Pisanorum   \n",
      "425  IT-LAT0664               Liber de scriptoribus ecclesiasticis   \n",
      "433  IT-LAT0687                       Virginalis sancta frequentia   \n",
      "465  IT-LAT0756                    Libellus de ornamentis verborum   \n",
      "480  IT-LAT0781  Dialogus inter philosophum, Iudaeum et christi...   \n",
      "507  IT-LAT0815                                            Jubilus   \n",
      "566  IT-LAT0900                                 Epistulae vagantes   \n",
      "569  IT-LAT0903                        Gesta Friderici Imperatoris   \n",
      "576  IT-LAT0910      Gesta Tancredi in expeditione Hierosolymitana   \n",
      "578  IT-LAT0912                       Vita brevior Sigeberti Regis   \n",
      "612  IT-LAT0963          Commentaria in epistolam Pauli ad Romanos   \n",
      "613  IT-LAT0964                                         Dialectica   \n",
      "614  IT-LAT0965               Sententiae secundum magistrum Petrum   \n",
      "615  IT-LAT0966                             Expositio in Hexameron   \n",
      "616  IT-LAT0967                           Expositiones Theologicae   \n",
      "617  IT-LAT0968                          Introductiones Parvulorum   \n",
      "618  IT-LAT0969                Logica nostrorum petitioni sociorum   \n",
      "619  IT-LAT0970  Problemata Heloissae cum Petri Abaelardi solut...   \n",
      "620  IT-LAT0971                                           Sermones   \n",
      "621  IT-LAT0972                                        Soliloquium   \n",
      "622  IT-LAT0973                               Theologia Christiana   \n",
      "623  IT-LAT0974                               Theologia Scholarium   \n",
      "624  IT-LAT0975          Gesta Hammaburgensis Ecclesiae Pontificum   \n",
      "625  IT-LAT0976                               Theologia Summi Boni   \n",
      "626  IT-LAT0977                         Tractatus de intellectibus   \n",
      "\n",
      "                      creator  date    type time_interval  \n",
      "246        Abaelardus, Petrus  1110   prose          1050  \n",
      "271               [Anonymous]  1141   prose          1050  \n",
      "276    Anselmus Cantuariensis  1098   prose          1050  \n",
      "277    Anselmus Cantuariensis  1096   prose          1050  \n",
      "280               [Anonymous]  1050  poetry          1050  \n",
      "290            Guido Aretinus  1098   prose          1050  \n",
      "298    Hugo de Sancto Victore  1125   prose          1050  \n",
      "316    Hugo de Sancto Victore  1118   prose          1050  \n",
      "354                 No Author  1050  poetry          1050  \n",
      "358    Anonymus Tegirinsensis  1065  poetry          1050  \n",
      "370                      Wipo  1050  poetry          1050  \n",
      "375  Berengarius scholasticus  1050   prose          1050  \n",
      "386               [Anonymous]  1088  poetry          1050  \n",
      "425   Sigebertus Gemblacensis  1112   prose          1050  \n",
      "433   Sigebertus Gemblacensis  1073  poetry          1050  \n",
      "465       Marbodus Redonensis  1100  poetry          1050  \n",
      "480        Abaelardus, Petrus  1142   prose          1050  \n",
      "507        Bernardus: Sanctus  1148  poetry          1050  \n",
      "566         Gregorius PP. VII  1078   prose          1050  \n",
      "569          Otto of Freising  1136   prose          1050  \n",
      "576             Raoul de Caen  1112   prose          1050  \n",
      "578   Sigebertus Gemblacensis  1073   prose          1050  \n",
      "612        Abaelardus, Petrus  1110   prose          1050  \n",
      "613        Abaelardus, Petrus  1110   prose          1050  \n",
      "614        Abaelardus, Petrus  1110   prose          1050  \n",
      "615        Abaelardus, Petrus  1110   prose          1050  \n",
      "616        Abaelardus, Petrus  1110   prose          1050  \n",
      "617        Abaelardus, Petrus  1110   prose          1050  \n",
      "618        Abaelardus, Petrus  1110   prose          1050  \n",
      "619        Abaelardus, Petrus  1110   prose          1050  \n",
      "620        Abaelardus, Petrus  1110   prose          1050  \n",
      "621        Abaelardus, Petrus  1110   prose          1050  \n",
      "622        Abaelardus, Petrus  1110   prose          1050  \n",
      "623        Abaelardus, Petrus  1110   prose          1050  \n",
      "624           Adam von Bremen  1067   prose          1050  \n",
      "625        Abaelardus, Petrus  1110   prose          1050  \n",
      "626        Abaelardus, Petrus  1110   prose          1050   <class 'pandas.core.frame.DataFrame'>\n"
     ]
    },
    {
     "name": "stdout",
     "output_type": "stream",
     "text": [
      "1:              id                                              title  \\\n",
      "25   IT-LAT0017                                         Laus solis   \n",
      "26   IT-LAT0018                Confirmatio fratrum minorum regulae   \n",
      "273  IT-LAT0466  Planctus destructionis regni Hungariae per Tar...   \n",
      "278  IT-LAT0479                                            Carmina   \n",
      "289  IT-LAT0496                De luce seu de inchoatione formarum   \n",
      "..          ...                                                ...   \n",
      "550  IT-LAT0877                                 De contemptu mundi   \n",
      "556  IT-LAT0885                                          Dies irae   \n",
      "567  IT-LAT0901   Historia rerum in partibus transmarinis gestarum   \n",
      "571  IT-LAT0905                                Libellus historicus   \n",
      "583  IT-LAT0918                 De reductione artium ad theologiam   \n",
      "\n",
      "                       creator  date    type time_interval  \n",
      "25   Francesco d'Assisi: Santo  1224  poetry          1150  \n",
      "26           Papa Honorius III  1150   prose          1150  \n",
      "273                [Anonymous]  1242  poetry          1150  \n",
      "278                 Archipoeta  1150  poetry          1150  \n",
      "289      Grosseteste, Robertus  1200   prose          1150  \n",
      "..                         ...   ...     ...           ...  \n",
      "550     Bernardus Cluniacensis  1150  poetry          1150  \n",
      "556          Tommaso da Celano  1235  poetry          1150  \n",
      "567            William of Tyre  1157   prose          1150  \n",
      "571  Johannes de Plano Carpini  1218   prose          1150  \n",
      "583         Bonaventura: Santo  1247   prose          1150  \n",
      "\n",
      "[61 rows x 6 columns] <class 'pandas.core.frame.DataFrame'>\n",
      "1:              id                                 title  \\\n",
      "21   IT-LAT0012          In psalmis Davidis expositio   \n",
      "22   IT-LAT0014                       Adoro te devote   \n",
      "31   IT-LAT0025                         Legenda Aurea   \n",
      "32   IT-LAT0026            Itinerarium mentis in Deum   \n",
      "167  IT-LAT0279          De principio individuationis   \n",
      "174  IT-LAT0291                     Exivi de Paradiso   \n",
      "175  IT-LAT0292                     Exiit qui seminat   \n",
      "253  IT-LAT0441                               Eclogae   \n",
      "254  IT-LAT0442                             Epistulae   \n",
      "255  IT-LAT0443          Quaestio de aqua et de terra   \n",
      "256  IT-LAT0444                          De monarchia   \n",
      "257  IT-LAT0445                 De vulgari eloquentia   \n",
      "292  IT-LAT0499                           De sensibus   \n",
      "385  IT-LAT0618                         Novus Aesopus   \n",
      "434  IT-LAT0689                          Supra montem   \n",
      "435  IT-LAT0690                  Quum inter nonnullos   \n",
      "436  IT-LAT0691                        Quia quorundam   \n",
      "444  IT-LAT0718             Epistola de modo studendi   \n",
      "506  IT-LAT0814  Historia fratris Dulcini heresiarche   \n",
      "517  IT-LAT0830                           Testamentum   \n",
      "518  IT-LAT0831                             Epistolae   \n",
      "520  IT-LAT0834                                Regula   \n",
      "523  IT-LAT0837                            Benedictio   \n",
      "530  IT-LAT0844                         De summo bono   \n",
      "568  IT-LAT0902      Expositio in orationem dominicam   \n",
      "602  IT-LAT0937                  De viris illustribus   \n",
      "603  IT-LAT0938           Epistula M. Tullio Ciceroni   \n",
      "610  IT-LAT0958                  De mundi aeternitate   \n",
      "\n",
      "                     creator  date    type time_interval  \n",
      "21   Thomas Aquinas: Sanctus  1254   prose          1250  \n",
      "22   Thomas Aquinas: Sanctus  1254  poetry          1250  \n",
      "31       Iacobus de Voragine  1260   prose          1250  \n",
      "32        Bonaventura: Santo  1250   prose          1250  \n",
      "167  Thomas Aquinas: Sanctus  1254   prose          1250  \n",
      "174            Clemens PP. V  1312   prose          1250  \n",
      "175         Nicolaus PP. III  1278   prose          1250  \n",
      "253         Alighieri, Dante  1319  poetry          1250  \n",
      "254         Alighieri, Dante  1293   prose          1250  \n",
      "255         Alighieri, Dante  1320   prose          1250  \n",
      "256         Alighieri, Dante  1310   prose          1250  \n",
      "257         Alighieri, Dante  1304   prose          1250  \n",
      "292      Burlaeus, Gualterus  1300   prose          1250  \n",
      "385                    Baldo  1250  poetry          1250  \n",
      "434          Nicolaus PP. IV  1289   prose          1250  \n",
      "435         Ioannes PP. XXII  1323   prose          1250  \n",
      "436         Ioannes PP. XXII  1324   prose          1250  \n",
      "444  Thomas Aquinas: Sanctus  1254   prose          1250  \n",
      "506        [Auctor incertus]  1316   prose          1250  \n",
      "517   Chiara d'Assisi: Santa  1250   prose          1250  \n",
      "518   Chiara d'Assisi: Santa  1250   prose          1250  \n",
      "520   Chiara d'Assisi: Santa  1250   prose          1250  \n",
      "523   Chiara d'Assisi: Santa  1250   prose          1250  \n",
      "530        Boethius de Dacia  1250   prose          1250  \n",
      "568  Thomas Aquinas: Sanctus  1254   prose          1250  \n",
      "602      Petrarca, Francesco  1337   prose          1250  \n",
      "603      Petrarca, Francesco  1339   prose          1250  \n",
      "610        Boethius de Dacia  1250   prose          1250   <class 'pandas.core.frame.DataFrame'>\n",
      "1:              id                                              title  \\\n",
      "145  IT-LAT0245                    Libri XII Aeneidos supplementum   \n",
      "165  IT-LAT0277                                    Gesta Romanorum   \n",
      "252  IT-LAT0438                                         De pictura   \n",
      "262  IT-LAT0450                                             Uxoria   \n",
      "263  IT-LAT0451                                          Naufragus   \n",
      "265  IT-LAT0453                                   De equo animante   \n",
      "288  IT-LAT0495                                  De adhaerendo Deo   \n",
      "344  IT-LAT0568  Tractatus de origine, natura, iure et mutation...   \n",
      "352  IT-LAT0577                                   Liber facetiarum   \n",
      "414  IT-LAT0649                                        Philobiblon   \n",
      "415  IT-LAT0650                    Martyrium Ricardi archiepiscopi   \n",
      "509  IT-LAT0821                                     Vita Caroli IV   \n",
      "595  IT-LAT0930                                    Carmina selecta   \n",
      "596  IT-LAT0931                               Oratio contra Turcos   \n",
      "597  IT-LAT0932                                          Epistulae   \n",
      "604  IT-LAT0939                             Contra medicum quendam   \n",
      "606  IT-LAT0954                                             Africa   \n",
      "\n",
      "                                               creator  date    type  \\\n",
      "145                                    Maphaeus Vegius  1428  poetry   \n",
      "165                                        [Anonymous]  1350   prose   \n",
      "252                             Alberti, Leon Battista  1435   prose   \n",
      "262                             Alberti, Leon Battista  1438   prose   \n",
      "263                             Alberti, Leon Battista  1438   prose   \n",
      "265                             Alberti, Leon Battista  1438   prose   \n",
      "288                  Auctor incertus (Jodl von Kastl?)  1410   prose   \n",
      "344                                 Oresmius, Nicolaus  1360   prose   \n",
      "352  Poggius Bracciolinus Florentinus, Ioannes Fran...  1445   prose   \n",
      "414                                    Richard de Bury  1350   prose   \n",
      "415                                 Maidstone, Clement  1350   prose   \n",
      "509                                         Carolus IV  1350   prose   \n",
      "595                           Piccolomini, Enea Silvio  1434  poetry   \n",
      "596                           Piccolomini, Enea Silvio  1434   prose   \n",
      "597                           Piccolomini, Enea Silvio  1434   prose   \n",
      "604                                Petrarca, Francesco  1355   prose   \n",
      "606                                Petrarca, Francesco  1397  poetry   \n",
      "\n",
      "    time_interval  \n",
      "145          1350  \n",
      "165          1350  \n",
      "252          1350  \n",
      "262          1350  \n",
      "263          1350  \n",
      "265          1350  \n",
      "288          1350  \n",
      "344          1350  \n",
      "352          1350  \n",
      "414          1350  \n",
      "415          1350  \n",
      "509          1350  \n",
      "595          1350  \n",
      "596          1350  \n",
      "597          1350  \n",
      "604          1350  \n",
      "606          1350   <class 'pandas.core.frame.DataFrame'>\n",
      "1:              id                                              title  \\\n",
      "28   IT-LAT0022  Disputatio pro declaratione virtutis indulgent...   \n",
      "29   IT-LAT0023                  Historia de vita et actis Lutheri   \n",
      "30   IT-LAT0024                            The Augsburg Confession   \n",
      "214  IT-LAT0371  Epistulae tres ad Ovidiana epistulas responsoriae   \n",
      "282  IT-LAT0483                               Oratio Ingelstadiana   \n",
      "284  IT-LAT0488                             Monetae cudendae ratio   \n",
      "326  IT-LAT0546                          Praefatio in opera Latina   \n",
      "327  IT-LAT0547                                          Epistulae   \n",
      "335  IT-LAT0558                    De obitu Martini Lutheri oratio   \n",
      "336  IT-LAT0559                                Epigrammata selecta   \n",
      "337  IT-LAT0560  De optimo statu reipublicae deque nova insula ...   \n",
      "338  IT-LAT0561                                              Lusus   \n",
      "345  IT-LAT0569                                        Epigrammata   \n",
      "346  IT-LAT0570                                             Baldus   \n",
      "350  IT-LAT0575                                            Carmina   \n",
      "351  IT-LAT0576                        Oratio de hominis dignitate   \n",
      "360  IT-LAT0586                        Lamentatio de morte Christi   \n",
      "387  IT-LAT0620                                              Lamia   \n",
      "405  IT-LAT0638                                               Odes   \n",
      "410  IT-LAT0643                                           Ad famam   \n",
      "411  IT-LAT0644  Epithalamium in nuptiis Sigismundi regis Polon...   \n",
      "413  IT-LAT0646                                  De partu Virginis   \n",
      "427  IT-LAT0666                                Adagiorum Chiliades   \n",
      "428  IT-LAT0667                                    Morias encomion   \n",
      "430  IT-LAT0674                               Colloquia Familiaria   \n",
      "437  IT-LAT0692                                  Superna caelestis   \n",
      "552  IT-LAT0879                     Facetiae latinae et germanicae   \n",
      "588  IT-LAT0923                                      Querela pacis   \n",
      "589  IT-LAT0924                    Institutio principis christiani   \n",
      "590  IT-LAT0925                               Libri Antibarbarorum   \n",
      "592  IT-LAT0927                                Epigrammata selecta   \n",
      "593  IT-LAT0928  Declamatio in genere svasorio de laude matrimonii   \n",
      "598  IT-LAT0933                 De laude vitae scholasticae oratio   \n",
      "644  IT-LAT1000                     Enchiridion militis christiani   \n",
      "646  IT-LAT1002                                          Epistulae   \n",
      "\n",
      "                                 creator  date    type time_interval  \n",
      "28                        Luther, Martin  1517  poetry          1450  \n",
      "29                   Melancthon, Philipp  1547   prose          1450  \n",
      "30                   Melancthon, Philipp  1530   prose          1450  \n",
      "214                       Sabinus, Aulus  1450  poetry          1450  \n",
      "282                     Celtis, Conradus  1492   prose          1450  \n",
      "284                 Copernicus, Nicolaus  1526   prose          1450  \n",
      "326                       Luther, Martin  1545   prose          1450  \n",
      "327                       Luther, Martin  1524   prose          1450  \n",
      "335                  Melancthon, Philipp  1546   prose          1450  \n",
      "336                         More, Thomas  1519  poetry          1450  \n",
      "337                         More, Thomas  1516   prose          1450  \n",
      "338                   Naugerius, Andreas  1506  poetry          1450  \n",
      "345                           Owen, John  1530  poetry          1450  \n",
      "346                     Folengo, Teofilo  1517  poetry          1450  \n",
      "350         Picus Mirandulensis, Ioannis  1478  poetry          1450  \n",
      "351         Picus Mirandulensis, Ioannis  1486   prose          1450  \n",
      "360                 Sannazarius, Iacobus  1494  poetry          1450  \n",
      "387  Ambrogini, Agnolo (alias Poliziano)  1492   prose          1450  \n",
      "405                     Celtis, Conradus  1483  poetry          1450  \n",
      "410                 Corvinus, Laurentius  1450  poetry          1450  \n",
      "411                 Corvinus, Laurentius  1450  poetry          1450  \n",
      "413                 Sannazarius, Iacobus  1494  poetry          1450  \n",
      "427      Erasmus Roterodamus, Desiderius  1504  poetry          1450  \n",
      "428      Erasmus Roterodamus, Desiderius  1511   prose          1450  \n",
      "430      Erasmus Roterodamus, Desiderius  1500   prose          1450  \n",
      "437                        Sixtus PP. IV  1482   prose          1450  \n",
      "552                      Augustin Tünger  1486   prose          1450  \n",
      "588      Erasmus Roterodamus, Desiderius  1501   prose          1450  \n",
      "589      Erasmus Roterodamus, Desiderius  1501   prose          1450  \n",
      "590      Erasmus Roterodamus, Desiderius  1501   prose          1450  \n",
      "592                     Marullo, Michele  1475  poetry          1450  \n",
      "593      Erasmus Roterodamus, Desiderius  1501   prose          1450  \n",
      "598                  Melancthon, Philipp  1528   prose          1450  \n",
      "644      Erasmus Roterodamus, Desiderius  1501   prose          1450  \n",
      "646                 Henry VII of England  1483   prose          1450   <class 'pandas.core.frame.DataFrame'>\n",
      "1:              id                                              title  \\\n",
      "272  IT-LAT0465                         De Wilhelmo Thellio elegia   \n",
      "285  IT-LAT0489                                            Carmina   \n",
      "361  IT-LAT0587                                              Basia   \n",
      "363  IT-LAT0590                                    Carmina selecta   \n",
      "404  IT-LAT0637  Expeditio Francisci Draki equitis Angli in Ind...   \n",
      "406  IT-LAT0639                      Locustae vel pietas Iesuitica   \n",
      "407  IT-LAT0640                                            Carmina   \n",
      "417  IT-LAT0653                                        Ad Thamesin   \n",
      "418  IT-LAT0654                                              Umbra   \n",
      "431  IT-LAT0676                                             Roxana   \n",
      "442  IT-LAT0705                            Supplementum Pharsaliae   \n",
      "508  IT-LAT0820                                    Missale Romanum   \n",
      "515  IT-LAT0828                            Triumphantis Hierusalem   \n",
      "539  IT-LAT0864                                            Carmina   \n",
      "547  IT-LAT0874                                   Vita de Leonis X   \n",
      "560  IT-LAT0892                                   Sidereus Nuncius   \n",
      "591  IT-LAT0926                                               Nero   \n",
      "594  IT-LAT0929     Poema CI ad ornatissimvm virvm Erricvm Memmivm   \n",
      "637  IT-LAT0991                                       Epithalamium   \n",
      "639  IT-LAT0993                                            Argenis   \n",
      "640  IT-LAT0994                                      Icon Animorum   \n",
      "647  IT-LAT1003   De recta pronuntiatione Latinae linguae dialogus   \n",
      "650  IT-LAT1007                                      Iulius Caesar   \n",
      "\n",
      "                                             creator  date    type  \\\n",
      "272                     Fabricius Montanus, Johannes  1550  poetry   \n",
      "285                                   Cotta, Ioannis  1550  poetry   \n",
      "361  Everaerts, Jan Niclai (alias Johannes Secundus)  1550  poetry   \n",
      "363                              Sarbievius, Casimir  1632  poetry   \n",
      "404                                   Bigges, Walter  1550   prose   \n",
      "406                                Fletcher, Phineas  1627   prose   \n",
      "407                            Vega, Garcilaso de la  1550  poetry   \n",
      "417                                  Campion, Thomas  1593   prose   \n",
      "418                                  Campion, Thomas  1593  poetry   \n",
      "431                               Alabaster, William  1595   prose   \n",
      "442                                      May, Thomas  1600  poetry   \n",
      "508                                        No Author  1570   prose   \n",
      "515                                     Sixtus PP. V  1588   prose   \n",
      "539                                  Janicki, Klemes  1550  poetry   \n",
      "547                                     Paolo Giovio  1550   prose   \n",
      "560                                 Galilei, Galileo  1610   prose   \n",
      "591                                  Matthew Gwinne   1603   prose   \n",
      "594                                   Passerat, Jean  1568  poetry   \n",
      "637  Everaerts, Jan Niclai (alias Johannes Secundus)  1550  poetry   \n",
      "639                                    Barclay, John  1621   prose   \n",
      "640                                    Barclay, John  1614   prose   \n",
      "647                                  Justus Lipsius   1550   prose   \n",
      "650                              Muret, Marc-Antoine  1555  poetry   \n",
      "\n",
      "    time_interval  \n",
      "272          1550  \n",
      "285          1550  \n",
      "361          1550  \n",
      "363          1550  \n",
      "404          1550  \n",
      "406          1550  \n",
      "407          1550  \n",
      "417          1550  \n",
      "418          1550  \n",
      "431          1550  \n",
      "442          1550  \n",
      "508          1550  \n",
      "515          1550  \n",
      "539          1550  \n",
      "547          1550  \n",
      "560          1550  \n",
      "591          1550  \n",
      "594          1550  \n",
      "637          1550  \n",
      "639          1550  \n",
      "640          1550  \n",
      "647          1550  \n",
      "650          1550   <class 'pandas.core.frame.DataFrame'>\n"
     ]
    },
    {
     "name": "stdout",
     "output_type": "stream",
     "text": [
      "1:              id                                              title  \\\n",
      "364  IT-LAT0591               Ethica ordine geometrico demonstrata   \n",
      "368  IT-LAT0595                                          Oratio VI   \n",
      "391  IT-LAT0624            Pax Guglielmi auspiciis Europae reddita   \n",
      "392  IT-LAT0625                               Barometri descriptio   \n",
      "393  IT-LAT0626         Praelium inter pygmaeos et grues commissum   \n",
      "394  IT-LAT0627  Resurrectio delineata ad altare Coll. Magd. Oxon.   \n",
      "395  IT-LAT0628                                     Sphaeristerium   \n",
      "396  IT-LAT0629   Ad D. D. Hannes, insignissimum medicum et poetam   \n",
      "397  IT-LAT0630                             Machinae gesticulantes   \n",
      "398  IT-LAT0631  Ad insignissimum virum D. Tho. Burnettum sacra...   \n",
      "401  IT-LAT0634                                        Melancholia   \n",
      "403  IT-LAT0636   Ad Iulius Orstenam de more unguendorum cadaverum   \n",
      "412  IT-LAT0645                               In quintum Novembris   \n",
      "416  IT-LAT0652                             Societate Jesu eclogae   \n",
      "538  IT-LAT0863       De perfecta poesi, sive Vergilius et Homerus   \n",
      "564  IT-LAT0897        In viri praestantissimi Isaaci Newtoni opus   \n",
      "565  IT-LAT0899                   Nicolai Klimii iter subterraneum   \n",
      "600  IT-LAT0935                                        Epigrammata   \n",
      "641  IT-LAT0995                                     Psyche Cretica   \n",
      "651  IT-LAT1008                                Argumentum Aeneidos   \n",
      "652  IT-LAT1009                Praefatio editionis operum Virgilii   \n",
      "\n",
      "                           creator  date    type time_interval  \n",
      "364            Spinoza, Benedictus  1668   prose          1650  \n",
      "368             Vico, Giambattista  1707   prose          1650  \n",
      "391                Addison, Joseph  1667  poetry          1650  \n",
      "392                Addison, Joseph  1695  poetry          1650  \n",
      "393                Addison, Joseph  1695  poetry          1650  \n",
      "394                Addison, Joseph  1695  poetry          1650  \n",
      "395                Addison, Joseph  1695  poetry          1650  \n",
      "396                Addison, Joseph  1695  poetry          1650  \n",
      "397                Addison, Joseph  1695  poetry          1650  \n",
      "398                Addison, Joseph  1695  poetry          1650  \n",
      "401                   Balde, Jakob  1650  poetry          1650  \n",
      "403                   Balde, Jakob  1650  poetry          1650  \n",
      "412                   Milton, John  1650  poetry          1650  \n",
      "416           Boskovic, Bartolomej  1650  poetry          1650  \n",
      "538            Sarbievius, Casimir  1650   prose          1650  \n",
      "564                 Halley, Edmond  1699  poetry          1650  \n",
      "565                Holberg, Ludvig  1741   prose          1650  \n",
      "600         Prokopovic, Theophanes  1708  poetry          1650  \n",
      "641  Praschius, Johannes Ludovicus  1685   prose          1650  \n",
      "651             Rue, Charles de la  1684   prose          1650  \n",
      "652             Rue, Charles de la  1684   prose          1650   <class 'pandas.core.frame.DataFrame'>\n",
      "1:              id                                              title  \\\n",
      "279  IT-LAT0480                                   Gaudeamus igitur   \n",
      "343  IT-LAT0567  Experimenta circa effectum conflictus electric...   \n",
      "349  IT-LAT0573                    Hypercalypseos liber singularis   \n",
      "353  IT-LAT0579                                        Caecus amor   \n",
      "440  IT-LAT0701                        Poematum latinorum libellus   \n",
      "441  IT-LAT0703                                  Ad Gustavum Regem   \n",
      "443  IT-LAT0708                               Apollo et Hyacinthus   \n",
      "473  IT-LAT0771                                       Stabat Mater   \n",
      "488  IT-LAT0789                           Epitome historiae sacrae   \n",
      "489  IT-LAT0790  De viris illustribus urbis Romae a Romulo ad A...   \n",
      "554  IT-LAT0882                                            Carmina   \n",
      "\n",
      "                             creator  date    type time_interval  \n",
      "279     Kindleben, Christian Wilhelm  1766  poetry          1750  \n",
      "343    Oersted, Johannis Christianus  1820   prose          1750  \n",
      "349                     Foscolo, Ugo  1815   prose          1750  \n",
      "353                    Poré, Carolus  1750   prose          1750  \n",
      "440            Landor, Walter Savage  1795  poetry          1750  \n",
      "441            Landor, Walter Savage  1810  poetry          1750  \n",
      "443                    Widl, Rufinus  1767  poetry          1750  \n",
      "473                Boccherini, Luigi  1781  poetry          1750  \n",
      "488  Lhomond, Charles Franccedil;ois  1760   prose          1750  \n",
      "489  Lhomond, Charles Franccedil;ois  1779   prose          1750  \n",
      "554            Waardenburg, Henricus  1792  poetry          1750   <class 'pandas.core.frame.DataFrame'>\n",
      "1:              id                        title                creator  date  \\\n",
      "355  IT-LAT0581              Poeta laureatus        Rimbaud, Arthur  1868   \n",
      "356  IT-LAT0582              Angelus et puer        Rimbaud, Arthur  1868   \n",
      "357  IT-LAT0583                     Jugurtha        Rimbaud, Arthur  1869   \n",
      "432  IT-LAT0686                     Ver erat        Rimbaud, Arthur  1872   \n",
      "438  IT-LAT0695               Latina Quaedam  Landor, Walter Savage  1858   \n",
      "505  IT-LAT0813  Codex iuris canonici (1917)              No Author  1917   \n",
      "516  IT-LAT0829                  Septimo iam             Pius PP. X  1909   \n",
      "629  IT-LAT0982         Catullocalvos satura      Pascoli, Giovanni  1897   \n",
      "630  IT-LAT0983               Senex Corycius      Pascoli, Giovanni  1902   \n",
      "631  IT-LAT0984                     Veianius      Pascoli, Giovanni  1891   \n",
      "632  IT-LAT0985                    Laureolus      Pascoli, Giovanni  1892   \n",
      "633  IT-LAT0986                     Iugurtha      Pascoli, Giovanni  1892   \n",
      "\n",
      "       type time_interval  \n",
      "355  poetry          1850  \n",
      "356  poetry          1850  \n",
      "357  poetry          1850  \n",
      "432  poetry          1850  \n",
      "438  poetry          1850  \n",
      "505   prose          1850  \n",
      "516   prose          1850  \n",
      "629  poetry          1850  \n",
      "630  poetry          1850  \n",
      "631  poetry          1850  \n",
      "632  poetry          1850  \n",
      "633  poetry          1850   <class 'pandas.core.frame.DataFrame'>\n",
      "1:              id                                              title  \\\n",
      "27   IT-LAT0021                                      Dominus Iesus   \n",
      "33   IT-LAT0027                            Incarnationis mysterium   \n",
      "35   IT-LAT0030                             Novo millennio ineunte   \n",
      "36   IT-LAT0031                                Pastores dabo vobis   \n",
      "220  IT-LAT0381                                     Fides et ratio   \n",
      "251  IT-LAT0437  De usu linguarum popularium in libris liturgia...   \n",
      "258  IT-LAT0446                   Sacramentorum sanctitatis tutela   \n",
      "259  IT-LAT0447                            De delictis gravioribus   \n",
      "261  IT-LAT0449  Epistula ad catholicae Ecclesiae episcopos de ...   \n",
      "267  IT-LAT0456                                        Dies Domini   \n",
      "323  IT-LAT0536                                   Misericordia Dei   \n",
      "347  IT-LAT0571                                     Apostolos suos   \n",
      "348  IT-LAT0572                                   Ad tuendam fidem   \n",
      "408  IT-LAT0641                                       Pastor bonus   \n",
      "409  IT-LAT0642                           Inter munera academiarum   \n",
      "429  IT-LAT0669                    Nova Vulgata Bibliorum Sacrorum   \n",
      "462  IT-LAT0753  Ratio fundamentalis institutionis diaconorum p...   \n",
      "463  IT-LAT0754                         Enchiridion indulgentiarum   \n",
      "466  IT-LAT0758              Codex canonum ecclesiarum orientalium   \n",
      "467  IT-LAT0759  Venerabili Dei Famulae Mariae ab Apostolis Bea...   \n",
      "468  IT-LAT0760                             Ambulate in dilectione   \n",
      "469  IT-LAT0761                                Evangelii nuntiandi   \n",
      "470  IT-LAT0762                            Ecclesia de Eucharistia   \n",
      "471  IT-LAT0763  Lettera a Monsignor Hugo Aufderbeck per il VII...   \n",
      "474  IT-LAT0772  A tutte le genti per la inaugurazione del nuov...   \n",
      "486  IT-LAT0787                                   Ecclesia in Urbe   \n",
      "500  IT-LAT0806                                       Agendi ratio   \n",
      "511  IT-LAT0824                                      Humanae vitae   \n",
      "521  IT-LAT0835  Epistula apostolica ad catholicum Hungariae po...   \n",
      "522  IT-LAT0836                           Declaratio de euthanasia   \n",
      "525  IT-LAT0839                Instructio Redemptionis Sacramentum   \n",
      "526  IT-LAT0840  Missa pro Ecclesia Primum nuntium post concele...   \n",
      "\n",
      "                                               creator  date   type  \\\n",
      "27            Congregazione per la Dottrina della Fede  2000  prose   \n",
      "33                               Ioannes Paulus PP. II  1998  prose   \n",
      "35                               Ioannes Paulus PP. II  2001  prose   \n",
      "36                               Ioannes Paulus PP. II  1992  prose   \n",
      "220                              Ioannes Paulus PP. II  1998  prose   \n",
      "251  Congregatio de Cultu Divino et Disciplina Sacr...  2001  prose   \n",
      "258                              Ioannes Paulus PP. II  2002  prose   \n",
      "259           Congregazione per la Dottrina della Fede  2001  prose   \n",
      "261           Congregazione per la Dottrina della Fede  1994  prose   \n",
      "267                              Ioannes Paulus PP. II  1998  prose   \n",
      "323                              Ioannes Paulus PP. II  2002  prose   \n",
      "347                              Ioannes Paulus PP. II  1998  prose   \n",
      "348                              Ioannes Paulus PP. II  1998  prose   \n",
      "408                              Ioannes Paulus PP. II  1988  prose   \n",
      "409                              Ioannes Paulus PP. II  1999  prose   \n",
      "429                                    Various Authors  1979  prose   \n",
      "462  Congregazioni per l'Educazione Cattolica e per...  1998  prose   \n",
      "463                          Paenitentiaria apostolica  1999  prose   \n",
      "466                                          No Author  1990  prose   \n",
      "467                                      Paulus PP. VI  1978  prose   \n",
      "468                                      Paulus PP. VI  1975  prose   \n",
      "469                                      Paulus PP. VI  1975  prose   \n",
      "470                              Ioannes Paulus PP. II  2003  prose   \n",
      "471                               Ioannes Paulus PP. I  1978  prose   \n",
      "474                                       Pius PP. XII  1957  prose   \n",
      "486                              Ioannes Paulus PP. II  1998  prose   \n",
      "500           Congregazione per la Dottrina della Fede  1997  prose   \n",
      "511                                      Paulus PP. VI  1968  prose   \n",
      "521                              Ioannes Paulus PP. II  2001  prose   \n",
      "522           Congregazione per la Dottrina della Fede  1980  prose   \n",
      "525  Congregatio de Cultu Divino et Disciplina Sacr...  2004  prose   \n",
      "526                                    Benedictus XVI   2005  prose   \n",
      "\n",
      "    time_interval  \n",
      "27           1950  \n",
      "33           1950  \n",
      "35           1950  \n",
      "36           1950  \n",
      "220          1950  \n",
      "251          1950  \n",
      "258          1950  \n",
      "259          1950  \n",
      "261          1950  \n",
      "267          1950  \n",
      "323          1950  \n",
      "347          1950  \n",
      "348          1950  \n",
      "408          1950  \n",
      "409          1950  \n",
      "429          1950  \n",
      "462          1950  \n",
      "463          1950  \n",
      "466          1950  \n",
      "467          1950  \n",
      "468          1950  \n",
      "469          1950  \n",
      "470          1950  \n",
      "471          1950  \n",
      "474          1950  \n",
      "486          1950  \n",
      "500          1950  \n",
      "511          1950  \n",
      "521          1950  \n",
      "522          1950  \n",
      "525          1950  \n",
      "526          1950   <class 'pandas.core.frame.DataFrame'>\n"
     ]
    },
    {
     "name": "stdout",
     "output_type": "stream",
     "text": [
      "1: Empty DataFrame\n",
      "Columns: [id, title, creator, date, type, time_interval]\n",
      "Index: [] <class 'pandas.core.frame.DataFrame'>\n"
     ]
    }
   ],
   "source": [
    "# dictionary that maps a time interval with the list of sentences of texts in that time interval\"\n",
    "time2corpus = dict()\n",
    "\n",
    "# I loop over all time intervals:\n",
    "for t in range(n_intervals+1):\n",
    "    files_corpus_t = metadata_df.loc[metadata_df['time_interval'] == intervals[t]]\n",
    "    print(\"1:\",files_corpus_t, type(files_corpus_t))\n",
    "    corpus_t = list()\n",
    "    for index, df_line in files_corpus_t.iterrows():\n",
    "        #print(\"line:\",df_line['id'], df_line['time_interval'])\n",
    "        sign = \"+\"\n",
    "        #print(df_line['date'])\n",
    "        if df_line['date'] < 0:\n",
    "            sign = \"-\"\n",
    "        #print(\"date:\", convert_dates(sign, abs(df_line['date'])))\n",
    "        file_name = 'lat_'+str(convert_dates(sign, abs(df_line['date'])))+\"_\"+str(df_line['id'])+'.txt'\n",
    "        #print(\"3:\",file_name)\n",
    "        file = open(os.path.join(dir_in, \"preprocessed_\"+lemmas_or_tokens, file_name), 'r')\n",
    "        sentences_this_file = list()\n",
    "        while True:\n",
    "            line = file.readline().strip()\n",
    "            if line != \"\":\n",
    "                #sentences_this_file.append(line.split(\" \"))\n",
    "                #sentences_this_file.append([token for token in line.split(\" \") if token not in punctuation])\n",
    "                corpus_t.append([token for token in line.split(\" \") if token not in punctuation])\n",
    "            # if line is empty end of file is reached\n",
    "            if not line:\n",
    "                break\n",
    "        file.close()\n",
    "        #corpus_t.append(sentences_this_file)\n",
    "    #corpus_t1\n",
    "    #print(len(corpus_t1[0]))\n",
    "    time2corpus[t] = corpus_t\n"
   ]
  },
  {
   "cell_type": "markdown",
   "metadata": {},
   "source": [
    "Let's inspect the corpus for the first time interval:"
   ]
  },
  {
   "cell_type": "code",
   "execution_count": 179,
   "metadata": {},
   "outputs": [
    {
     "data": {
      "text/plain": [
       "[['si', 'in', 'ius', 'voco', 'eo'],\n",
       " ['ni', 'eo', 'antesto'],\n",
       " ['igitur', 'is', 'capio'],\n",
       " ['si', 'calvo', 'pes', 've', 'struo', 'manus', 'endo', 'iacito'],\n",
       " ['si', 'morbus', 'aevitasve', 'vitium', 'sum', 'iumentum', 'do'],\n",
       " ['si', 'nolo', 'arcera', 'ne#2', 'sterno'],\n",
       " ['assiduus', 'vindex', 'assiduus', 'sum'],\n",
       " ['proletarius', 'iam', 'cieo', 'quis#2', 'volo', 'vindex', 'sum'],\n",
       " ['nex', 'fortis', 'sano', 'res', 'ubi', 'paco', 'oro'],\n",
       " ['ni',\n",
       "  'paco',\n",
       "  'in',\n",
       "  'comitium',\n",
       "  'aut',\n",
       "  'in',\n",
       "  'forum',\n",
       "  'ante',\n",
       "  'meridies',\n",
       "  'causa',\n",
       "  'coicio'],\n",
       " ['com', 'peroro', 'ambo', 'praesens'],\n",
       " ['post', 'meridies', 'praesens', 'lis', 'addicio'],\n",
       " ['si', 'ambo', 'praesens', 'sol', 'occido#2', 'superus', 'tempestas', 'sum'],\n",
       " ['actor', 'dico#2', 'ex', 'sponsio', 'tu', 'ego', 'do', 'oportet', 'ajo'],\n",
       " ['quando',\n",
       "  'tuuus',\n",
       "  'nego',\n",
       "  'tu',\n",
       "  'praetor',\n",
       "  'iudex',\n",
       "  'sive',\n",
       "  'arbitrum',\n",
       "  'postulo',\n",
       "  'uti',\n",
       "  'do'],\n",
       " [],\n",
       " ['morbus',\n",
       "  'sonticus',\n",
       "  'aut',\n",
       "  'status',\n",
       "  'dies',\n",
       "  'cum',\n",
       "  'hostus',\n",
       "  'quis#2',\n",
       "  'hic',\n",
       "  'sum',\n",
       "  'unus',\n",
       "  'iudex',\n",
       "  'arbitrove',\n",
       "  'reove',\n",
       "  'is',\n",
       "  'dies',\n",
       "  'diffindo',\n",
       "  'sum'],\n",
       " ['quis#2',\n",
       "  'testimonium',\n",
       "  'desum',\n",
       "  'is',\n",
       "  'tertius',\n",
       "  'dies',\n",
       "  'ob',\n",
       "  'portus',\n",
       "  'obvagulo',\n",
       "  'eo'],\n",
       " ['aer',\n",
       "  'confiteor',\n",
       "  'res',\n",
       "  'que',\n",
       "  'jus',\n",
       "  'iudico',\n",
       "  'XXX',\n",
       "  'dies',\n",
       "  'iustus',\n",
       "  'sum'],\n",
       " ['post', 'deinde', 'manus', 'iniectio', 'sum'],\n",
       " ['in', 'ius', 'duco'],\n",
       " ['ni',\n",
       "  'judico',\n",
       "  'facio',\n",
       "  'aut',\n",
       "  'quis#2',\n",
       "  'endo',\n",
       "  'is',\n",
       "  'in',\n",
       "  'jus',\n",
       "  'vindico',\n",
       "  'se',\n",
       "  'cum',\n",
       "  'duco',\n",
       "  'vincio',\n",
       "  'aut',\n",
       "  'nervus',\n",
       "  'aut',\n",
       "  'compes',\n",
       "  'XV',\n",
       "  'pondo',\n",
       "  'ne#2',\n",
       "  'magnus',\n",
       "  'aut',\n",
       "  'si',\n",
       "  'volo',\n",
       "  'parvus',\n",
       "  'vincio'],\n",
       " ['si',\n",
       "  'volo',\n",
       "  'suus',\n",
       "  'vivo',\n",
       "  'ni',\n",
       "  'suus',\n",
       "  'vivo',\n",
       "  'quis#2',\n",
       "  'is',\n",
       "  'vincio',\n",
       "  'habeo',\n",
       "  'libra',\n",
       "  'faris',\n",
       "  'endo',\n",
       "  'dies',\n",
       "  'do'],\n",
       " ['si', 'volo', 'plus', 'do'],\n",
       " ['tertius', 'nundinus', 'pars', 'seco'],\n",
       " ['si',\n",
       "  'plus',\n",
       "  'minus',\n",
       "  've',\n",
       "  'seco',\n",
       "  'se',\n",
       "  'fraus',\n",
       "  'sum',\n",
       "  'adversus#2',\n",
       "  'hostis',\n",
       "  'aeternus',\n",
       "  'auctoritas',\n",
       "  'sum'],\n",
       " ['si',\n",
       "  'pater',\n",
       "  'filius',\n",
       "  'ter',\n",
       "  'venum',\n",
       "  'do',\n",
       "  'filius',\n",
       "  'ab',\n",
       "  'pater',\n",
       "  'liber#4',\n",
       "  'sum'],\n",
       " ['uti',\n",
       "  'lego',\n",
       "  'super',\n",
       "  'pecunia',\n",
       "  'tutelave',\n",
       "  'suus',\n",
       "  'reus',\n",
       "  'ita',\n",
       "  'ius',\n",
       "  'sum'],\n",
       " ['si',\n",
       "  'intestatus',\n",
       "  'morior',\n",
       "  'quis#2',\n",
       "  'suus',\n",
       "  'heres',\n",
       "  'nec',\n",
       "  'sum',\n",
       "  'adgnatus',\n",
       "  'proximus',\n",
       "  'familia',\n",
       "  'habeo'],\n",
       " ['si', 'adgnatus', 'nec', 'sum', 'gentilis', 'familia', 'habeo'],\n",
       " ['si',\n",
       "  'furiosus',\n",
       "  'sum',\n",
       "  'adgnatum',\n",
       "  'gentiliumque',\n",
       "  'in',\n",
       "  'is',\n",
       "  'pecuniaque',\n",
       "  'is',\n",
       "  'potestas',\n",
       "  'sum',\n",
       "  'at',\n",
       "  'is',\n",
       "  'custos',\n",
       "  'nec',\n",
       "  'sum',\n",
       "  'ex',\n",
       "  'is',\n",
       "  'familia',\n",
       "  'in',\n",
       "  'is',\n",
       "  'familia'],\n",
       " ['cum',\n",
       "  'nexus',\n",
       "  'facio',\n",
       "  'mancipiumque',\n",
       "  'uti',\n",
       "  'lingua',\n",
       "  'nuncupo',\n",
       "  'ita',\n",
       "  'ius',\n",
       "  'sum'],\n",
       " ['si',\n",
       "  'quis#2',\n",
       "  'in',\n",
       "  'jus',\n",
       "  'manus',\n",
       "  'consero',\n",
       "  'tignum',\n",
       "  'jungo',\n",
       "  'aedes',\n",
       "  'vineave',\n",
       "  'seeo',\n",
       "  'concapio',\n",
       "  'ne#2',\n",
       "  'solvo',\n",
       "  'duplione',\n",
       "  'quandoque',\n",
       "  'sarpo',\n",
       "  'donec',\n",
       "  'demo',\n",
       "  'sum'],\n",
       " [],\n",
       " ['ambitus',\n",
       "  'sestertius',\n",
       "  'pes',\n",
       "  'si',\n",
       "  'iurgo',\n",
       "  'tres',\n",
       "  'arbiter',\n",
       "  'via',\n",
       "  'munio',\n",
       "  'ni',\n",
       "  'sam',\n",
       "  'delapido',\n",
       "  'qui',\n",
       "  'volo',\n",
       "  'iumentum',\n",
       "  'ago'],\n",
       " ['quis#2',\n",
       "  'malus#3',\n",
       "  'carmen',\n",
       "  'incanto',\n",
       "  'si',\n",
       "  'membrum',\n",
       "  'rupsit',\n",
       "  'ni',\n",
       "  'cum',\n",
       "  'is',\n",
       "  'paco',\n",
       "  'talio',\n",
       "  'sum'],\n",
       " ['manus',\n",
       "  'fustive',\n",
       "  'si',\n",
       "  'os#2',\n",
       "  'frango',\n",
       "  'liber',\n",
       "  'CCC',\n",
       "  'as',\n",
       "  'si',\n",
       "  'servus',\n",
       "  'CL',\n",
       "  'as',\n",
       "  'poena',\n",
       "  'subito',\n",
       "  'si',\n",
       "  'iniuria',\n",
       "  'facio',\n",
       "  'viginti',\n",
       "  'quinque',\n",
       "  'poena',\n",
       "  'asses',\n",
       "  'sum'],\n",
       " [],\n",
       " ['rupsit', 'sarcio'],\n",
       " ['quis#2',\n",
       "  'fruges',\n",
       "  'excantassit',\n",
       "  'neve',\n",
       "  'alienus',\n",
       "  'seges',\n",
       "  'pellexeris',\n",
       "  'caput',\n",
       "  'si',\n",
       "  'nox',\n",
       "  'furtum',\n",
       "  'facio',\n",
       "  'si',\n",
       "  'occisit',\n",
       "  'jus',\n",
       "  'caedo',\n",
       "  'sum'],\n",
       " ['lux', 'si', 'se', 'telum', 'defendo', 'endoque', 'ploro'],\n",
       " ['lanx', 'et', 'licium', 'eo'],\n",
       " ['si',\n",
       "  'adoro',\n",
       "  'furto',\n",
       "  'quod',\n",
       "  'nec',\n",
       "  'manifestus',\n",
       "  'sum',\n",
       "  'duplione',\n",
       "  'damnum',\n",
       "  'decido'],\n",
       " ['patronus', 'si', 'clienti', 'fraus', 'facio', 'sacer', 'sum'],\n",
       " ['quis#2',\n",
       "  'se',\n",
       "  'sierit',\n",
       "  'testor',\n",
       "  'libripensve',\n",
       "  'sum',\n",
       "  'ni',\n",
       "  'testimonium',\n",
       "  'fatiatur',\n",
       "  'inprobus',\n",
       "  'intestabilisque',\n",
       "  'sum'],\n",
       " ['si',\n",
       "  'telum',\n",
       "  'manus',\n",
       "  'fugio',\n",
       "  'magis',\n",
       "  'quam#4',\n",
       "  'jacio',\n",
       "  'aries',\n",
       "  'subicio'],\n",
       " ['privilegium', 'ne#2', 'inrogo'],\n",
       " ['de', 'caput', 'civis', 'nisi', 'per', 'maximus', 'comitio', 'ne#2', 'fero'],\n",
       " ['homo', 'mortuus', 'in', 'urbs', 'ne#2', 'sepelio', 'neve', 'uro'],\n",
       " [],\n",
       " ['hic', 'plus', 'ne#2', 'facio', 'rogum', 'ascea', 'ne#2', 'polio'],\n",
       " ['mulier',\n",
       "  'gena',\n",
       "  'ne#2',\n",
       "  'rado',\n",
       "  'neve',\n",
       "  'lessus',\n",
       "  'funus',\n",
       "  'ergo',\n",
       "  'habeo'],\n",
       " ['homo', 'mortuus', 'ne#2', 'os', 'lego#2', 'quo', 'post', 'funus', 'facio'],\n",
       " ['quis#2',\n",
       "  'corona',\n",
       "  'pario#2',\n",
       "  'ipse',\n",
       "  'pecuniave',\n",
       "  'is',\n",
       "  'honor',\n",
       "  'virtutisve',\n",
       "  'ergoduitur',\n",
       "  'is',\n",
       "  'neve',\n",
       "  'aurum',\n",
       "  'addo'],\n",
       " ['at', 'quis#2', 'aurum', 'dens', 'jungo', 'sum'],\n",
       " ['at', 'in', 'cum', 'ille', 'sepelio', 'uretve', 'se', 'fraus', 'sum'],\n",
       " ['conubium', 'plebs', 'cum', 'pater'],\n",
       " ['dies', 'intercalandi'],\n",
       " ['si', 'servus', 'furtum', 'facio', 'noxiamve', 'noxit'],\n",
       " ['si',\n",
       "  'vindicia',\n",
       "  'falsus',\n",
       "  'fero',\n",
       "  'si',\n",
       "  'volo#1',\n",
       "  'is',\n",
       "  'tor',\n",
       "  'arbiter',\n",
       "  'tris',\n",
       "  'do',\n",
       "  'is',\n",
       "  'arbitrium',\n",
       "  'fructus',\n",
       "  'duplione',\n",
       "  'damnum',\n",
       "  'decido']]"
      ]
     },
     "execution_count": 179,
     "metadata": {},
     "output_type": "execute_result"
    }
   ],
   "source": [
    "time2corpus[0]"
   ]
  },
  {
   "cell_type": "markdown",
   "metadata": {},
   "source": [
    "And the second:"
   ]
  },
  {
   "cell_type": "code",
   "execution_count": 180,
   "metadata": {},
   "outputs": [
    {
     "data": {
      "text/plain": [
       "[]"
      ]
     },
     "execution_count": 180,
     "metadata": {},
     "output_type": "execute_result"
    }
   ],
   "source": [
    "time2corpus[1]"
   ]
  },
  {
   "cell_type": "markdown",
   "metadata": {},
   "source": [
    "And the third:"
   ]
  },
  {
   "cell_type": "code",
   "execution_count": 182,
   "metadata": {},
   "outputs": [
    {
     "name": "stdout",
     "output_type": "stream",
     "text": [
      "[['cogito', 'cum', 'anima', 'vetris', 'si', 'quis#2', 'vos', 'per', 'labor', 'rectus', 'facio', 'labor', 'ille', 'ab', 'vos', 'cito', 'recedo', 'bene', 'facio', 'vos', 'dum', 'vivo', 'non', 'abscedo', 'sed', 'si', 'quis#2', 'per', 'voluptas', 'nequiter', 'facio', 'voluptas', 'cito', 'abeo', 'nequiter', 'facio', 'ille', 'apud', 'vos', 'smeper', 'maneo'], ['magnus', 'seorsum', 'atque', 'divorto', 'pretium', 'paro#2', 'bonus', 'atque', 'strenuus', 'decurionatus', 'optionatus', 'hasta', 'donaticas', 'aliosque', 'honor'], ['Asperirime', 'atque', 'arduissimo', 'aditus'], ['Antiochus', 'epistula', 'bellum', 'gero', 'calamus', 'et', 'atramentum', 'milito'], ['Egoque', 'iam', 'pridem', 'cognosco', 'atque', 'intellego', 'atque', 'arbitror', 'res', 'publicus', 'curo', 'industrie', 'summus', 'periculum', 'sum'], ['atque', 'quamquam', 'multus', 'novus', 'miraculum', 'facio', 'inimicus', 'meus', 'tamen', 'nequeo', 'desino', 'miror', 'is', 'audacia', 'atque', 'confidentiam'], ['is', 'reus', 'do', 'opera', 'ut', 'ego', 'falso#2', 'maledico'], ['removeo', 'maledictores'], ['secus', 'aetas', 'ago', 'quam#4', 'ille', 'ago'], ['Videtote', 'quantus', 'secus', 'ego', 'facio'], ['omnis', 'ab', 'integro', 'paro', 'sum'], ['laudo', 'ego', 'maximus', 'laus', 'tantus', 'navis', 'tantus', 'exercitus', 'tantus', 'meo', 'non', 'opinor', 'sum', 'quisquam', 'homo', 'comparo#1', 'possum', 'is', 'ego', 'tam', 'mature', 'comparo'], ['deinde', 'postquam', 'Massillam', 'praetereo', 'inde', 'omem', 'classis', 'ventus', 'auster', 'lenis', 'fero', 'mare', 'velum', 'floreo', 'video'], ['ultra', 'angulus', 'Gallicus', 'ad', 'Illiberim', 'atque', 'Rucinonem', 'deferimur', 'inde', 'nox', 'aura', 'proficiscor', 'sum'], ['ita', 'nos', 'fero', 'ventus', 'ad', 'primoris', 'Pyrenaeum', 'quo', 'proicio', 'in', 'altus'], ['ego', 'atque', 'classis', 'obviam', 'fio'], ['omnis', 'tumultus', 'plenus', 'simul', 'hostis', 'copia', 'magnus', 'contra', 'ego', 'sedeo', 'usquequaque', 'lacesso'], ['is', 'res', 'non', 'possum', 'sustineo', 'nisi', 'is', 'praesidium', 'magnus', 'frumentumque', '[', 'mitto', ']'], ['nam', 'ita', 'dico#2', 'palam', 'necessum', 'sum', 'obcuratum'], ['interea', 'ad', 'socius', 'noster', 'sedulus', 'dispertieram', 'alius', 'frumentum', 'allus', 'legatus', 'alius', 'litterae', 'allus', 'praesidim', 'usquequaque'], ['interea', 'unusquisque', 'turma', 'manipulus', 'cohors', 'temptabam', 'quis#2', 'facio', 'possum', 'proelium', 'levis', 'specto', 'cujusmodi', 'quisque', 'sum', 'si', 'quis#2', 'strenuus', 'facio', 'dono', 'honestus', 'ut', 'alius', 'idem', 'volo', 'facio', 'atque', 'in', 'contio', 'verbum', 'multus', 'laudo'], ['interea', 'aliquis', 'paucus', 'castrum', 'facio'], ['sed', 'ubi', 'annus', 'tempus', 'venio', 'castrum', 'hiberna', 'postquam', 'auspico', 'atque', 'exercitus', 'adduco', 'pono', '[', 'versus', ']', 'castrum', 'hostis'], ['noster', 'pono', 'versus', 'hosteis', 'sum', 'ab', 'dexter', 'pars'], ['iam', 'apud', 'vallus', 'noster', 'satis', 'ago'], ['ego', 'sollicitus', 'atque', 'exercitus', 'habitus', 'sum', 'atque', 'porro', 'sum'], ['itaque', 'porro', 'in', 'Turtam', 'proficisco', 'servo', 'ille'], ['inde', 'pergo', 'porro', 'eo', 'in', 'Turtam'], ['si', 'cupio', 'hostis', 'fio', 'temere', 'fio', 'nunc', 'possum'], ['Ridibundum', 'magistratus', 'gero', 'pauculus', 'homo', 'mediocriculum', 'exercitus', 'obvius', 'duco'], ['is', 'ego', 'primus', 'parvus', 'animadverto', 'venio', 'iterum', 'atque', 'tertius', 'tumultuosus'], ['is', 'ego', 'via', 'pedetemptim', 'temptabam'], ['qui', 'maximus', 'vicis', 'atque', 'vicissim'], ['rectus', 'frons#2', 'ceterus', 'sequor', 'si', 'nosco'], ['ego', 'ego', 'hic', 'monumentum', 'sempiternus', 'pono', 'quis#2', 'coepi'], ['item', 'ubi', 'ab', 'Thermopuleis', 'atque', 'ex', 'Asia', 'maximus', 'tumultus', 'maturus', 'disieci', 'atque', 'consedavi'], ['censor', 'quis#2', 'posthac', 'fio', 'formidulosius', 'atque', 'segnis', 'atque', 'timidus', 'pro', 'res', 'publicus', 'niteo'], ['Cato', 'nihi', 'oppertus', 'ut', 'alius', 'de', 'se', 'praedico', 'ipse', 'in', 'oratio', 'suus', 'scribo', 'relinquo', 'cum', 'in', 'Hispania', 'consul', 'proficiscor', 'tris', 'servus', 'solus', 'ex', 'urbs', 'duco', 'quoniam', 'ad', 'villa', 'publicus', 'venio', 'parus', 'visum', 'quis#2', 'utor', 'jubeo', 'duo', 'puer', 'in', 'forum', 'de', 'mensa', 'emo', 'is', 'quinque', 'in', 'Hispania', 'duco'], ['Navitae', 'vinum', 'atque', 'oleum'], ['idem', 'Cato', 'cum', 'in', 'Hispania', 'navigo', 'unde', 'cum', 'triumphus', 'redeo', 'non', 'alius', 'vinum', 'bibo', 'quam#4', 'remex'], ['Camerinum', 'civis', 'noster', 'oppidum', 'pulcher', 'habeo', 'ager', 'bonus', 'atque', 'pulcher', 'res', 'fortuno'], ['cum', 'Roma', 'venio', 'prorsus', 'deverto', 'pro', 'hospitibus', 'ad', 'amicus#2', 'suus'], ['tertius', 'autem', 'pedo', 'item', 'ex', 'fenore', 'discordium', 'excresco'], ['dico#2', 'ab', 'decemviris', 'parus', 'bene', 'se', 'cibarium', 'curo', 'sum'], ['jubeo', 'vestimentum', 'detrahi', 'atque', 'flagrum', 'caedi'], ['Decemviros', 'Bruttianus', 'Veravere', 'video', 'multus', 'mortalis'], ['quis', 'hic', 'contumaliam', 'quis#2', 'hic', 'imperium', 'quis#2', 'hic', 'servitus', 'fero', 'possum', '?'], ['nemo', 'hic', 'rex', 'audeo', 'sum', 'facio', 'eane', 'fio', 'bonus', 'bonus', 'genus', 'gnatis', 'bonus', 'consultum', '?'], ['ubi', 'societas', '?'], ['ubi', 'fides', 'maiores', '?'], ['insignio', 'iniuria', 'plaga', 'verus', 'vibices', 'is', 'dolor', 'atque', 'carnificina', 'per', 'dedecus', 'atque', 'maximus', 'contumelia', 'inspecto', 'popularis', 'suus', 'atque', 'multus', 'mortalis', 'tu', 'facio', 'audeo', 'sum', '?'], ['Set', 'quantum', 'lugeo', 'quantum', 'gemitus', 'quis#2', 'lacrima', 'quantum', 'fleo', 'facio', 'audio', '!'], ['servus', 'iniuria', 'nimis', 'aegre', 'fero', 'quis#2', 'ille', 'bonus', 'genus', 'gnatos', 'magnus', 'virtus', 'praeditus', 'opinamini', 'animus', 'habeo', 'atque', 'habeo', 'dum', 'vivo', '?'], ['tuus', 'nefarius', 'facinus', 'malus', 'facinus', 'operio', 'postulo', 'succidias', 'humanus', 'facio', 'tantus', 'trucidationem', 'facio', 'decem', 'funus', 'facio', 'decem', 'capitum', 'liber', 'interficio', 'decem', 'homo', 'vita', 'eripio', 'indico#2', 'causa', 'iniudicatis', 'incondemnatis'], ['rumor', 'fama', 'floccus', 'facio', 'intercutibus', 'stuprum', 'obstinatus', 'insigne', 'flagitium'], ['[', 'Neque', 'fides', 'neque', 'iusiurandum', ']', 'neque', 'pudicitia', 'multifacit', 'sum', 'ne#2', 'malus', 'scelus', 'nefarius', 'sacramentum', 'trado', 'lex', 'sum', 'ut', 'solo', 'sonivios', 'nisi', 'quis#2', 'sempiternus', 'sum', 'quos', 'nec', 'spiciunt', 'neque', 'reor', '[', 'existimo', ']'], ['erga', 'res', 'publicus', 'multus', 'beneficium', 'reor', 'atque', 'gratus'], ['postquam', 'diu', 'fitur'], ['postquam', 'navitas', 'ex', 'navis', 'educo', 'non', 'ex', 'miles', 'atque', 'nauta', 'piscator', 'penatores', 'facio', 'sed', 'arma', 'do'], ['M.', 'Cato', 'suadeo', 'rogatio', 'exsto', 'oratio', 'is', 'de', 'pecunia', 'rex', 'Antiochius', 'et', 'Mummius', 'tribunus', 'auctoritas', 'deterreo', 'ne#2', 'adversarentur', 'rogatio'], ['Lucius', 'Aimilius', 'Lucius', 'filius', 'inpeirator', 'decreivit', 'utei', 'quei', 'Hastensium', 'servei', 'in', 'Turri', 'Lascutana', 'habito', 'leiberei', 'sum', 'ager', 'oppidumque', 'quod', 'is', 'tempestas', 'posedisent', 'item', 'possideo', 'habereque', 'iousit', 'dum', 'populus', 'senatusque', 'Romanus', 'volo#1'], ['actus', 'in', 'castreis', 'ante', 'dies', 'XII', 'Kalendae', 'Februarius'], ['sum', 'interdum', 'praesto', 'mercatura', 'res', 'quaero', 'nisi', 'tam', 'periculosus', 'sum', 'et', 'item', 'foenerari', 'si', 'tam', 'honestum'], ['magnus', 'noster', 'sic', 'habeo', 'et', 'ita', 'in', 'lex', 'posiverunt', 'fur', 'duplum', 'condemnari', 'foeneratorem', 'quadruplum'], ['quanto', 'malus', 'civis', 'existimarint', 'foeneratorem', 'quam#4', 'fur', 'hinc', 'licet', 'existimo'], ['et', 'vir', 'bonus', 'quom', 'laudo', 'ita', 'laudo', 'bonus', 'agricola', 'bonumque', 'colonus', 'ample', 'laudo', 'existimo', 'quis#2', 'ita', 'laudo'], ['Mercatorem', 'autem', 'strenuus', 'studiosumque', 'reus', 'quaero', 'existimo', 'verus', 'ut', 'supra', 'dico#2', 'periculosus', 'et', 'calamitosus'], ['at', 'ex', 'agricola', 'et', 'vir', 'fortis', 'et', 'miles', 'strenuus', 'gigno', 'maximeque', 'pius', 'quaestus', 'stabilissimusque', 'consequor', 'minimeque', 'invidiosus', 'minimeque', 'male', 'cogito', 'sum', 'quis#2', 'in', 'is', 'studium', 'occupatus', 'sum'], ['nunc', 'ut', 'ad', 'res', 'redeo', 'quod', 'promitto', 'instituo', 'principium', 'hic', 'sum'], ['praedium', 'quom', 'paro#2', 'cogito', 'sic', 'in', 'animus', 'habeo', 'uti', 'ne#2', 'cupidus', 'emo', 'neve', 'opus', 'tuus', 'parcus', 'viso', 'et', 'ne#2', 'satis', 'habeo', 'semel', 'circumeo', 'quotiens', 'eo', 'totiens', 'magis', 'placeo', 'quod', 'bonus', 'sum'], ['vicinum', 'quo', 'pactus', 'niteo', 'is', 'animus', 'advertito', 'in', 'bonus', 'regio', 'bene', 'niteo', 'oportet'], ['et', 'uti', 'is', 'introeo', 'et', 'circumspicio', 'uti', 'inde', 'exeo', 'possum'], ['uti', 'bonus', 'caelum', 'habeo', 'ne#2', 'calamitosus', 'siet', 'solus', 'bonus', 'suus', 'virtus', 'valeo'], ['si', 'possum', 'sub', 'radix', 'mons', 'siet', 'in', 'meridies', 'specto', 'locus', 'salubris', 'operarius', 'copia', 'siet', 'bonumque', 'aquarius', 'oppidum', 'validus', 'prope', 'siet', 'aut', 'mare', 'aut', 'amnis', 'qui', 'navis', 'ambulo', 'aut', 'via', 'bonus', 'celerisque'], ['Siet', 'in', 'hic', 'ager', 'quis#2', 'non', 'saepe', 'dominus', 'muto', 'quis#2', 'in', 'hic', 'ager', 'praedium', 'vendo', 'is', 'pigeo', 'vendo'], ['uti', 'bene', 'aedifico', 'siet'], ['Caveto', 'alienus', 'disciplina', 'temere', 'contemno'], ['de', 'dominus', 'bonus', 'bonoque', 'aedificator', 'melius', 'emo'], ['ad', 'villa', 'cum', 'venio', 'videto', 'vasum', 'torculus', 'et', 'dolium', 'multane', 'sient', 'ubi', 'non', 'sum', 'scio', 'pro', 'ratio', 'fructus', 'sum'], ['instrumentum', 'ne#2', 'magnus', 'siet', 'locus', 'bonus', 'siet'], ['Videto', 'quam#4', 'minimus', 'instrumentum', 'sumptuosusque', 'ager', 'ne#2', 'siet'], ['scio', 'idem', 'ager', 'quod', 'homo', 'quamvis', 'quaestuosus', 'siet', 'si', 'sumptuosus', 'sum', 'relinqui', 'non', 'multus'], ['praedium', 'quod', 'primus', 'siet', 'si', 'ego', 'rogo', 'sic', 'dico#2', 'de', 'omnis', 'ager', 'optimoque', 'locus', 'iugerum', 'ager', 'centum', 'vinea', 'sum', 'primus', 'vel', 'si', 'vinum', 'multus', 'sum', 'secundus', 'locus', 'hortus', 'irriguus', 'tertius', 'salictum', 'quartus', 'oletum', 'quintus', 'pratum', 'sextus', 'campus', 'frumentarius', 'septimus', 'silva', 'caeduus', 'octavus', 'arbustum', 'nonus', 'glandarius', 'silva'], ['pater', 'familia', 'ubi', 'ad', 'villa', 'venio', 'ubi', 'lar', 'familiaris', 'saluto', 'fundus', 'idem', 'dies', 'si', 'possum', 'circumeo', 'si', 'non', 'idem', 'dies', 'at', 'postridie'], ['ubi', 'cognosco', 'quo', 'modus', 'fundus', 'cultus', 'siet', 'opus', 'quisque', 'facio', 'infectaque', 'sient', 'postridie', 'is', 'dies', 'vilicus', 'voco', 'rogo', 'quis#2', 'opus', 'siet', 'facio', 'quis#2', 'resto', 'satisne', 'temperi', 'opus', 'sient', 'conficio', 'possitne', 'quis#2', 'reliquus', 'sient', 'conficio', 'et', 'quis#2', 'facio', 'vinum', 'frumentum', 'aliarumque', 'res', 'omnis'], ['ubi', 'is', 'cognosco', 'ratio', 'inire', 'oportet', 'opera', 'dies'], ['si', 'is', 'opus', 'non', 'appareo', 'dico#2', 'vilicus', 'sedulus', 'se', 'facio', 'servus', 'non', 'valeo', 'tempestas', 'mala', 'sum', 'servus', 'aufugisse', 'opus', 'publicus', 'efficio'], ['ubi', 'is', 'aliasque', 'causa', 'multus', 'dico#2', 'ad', 'ratio', 'opus', 'operarumque', 'revoco'], ['cum', 'tempestas', 'pluvia', 'sum', 'quis#2', 'opus', 'per', 'imbrem', 'fio', 'possum', 'dolium', 'lavo', 'picari', 'villa', 'purgari', 'frumentum', 'transferri', 'stercus', 'foras', 'effero', 'stercilinum', 'fio', 'semen', 'purgari', 'funis', 'sarciri', 'novus', 'fio', 'centones', 'cuculiones', 'familia', 'oportuisse', 'se', 'sarcio', 'per', 'ferio', 'possum', 'fossa', 'vetus', 'tergeri', 'via', 'publicus', 'munio', 'vepres', 'recido', 'hortus', 'fodiri', 'pratum', 'purgari', 'virga', 'vinciri', 'spina', 'runcari', 'expinsi', 'far', 'munditia', 'fio', 'cum', 'servus', 'aegrotarint', 'cibarium', 'tantus', 'do', 'non', 'oportuisse'], ['ubi', 'cognosco', 'aequus', 'animus', 'sient', 'quis#2', 'reliquus', 'opus', 'sient', 'curo', 'uti', 'perficio'], ['ratio', 'puto', 'argentaria', 'frumentarius', 'pabulum', 'causa', 'quis#2', 'paro#2', 'sum', 'ratio', 'vinarius', 'olearius', 'quis#2', 'venio', 'quis#2', 'exigo', 'siet', 'quis#2', 'reliquus', 'siet', 'quis#2', 'siet', 'quod', 'veneat', 'quis#2', 'satis', 'accipio', 'sient', 'satis', 'accipio', 'reliquus', 'quis#2', 'sient', 'uti', 'compareo'], ['si', 'quis#2', 'desum', 'in', 'annus', 'uti', 'pareo', 'quis#2', 'supersint', 'uti', 'veneant', 'quis#2', 'opus', 'sient', 'loco', 'loco', 'quis#2', 'opus', 'fio', 'volo#1', 'et', 'quis#2', 'locarium', 'volo#1', 'uti', 'impero', 'et', 'is', 'scribo', 'relinquo'], ['pecus', 'considero'], ['auctio', 'uti', 'facio', 'vendo', 'oleum', 'si', 'pretium', 'habeo', 'vinum', 'frumentum', 'quod', 'supersit', 'vendo', 'bos', 'vetulus', 'armentum', 'delicula', 'ovis', 'deliculas', 'lana', 'pellis', 'plostrum', 'vetus', 'ferramentum', 'vetus', 'servus', 'senex', 'servus', 'morbosus', 'et', 'si', 'quis#2', 'alius', 'supersit', 'vendo'], ['pater', 'familia', 'vendacem', 'non', 'emacem', 'sum', 'oportet'], ['primus', 'adulescentia', 'pater', 'familia', 'ager', 'consero', 'studeo', 'oportet'], ['aedifico', 'diu', 'cogito', 'oportet', 'consero', 'cogito', 'non', 'oportet', 'sed', 'facio', 'oportet'], ['ubi', 'aetas', 'accedo', 'ad', 'annus', 'XXXVI', 'tum', 'aedifico', 'oportet', 'si', 'ager', 'consero', 'habeo'], ['ita', 'aedifico', 'ne#2', 'villa', 'fundus', 'quaero', 'nec', 'fundus', 'villa'], ['pater', 'familia', 'villa', 'rustica', 'bene', 'aedifico', 'habeo', 'expedio', 'cella', 'olearius', 'vinarius', 'dolium', 'multus', 'uti', 'lubeat', 'caritas', 'exspecto', 'et', 'reus', 'et', 'virtus', 'et', 'gloria', 'sum'], ['torcularium', 'bonus', 'habeo', 'oportet', 'ut', 'opus', 'bene', 'efficio', 'possum'], ['olea', 'ubi', 'lego#2', 'siet', 'oleum', 'fio', 'continuo', 'ne#2', 'corrumpo'], ['cogito', 'quotannis', 'tempestas', 'magnus', 'venio', 'et', 'olea', 'deicio', 'soleo'], ['si', 'cito', 'tollo', 'et', 'vasum', 'paro#2', 'sum', 'damnum', 'nihil', 'sum', 'ex', 'tempestas', 'et', 'oleum', 'viridis', 'et', 'melius', 'fio'], ['si', 'in', 'terra', 'et', 'tabulatus', 'olea', 'nimium', 'diu', 'sum', 'putesco', 'oleum', 'fetidus', 'fio'], ['ex', 'quavis', 'olea', 'oleum', 'viridis', 'et', 'bonus', 'fio', 'possum', 'si', 'temperi', 'facies'], ['in', 'iugerum', 'oleti', 'CXX', 'vasum', 'bini', 'sum', 'oportet', 'si', 'oletum', 'bonus', 'beneque', 'frequens', 'cultumque', 'sum'], ['Trapetos', 'bonus', 'privus', 'inpares', 'sum', 'oportet', 'si', 'orbis', 'contritus', 'sient', 'ut', 'conmutare', 'possum', 'funis', 'loreus', 'privus', 'vecto', 'senos', 'fibula', 'duodenas', 'medipontos', 'privus', 'loreus'], ['Trochileas', 'Graecanicas', 'bini', 'funis', 'spartea', 'duco', 'orbiculus', 'superus', 'octonis', 'inferus', 'seni', 'cito', 'dux', 'si', 'rota', 'volo', 'facio', 'tardus', 'duco', 'sed', 'parvus', 'labor'], ['Bubilia', 'bonus', 'bonus', 'praesepis', 'faliscas', 'clatratas', 'clatros', 'insum', 'oportet', 'pedis'], ['si', 'ita', 'facio', 'pabulum', 'bos', 'non', 'eicio'], ['villa', 'urbanus', 'pro', 'copia', 'aedifico'], ['in', 'bonus', 'praedium', 'si', 'bene', 'aedifico', 'bene', 'posiveris', 'rus', 'si', 'rectus', 'habito', 'libens', 'et', 'saepis', 'venio', 'fundus', 'melis', 'sum', 'parvus', 'pecco', 'fruor', 'plus', 'capio', 'frons', 'occipitio', 'prior', 'sum'], ['vicinum', 'bonus', 'sum', 'familia', 'ne#2', 'sino', 'pecco'], ['si', 'tu', 'libet', 'vicinitas', 'video', 'facilis', 'tuus', 'vendo', 'opus', 'facilis', 'loco', 'operarius', 'facilis', 'conduco', 'si', 'aedifico', 'opus', 'iumentum', 'materie', 'adiuvabunt', 'siquid', 'bonus', 'salte', 'usus', 'venio', 'benignus', 'defendo'], ['hic', 'sum', 'vilicus', 'officium'], ['disciplina', 'bonus', 'utor'], ['Feriae', 'servo'], ['alienus', 'manus', 'abstineo', 'suus', 'servo', 'diligenter'], ['litus', 'familia', 'supersedeo', 'siquis', 'quis#2', 'delinquo', 'pro', 'noxa', 'bonus', 'modus', 'vindico'], ['familia', 'male', 'ne#2', 'sum', 'ne#2', 'algeat', 'ne#2', 'esuriat', 'opus', 'bene', 'exerceo', 'facilis', 'malus', 'et', 'alienus', 'prohibeo'], ['vilicus', 'si', 'nolo', 'male', 'facio', 'non', 'facio'], ['si', 'passus', 'sum', 'dominus', 'inpune', 'ne#2', 'sino', 'sum'], ['pro', 'beneficium', 'gratia', 'refero', 'ut', 'alius', 'rectus', 'facio', 'libeat'], ['vilicus', 'ne#2', 'sum', 'ambulator', 'sobrius', 'siet', 'semper', 'ad', 'cena', 'nequo', 'eo'], ['familia', 'exerceo', 'considero', 'quis#2', 'dominus', 'impero', 'fio'], ['ne', 'plus', 'censeo', 'sapio', 'se', 'quam#4', 'dominus'], ['amicus#2', 'dominium', 'is', 'habeo', 'se', 'amicus#2'], ['qui', 'jubeo', 'siet', 'ausculto'], ['res', 'divinus', 'nisi', 'Conpitalibus', 'in', 'conpito', 'aut', 'in', 'focus', 'ne#2', 'facio'], ['iniussus', 'dominium', 'credo', 'nemo', 'quod', 'dominus', 'credo', 'exigo'], ['Satui', 'semen', 'cibarium', 'far', 'vinum', 'oleum', 'mutuus', 'do', 'nemo'], ['duo', 'aut', 'tres', 'familia', 'habeo', 'unde', 'uto', 'rogo', 'et', 'quis#2', 'do', 'praeterea', 'nemo'], ['ratio', 'cum', 'dominus', 'crebro', 'puto'], ['operarius', 'mercennarium', 'politorem', 'diu', 'idem', 'ne#2', 'habeo', 'dies'], ['Nequid', 'emo', 'volo#1', 'insciente', 'dominus', 'neu', 'quis#2', 'dominus', 'celo', 'volo#1'], ['parasitus', 'nequem', 'habeo'], ['Haruspicem', 'augur', 'hariolus', 'Chaldaeus', 'nequem', 'consulo', 'volo#1'], ['seges', 'ne#2', 'defrudet', 'namque', 'is', 'infelix', 'sum'], ['opus', 'rusticus', 'omnis', 'curo', 'uti', 'scio', 'facio', 'et', 'is', 'facio', 'saepe', 'dum', 'ne#2', 'lassus', 'fio', 'si', 'facio', 'scibit', 'in', 'mens', 'familia', 'quis#2', 'sum', 'et', 'ille', 'animus', 'aequus', 'facio'], ['si', 'hic', 'facio', 'parvus', 'libebit', 'ambulo', 'et', 'valeo', 'recingo', 'et', 'dormibit', 'libens'], ['primus', 'cubitus', 'surgo', 'postremus', 'cubitum', 'eo'], ['prius', 'villa', 'video', 'claudo', 'uti', 'siet', 'et', 'uti', 'suus', 'quisque', 'locus', 'cubo', 'et', 'uti', 'iumentum', 'pabulum', 'habeo'], ['bos', 'multus', 'diligentia', 'curo', 'habeo'], ['bubulcus', 'opsequito', 'partim', 'quo', 'libens', 'bos', 'curo'], ['aratrum', 'vomeresque', 'facio', 'uti', 'bonus', 'habeo'], ['terra', 'cariosus', 'caveo', 'ne#2', 'aro', 'neve', 'plostrum', 'neve', 'pecus', 'inpello'], ['si', 'ita', 'non', 'caveo', 'quo', 'inpuleris', 'triennium', 'fructus', 'amitto'], ['pecus', 'et', 'bubus', 'diligenter', 'substerno', 'ungula', 'curo'], ['Scabiem', 'pecus', 'et', 'iumentum', 'caveto', 'is', 'ex', 'fames', 'et', 'si', 'inpluo', 'fio', 'solo'], ['opus', 'omnis', 'maturus', 'conficio', 'fax'], ['nam', 'res', 'rusticus', 'sic', 'sum', 'si', 'unus', 'res', 'sero#4', 'facio', 'omnis', 'opus', 'sero#4', 'facies'], ['stramentum', 'si', 'deeo', 'frons', 'illigneam', 'lego#2', 'is', 'substernito', 'ovis', 'bubusque'], ['Stercilinum', 'magnus', 'stude', 'ut', 'habeo'], ['Stercus', 'sedulus', 'conserva', 'cum', 'exporto', 'purgo', 'et', 'conminuito', 'per', 'autumnum', 'evehito'], ['circum', 'olea', 'autumnitate', 'ablaqueato', 'et', 'stercus', 'addo'], ['frons', 'populneam', 'ulmeus', 'querneus', 'caedito', 'per', 'tempus', 'is', 'conditus', 'non', 'peraridus', 'pabulum', 'ovis'], ['item', 'faenum', 'cor', 'sicillimenta', 'de', 'pratum', 'is', 'aridus', 'conditus'], ['post', 'imbrem', 'autumnum', 'rapina', 'pabulum', 'lupinumque', 'serito'], ['ager', 'quis#2', 'locus', 'consero', 'sic', 'observo', 'oportet'], ['ubi', 'ager', 'crassus', 'et', 'laetus', 'sum', 'sine', 'arbor', 'is', 'ager', 'frumentarius', 'sum', 'oportet'], ['idem', 'ager', 'si', 'nebulosus', 'sum', 'rapum', 'raphanus', 'mille', 'panicum', 'is', 'multus', 'serum', 'oportet'], ['in', 'ager', 'crassus', 'et', 'caldum', 'olea', 'conditivam', 'radius', 'magnus', 'Sallentinam', 'orcitem', 'poseam', 'Sergianam', 'Colminianam', 'albiceris', 'quam#4', 'is', 'in', 'is', 'locus', 'bonus', 'dico#2', 'sum', 'is', 'multus', 'serito'], ['hic', 'genus', 'olea', 'in', 'XXV', 'aut', 'in', 'XXX', 'pes', 'conserito'], ['ager', 'oleto', 'consero', 'quis#2', 'in', 'ventus', 'favonium', 'specto', 'et', 'solus', 'ostentus', 'sum', 'alius', 'bonus', 'nullus', 'sum'], ['qui', 'ager', 'frigidus', 'et', 'macrior', 'sum', 'ibi', 'olea', 'Licinianus', 'serum', 'oportet'], ['si', 'in', 'locus', 'crassus', 'aut', 'calidus', 'severus', 'hostus', 'nequam', 'sum', 'et', 'ferundo', 'arbor', 'pereo', 'et', 'muscus', 'ruber', 'molestus', 'sum'], ['circum', 'corona', 'et', 'circum', 'via', 'ulmos', 'serito', 'et', 'partim', 'populus', 'uti', 'frons', 'ovis', 'et', 'bubus', 'habeo', 'et', 'materies', 'siquo', 'opus', 'sum', 'paro#2', 'sum'], ['Sicubi', 'in', 'is', 'locus', 'ripa', 'aut', 'locus', 'umectus', 'sum', 'ibi', 'cacumen', 'populus', 'serito', 'et', 'harundinetum'], ['is', 'hic', 'modus', 'serito', 'bipalio', 'vortito', 'ibi', 'oculus', 'harundinis', 'pes', 'terni', 'alius', 'ab', 'alius', 'serito'], ['ibi', 'corruda', 'serito', 'unde', 'asparagus', 'fio'], ['nam', 'convenio', 'harundinetum', 'cum', 'corruda', 'is', 'quia', 'fodio', 'et', 'incendo', 'et', 'umbra', 'per', 'tempus', 'habeo'], ['Salicem', 'Graecus', 'circum', 'harundinetum', 'serito', 'uti', 'siet', 'quis#2', 'vinea', 'alligo'], ['vinea', 'quo', 'in', 'ager', 'serum', 'oportet', 'sic', 'observo'], ['qui', 'locus', 'vinum', 'bonus', 'dico#2', 'sum', 'et', 'ostentus', 'solus', 'Aminnium', 'minusculus', 'et', 'geminus', 'eugeneum', 'helvolum', 'minusculus', 'conserito'], ['qui', 'locus', 'crassus', 'sum', 'aut', 'nebulosus', 'ibi', 'Aminnium', 'magnus', 'aut', 'Murgentinus', 'Apicius', 'Lucanus', 'serito'], ['ceterus', 'vito', 'miscellus', 'multus', 'in', 'quivis', 'ager', 'convenio'], ['fundus', 'suburbanum', 'arbustum', 'multus', 'convenio', 'habeo', 'et', 'lignum', 'et', 'virga', 'venio', 'possum', 'et', 'dominus', 'erito', 'quis#2', 'utor'], ['in', 'idem', 'fundus', 'suus', 'quisquis', 'conseri', 'oportet', 'vito', 'compluria', 'genus', 'Aminnium', 'minusculus', 'et', 'magnus', 'et', 'Apicius'], ['uva', 'in', 'olla', 'in', 'vinaceum', 'condo', 'idem', 'in', 'sapa', 'in', 'mustum', 'in', 'lorum', 'rectus', 'condo'], ['qui', 'suspendo', 'duracinus', 'Aminnias', 'magnus', 'vel', 'ad', 'fabrum', 'ferrarius', 'pro', 'patior', 'eae', 'rectus', 'servo'], ['pomum', 'malus', 'strutea', 'cotonea', 'Scantiana', 'Quiriniana', 'item', 'alius', 'conditiva', 'malus', 'musteus', 'et', 'Punicus', '(', 'is', 'lotium', 'suillus', 'aut', 'stercus', 'ad', 'radix', 'addo', 'oportet', 'uti', 'pabulum', 'malus#3', 'fio', ')', 'pirum', 'volaema', 'Anicianus', 'sementivus', '(', 'hic', 'conditiva', 'in', 'sapa', 'bonus', 'sum', ')', 'Tarentinus', 'musteus', 'cucurbitiva', 'item', 'alius', 'genus', 'quam#4', 'plurimus', 'serito', 'aut', 'inserito'], ['olea', 'orcites', 'posias', 'eae', 'optime', 'condo', 'vel', 'viridis', 'in', 'muria', 'vel', 'in', 'lentiscum', 'contundo', 'vel', 'orcites', 'ubi', 'nigrae', 'sum', 'et', 'siccus', 'sale', 'confriato', 'dies', 'V', 'postea', 'salem', 'excutito', 'in', 'sol', 'ponito', 'biduum', 'vel', 'sine', 'sale', 'in', 'defrutum', 'conditus'], ['sorbum', 'in', 'sapa', 'condo', 'vel', 'sicco', 'aridus', 'facio'], ['item', 'pirum', 'facio'], ['Ficos', 'Marsicus', 'in', 'locus', 'cretosus', 'et', 'apertus', 'serito', 'Africanus', 'et', 'herculaneas', 'Sacontinas', 'hibernus', 'Tellanas', 'atras', 'pediculus', 'longus', 'is', 'in', 'locus', 'crassus', 'aut', 'stercoro', 'serito'], ['pratum', 'si', 'inrigivum', 'habeo', 'si', 'non', 'sum', 'siccus', 'ne#2', 'faenum', 'desiet', 'summitto'], ['sub', 'urbs', 'hortus', 'omnis', 'genus', 'coronamenta', 'omnis', 'genus', 'bulbus', 'Megaricus', 'murtum', 'coniugulum', 'et', 'albus', 'et', 'niger', 'loreus', 'Delphicus', 'et', 'Cypria', 'et', 'silvaticus', 'nuces', 'calvus', 'Abellanas', 'Praenestinus', 'Graecus', 'hic', 'facio', 'uti', 'sero'], ['fundus', 'suburbanum', 'et', 'quis#2', 'is', 'fundus', 'solus', 'habeo', 'ita', 'pareo', 'itaque', 'consero', 'uti', 'quam#4', 'sollertissimum', 'habeo'], ['salictum', 'locus', 'aquosus', 'umectis', 'umbrosus', 'propter', 'amnis', 'ibi', 'serum', 'oportet', 'et', 'is', 'videto', 'uti', 'aut', 'dominus', 'opus', 'siet', 'aut', 'ut', 'vendo', 'possum'], ['pratum', 'inrigiva', 'si', 'aqua', 'habeo', 'is', 'potissimus', 'facio', 'si', 'aqua', 'non', 'habeo', 'siccus', 'quam#4', 'plurimus', 'facio'], ['hic', 'sum', 'praedium', 'quod', 'ubi', 'volo#1', 'expedio', 'facio'], ['quis', 'modus', 'oletum', 'ager', 'iugerum', 'CCXL', 'instruo', 'oportet'], ['quis', 'modus', 'vinea', 'iugerum', 'C', 'instruo', 'oportet'], ['in', 'torcularius', 'quis#2', 'opus', 'sum'], ['in', 'torcularius', 'in', 'usus', 'quod', 'opus', 'sum'], ['urceus', 'unus', 'ahenum', 'quod', 'capio', 'Q.', 'V', 'uncus', 'ferreus', 'Iius', 'orbis', 'aheneum', 'eo', 'mola', 'cribrum', 'eo', 'incerniculum', 'eo', 'securis', 'eo', 'scamnum', 'eo', 'seria', 'vinarius', 'unus', 'clavis', 'torcularius', 'eo', 'lego', 'stratus', 'ubi', 'duo', 'custos', 'liber', 'cubo', '(', 'tertius', 'servus', 'unus', 'cum', 'factor', 'uti', 'cubo', ')', 'fiscina', 'novus', 'vetus', 'epidromum', 'eo', 'pulvinus', 'eo', 'lucerna', 'corium', 'eo', 'craticulus', 'duo', 'carnarium', 'eo', 'scala', 'unus'], ['in', 'cella', 'olearius', 'hic', 'opus', 'sum'], ['dolium', 'olearis', 'operculum', 'labrum', 'olearis', 'XIIII', 'concas', 'magnus', 'II', 'et', 'parvus', 'II', 'trulla', 'aheneas', 'tris', 'amphora', 'olearius', 'II', 'urceus', 'aquarius', 'unus', 'urna', 'quinquagenarius', 'eo', 'sextarius', 'olearius', 'eo', 'labellum', 'eo', 'infidibula', 'II', 'spongeas', 'II', 'urceus', 'fictilis', 'II', 'urnalis', 'II', 'trulla', 'ligneus', 'II', 'clavis', 'cum', 'clostris', 'in', 'cella', 'II', 'trutinam', 'eo', 'centumpondium', 'eo', 'et', 'pondus', 'ceterus'], ['villa', 'aedifico', 'si', 'loco', 'novus', 'ab', 'solus', 'faber', 'hic', 'facio', 'oportet'], ['paries', 'omnis', 'uti', 'iussitur', 'calx', 'et', 'caementum', 'pila#3', 'ex', 'lapis', 'angularis', 'tignum', 'omnis', 'quis#2', 'opus', 'sum', 'limen', 'postes', 'iugumenta', 'assero', 'fulmentas', 'praesepis', 'bubus', 'hibernus', 'aestivus', 'faliscas', 'equile', 'cella', 'familia', 'carnarium', 'Iius', 'orbis', 'ahenea', 'II', 'hara', 'X', 'focus', 'ianua', 'maximus', 'et', 'alternus', 'quam#4', 'volo', 'dominus', 'fenestra', 'clatros', 'in', 'fenestra', 'magnus', 'bipedis', 'X', 'luminarium', 'VI', 'scamna', 'Iius', 'sella', 'V', 'tela', 'togalis', 'II', 'paullulam', 'pila', 'ubi', 'triticum', 'pinsat', 'eo', 'fullonia', 'eo', 'antepagmentum', 'vasum', 'torculus', 'hic', 'reus', 'materiem', 'et', 'quis#2', 'opus', 'sum', 'dominus', 'praebeo', 'et', 'ad', 'opus', 'do', 'serra', 'eo', 'linea', 'eo', '(', 'materiem', 'dumtaxat', 'succido', 'dolo', 'seco', 'facietque', 'conductor', ')', 'lapis', 'calx', 'harena', 'aqua', 'palea', 'terra', 'unde', 'lutum', 'fio'], ['si', 'de', 'caelum', 'villa', 'tango', 'siet', 'de', 'is', 'res', 'verbum', 'uti', 'fio'], ['hic', 'opus', 'pretium', 'ab', 'dominus', 'bonus', 'quis#2', 'bene', 'praebeo', 'quis#2', 'opus', 'sum', 'et', 'nummus', 'fides', 'bonus', 'solvo', 'in', 'tegula', 'singulus', 'II', 'S.', 'tectum', 'sic', 'numero', 'tegula', 'integer', 'quis#2', 'sum', 'unde', 'quartus', 'pars', 'abeo', 'duo', 'pro', 'unus', 'concilio', 'quis#2', 'sum', 'pro', 'bini', 'puto', 'vallus', 'quot', 'sum', 'in', 'singulus', 'quaternae', 'numero'], ['villa', 'lapis', 'calx'], ['fundamentum', 'supra', 'terra', 'pedis', 'ceterus', 'paries', 'ex', 'latus', 'iugumenta', 'et', 'antepagmentum', 'quis#2', 'opus', 'sum', 'indo'], ['ceterus', 'lex', 'uti', 'villa', 'ex', 'calx', 'caementum'], ['pretium', 'in', 'tegula', 'singulus', 'II', 'S.', 'loco', 'salubris', 'bonus', 'dominus', 'hic', 'quis#2', 'supra', 'pretium', 'pono', 'sum', 'ex', 'signum', 'manipretium', 'sum'], ['locus', 'pestilens', 'ubi', 'aestas', 'fio', 'non', 'possum', 'bonus', 'dominus', 'pars', 'quartus', 'pretium', 'accedo'], ['maceria', 'ex', 'calx', 'caementum', 'silice'], ['uti', 'dominus', 'omnis', 'ad', 'opus', 'praebeo', 'altus', 'P.', 'V', 'et', 'columen', 'P.', 'eo', 'crassus', 'P.', 'eo', 'S', 'longus', 'P.', 'XIV', 'et', 'uti', 'sublino', 'locarium', 'oportet'], ['paries', 'villa', 'si', 'loco', 'in', 'P.', 'C', 'is', 'sum', 'P.', 'X', 'quoquo', 'versus', 'libella', 'in', 'ped'], ['NUMERAL', 'et', 'pertica', 'eo', 'P.', 'VIC'], ['N.', 'sesquipedalis', 'paries', 'dominus', 'fundamentum', 'facio', 'et', 'ad', 'opus', 'praebeo', 'calcis', 'in', 'P.', 'singulus', 'in', 'longitudo', 'modius', 'unus', 'harena', 'modius', 'duo'], ['calx', 'partiarius', 'coquo', 'quis#2', 'do', 'ita', 'do'], ['perficio', 'et', 'coquo', 'et', 'ex', 'fornace', 'calx', 'eximo', 'calcarius', 'et', 'lignum', 'conficio', 'ad', 'fornacem'], ['dominus', 'lapis', 'lignum', 'ad', 'fornacem', 'quod', 'opus', 'siet', 'praebeo'], ['Robus', 'materies', 'item', 'ridica', 'ubi', 'solstitium', 'sum', 'ad', 'bruma', 'semper', 'tempestivus', 'sum'], ['ceterus', 'materies', 'quis#2', 'semen', 'habeo', 'cum', 'semen', 'maturus', 'habeo', 'tum', 'tempestivus', 'sum'], ['qui', 'materies', 'semen', 'non', 'habeo', 'cum', 'glubebit', 'tum', 'tempestivus', 'sum'], ['pinus', 'is', 'quia', 'semen', 'viridis', 'et', 'maturus', 'habeo', '(', 'is', 'semen', 'de', 'cupresso', 'de', 'pino', 'quidvis', 'annus', 'lego#2', 'possum', ')', 'item', 'quidvis', 'annus', 'maturus', 'sum', 'et', 'tempestivus'], ['ibidem', 'sum', 'nuces', 'bimus', 'inde', 'semen', 'excido', 'et', 'anniculus', 'eae', 'ubi', 'primus', 'incipio', 'maturus', 'sum', 'postea', 'usque', 'adeo#2', 'sum', 'plus', 'mensis', 'Hornotinae', 'nuces', 'viridis', 'sum'], ['ulmus', 'cum', 'folium', 'cado', 'tum', 'iterum', 'tempestivus', 'sum'], ['torcularius', 'si', 'aedifico', 'volo', 'quadrinis', 'vasum', 'uti', 'contra', 'os', 'sient', 'ad', 'hic', 'modus', 'vasum', 'conponito'], ['arbor', 'crassus', 'P.', 'II', 'alto', 'P.', 'VIIII', 'cum', 'cardo', 'foramen', 'longus', 'P.', 'Iius', 'S', 'exsculpta', 'digit'], ['vis', 'ab', 'solus', 'foramen', 'primus', 'P.', 'eo', 'S', 'inter', 'arbor', 'et', 'paries', 'P.', 'II', 'in', 'II', 'arbor', 'P.', 'eo', 'arbor', 'ad', 'stipitem', 'primus', 'derego', 'P.', 'XVI', 'stipites', 'crassus', 'P.', 'II', 'altus', 'cum', 'cardo', 'P.', 'sucula', 'praeter', 'cardines', 'P.', 'VIIII', 'prelum', 'longus', 'P.', 'XXV', 'inibi', 'lingulus', 'P.', 'II', 'S', 'pavimentum', 'bini', 'vasum', 'cum', 'canalibus', 'duo', 'P', 'xxx', 'IIII', 'trapetibus', 'locus', 'dexter', 'sinistra', 'pavimentum', 'P.', 'XX', 'inter', 'bini', 'stipites', 'vectibus', 'locus', 'P.', 'XXII', 'alto', 'vasum', 'exadverto', 'ab', 'stipes', 'extremus', 'ad', 'paries', 'quis#2', 'pono', 'arbor', 'sum', 'P.', 'XX', 'summa', 'torcularius', 'vasum', 'quadrinis', 'latitudine', 'P', 'LXVI', 'longitudine', 'P', 'lii'], ['inter', 'paries', 'arbor', 'ubi', 'statuo', 'fundamentum', 'bonus', 'facio', 'altus', 'P.', 'V', 'inibi', 'lapis', 'silex', 'totus#2', 'forum', 'longus', 'P.', 'V', 'latus', 'P.', 'II', 'S', 'crassus', 'P.', 'eo', 'S.', 'ibi', 'foramen', 'pedicinis', 'duo', 'facio', 'ibi', 'arbor', 'pedicino', 'in', 'lapis', 'statuito'], ['inter', 'suus', 'arbor', 'quod', 'locus', 'supererit', 'robur', 'expleo', 'is', 'plumbum', 'infundito'], ['superus', 'pars', 'arbor', 'digitus', 'VI', 'altus', 'facio', 'siet', 'is', 'capitulum', 'robustus', 'indo', 'uti', 'siet', 'stipites', 'ubi', 'sto'], ['fundamentum', 'P.', 'V', 'facio', 'ibi', 'silicem', 'longus', 'P.', 'II', 'S', 'latus', 'P.', 'II', 'S', 'crassus', 'P.', 'eo', 'S', 'planus', 'statuito', 'ibi', 'stipites', 'statuito'], ['item', 'alter', 'stipitem', 'statuito'], ['insuper', 'arbor', 'stipitesque', 'trabs', 'plana', 'inponito', 'latus', 'P.', 'II', 'crassus', 'P', 'I', 'longus', 'P.', 'XXXVII', 'vel', 'duplico', 'indo', 'si', 'solidus', 'non', 'habeo'], ['sub', 'is', 'trabs', 'inter', 'canalis', 'et', 'paries', 'extremus', 'ubi', 'trapeti', 'sto', 'trabeculam', 'pes', 'XXIII', 'S', 'inponito', 'sesquipedalis', 'aut', 'bini', 'pro', 'singulus', 'is', 'supponito'], ['in', 'is', 'trabeculis', 'trabs', 'quis#2', 'insuper', 'arbor', 'stipites', 'sto', 'conloco', 'in', 'is', 'tignum', 'paries', 'exstruito', 'iungitoque', 'materia', 'uti', 'onus', 'satis', 'habeo'], ['Aram', 'ubi', 'facies', 'pes', 'V', 'fundamentum', 'altus', 'facio', 'latus', 'P.', 'VI', 'ara', 'et', 'canalem', 'rutundam', 'facio', 'latus', 'P.', 'IIII', 'S', 'ceterum#2', 'pavimentum', 'totus#2', 'fundamentum', 'P.', 'II', 'facio'], ['fundamentum', 'primus', 'festucato', 'postea', 'caementum', 'minutus', 'et', 'calx', 'harenatum', 'semipedem', 'unus', 'quisque', 'corium', 'struito'], ['pavimentum', 'ad', 'hic', 'modus', 'facio', 'ubi', 'libraveris', 'de', 'glarea', 'et', 'calx', 'harenatum', 'primus', 'corium', 'facio', 'is', 'pilus', 'subigito', 'idem', 'alter', 'corium', 'facio', 'is', 'calx', 'cribrum', 'subcretam', 'indo', 'altus', 'digitus', 'duo', 'ibi', 'de', 'testa', 'aridus', 'pavimentum', 'struito', 'ubi', 'struo', 'sum', 'pavito', 'fricatoque', 'uti', 'pavimentum', 'bonus', 'siet'], ['arbor', 'stipites', 'robustus', 'facio', 'aut', 'pinea'], ['si', 'trabs', 'parvus', 'facio', 'volo', 'canalis', 'extra', 'columna', 'expolio'], ['si', 'ita', 'facio', 'trabs', 'P.', 'XXII', 'longus', 'opus', 'sum'], ['orbis', 'olearius', 'latus', 'P.', 'IIII', 'Punicanus', 'coagmentis', 'facio', 'crassus', 'digitus', 'VI', 'facio', 'subscudes', 'iligneus', 'adindito'], ['is', 'ubi', 'configo', 'clava', 'corneus', 'occludito'], ['in', 'is', 'orbis', 'tris', 'catena', 'indo'], ['is', 'catena', 'cum', 'orbis', 'clava', 'ferreus', 'corrigito'], ['orbis', 'ex', 'ulmus', 'aut', 'ex', 'corylo', 'facio', 'si', 'uterque', 'habeo', 'alternus', 'indo'], ['in', 'vasum', 'vinarium', 'stipites', 'arboresque', 'bini', 'pes', 'alo', 'facio', 'supra', 'foramen', 'arbor', 'pes', 'quisque', 'uti', 'absiet', 'unus', 'fibula', 'locus', 'facio'], ['Semipedem', 'quoquo', 'versus', 'in', 'sucula', 'sena', 'foramen', 'indo'], ['foramen', 'quod', 'primus', 'facies', 'semipedem', 'ab', 'cardo', 'facio', 'ceterus', 'dividito', 'quam#4', 'recingo'], ['Porculum', 'in', 'medius', 'sucula', 'facio'], ['inter', 'arbor', 'medius', 'quod', 'sum', 'is', 'ad', 'medius', 'conlibrato', 'ubi', 'porculum', 'figo', 'oportet', 'uti', 'in', 'medius', 'prelum', 'rectus', 'situs', 'siet'], ['lingulus', 'cum', 'facies', 'de', 'medius', 'prelum', 'conlibrato', 'ut', 'inter', 'arbor', 'bene', 'convenio', 'digitus', 'pollex', 'laxamentum', 'facio'], ['Trapetum', 'quo', 'modus', 'concinno', 'oportet'], ['columella', 'ferreus', 'quis#2', 'in', 'miliarium', 'sto', 'is', 'rectus', 'sto', 'oportet', 'in', 'medius', 'ad', 'perpendiculum', 'cuneus', 'salignus', 'circumfigi', 'oportet', 'bene', 'is', 'plumbum', 'effundo', 'caveo', 'ni', 'labo', 'columella'], ['si', 'moveo', 'eximito', 'denuo', 'idem', 'modus', 'facio', 'ne#2', 'se', 'moveo'], ['modiolus', 'in', 'orbis', 'oleagineus', 'ex', 'orcite', 'olea', 'facio', 'is', 'circumplumbato', 'caveto', 'ne#2', 'laxus', 'sient'], ['in', 'cupa', 'is', 'indo'], ['Cunicas', 'solidus', 'latus', 'digitus', 'pollex', 'facio', 'labeam', 'bifariam', 'facio', 'habeo', 'quis#2', 'figo', 'clava', 'duplicibus', 'ne#2', 'cado'], ['cupa', 'facio', 'P.', 'X', 'tam', 'crassus', 'quam#4', 'modiolus', 'postulo', 'medius', 'inter', 'orbis', 'quis#2', 'convenio'], ['crassus', 'quam#4', 'columella', 'ferreus', 'sum', 'is', 'medius', 'pertundito', 'uti', 'columella', 'indo', 'possum'], ['is', 'fistula', 'ferreus', 'indo', 'quis#2', 'in', 'columella', 'convenio', 'et', 'in', 'cupa'], ['inter', 'cupa', 'dexter', 'sinistra', 'pertundito', 'latus', 'digitus', 'primoris', 'IIII', 'altus', 'digitus', 'primoris', 'Iius', 'sub', 'cupa', 'tabula', 'ferreus', 'quam#4', 'latus', 'cupa', 'medius', 'sum', 'pertundo', 'figito', 'quis#2', 'in', 'columella', 'convenio'], ['dexter', 'sinistra', 'foramen', 'ubi', 'facio', 'lamnis', 'circumplectito'], ['replico', 'in', 'inferus', 'pars', 'cupa', 'omnis', 'quattuor', 'lamminas', 'utrimque', 'secus', 'lamminas', 'sub', 'lamminas', 'pollulas', 'minuo', 'supponito', 'is', 'inter', 'se', 'configito', 'ne#2', 'foramen', 'magnus', 'fio', 'quo', 'cupulae', 'minusculus', 'indo'], ['cupa', 'qui', 'finis', 'in', 'modiolus', 'sum', 'utrimque', 'secus', 'imbricibus', 'ferreus', 'quattuor', 'de', 'suus', 'se', 'utrimque', 'secus', 'facio', 'quis#2', 'figo'], ['Imbrices', 'medius', 'clavula', 'figito'], ['supra', 'imbrices', 'extrinsecus', 'cupa', 'pertundito', 'qui', 'clavus', 'eo', 'quis#2', 'orbis', 'cludat'], ['insuper', 'foramen', 'ferreus', 'digitus', 'sex', 'latus', 'indo', 'pertundo', 'utrimque', 'secus', 'qui', 'clavus', 'eo'], ['hic', 'omnis', 'is', 'rie', 'causa', 'fio', 'uti', 'ne#2', 'cupa', 'in', 'lapis', 'contero'], ['armilla', 'IIII', 'facio', 'quis#2', 'circum', 'orbis', 'indo', 'ne#2', 'cupa', 'et', 'clavus', 'contero', 'intrinsecus'], ['cupa', 'materia', 'ulmeus', 'aut', 'fagineus', 'facio'], ['ferrum', 'facio', 'quod', 'opus', 'sum', 'uti', 'idem', 'faber', 'figo', 'HS', 'LX', 'opus', 'sum'], ['plumbum', 'in', 'cupa', 'emito', 'HS', 'cupa', 'quis#2', 'concinno', 'et', 'modiolus', 'quis#2', 'indo', 'et', 'plumbet', 'opera', 'faber', 'dumtaxat', 'HS', 'VIII', 'idem', 'trapetum', 'oportet', 'accommodo'], ['summus', 'sumo', 'HS', 'LXXII', 'praeter', 'adjutor'], ['Trapetum', 'hic', 'modus', 'accommodo', 'oportet'], ['Librator', 'uti', 'statuo', 'pariter', 'ab', 'labrum'], ['Digitus', 'parvus', 'orbis', 'absum', 'oportet', 'ab', 'solus', 'mortarium'], ['orbis', 'caveo', 'oportet', 'nequid', 'mortarium', 'tero'], ['inter', 'orbis', 'et', 'miliarium', 'unus', 'digitus', 'intersum', 'oportet'], ['si', 'plus', 'intereo', 'atque', 'orbis', 'nimium', 'abeo', 'funi', 'circumligo', 'miliarium', 'ars', 'crebro', 'uti', 'expleo', 'quod', 'nimium', 'intersum'], ['si', 'orbis', 'alo', 'sum', 'atque', 'nimium', 'mortarium', 'deorsom', 'tero', 'orbiculus', 'ligneus', 'pertundo', 'in', 'miliarium', 'in', 'columella', 'supponito', 'is', 'altitudo', 'tempero'], ['idem', 'modus', 'latitudo', 'orbiculus', 'ligneus', 'aut', 'armilla', 'ferreus', 'tempero', 'usque', 'dum', 'rectus', 'tempero'], ['Trapetus', 'emo', 'sum', 'in', 'Suessano', 'HS', 'CCCC', 'et', 'oleum', 'P.', 'L.', 'Conposturae', 'HS', 'LX', 'vectura', 'bos', 'opera', 'VI', 'homo', 'VI', 'cum', 'bubulcus', 'HS', 'LXXII', 'cupa', 'orno', 'HS', 'LXXII', 'pro', 'oleum', 'HS', 'XXV', 'S.', 'S.', 'HS', 'DCXXVIIII'], ['Pompeum', 'emo', 'ornatus', 'HS', 'CCCXXCIIII', 'vectura', 'HS', 'CCXXC', 'domus', 'melius', 'concinno', 'et', 'accommodo', 'is', 'sumo', 'opus', 'sum', 'HS', 'LX', 'S.', 'S.', 'HS', 'DCCXXIIII'], ['si', 'orbis', 'in', 'vetus', 'trapetos', 'paro', 'medius', 'crassus', 'P.', 'eo', 'digitus', 'Iius', 'altus', 'P.', 'eo', 'foramen', 'semipedem', 'quoquo', 'verto'], ['is', 'cum', 'adveho', 'ex', 'trapeto', 'tempero'], ['is', 'emo', 'ad', 'Rufri', 'maceria', 'HS', 'CXXC', 'tempero', 'HS', 'Tantidem', 'Pompeum', 'emo'], ['facio', 'ad', 'vindemia', 'quis#2', 'opus', 'sum', 'ut', 'pareo'], ['vasum', 'lavo', 'corbula', 'sarcio', 'pico', 'dolium', 'quis#2', 'opus', 'sum', 'pico', 'quom', 'pluo', 'qualum', 'pareo', 'sarcio', 'far', 'molo', 'menae', 'emo', 'olea', 'caducus', 'salio'], ['uva', 'miscellus', 'vinum', 'praeligneum', 'quod', 'operarius', 'bibo', 'ubi', 'tempus', 'sum', 'lego#2'], ['siccus', 'puriter', 'omnis', 'dies', 'pariter', 'in', 'dolium', 'dividito'], ['si', 'opus', 'sum', 'defrutum', 'indo', 'in', 'mustum', 'de', 'mustum', 'lixivum', 'coquo', 'pars', 'quadragesima', 'addo', 'defruti', 'vel', 'salum', 'sesquilibram', 'in', 'culleus'], ['marmor', 'si', 'indo', 'in', 'culleus', 'libra', 'indo', 'is', 'indo', 'in', 'urna', 'misceto', 'cum', 'mustum', 'is', 'indo', 'in', 'doleum'], ['resina', 'si', 'indo', 'in', 'culleus', 'mustum', 'P.', 'Iius', 'bene', 'comminuito', 'indo', 'in', 'fiscella', 'et', 'facio', 'uti', 'in', 'doleo', 'mustum', 'pendeo', 'is', 'quasso', 'crebro', 'uti', 'resina', 'condeliquescat'], ['ubi', 'indo', 'defrutum', 'aut', 'marmor', 'aut', 'resina', 'dies', 'XX', 'permisceto', 'crebro', 'tribulo', 'cottidie'], ['Tortivum', 'mustum', 'circumcidaneum', 'suus', 'quisque', 'dolium', 'dividito', 'additoque', 'pariter'], ['vinum', 'Graecus', 'hic', 'modus', 'fio', 'oportet'], ['uva', 'Apicias', 'percoquo', 'bene', 'lego#2'], ['ubi', 'deligo', 'is', 'is', 'mustum', 'culleus', 'aqua', 'marinus', 'vetus', 'Q.', 'II', 'indo', 'vel', 'salum', 'purum', 'modius', 'is', 'in', 'fiscella', 'suspendito', 'sinitoque', 'cum', 'mustum', 'distabescat'], ['si', 'helvolum', 'vinum', 'facio', 'volo', 'dimidium', 'helvoli', 'dimidium', 'Apicius', 'vinum', 'indo', 'defruti', 'vetus', 'pars', 'tricesimam', 'addo'], ['quisquis', 'vinum', 'defrutabis', 'pars', 'tricesimam', 'defruti', 'addo'], ['cum', 'vinum', 'coquo', 'sum', 'et', 'quom', 'lego', 'facio', 'uti', 'servo', 'familia', 'primus', 'suisque', 'facitoque', 'studeo', 'bene', 'percoquo', 'siccumque', 'lego#2', 'ne#2', 'vinum', 'nomen', 'perdo'], ['vinaceus', 'cottidie', 'recens', 'succernito', 'lectus', 'restibus', 'subtendo', 'vel', 'cribrum', 'ille', 'reus', 'paro'], ['is', 'conculco', 'in', 'dolium', 'pico', 'vel', 'in', 'lacus', 'vinarium', 'pico'], ['is', 'bene', 'iubeto', 'oblini', 'quod', 'do', 'bubus', 'per', 'hiems'], ['Indidem', 'si', 'volo', 'lavito', 'paulatim'], ['sum', 'lorum', 'familia', 'quod', 'bibo'], ['vindemia', 'facio', 'vasum', 'torculus', 'corbula', 'fiscina', 'funis', 'patibulus', 'fibula', 'iubeto', 'quisquis', 'suus', 'locus', 'condus'], ['dolium', 'cum', 'vinum', 'bis', 'in', 'dies', 'facio', 'extergeantur', 'privasque', 'scopulas', 'in', 'dolium', 'facio', 'habeo', 'ille', 'reus', 'quis#2', 'labrum', 'dolium', 'circumfrices'], ['ubi', 'sum', 'lego', 'dies', 'triginta', 'si', 'bene', 'dacinata', 'sum', 'dolium', 'oblinito', 'si', 'volo', 'de', 'faece', 'demo', 'vinum', 'tum', 'sum', 'is', 'reus', 'bonus', 'tempus'], ['Sementim', 'facio', 'ocinum', 'vicia', 'faenum', 'Graecus', 'faba', 'ervum', 'pabulum', 'bubus'], ['alter', 'et', 'tertius', 'pabulum', 'sationem', 'facio'], ['deinde', 'alius', 'fruges', 'serito'], ['Scrobes', 'in', 'vervacto', 'olea', 'ulmis', 'vitis', 'ficis', 'simul', 'cum', 'semen', 'serito'], ['si', 'sum', 'locus', 'siccus', 'tum', 'olea', 'per', 'sementim', 'serito', 'et', 'quis#2', 'ante', 'sero', 'sum', 'tener', 'tum', 'supputo', 'et', 'arbor', 'ablaqueato'], ['olea', 'ulmos', 'ficos', 'pomum', 'vito', 'pinos', 'cupressus', 'cum', 'sero', 'bene', 'cum', 'radix', 'eximito', 'cum', 'terra', 'suus', 'quam#4', 'plurimus', 'circumligatoque', 'uti', 'fero', 'possum', 'in', 'alveus', 'aut', 'in', 'corbula', 'fero', 'iubeto'], ['Caveto', 'quom', 'ventus', 'siet', 'aut', 'imber', 'effodio', 'aut', 'fera', 'namque', 'is', 'multus', 'caveo', 'sum'], ['in', 'scrobe', 'quom', 'pono', 'summa', 'terra', 'subditus', 'postea', 'operito', 'terra', 'radix', 'finis', 'deinde', 'calco', 'pes', 'bene', 'deinde', 'festucis', 'vectibusque', 'calco', 'quam#4', 'optime', 'possum', 'is', 'sum', 'is', 'reus', 'primus'], ['arbor', 'crassus', 'digitus', 'V', 'quis#2', 'sum', 'is', 'praecido', 'serito', 'oblinitoque', 'fimum', 'summus', 'et', 'folium', 'alligo'], ['Stercus', 'dividito', 'sic'], ['pars', 'dimidia', 'in', 'seges', 'ubi', 'pabulum', 'serus', 'et', 'si', 'ibi', 'olea', 'sum', 'simul', 'ablaqueato', 'stercusque', 'addo', 'postea', 'pabulum', 'serito'], ['pars', 'quartus', 'circum', 'olea', 'ablaqueatas', 'quom', 'multus', 'opus', 'sum', 'addo', 'terraque', 'stercus', 'operito'], ['alter', 'quartus', 'pars', 'in', 'pratum', 'reservo', 'is', 'quom', 'multus', 'opus', 'sum', 'ubi', 'favonius', 'flo', 'evehito', 'luna', 'silentus'], ['Bubus', 'frons', 'ulmeus', 'populneam', 'querneus', 'ficulnea', 'usque', 'dum', 'habeo', 'do'], ['ovis', 'frons', 'viridis', 'usque', 'dum', 'habeo', 'praebeto', 'ubi', 'sementim', 'facio', 'sum', 'ibi', 'ovis', 'delecto', 'et', 'frons', 'usque', 'ad', 'pabulum', 'maturus'], ['pabulum', 'aridum', 'quod', 'condo', 'in', 'hiems', 'quam#4', 'multus', 'conservo', 'cogitatoque', 'hiems', 'quam#4', 'longus', 'siet'], ['ad', 'olea', 'cogo', 'quis#2', 'opus', 'sum', 'pareo'], ['vimen', 'maturus', 'salix', 'per', 'tempus', 'lego#2', 'uti', 'sum', 'unde', 'corbula', 'fio', 'et', 'vetus', 'sarcio'], ['fibula', 'unde', 'fio', 'aridus', 'iligneus', 'ulmeus', 'nuceus', 'ficulnea', 'facio', 'in', 'stercus', 'aut', 'in', 'aqua', 'conicio', 'inde', 'ubi', 'opus', 'sum', 'fibula', 'facio'], ['vecto', 'iligneus', 'acrufolios', 'laureus', 'ulmeus', 'facio', 'uti', 'sient', 'paro'], ['prelum', 'ex', 'carpino', 'ater', 'potissimus', 'facio'], ['ulmeus', 'pinea', 'nuceus', 'hic', 'atque', 'alius', 'materiem', 'omnis', 'cum', 'effodio', 'luna', 'decresco', 'eximito', 'post', 'meridies', 'sine', 'vento', 'auster'], ['tum', 'sum', 'tempestivus', 'cum', 'semen', 'suus', 'maturus', 'sum', 'cavetoque', 'per', 'roro', 'traho', 'aut', 'doleo'], ['qui', 'materies', 'semen', 'non', 'habeo', 'cum', 'glubebit', 'tempestivus', 'sum'], ['ventus', 'auster', 'caveto', 'nequam', 'materia', 'neve', 'vinum', 'tracto', 'nisi', 'necessarius'], ['vinea', 'arboresque', 'maturus', 'fax', 'incipio', 'puto'], ['vito', 'propago', 'in', 'sulcus', 'sursum', 'verto', 'quod', 'is', 'facio', 'possum', 'vitis', 'facio', 'uti', 'duco'], ['arbor', 'hic', 'modus', 'puto', 'ramus', 'uti', 'divaricentur', 'quos', 'relinquo', 'et', 'uti', 'rectus', 'caedo', 'et', 'ne#2', 'nimium', 'creber', 'relinquo'], ['vito', 'bene', 'nodo', 'per', 'omnis', 'ramus', 'diligenter', 'caveto', 'ne#2', 'vito', 'praeceps', 'et', 'ne#2', 'nimium', 'praestringo'], ['arbor', 'facio', 'uti', 'bene', 'marita', 'sum', 'vitesque', 'uti', 'satis', 'multus', 'adserantur', 'et', 'sicubi', 'opus', 'sum', 'de', 'arbor', 'deicio', 'uti', 'in', 'terra', 'deprimo', 'et', 'biennium', 'post', 'praecidito', 'vetus'], ['Viniam', 'sic', 'facio', 'uti', 'curo'], ['vito', 'bene', 'nodatus', 'deligo', 'rectus', 'fluxuosa', 'uti', 'ne#2', 'sum', 'sursum', 'verto', 'semper', 'duco', 'quod', 'is', 'possum'], ['vinarius', 'custodesque', 'rectus', 'relinquito'], ['quam#4', 'alo', 'viniam', 'facio', 'alligatoque', 'rectus', 'dum', 'ne#2', 'nimium', 'constringo'], ['hic', 'modus', 'is', 'curo'], ['capitum', 'vitium', 'per', 'sementiam', 'ablaqueato'], ['vinea', 'puto', 'circumfodito', 'aro', 'incipito', 'ultro', 'citroque', 'sulcus', 'perpetuus', 'duco'], ['vito', 'tener', 'quam#4', 'primus', 'propago', 'sic', 'occo', 'vetus', 'quam#4', 'parvus', 'castro', 'potius', 'si', 'opus', 'sum', 'deicito', 'biennioque', 'post', 'praecidito'], ['vito', 'novella', 'resicari', 'tum', 'sum', 'tempus', 'ubi', 'valeo'], ['si', 'vinea', 'ab', 'vitis', 'calva', 'sum', 'sulcus', 'interponito', 'ibique', 'viveradicem', 'serito', 'umbra', 'ab', 'sulcus', 'removeto', 'crebroque', 'fodito'], ['in', 'vinea', 'vetus', 'serito', 'ocinum', 'si', 'macra', 'sum', '(', 'quod', 'granum', 'capio', 'ne#2', 'serito', ')', 'et', 'circum', 'capitum', 'addo', 'stercus', 'palea', 'vinaceus', 'aliquis', 'hic', 'quo', 'recingo', 'valeo'], ['ubi', 'vinea', 'frondeo', 'coepio', 'pampino'], ['vinea', 'novella', 'alligo', 'crebro', 'ne#2', 'caules', 'praefringantur', 'et', 'quis#2', 'iam', 'in', 'pertica', 'eo', 'is', 'pampinus', 'teneros', 'alligo', 'leviter', 'corrigitoque', 'uti', 'rectus', 'specto'], ['ubi', 'uva', 'varius', 'fio', 'coperit', 'vito', 'subligato', 'pampino', 'uvasque', 'expellito', 'circum', 'capitum', 'sarito'], ['salictum', 'suus', 'tempus', 'caedito', 'glubito', 'arteque', 'alligo'], ['liber#4', 'conservo', 'cum', 'opus', 'sum', 'in', 'vinea', 'ex', 'is', 'in', 'aqua', 'coicito', 'alligo'], ['Viminae', 'unde', 'corbula', 'fio', 'conservo'], ['redeo', 'ad', 'sementim'], ['ubi', 'quisque', 'locus', 'frigidus', 'aquosissimusque', 'sum', 'ibi', 'primus', 'serito'], ['in', 'caldissimis', 'locus', 'sementim', 'posterus', 'fio', 'oportet'], ['terra', 'caveo', 'cariosus', 'tracto'], ['ager', 'rubicosus', 'et', 'terra', 'pullum', 'materinus', 'rudectus', 'harenosum', 'item', 'quis#2', 'aquosus', 'non', 'sum', 'ibi', 'lupinus', 'bonus', 'fio'], ['in', 'creta', 'et', 'uligine', 'et', 'rubrica', 'et', 'ager', 'quis#2', 'aquosus', 'sum', 'semen', 'adoreus', 'potissimus', 'serito'], ['qui', 'locus', 'siccus', 'et', 'non', 'herbosus', 'sum', 'apertus', 'ab', 'umbra', 'ibi', 'triticum', 'serito'], ['faba', 'in', 'locus', 'validus', 'non', 'calamitosus', 'serito'], ['vicia', 'et', 'faenum', 'Graecus', 'quam#4', 'parum', 'herbosus', 'locus', 'serito'], ['Siliginem', 'triticum', 'in', 'locus', 'apertus', 'celsus', 'ubi', 'sol', 'quam#4', 'diutissime', 'siet', 'serum', 'oportet'], ['Lentim', 'in', 'rudectus', 'et', 'rubricoso', 'locus', 'quis#2', 'herbosus', 'non', 'siet', 'serito'], ['hordeum', 'quis#2', 'locus', 'novus', 'sum', 'aut', 'quis#2', 'restibilis', 'fio', 'possum', 'serito'], ['trimestris', 'quo', 'in', 'locus', 'sementim', 'maturus', 'facio', 'non', 'potueris', 'et', 'quis#2', 'locus', 'restibilis', 'crassitudo', 'fio', 'possum', 'serri', 'oportet'], ['rapina', 'et', 'colo', 'rapicius', 'unde', 'fio', 'et', 'raphanus', 'in', 'locus', 'stercoro', 'bene', 'aut', 'in', 'locus', 'crassus', 'serito'], ['qui', 'seges', 'stercoro'], ['Stercus', 'columbinus', 'spargo', 'oportet', 'in', 'pratum', 'vel', 'in', 'hortus', 'vel', 'in', 'seges'], ['caprinus', 'ovillus', 'bubulus', 'item', 'ceterum#2', 'stercus', 'omnis', 'sedulus', 'conservo'], ['amurca', 'spargo', 'vel', 'inrigo', 'ad', 'arbor', 'circum', 'capitum', 'magnus', 'amphora', 'ad', 'parvus', 'urna', 'cum', 'aqua', 'dimidium', 'addo', 'ablaqueato', 'prius', 'non', 'altus'], ['qui', 'malus', 'in', 'seges', 'sum'], ['si', 'cariosus', 'terra', 'tracto'], ['cicer', 'quod', 'vello', 'et', 'quod', 'salio', 'sum', 'is', 'malus#3', 'sum'], ['hordeum', 'faenum', 'Graecus', 'ervum', 'hic', 'omnis', 'seges', 'exsugo', 'et', 'omnis', 'quis#2', 'vello'], ['nucleus', 'in', 'seges', 'ne#2', 'indo'], ['qui', 'seges', 'stercoro', 'fruges', 'lupinus', 'faba', 'vicia'], ['Stercus', 'unde', 'facio', 'stramentum', 'lupinus', 'palea', 'fabalis', 'acus', 'frons', 'iligneus', 'querneus'], ['ex', 'seges', 'vellito', 'ebulum', 'cicuta', 'et', 'circum', 'salictum', 'herba', 'altus', 'uvamque', 'is', 'substernito', 'ovis', 'bubusque', 'frons', 'putidus'], ['pars', 'de', 'nucleus', 'succernito', 'et', 'in', 'lacus', 'coicito', 'is', 'aqua', 'addo', 'permisceto', 'rutro', 'bene', 'inde', 'lutum', 'circum', 'olea', 'ablaqueatas', 'addo', 'nucleus', 'conbustos', 'item', 'addo'], ['vitis', 'si', 'macra', 'sum', 'sarmentum', 'suus', 'concidito', 'minuo', 'et', 'ibidem', 'inaratus', 'aut', 'infodito'], ['per', 'hiems', 'lucubratio', 'hic', 'facio', 'ridica', 'et', 'palus', 'quos', 'pridie', 'in', 'tectum', 'pono', 'siccus', 'dolo', 'faculas', 'facio', 'stercus', 'egerito'], ['nisi', 'intermestris', 'lunaque', 'dimidio', 'tum', 'ne#2', 'tango', 'materiem'], ['quam#4', 'effodio', 'aut', 'praecido', 'ab', 'terra', 'dies', 'VII', 'proximus', 'quis#2', 'luna', 'plenus', 'sum', 'optime', 'eximo'], ['omnino', 'caveto', 'nequam', 'materiem', 'doleo', 'neu', 'caedo', 'neu', 'tango', 'si', 'poto', 'nisi', 'siccus', 'neu', 'gelidus', 'neu', 'rorulentus'], ['frumentum', 'fax', 'bis', 'sarias', 'runcesque', 'avenamque', 'destringo'], ['de', 'vinea', 'et', 'arbor', 'puto', 'sarmentum', 'dego', 'et', 'fascinam', 'fax', 'et', 'vitis', 'et', 'lignum', 'in', 'cacumen', 'ficulnus', 'et', 'codicilli', 'dominus', 'in', 'acervus', 'conpone'], ['Fornacem', 'calcarius', 'pes', 'latus', 'X', 'facio', 'altus', 'pes', 'XX', 'usque', 'ad', 'pes', 'tres', 'summa', 'latus', 'redigito'], ['si', 'unus', 'praefurnio', 'coquo', 'lacuna', 'intus', 'magnus', 'facio', 'uti', 'satis', 'siet', 'ubi', 'cinis', 'concipio', 'ne#2', 'foras', 'sum', 'educo'], ['Fornacemque', 'bene', 'struito', 'facio', 'fortax', 'totus#2', 'fornacem', 'infimam', 'conplecto'], ['si', 'duo', 'praefurniis', 'coquo', 'lacuna', 'nihil', 'opus', 'sum'], ['cum', 'cinis', 'eruo', 'opus', 'sum', 'alter', 'praefurnio', 'eruito', 'in', 'alter', 'ignis', 'sum'], ['ignis', 'caveto', 'ne#2', 'intermitto', 'quin', 'semper', 'siet', 'neve', 'noctu', 'neve', 'ullus', 'tempus', 'intermitto', 'caveto'], ['lapis', 'bonus', 'in', 'fornacem', 'quam#4', 'candidus', 'quam#4', 'parum', 'varius', 'indo'], ['cum', 'fornacem', 'facies', 'fauces', 'praeceps', 'deorsum', 'facio'], ['ubi', 'satis', 'fodio', 'tum', 'fornaci', 'locus', 'facio', 'uti', 'quam#4', 'alo', 'et', 'quam#4', 'parum', 'ventosus', 'siet'], ['si', 'parus', 'altus', 'fornacem', 'habeo', 'ubi', 'facio', 'latus', 'summa', 'statuito', 'aut', 'caementum', 'cum', 'lutum', 'summa', 'extrinsecus', 'oblinito'], ['cum', 'ignis', 'subdideris', 'siquam', 'flamma', 'exibit', 'nisi', 'per', 'orbis', 'summus', 'lutum', 'oblinito'], ['ventus', 'ad', 'praefurnium', 'caveto', 'ne#2', 'accedo', 'inibi', 'auster', 'caveto', 'multus'], ['hic', 'signum', 'sum', 'ubi', 'calx', 'coquo', 'sum', 'summus', 'lapis', 'coquo', 'sum', 'oportet', 'item', 'infimi', 'lapis', 'coctum', 'cado', 'et', 'flamma', 'parvus', 'fumosus', 'exibit'], ['si', 'lignum', 'et', 'virga', 'non', 'possum', 'vendo', 'neque', 'lapis', 'habeo', 'unde', 'calx', 'coquo', 'de', 'lignum', 'carboreas', 'coquito', 'virga', 'et', 'sarmentum', 'quis#2', 'tu', 'ustioni', 'supererunt', 'in', 'seges', 'conburito'], ['ubi', 'conbusseris', 'ibi', 'papaver', 'serito'], ['ubi', 'tempestas', 'malus', 'sum', 'cum', 'opus', 'fio', 'non', 'possum', 'stercus', 'in', 'stercilinum', 'egerito'], ['Bubile', 'ovile', 'cohors', 'villa', 'bene', 'purgo'], ['dolium', 'plumbum', 'vincio', 'vel', 'materie', 'querneus', 'verus', 'siccus', 'alligo'], ['si', 'bene', 'sarcio', 'aut', 'bene', 'alligaveris', 'et', 'in', 'rima', 'medicamentum', 'indo', 'beneque', 'picaveris', 'quodvis', 'dolium', 'vinarium', 'facio', 'possum'], ['medicamentum', 'in', 'dolium', 'hic', 'modus', 'facio', 'cera', 'P.', 'eo', 'resina', 'P.', 'eo', 'sulfur', 'P.', 'C', 'C.', 'hic', 'omnis', 'in', 'calix', 'novus', 'indo', 'is', 'addo', 'gypsum', 'contero', 'uti', 'crassitudo', 'fio', 'quasi', 'emplastrum', 'is', 'dolium', 'sarcio'], ['ubi', 'sarcio', 'quis#2', 'color', 'idem', 'facio', 'cretus', 'crudus', 'pars', 'duo', 'calcis', 'tertius', 'conmisceto', 'inde', 'laterculus', 'facio', 'coquito', 'in', 'fornace', 'is', 'conterito', 'is', 'inducito'], ['per', 'imbrem', 'in', 'villa', 'quaerito', 'quis#2', 'fio', 'possum'], ['ne', 'cesso', 'munditia', 'facio'], ['cogito', 'si', 'nihil', 'fio', 'nihilum', 'parvus', 'sumo', 'sum'], ['per', 'ver', 'hic', 'fio', 'oportet'], ['sulcus', 'et', 'scrobes', 'fio', 'seminarium', 'vitariis', 'locus', 'verto', 'vito', 'propagari', 'in', 'locus', 'crassus', 'et', 'umectis', 'ulmos', 'ficos', 'pomum', 'olea', 'serum', 'oportet'], ['Ficos', 'olea', 'malus', 'pirum', 'vito', 'inseri', 'oportet', 'luna', 'silentus', 'post', 'meridies', 'sine', 'vento', 'auster'], ['olea', 'ficos', 'pirum', 'malus', 'hic', 'modus', 'inserito'], ['quis#2', 'ramus', 'insero', 'sum', 'praecidito', 'inclino', 'aliquantus', 'ut', 'aqua', 'defluo', 'cum', 'praecido', 'caveto', 'ne#2', 'liber#4', 'convello'], ['Sumito', 'tu', 'surculus', 'durus', 'is', 'praeacuito', 'salicem', 'Graecus', 'discindito'], ['argilla', 'vel', 'cretus', 'coaddito', 'harena', 'paululum', 'et', 'fimum', 'bubulus', 'hic', 'unus', 'bene', 'condepsito', 'quam#4', 'multus', 'uti', 'lens', 'fio'], ['capio#2', 'tu', 'scissus', 'salicem', 'is', 'stirpem', 'praecido', 'circumligo', 'ne#2', 'liber#4', 'frango'], ['ubi', 'is', 'facio', 'surculus', 'praeacuo', 'inter', 'liber#4', 'et', 'stirpem', 'artito', 'primoris', 'digitus', 'Postea', 'capio', 'tu', 'surculus', 'quod', 'genus', 'insero', 'volo', 'is', 'primoris', 'praeacuito', 'oblicum', 'primoris', 'digitus', 'surculus', 'aridum', 'quis#2', 'artiveris', 'eximito', 'is', 'artito', 'surculus', 'quis#2', 'insero', 'volo'], ['liber#4', 'atque', 'liber#4', 'verto', 'facio', 'artito', 'usque', 'adeo#2', 'quo', 'praeacueris'], ['idem', 'alter', 'surculus', 'tertius', 'quartus', 'facio', 'quot', 'genus', 'volo', 'tot', 'indo'], ['Salicem', 'Graecus', 'amplus', 'circumligo', 'lutum', 'depsto', 'stirpem', 'oblinito', 'digitus', 'crassus', 'tres'], ['insuper', 'lingua', 'bubula', 'obtegito', 'si', 'pluo', 'ne#2', 'aqua', 'in', 'liber#4', 'permaneo'], ['is', 'lingua', 'insuper', 'liber#4', 'alligo', 'ne#2', 'cado'], ['postea', 'stramentum', 'circumdo', 'alligatoque', 'ne#2', 'gelus', 'noceo'], ['vitis', 'insitio', 'unus', 'sum', 'per', 'ver', 'alter', 'sum', 'cum', 'uva', 'floreo', 'is', 'bonus', 'sum'], ['pirum', 'atque', 'malus#3', 'insitio', 'per', 'ver', 'et', 'per', 'solstitium', 'dies', 'L', 'et', 'per', 'vindemia'], ['olea', 'et', 'ficus', 'insitio', 'sum', 'per', 'ver'], ['vito', 'sic', 'inserito', 'praecidito', 'quam#4', 'insero', 'is', 'medius', 'diffindito', 'per', 'medulla', 'is', 'surculus', 'praeacuo', 'artito', 'quos', 'insero', 'medulla', 'cum', 'medulla', 'conponito'], ['alter', 'insitio', 'sum', 'si', 'vitis', 'vito', 'contingo', 'uterque', 'vito', 'teneram', 'praeacuito', 'obliquus', 'inter', 'se', 'medulla', 'cum', 'medulla', 'liber#4', 'conligo'], ['tertius', 'insitio', 'sum', 'terebra', 'vito', 'quam#4', 'insero', 'pertundito', 'is', 'duo', 'suculos', 'vitigineos', 'quod', 'genus', 'sum', 'volo', 'insectus', 'obliquus', 'artito', 'ad', 'medulla', 'facio', 'is', 'medulla', 'cum', 'medulla', 'coniungas', 'artitoque', 'is', 'qui', 'terebraveris', 'alter', 'ex', 'alter', 'pars'], ['is', 'surculus', 'facio', 'sum', 'longus', 'pes', 'bini', 'is', 'in', 'terra', 'demittito', 'replicatoque', 'ad', 'vitis', 'caput', 'medius', 'vitis', 'vinclis', 'in', 'terra', 'defigito', 'terraque', 'operito'], ['hic', 'omnis', 'lutum', 'depsto', 'oblinito', 'alligo', 'integitoque', 'ad', 'idem', 'modus', 'tamquam', 'olea'], ['Ficos', 'et', 'olea', 'alter', 'modus'], ['quod', 'genus', 'aut', 'ficus', 'aut', 'olea', 'sum', 'volo', 'inde', 'liber#4', 'scalptro', 'eximito', 'alter', 'liber#4', 'cum', 'gemma', 'de', 'is', 'fico', 'quod', 'genus', 'sum', 'volo', 'eximito', 'adponito', 'in', 'is', 'locus', 'unde', 'exicaveris', 'in', 'alter', 'genus', 'facitoque', 'uti', 'convenio'], ['liber#4', 'longus', 'facio', 'digitus', 'Iius', 'S', 'latus', 'digitus', 'ad', 'idem', 'modus', 'oblinito', 'integito', 'uti', 'ceterus'], ['sulcus', 'si', 'locus', 'aquosus', 'sum', 'alveatos', 'sum', 'oportet', 'latus', 'summus', 'pes', 'tres', 'altus', 'pes', 'quattuor', 'inferus', 'latus', 'P.', 'eo', 'et', 'palmus'], ['is', 'lapis', 'consternito', 'si', 'lapis', 'non', 'sum', 'pertica', 'saligneis', 'viridis', 'controversus', 'confero', 'consternito', 'si', 'pertica', 'non', 'sum', 'sarmentum', 'conligo'], ['postea', 'scrobes', 'facio', 'altus', 'P.', 'Iius', 'S', 'latus', 'P.', 'IIII', 'et', 'facio', 'de', 'scrobe', 'aqua', 'in', 'sulcus', 'defluo', 'ita', 'olea', 'serito'], ['vitis', 'sulcus', 'et', 'propagino', 'ne#2', 'parvus', 'P.', 'II', 'S', 'quoquo', 'versus', 'facio'], ['si', 'volo', 'vinea', 'cito', 'cresco', 'et', 'olea', 'quam#4', 'severus', 'semel', 'in', 'mensis', 'sulcus', 'et', 'circum', 'capitum', 'oleagineus', 'quot', 'mensis', 'usque', 'donec', 'trimus', 'sum', 'fodio', 'oportet'], ['idem', 'modus', 'ceterus', 'arbor', 'procuro'], ['olivetum', 'dies', 'XV', 'ante', 'aequinoctium', 'vernum', 'incipito', 'puto'], ['ex', 'is', 'dies', 'dies', 'XLV', 'rectus', 'puto'], ['is', 'hic', 'modus', 'puto'], ['qui', 'locus', 'rectus', 'ferax', 'sum', 'quis#2', 'aridus', 'sum', 'et', 'siquid', 'ventus', 'interfregerit', 'is', 'omnis', 'eximito'], ['qui', 'locus', 'ferax', 'non', 'sum', 'is', 'plus', 'concidito', 'aratoque'], ['enodo', 'stripesque', 'levis#2', 'facio'], ['talea', 'oleagineus', 'quis#2', 'in', 'scrobe', 'satura', 'sum', 'tripedaneus', 'decido', 'diligenterque', 'tracto', 'ne#2', 'liber#4', 'laboro', 'cum', 'dolo', 'aut', 'seco'], ['qui', 'in', 'seminarium', 'sero', 'sum', 'pedalis', 'facio', 'is', 'sic', 'inserito'], ['locus', 'bipalio', 'subactus', 'siet', 'beneque', 'terra', 'tener', 'siet', 'beneque', 'glittus', 'siet'], ['cum', 'talea', 'demitto', 'pedis', 'talea', 'opprimito'], ['si', 'parus', 'descendo', 'malleus', 'aut', 'mateola', 'adigito', 'cavetoque', 'ne#2', 'liber#4', 'scindo', 'cum', 'adigo'], ['palum', 'prius', 'locus', 'ne#2', 'facio', 'quo', 'talea', 'demitto'], ['si', 'ita', 'severus', 'uti', 'sto', 'talea', 'melius', 'vivo'], ['talea', 'ubi', 'trimus', 'sum', 'tum', 'denique', 'maturus', 'sum', 'ubi', 'liber#4', 'se', 'verto'], ['si', 'in', 'scrobibus', 'aut', 'in', 'sulcus', 'sero', 'terni', 'talea', 'ponito', 'easque', 'divaricato', 'supra', 'terra', 'ne#2', 'plus', 'IIII', 'digitus', 'transverto', 'emineo', 'vel', 'oculus', 'serito'], ['seminarium', 'ad', 'hic', 'modus', 'facio'], ['locus', 'quam#4', 'bonus', 'et', 'apertus', 'et', 'stercorosissimum', 'possum', 'et', 'quam#4', 'similis', 'genus', 'terra', 'eae', 'ubi', 'semen', 'pono', 'sum', 'et', 'uti', 'ne#2', 'nimis', 'longus', 'semen', 'ex', 'seminarium', 'ferantur', 'is', 'locus', 'bipalio', 'vertito', 'delapidato', 'circum', 'saepito', 'bene', 'et', 'in', 'ordo', 'serito'], ['in', 'sesquipedem', 'quoquo', 'verto', 'talea', 'demittito', 'opprimitoque', 'pedis'], ['si', 'parus', 'deprimo', 'possum', 'malleus', 'aut', 'mateola', 'adigito'], ['Digitus', 'supra', 'terra', 'facio', 'semen', 'emineo', 'fimoque', 'bubulus', 'summa', 'talea', 'oblinito', 'signumque', 'apud', 'talea', 'adponito', 'crebroque', 'sarito', 'si', 'volo', 'cito', 'semen', 'cresco'], ['ad', 'idem', 'modus', 'alius', 'semen', 'serito'], ['harundo', 'sic', 'serito', 'terni', 'pes', 'oculus', 'disponito'], ['vitiarium', 'idem', 'modus', 'facio', 'seritoque'], ['ubi', 'vitis', 'bimus', 'sum', 'resicato', 'ubi', 'trimus', 'sum', 'eximito'], ['si', 'pecus', 'pasco', 'ubi', 'vito', 'sero', 'volo', 'ter', 'prius', 'resicato', 'quam#4', 'in', 'arbor', 'pono'], ['ubi', 'V', 'nodus', 'vetus', 'habeo', 'tum', 'ad', 'arbor', 'ponito'], ['quotannis', 'porrinam', 'serito', 'quotannis', 'habeo', 'quo', 'eximo'], ['pomarius', 'seminarium', 'ad', 'idem', 'modus', 'atque', 'oleagineus', 'facio'], ['suus', 'quisquis', 'genus', 'talea', 'serito'], ['semen', 'cupressi', 'ubi', 'sero', 'bipalio', 'vertito'], ['vere', 'primus', 'serito'], ['porca', 'pes', 'quini', 'latus', 'facio', 'is', 'stercus', 'minutum', 'addo', 'consarito', 'glebasque', 'conminuito'], ['porca', 'plana', 'facio', 'paul(l)um', 'concavus'], ['tum', 'semen', 'serito', 'crebrum', 'tamquam', 'linum', 'is', 'terra', 'cribrum', 'incernito', 'altus', 'digitus', 'transverto'], ['is', 'terra', 'tabula', 'aut', 'pes', 'conplanato', 'furca', 'circum', 'offigito', 'is', 'pertica', 'intendito', 'is', 'sarmentum', 'aut', 'cratio', 'ficarius', 'inponito', 'quis#2', 'frigus', 'defendo', 'et', 'sol'], ['uti', 'subtus', 'homo', 'ambulo', 'possum', 'facio'], ['crebro', 'runco'], ['simul', 'herba', 'incipio', 'nascor', 'eximito'], ['nam', 'si', 'herba', 'durus', 'vello', 'cupressus', 'simul', 'evello'], ['vinea', 'vetus', 'si', 'in', 'alius', 'locus', 'transfero', 'volo', 'dumtaxat', 'bracchium', 'crassus', 'liceo'], ['primus', 'deputo', 'bini', 'gemma', 'ne#2', 'amplus', 'relinquito'], ['ex', 'radix', 'bene', 'exfodito', 'usque', 'radix', 'persequito', 'et', 'caveto', 'ne#2', 'radix', 'saucio'], ['ita', 'uti', 'sum', 'ponito', 'in', 'scrobe', 'aut', 'in', 'sulcus', 'operitoque', 'et', 'bene', 'occulcato', 'eodemque', 'modus', 'vinea', 'statuito', 'alligo', 'flexatoque', 'uti', 'sum', 'crebroque', 'fodito'], ['pratum', 'primus', 'verus', 'stercoro', 'luna', 'silentus'], ['qui', 'inrigiva', 'non', 'sum', 'ubi', 'favonius', 'flo', 'coepio', 'cum', 'pratum', 'defendo', 'depurgato', 'herbasque', 'mala', 'omnis', 'radicitus', 'effodito'], ['ubi', 'vinea', 'deputaveris', 'acervus', 'lignum', 'virgarumque', 'facio'], ['Ficos', 'interputato', 'et', 'in', 'vinea', 'ficos', 'subradito', 'altus', 'ne#2', 'is', 'vitis', 'scando'], ['seminarium', 'facio', 'et', 'vetus', 'resarcito'], ['hic', 'facio', 'antequam', 'vinea', 'fodio', 'incipio'], ['ubi', 'daps', 'profanata', 'comestaque', 'sum', 'vernum', 'aro', 'incipito'], ['is', 'locus', 'primus', 'aro', 'quis#2', 'siccus', 'sum', 'et', 'quis#2', 'crassus', 'et', 'aquosus', 'sum', 'is', 'posterus', 'aro', 'dum', 'ne#2', 'prius', 'obdurescant'], ['propagatio', 'pomum', 'alius', 'arbor'], ['ab', 'arbor', 'ab', 'terra', 'pullus', 'quis#2', 'nasco', 'is', 'in', 'terra', 'deprimito', 'extollitoque', 'primoris', 'pars', 'uti', 'radix', 'capio', 'inde', 'biennium', 'post', 'effodito', 'seritoque'], ['ficus', 'olea', 'malus#3', 'Punicus', 'cotoneum', 'aliaque', 'malus', 'omnis', 'laurum', 'murtum', 'nuces', 'Praenestinus', 'platanum', 'hic', 'omnis', 'ab', 'caput', 'propagari', 'eximique', 'serique', 'idem', 'modus', 'oportet'], ['qui', 'diligenter', 'propagari', 'volo', 'in', 'aullas', 'aut', 'in', 'qualus', 'pertundo', 'propagari', 'oportet', 'et', 'cum', 'is', 'in', 'scrobem', 'defero', 'oportet'], ['in', 'arbor', 'uti', 'radix', 'capio', 'calix', 'pertundito', 'per', 'fundus', 'aut', 'qualus', 'ramus', 'quis#2', 'radix', 'capio', 'volo', 'traicito', 'is', 'qualus', 'aut', 'calix', 'terra', 'inpleto', 'calcatoque', 'bene', 'in', 'arbor', 'relinquito'], ['ubi', 'bimus', 'sum', 'ramus', 'sub', 'qualus', 'praecidito'], ['qualus', 'incidito', 'ex', 'imum', 'pars', 'perpetuus', 'sive', 'calix', 'sum', 'conquassato'], ['cum', 'is', 'qualus', 'aut', 'calix', 'in', 'scrobem', 'ponito'], ['idem', 'modus', 'vito', 'facio', 'is', 'annus', 'post', 'praecidito', 'seritoque', 'cum', 'qualus'], ['hic', 'modus', 'quod', 'genus', 'volo#1', 'propago'], ['faenum', 'ubi', 'tempus', 'sum', 'seco', 'cavetoque', 'ne#2', 'sero#4', 'seco'], ['priusquam', 'semen', 'maturus', 'siet', 'seco', 'et', 'quod', 'bonus', 'faenum', 'sum', 'seorsum', 'conditus', 'per', 'ver', 'cum', 'aro', 'antequam', 'ocinum', 'do', 'quod', 'edint', 'bos'], ['Bubus', 'pabulum', 'hic', 'modus', 'paro#2', 'darique', 'oportet'], ['ubi', 'sementim', 'patraveris', 'glans', 'paro#2', 'legique', 'oportet', 'et', 'in', 'aqua', 'conicio'], ['inde', 'semodios', 'singulus', 'bubus', 'in', 'dies', 'do', 'oportet', 'et', 'si', 'non', 'laboro', 'pasco', 'sero', 'sum', 'aut', 'modius', 'vinaceum', 'quos', 'in', 'dolium', 'condo'], ['interdiu', 'pascito', 'noctu', 'faenum', 'P.', 'XXV', 'unus', 'bovi', 'do'], ['si', 'faenum', 'non', 'sum', 'frons', 'iligneus', 'et', 'hederaciam', 'do'], ['palea', 'triticeus', 'et', 'hordeaceus', 'acus', 'fabaginum', 'de', 'vicia', 'vel', 'de', 'lupinus', 'item', 'de', 'ceterus', 'frux', 'omnis', 'conditus'], ['cum', 'stramentum', 'condo', 'quis#2', 'herbosus', 'sum', 'in', 'tectum', 'conditus', 'et', 'sale', 'spargito', 'deinde', 'is', 'pro', 'faenum', 'do'], ['ubi', 'vernum', 'do', 'coepio', 'modius', 'glandis', 'aut', 'vinaceum', 'do', 'aut', 'modius', 'lupinus', 'macero', 'et', 'faenum', 'P.', 'ubi', 'ocinum', 'tempestivus', 'sum', 'do', 'primus'], ['manus', 'carpito', 'is', 'renascetur', 'quod', 'falcula', 'seco', 'non', 'renascetur'], ['usque', 'ocinum', 'do', 'donec', 'aresco', 'ita', 'tempero'], ['postea', 'vicia', 'do', 'postea', 'panicum', 'frons', 'ulmeus', 'do'], ['si', 'populneam', 'habeo', 'admisceto', 'ut', 'ulmeus', 'satis', 'siet'], ['ubi', 'ulmeus', 'non', 'habeo', 'querneus', 'aut', 'ficulnea', 'do'], ['nihil', 'sum', 'quod', 'magis', 'expedio', 'quam#4', 'bos', 'bene', 'curo'], ['bos', 'nisi', 'per', 'hiems', 'cum', 'non', 'aro', 'pascor', 'non', 'oportet'], ['nam', 'viridis', 'cum', 'edo#1', 'semper', 'is', 'exspecto', 'et', 'fiscella', 'habeo', 'oportet', 'ne#2', 'herba', 'sectentur', 'cum', 'aro'], ['lignum', 'dominus', 'in', 'tabulatus', 'conditus', 'codicilli', 'oleagineus', 'radix', 'in', 'acervus', 'sub', 'dio', 'meta', 'facio'], ['familia', 'cibarium'], ['qui', 'opus', 'facio', 'per', 'hiems', 'triticum', 'modius', 'IIII', 'per', 'aestas', 'modius', 'IIII', 'S', 'vilicus', 'vilica', 'epistatae', 'opilioni', 'modius', 'Iius', 'compeditis', 'per', 'hiems', 'panus', 'p'], ['IIII', 'ubi', 'vinea', 'fodio', 'coepio', 'panus', 'p'], ['NUMERAL', 'usque', 'adeo#2', 'dum', 'ficos', 'sum', 'coepio', 'deinde', 'ad', 'p'], ['IIII', 'redeo'], ['vinum', 'familia'], ['ubi', 'vindemia', 'facio', 'sum', 'loram', 'bibo', 'mensis', 'tres', 'mensis', 'quartus', 'hemina', 'in', 'dies', 'is', 'sum', 'in', 'mensis', 'congius', 'II', 'S', 'mensis', 'quintus', 'sextus', 'septimus', 'octavus', 'in', 'dies', 'sextarius', 'is', 'sum', 'in', 'mensis', 'congius', 'quinque', 'nonus', 'decimus', 'undecimus', 'duodecimus', 'in', 'dies', 'hemina', 'terni', 'is', 'sum', 'amphora', 'hic', 'amplus', 'Saturnalia', 'et', 'Compitalibus', 'in', 'singulus', 'homo', 'gongios', 'Iius', 'S', 'summa', 'vinum', 'in', 'homo', 'singulus', 'inter', 'annus', 'Q.', 'Conpeditis', 'uti', 'quisquis', 'opus', 'facio', 'pro', 'portio', 'addo', 'is', 'non', 'sum', 'nimium', 'in', 'annus', 'singulus', 'vinum', 'Q.', 'X', 'ebibo'], ['pulmentarium', 'familia'], ['olea', 'caducus', 'quam#4', 'plurimus', 'conditus', 'postea', 'olea', 'tempestivus', 'unde', 'parvus', 'oleum', 'fio', 'possum', 'is', 'conditus', 'parcito', 'uti', 'quam#4', 'diutissime', 'duro'], ['ubi', 'olea', 'comesae', 'sum', 'hallacem', 'et', 'acetum', 'do'], ['oleum', 'do', 'in', 'mensis', 'unusquisque', 's'], ['I', 'salum', 'unusquisque', 'in', 'annus', 'modius', 'satis', 'sum'], ['vestimentum', 'familia'], ['tunica', 'p'], ['num._rom.', 'S', 'sagum', 'alternus', 'annus'], ['quotiens', 'quisque', 'tunica', 'aut', 'sagum', 'do', 'prius', 'vetus', 'accipio', 'unde', 'centones', 'fio'], ['Sculponias', 'bonus', 'alternus', 'annus', 'do', 'oportet'], ['Bubus', 'cibarium', 'annuus', 'in', 'iugum', 'singulus', 'lupinus', 'modius', 'centum', 'viginti', 'aut', 'glandis', 'modius', 'CCXL', 'faenum', 'pondo', 'DXX', 'ocini', 'faba', 'M.', 'XX', 'vicia', 'M.', 'praeterea', 'granatui', 'videto', 'satis', 'vicia', 'serus'], ['pabulum', 'cum', 'sero', 'mula', 'sationes', 'facio'], ['quis#2', 'sum', 'ager', 'bene', 'colo', '?'], ['aro'], ['quis#2', 'secundum', '?'], ['aro'], ['quis#2', 'tertius', '?'], ['stercoro'], ['qui', 'oletum', 'saepissime', 'et', 'alo', 'misceo', 'is', 'tenuis', 'radix', 'exaro'], ['si', 'male', 'aro', 'radix', 'sursum', 'abibunt', 'crassus', 'fio', 'et', 'in', 'radix', 'vis', 'olea', 'abibunt'], ['ager', 'frumentarius', 'cum', 'aro', 'bene', 'et', 'tempestivus', 'aro', 'sulcus', 'varius', 'ne#2', 'aro'], ['ceterus', 'cultura', 'sum', 'multus', 'sarire', 'et', 'diligenter', 'eximo', 'semen', 'et', 'per', 'tempus', 'radix', 'quam#4', 'plurimus', 'cum', 'terra', 'fero', 'ubi', 'radix', 'bene', 'operio', 'calcar', 'bene', 'ne#2', 'aqua', 'noceo'], ['Siquis', 'quaero', 'quod', 'tempus', 'olea', 'sero', 'siet', 'ager', 'siccus', 'per', 'sementim', 'ager', 'laetus', 'per', 'ver'], ['quot', 'iugum', 'boverum', 'mulus', 'asinus', 'habeo', 'totidem', 'plostra', 'sum', 'oportet'], ['Olea', 'ubi', 'maturus', 'sum', 'quam#4', 'primus', 'cogo', 'oportet', 'quam#4', 'parvus', 'in', 'terra', 'et', 'in', 'tabulatus', 'sum', 'oportet'], ['in', 'terra', 'et', 'in', 'tabulatus', 'putesco'], ['Leguli', 'volo#1', 'uti', 'olea', 'caducum', 'quam#4', 'plurimus', 'sum', 'quo', 'plus', 'lego#2', 'factor', 'ut', 'in', 'tabulatus', 'diu', 'sum', 'ut', 'fracida', 'sum', 'quo', 'facilis', 'efficio'], ['Nolito', 'credo', 'oleum', 'in', 'tabulatus', 'possum', 'cresco'], ['quam#4', 'cito', 'conficio', 'tam', 'multus', 'expedio', 'et', 'totidem', 'modius', 'colligo', 'et', 'plus', 'oleum', 'efficio', 'et', 'melius'], ['olea', 'quis#2', 'diu', 'sum', 'in', 'terra', 'aut', 'in', 'tabulatus', 'inde', 'oleum', 'parvus', 'fio', 'et', 'deterius'], ['oleum', 'si', 'possum', 'bis', 'in', 'dies', 'depleto'], ['nam', 'oleum', 'quam#4', 'diutissime', 'in', 'amurca', 'et', 'in', 'fracibus', 'sum', 'tam', 'taeter', 'sum'], ['oleum', 'viridis', 'sic', 'facio'], ['olea', 'quam#4', 'primus', 'ex', 'terra', 'tollito'], ['si', 'inquino', 'sum', 'lavito', 'ab', 'folium', 'et', 'stercus', 'purgo'], ['postridie', 'aut', 'post', 'dies', 'tertius', 'quam#4', 'lego#2', 'sum', 'facio'], ['olea', 'ubi', 'niger', 'sum', 'stringito'], ['quam#4', 'acerbus', 'olea', 'oleum', 'facies', 'tam', 'oleum', 'bonus', 'sum'], ['dominus', 'de', 'maturus', 'olea', 'oleum', 'fio', 'multus', 'expedio'], ['si', 'gelicidium', 'sum', 'cum', 'olea', 'cogo', 'triduum', 'atque', 'quatriduum', 'post', 'oleum', 'facio'], ['is', 'olea', 'si', 'volo', 'sale', 'spargito'], ['quam#4', 'calidus', 'torcularius', 'et', 'cella', 'habeo'], ['custos', 'et', 'capulatoris', 'officium'], ['servo', 'diligenter', 'cella', 'et', 'torcularius'], ['caveo', 'quam#4', 'parvus', 'in', 'torcularius', 'et', 'in', 'cella', 'introeatur'], ['quam#4', 'mundus', 'purissimeque', 'fio'], ['vasum', 'aheneo', 'neque', 'nucleus', 'ad', 'oleum', 'ne#2', 'utor'], ['nam', 'si', 'utor', 'oleum', 'male', 'sapio'], ['cortina', 'plumbea', 'in', 'lacus', 'ponito', 'quo', 'oleum', 'fluo'], ['ubi', 'factor', 'vectibus', 'premo', 'continuo', 'copulator', 'conca', 'oleum', 'quam#4', 'diligenter', 'possum', 'ne#2', 'cesso'], ['amurca', 'caveo', 'ne#2', 'tollo'], ['oleum', 'in', 'labrum#2', 'primus', 'indo', 'inde', 'in', 'alter', 'doleum', 'indo'], ['de', 'is', 'labrum', 'fraces', 'amurcamque', 'semper', 'subtrahito'], ['cum', 'oleum', 'tollo', 'de', 'cortina', 'amurca', 'deorito'], ['item', 'custos', 'officium'], ['qui', 'in', 'torcularius', 'sum', 'vasum', 'purus', 'habeo', 'curentque', 'uti', 'olea', 'bene', 'perficio', 'beneque', 'sicco'], ['lignum', 'in', 'torcularius', 'ne#2', 'caedo'], ['oleum', 'frequenter', 'capio'], ['factor', 'do', 'in', 'singulus', 'facio', 'oleum', 'sextarius', 'et', 'in', 'lucerna', 'quod', 'opus', 'siet'], ['Fraces', 'cottidie', 'reicio'], ['amurca', 'conmutet', 'usque', 'adeo#2', 'donec', 'in', 'lacus', 'quis#2', 'in', 'cella', 'sum', 'posterus', 'pervenio'], ['fiscina', 'spongia', 'effingo'], ['cottidie', 'oleum', 'locus', 'conmutet', 'donec', 'in', 'dolium', 'pervenio'], ['in', 'torcularius', 'et', 'in', 'cella', 'caveo', 'diligenter', 'nequid', 'oleum', 'subripiatur'], ['ubi', 'vindemia', 'et', 'oletas', 'facio', 'sum', 'prelum', 'extollito', 'funis', 'torculus', 'melipontos', 'subductarios', 'in', 'carnarium', 'aut', 'in', 'prelum', 'suspendito', 'orbis', 'fibula', 'vecto', 'scutula', 'fiscina', 'corbula', 'qualum', 'scala', 'patibulus', 'omnis', 'quis#2', 'usus', 'sum', 'in', 'suus', 'quidque', 'locus', 'reponito'], ['dolium', 'olearis', 'sic', 'inbuito'], ['amurca', 'inpleto', 'dies', 'VII', 'facio', 'ut', 'amurca', 'cottidie', 'suppleo'], ['postea', 'amurca', 'eximito', 'et', 'afarcito'], ['ubi', 'areo', 'cummim', 'pridie', 'in', 'aqua', 'infundito', 'is', 'postridie', 'diluito'], ['postea', 'dolium', 'calfacito', 'parvus', 'quam#4', 'si', 'pico', 'velum', 'tepeo', 'satis', 'sum', 'lenis', 'lignum', 'facio', 'calesco'], ['ubi', 'tempero', 'tepeo', 'tum', 'cummim', 'indo', 'postea', 'linito'], ['si', 'rectus', 'levo', 'in', 'dolium', 'quinquagenarius', 'cummim', 'P.', 'IIII', 'satis', 'sum'], ['Bubus', 'medicamentum'], ['si', 'morbus', 'metuo', 'sanus', 'do', 'salum', 'mica', 'tres', 'folium', 'laurea', 'Iius', 'porrus', 'fibra', 'Iius', 'ulpicum', 'spica', 'Iius', 'alius', 'spica', 'Iius', 'tus', 'granum', 'tres', 'herba', 'Sabina', 'planta', 'tres', 'ruta', 'folium', 'tres', 'vitis', 'albus', 'caules', 'Iius', 'fabulos', 'albus', 'Iius', 'carbones', 'vivus', 'Iius', 'vinum', 'S.', 'hic', 'omnis', 'sublimiter', 'lego#2', 'teri', 'darique', 'oportet'], ['Ieiunus', 'siet', 'quis#2', 'do'], ['per', 'triduum', 'de', 'is', 'potio', 'unus', 'quisque', 'bovi', 'do'], ['ita', 'dividito', 'cum', 'ter', 'unus', 'quisque', 'dedo', 'omnis', 'absumo', 'bosque', 'ipsus', 'et', 'quis#2', 'do', 'facio', 'ut', 'uterque', 'sublimiter', 'sto'], ['vasum', 'ligneus', 'do'], ['bos', 'si', 'aegroto', 'coepio', 'do', 'continuo', 'is', 'unus', 'ovum', 'gallinaceus', 'crudus', 'integer', 'facio', 'devoro'], ['postridie', 'caput', 'ulpicum', 'conterito', 'cum', 'hemina', 'vinum', 'facitoque', 'ebibo'], ['Sublimiter', 'tero', 'et', 'vasum', 'ligneus', 'do', 'bosque', 'ipsus', 'et', 'quis#2', 'do', 'sublimiter', 'sto'], ['Ieiunus', 'ieiuno', 'bovi', 'do'], ['bos', 'ne#2', 'pes', 'subtero', 'priusquam', 'in', 'via', 'quoquam', 'ago', 'picus', 'liquidum', 'cornu', 'inferus', 'unguito'], ['ubi', 'uva', 'varia', 'coepio', 'fio', 'bubus', 'medicamentum', 'do', 'quotannis', 'uti', 'valeo'], ['Pellem', 'anguinus', 'ubi', 'video', 'tollito', 'et', 'conditus', 'ne#2', 'quaero', 'cum', 'opus', 'siet'], ['is', 'pellem', 'et', 'far', 'et', 'salem', 'et', 'serpullum', 'hic', 'omnis', 'unus', 'conterito', 'cum', 'vinum', 'do', 'bubus', 'bibo', 'omnis'], ['per', 'aestas', 'bos', 'aqua', 'bonus', 'et', 'liquidus', 'bibo', 'semper', 'curo', 'ut', 'valeo', 'refero'], ['panis', 'depsticium', 'sic', 'facio'], ['manus', 'mortariumque', 'bene', 'lavo'], ['farina', 'in', 'mortarium', 'indo', 'aqua', 'paulatim', 'addo', 'subigitoque', 'pulchre'], ['ubi', 'bene', 'subigo', 'defingito', 'coquitoque', 'sub', 'testu'], ['libum', 'hic', 'modus', 'facio'], ['caseus', 'P.', 'II', 'bene', 'disterat', 'in', 'mortarium'], ['ubi', 'bene', 'distriverit', 'farina', 'siligineae', 'libra', 'aut', 'si', 'volo', 'tener', 'sum', 'selibra', 'similaginis', 'idem', 'indo', 'permiscetoque', 'cum', 'caseus', 'bene'], ['ovum', 'unus', 'addo', 'et', 'unus', 'permisceto', 'bene'], ['inde', 'panis', 'facio', 'folium', 'subditus', 'in', 'focus', 'caldum', 'sub', 'testu', 'coquito', 'leniter'], ['placenta', 'sic', 'facio'], ['farina', 'siligineae', 'L.', 'II', 'unde', 'solus', 'facio', 'in', 'tractum', 'farina', 'L.', 'IIII', 'et', 'alica', 'primus', 'L.', 'Alicam', 'in', 'aqua', 'infundito'], ['ubi', 'bene', 'mollis', 'sum', 'in', 'mortarium', 'purum', 'indo', 'siccatoque', 'bene'], ['deinde', 'manus', 'depsito'], ['ubi', 'bene', 'subigo', 'sum', 'farina', 'L.', 'IIII', 'paulatim', 'addo'], ['is', 'uterque', 'tracto', 'facio'], ['in', 'qualus', 'ubi', 'aresco', 'conponito'], ['ubi', 'areo', 'conponito', 'puriter'], ['cum', 'facies', 'singulus', 'tracto', 'ubi', 'depso', 'pannum', 'oleum', 'unctus', 'tangito', 'et', 'circumtergeto', 'ungitoque'], ['ubi', 'tracto', 'sum', 'focus', 'ubi', 'coquo', 'calfacito', 'bene', 'et', 'testum'], ['postea', 'farina', 'L.', 'II', 'conspargito', 'condepsitoque'], ['inde', 'facio', 'solus', 'tenuis'], ['caseus', 'ovillus', 'P', 'XIIII', 'ne#2', 'acidus', 'et', 'bene', 'recens', 'in', 'aqua', 'indo'], ['ibi', 'macero', 'aqua', 'ter', 'muto'], ['inde', 'eximito', 'siccatoque', 'bene', 'paulatim', 'manus', 'siccus', 'bene', 'in', 'mortarium', 'inponito'], ['ubi', 'omnis', 'caseus', 'bene', 'sicco', 'in', 'mortarium', 'purum', 'manus', 'condepsito', 'conminuitoque', 'quam#4', 'multus'], ['deinde', 'cribrum', 'farinarium', 'purum', 'sumito', 'caseumque', 'per', 'cribrum', 'facio', 'transeo', 'in', 'mortarium'], ['postea', 'indo', 'mella', 'bonus', 'P.', 'IIII', 'S.', 'is', 'unus', 'bene', 'conmisceto', 'cum', 'caseus'], ['postea', 'in', 'tabula', 'purus', 'quis#2', 'pateo', 'P.', 'eo', 'ibi', 'balteus', 'ponito', 'folium', 'laurea', 'ungo', 'supponito', 'placenta', 'fingito'], ['tracto', 'singulus', 'in', 'totus#2', 'solus', 'primus', 'ponito', 'deinde', 'de', 'mortarium', 'tracto', 'linito', 'tracto', 'addo', 'singillatim', 'item', 'linito', 'usque', 'adeo#2', 'donec', 'omnis', 'caseus', 'cum', 'mel', 'abusus', 'sum'], ['in', 'summus', 'tracto', 'singulus', 'indo', 'postea', 'solus', 'contrahito', 'ornatoque', 'focus', 'de', 've', 'primus', 'temperatoque', 'tunc', 'placenta', 'inponito', 'testo', 'caldum', 'operito', 'pruna', 'insuper', 'et', 'circum', 'operito'], ['Aperito', 'dum', 'inspicio', 'bis', 'aut', 'ter'], ['ubi', 'coquo', 'sum', 'eximito', 'et', 'mel', 'unguito'], ['hic', 'sum', 'placenta', 'semodialis'], ['spira', 'sic', 'facio'], ['quantus', 'volo', 'pro', 'ratio', 'ita', 'uti', 'placenta', 'fio', 'idem', 'omnis', 'facio', 'nisi', 'alius', 'modus', 'fingito'], ['in', 'solus', 'tracto', 'cum', 'mel', 'oblinito', 'bene'], ['inde', 'tamquam', 'restim', 'tracto', 'facio', 'ita', 'inponito', 'in', 'solus', 'simplex', 'conpleto', 'bene', 'ars'], ['ceterus', 'omnis', 'quasi', 'placenta', 'facio', 'facio', 'coquitoque'], ['Scriblitam', 'sic', 'facio'], ['in', 'balteum', 'tractum', 'caseus', 'ad', 'idem', 'modus', 'facio', 'uti', 'placenta', 'sine', 'mel'], ['globus', 'sic', 'facio'], ['caseus', 'cum', 'alica', 'ad', 'idem', 'modus', 'misceto'], ['inde', 'quantus', 'volo', 'facio', 'facio'], ['in', 'ahenum', 'caldus', 'unguen', 'indo'], ['singulus', 'aut', 'bini', 'coquito', 'versatoque', 'crebro', 'duo', 'rudis', 'coquo', 'eximito', 'is', 'mel', 'unguito', 'papaver', 'infriato', 'ita', 'ponito'], ['Encytum', 'ad', 'idem', 'modus', 'facio', 'uti', 'globus', 'nisi', 'calix', 'pertundo', 'cavum', 'habeo'], ['ita', 'in', 'unguen', 'caldus', 'fundito'], ['honestum', 'quasi', 'spira', 'facio', 'is', 'duo', 'rudis', 'vorsato', 'praestatoque'], ['item', 'unguito', 'coloratoque', 'caldus', 'ne#2', 'nimium'], ['is', 'cum', 'mel', 'aut', 'cum', 'mulsum', 'adponito'], ['Erneum', 'sic', 'facio', 'tamquam', 'placenta'], ['idem', 'omnis', 'indo', 'quis#2', 'in', 'placenta'], ['is', 'permisceto', 'in', 'alveus', 'is', 'indo', 'in', 'irneam', 'fictilis', 'is', 'demittito', 'in', 'aula', 'aheneam', 'aqua', 'calida', 'plenus'], ['ita', 'coquito', 'ad', 'ignis'], ['ubi', 'coquo', 'sum', 'irneam', 'confringito', 'ita', 'ponito'], ['Spaeritam', 'sic', 'facio', 'ita', 'uti', 'spira', 'nisi', 'sic', 'fingito'], ['de', 'tractum', 'caseus', 'mel', 'spaeras', 'pugnus', 'alto', 'facio'], ['is', 'in', 'solus', 'conponito', 'densus', 'idem', 'modus', 'conponito', 'atque', 'spira', 'item', 'coquito'], ['votum', 'pro', 'bubus', 'uti', 'valeo', 'sic', 'facio'], ['Martius', 'Silvanus', 'in', 'silva', 'interdius', 'in', 'capitum', 'singulus', 'bos', 'votum', 'facio'], ['far', 'L.', 'Iius', 'et', 'lardi', 'P.', 'IIII', 'S', 'et', 'pulpa', 'P.', 'IIII', 'S', 'viso', 'S.', 'Iius', 'is', 'in', 'unus', 'vas', 'liceto', 'coicio', 'et', 'vinum', 'item', 'in', 'unus', 'vas', 'liceto', 'coicio'], ['is', 'res', 'divinus', 'vel', 'servus', 'vel', 'liber#4', 'liceo', 'facio'], ['ubi', 'res', 'divinus', 'facio', 'sum', 'statim', 'ibidem', 'consumito'], ['mulier', 'ad', 'is', 'res', 'divinus', 'ne#2', 'as', 'neve', 'video', 'quo', 'modus', 'fio'], ['hic', 'votum', 'in', 'annus', 'singulus', 'si', 'volo', 'liceo', 'voveo'], ['Savillum', 'hic', 'modus', 'facio'], ['farina', 'selibra', 'caseus', 'P.', 'II', 'S', 'unus', 'conmisceto', 'quasi', 'libum', 'mella', 'P.', 'et', 'ovum', 'unus'], ['catinus', 'fictilis', 'oleum', 'unguito'], ['ubi', 'omnis', 'bene', 'conmiscueris', 'in', 'catinus', 'indo', 'catinus', 'testo', 'operito'], ['Videto', 'ut', 'bene', 'percoquo', 'medius', 'ubi', 'alo', 'sum'], ['ubi', 'coquo', 'sum', 'catinus', 'eximito', 'papaver', 'infriato', 'sub', 'testum', 'subde', 'paulisper', 'postea', 'eximito'], ['ita', 'pono', 'cum', 'catillus', 'et', 'lingulus'], ['pulto', 'Punicus', 'sic', 'coquito'], ['libra', 'alica', 'in', 'aqua', 'indo', 'facio', 'uti', 'bene', 'madeo'], ['is', 'infundito', 'in', 'alveus', 'purum', 'is', 'caseus', 'recens', 'P.', 'Iius', 'mella', 'P.', 'S', 'ovum', 'unus', 'omnis', 'unus', 'permisceto', 'bene'], ['ita', 'insipito', 'in', 'aula', 'novus'], ['Graneam', 'triticeus', 'sic', 'facio'], ['selibra', 'triticum', 'purum', 'in', 'mortarium', 'purum', 'indo', 'lavo', 'bene', 'corticemque', 'detero', 'bene', 'eluatque', 'bene'], ['postea', 'in', 'aula', 'indo', 'et', 'aqua', 'purus', 'cocatque'], ['ubi', 'coquo', 'sum', 'lac', 'addo', 'paulatim', 'usque', 'adeo#2', 'donec', 'cremo', 'crassus', 'sum', 'facio'], ['Amulum', 'sic', 'facio'], ['Siliginem', 'purgo', 'bene', 'postea', 'in', 'alvus', 'indo', 'is', 'addo', 'aqua', 'bis', 'in', 'dies'], ['dies', 'decimus', 'aqua', 'exsicco', 'exurgeto', 'bene', 'in', 'alveus', 'purum', 'misceto', 'bene', 'facio', 'tamquam', 'faex', 'fio'], ['is', 'in', 'linteum', 'novus', 'indo', 'exprimito', 'cremorem', 'in', 'patina', 'novus', 'aut', 'in', 'mortarium'], ['is', 'omnis', 'ita', 'facio', 'et', 'refrico', 'denuo'], ['is', 'patina', 'in', 'sol', 'ponito', 'aresco'], ['ubi', 'areo', 'in', 'aula', 'novus', 'indo', 'inde', 'facio', 'cum', 'lac', 'coquo'], ['Salem', 'candidus', 'sic', 'facio'], ['amphora', 'defringo', 'collum', 'purus', 'inpleto', 'aqua', 'purus', 'in', 'sol', 'ponito'], ['ibi', 'fiscella', 'cum', 'sale', 'populor', 'suspendito', 'et', 'quasso', 'suppletoque', 'identidem'], ['is', 'aliquotiens', 'in', 'dies', 'cottidie', 'facio', 'usque', 'adeo#2', 'donec', 'sal', 'desiverit', 'tabesco', 'biduum'], ['is', 'signum', 'sum', 'menam', 'aridus', 'vel', 'ovum', 'demittito', 'si', 'nato', 'is', 'muries', 'sum', 'vel', 'caro', 'vel', 'caseus', 'vel', 'salsamentum', 'quo', 'condo'], ['is', 'muria', 'in', 'labella', 'vel', 'in', 'patina', 'in', 'sol', 'ponito'], ['usque', 'adeo#2', 'in', 'sol', 'habeo', 'donec', 'concreverit'], ['inde', 'flos', 'salum', 'fio'], ['ubi', 'nubilabitur', 'et', 'noctu', 'sub', 'tectum', 'ponito', 'cottidie', 'cum', 'sol', 'sum', 'in', 'sol', 'ponito'], ['Gallina', 'et', 'anser', 'sic', 'farcito'], ['Gallina', 'tener', 'quis#2', 'primus', 'pario', 'concludo'], ['Polline', 'vel', 'farina', 'hordeacia', 'conspargo', 'turunda', 'facio', 'is', 'in', 'aqua', 'intingat', 'in', 'os#2', 'indo', 'paulatim', 'cottidie', 'addo', 'ex', 'gula', 'considero', 'quod', 'satis', 'sum'], ['bis', 'in', 'dies', 'farcio', 'et', 'meridies', 'bibo', 'do', 'ne#2', 'plus', 'aqua', 'sino', 'siet', 'hora', 'unus'], ['idem', 'modus', 'anser', 'alo', 'nisi', 'prius', 'do', 'bibo', 'et', 'bis', 'in', 'dies', 'bis', 'esca'], ['palumbus', 'recens', 'sic', 'farcito'], ['ubi', 'prensus', 'sum', 'is', 'faba', 'cocta', 'torreo', 'primus', 'do', 'ex', 'os#1', 'in', 'is', 'os#2', 'inflo', 'item', 'aqua'], ['hic', 'dies', 'VII', 'facio'], ['postea', 'faba', 'frendo', 'purus', 'et', 'far', 'purum', 'facio', 'et', 'faba', 'tertius', 'pars', 'ut', 'infervesco', 'tum', 'far', 'insipiat', 'puriter', 'facio', 'et', 'coquito', 'bene'], ['is', 'ubi', 'excludo', 'depsito', 'bene', 'oleum', 'manus', 'unguito', 'primus', 'pusillum', 'postea', 'magis', 'depso', 'oleum', 'tangito', 'depsitoque', 'dum', 'possum', 'facio', 'turunda'], ['ex', 'aqua', 'do', 'esca', 'tempero'], ['area', 'sic', 'facio'], ['locus', 'ubi', 'facies', 'confodito'], ['postea', 'amurca', 'conspargito', 'bene', 'sinitoque', 'conbibo'], ['postea', 'conminuito', 'glebas', 'bene'], ['deinde', 'coaequato', 'et', 'paviculis', 'Verato'], ['postea', 'denuo', 'amurca', 'conspargito', 'sinitoque', 'aresco'], ['si', 'ita', 'facio', 'neque', 'formica', 'noceo', 'neque', 'herba', 'nasco'], ['frumentum', 'ne#2', 'noceo', 'curculio', 'neu', 'mus', 'tango'], ['lutum', 'de', 'amurca', 'facio', 'palear', 'paul(l)um', 'addo', 'sinito', 'macerescant', 'bene', 'et', 'subigito', 'bene', 'is', 'granarium', 'totus#2', 'oblinito', 'crassus', 'lutum'], ['postea', 'conspargito', 'amurca', 'omnis', 'quod', 'lutaveris'], ['ubi', 'aruerit', 'is', 'frumentum', 'refrigero', 'conditus', 'curculio', 'non', 'noceo'], ['olea', 'si', 'fructus', 'non', 'fero', 'ablaqueato'], ['postea', 'stramentum', 'circumponito'], ['postea', 'amurca', 'cum', 'aqua', 'conmisceto', 'aequus', 'pars'], ['deinde', 'ad', 'olea', 'circumfundito'], ['ad', 'arbor', 'magnus', 'urna', 'conmixti', 'sat', 'sum', 'ad', 'parvus', 'arbor', 'pro', 'ratio', 'indo'], ['et', 'idem', 'hic', 'si', 'facies', 'ad', 'arbor', 'feraces', 'eae', 'quoque', 'bonus', 'fio'], ['ad', 'is', 'stramentum', 'ne#2', 'addo'], ['ficus', 'uti', 'grossus', 'teneo', 'facio', 'omnis', 'quo', 'modus', 'olea', 'et', 'hic', 'amplus', 'cum', 'ver', 'adpeto', 'terra', 'adaggerato', 'bene'], ['si', 'ita', 'facio', 'et', 'grossus', 'non', 'cado', 'et', 'ficus', 'scabrae', 'non', 'fio', 'et', 'multus', 'ferax', 'sum'], ['Convolvolus', 'in', 'vinia', 'ne#2', 'siet'], ['amurca', 'conditus', 'purus', 'bene', 'facio', 'in', 'vas', 'aheneum', 'indo', 'congius', 'Postea', 'ignis', 'lenis', 'coquito', 'rudicula', 'agito', 'crebro', 'usque', 'adeo#2', 'dum', 'fio', 'tam', 'crassus', 'quam#4', 'mel'], ['postea', 'sumito', 'bitumen', 'tertiarium', 'et', 'sulfur', 'quartarius'], ['Conterito', 'in', 'mortarium', 'seorsum', 'uterque'], ['postea', 'infriato', 'quam#4', 'minuo', 'in', 'amurca', 'calidus', 'et', 'simul', 'rudicula', 'misceto', 'et', 'denuo', 'coquito', 'sub', 'dio', 'caelum'], ['nam', 'si', 'in', 'tectum', 'coquo', 'cum', 'bitumen', 'et', 'sulpur', 'addo', 'sum', 'excandescet'], ['ubi', 'sum', 'tam', 'crassus', 'quam#4', 'viscum', 'sinito', 'frigescat'], ['hic', 'vito', 'circum', 'caput', 'et', 'sub', 'bracchium', 'unguito', 'convolvus', 'non', 'nascor'], ['ovis', 'ne#2', 'scabrae', 'fio'], ['amurca', 'conditus', 'purus', 'bene', 'facio', 'aqua', 'in', 'qui', 'lupinus', 'deferverit', 'et', 'faecem', 'de', 'vinum', 'bonus', 'inter', 'se', 'omnis', 'conmisceto', 'pariter'], ['postea', 'cum', 'detonderis', 'unguito', 'totus#2', 'sinito', 'biduum', 'aut', 'triduum', 'consudent'], ['deinde', 'lavito', 'in', 'mare', 'si', 'aqua', 'marinus', 'non', 'habeo', 'facio', 'aqua', 'salio', 'is', 'lavito'], ['si', 'hic', 'sic', 'facio', 'neque', 'scabrae', 'fio', 'et', 'lana', 'plus', 'et', 'bonus', 'habeo', 'et', 'ricinus', 'non', 'sum', 'molestus'], ['idem', 'in', 'omnis', 'quadripedes', 'utito', 'si', 'scabrae', 'sum'], ['amurca', 'decocta', 'axem', 'unguito', 'et', 'lorum', 'et', 'calceamentum', 'et', 'corium', 'omnis', 'bonus', 'facies'], ['vestimentum', 'ne#2', 'tiniae', 'tango'], ['amurca', 'decoquito', 'ad', 'dimidium', 'is', 'unguito', 'fundus', 'arca', 'et', 'extrinsecus', 'et', 'pes', 'et', 'angulus'], ['ubi', 'is', 'adaruerit', 'vestimentum', 'conditus'], ['si', 'ita', 'facio', 'tiniae', 'non', 'noceo'], ['et', 'item', 'ligneus', 'supellectilem', 'omnis', 'si', 'unguis', 'non', 'putesco', 'et', 'cum', 'is', 'terseris', 'splendidus', 'fio'], ['item', 'ahenea', 'omnis', 'unguito', 'sed', 'prius', 'extergeto', 'bene'], ['postea', 'cum', 'ungo', 'cum', 'uti', 'volo', 'extergeto'], ['splendidus', 'sum', 'et', 'aerugo', 'non', 'sum', 'molestus'], ['ficus', 'aridus', 'si', 'volo', 'uti', 'integrae', 'sum', 'in', 'vas', 'fictilis', 'conditus'], ['is', 'amurca', 'decocta', 'unguito'], ['oleum', 'si', 'in', 'metreta', 'novus', 'indo', 'sum', 'amurca', 'ita', 'uti', 'sum', 'crudus', 'prius', 'conluito', 'agitatoque', 'diu', 'ut', 'bene', 'conbibo'], ['is', 'si', 'facio', 'metreta', 'oleum', 'non', 'bibo', 'et', 'oleum', 'melius', 'facio', 'et', 'ipse', 'metreta', 'firmus', 'sum'], ['virga', 'murteas', 'si', 'volo', 'cum', 'baca', 'servo', 'et', 'item', 'alius', 'genus', 'quod', 'volo#1', 'et', 'si', 'ramus', 'ficulneos', 'volo', 'cum', 'folium', 'inter', 'se', 'alligo', 'fasciculus', 'facio', 'is', 'in', 'amurca', 'demittito', 'supra', 'sto', 'amurca', 'facio'], ['sed', 'is', 'quis#2', 'demitto', 'sum', 'sumito', 'paulum', 'acerbus'], ['vas', 'quo', 'condo', 'oblinito', 'planus'], ['si', 'bos', 'aut', 'alius', 'quamvis', 'quadrupedem', 'serpens', 'mordeo', 'melanthium', 'acetabulum', 'quod', 'medicus', 'voco', 'zmurnaeum', 'conterito', 'in', 'vinum', 'vetus', 'hemina', 'is', 'per', 'no', 'indo', 'et', 'ad', 'ipse', 'morsum', 'stercus', 'suillus', 'apponito'], ['et', 'idem', 'hic', 'si', 'usus', 'evenio', 'homo', 'facio'], ['bos', 'uti', 'valeo', 'et', 'curo', 'bene', 'sum', 'et', 'quis#2', 'fastidio', 'cibus', 'uti', 'magis', 'cupidus', 'adpeto', 'pabulum', 'quod', 'do', 'amurca', 'spargito', 'primus', 'pabulum', 'dum', 'consuesco', 'postea', 'magis', 'et', 'do', 'rarenter', 'bibo', 'conmixtam', 'cum', 'aqua', 'aequabiliter'], ['quartus', 'quintus', 'quoque', 'dies', 'hic', 'sic', 'facies'], ['ita', 'bos', 'et', 'corpus', 'curo', 'sum', 'et', 'morbus', 'absum'], ['vinum', 'familia', 'per', 'hiems', 'quis#2', 'utor'], ['mustum', 'Q.', 'X', 'in', 'dolium', 'indo', 'aceti', 'acer#2', 'Q.', 'II', 'idem', 'infundito', 'sapa', 'Q.', 'II', 'aqua', 'dulcis', 'Q.', 'L.', 'hic', 'rudis', 'misceto', 'ter', 'in', 'dies', 'dies', 'quinque', 'continuus'], ['is', 'addo', 'aqua', 'marinus', 'vetus', 'sextarius', 'LXIIII', 'et', 'operculum', 'in', 'dolium', 'inponito', 'et', 'oblinito', 'post', 'dies', 'hic', 'vinum', 'duro', 'tu', 'usque', 'ad', 'solstitium'], ['siquid', 'superfuerit', 'post', 'solstitium', 'acetum', 'acer', 'et', 'pulcher', 'sum'], ['qui', 'ager', 'longus', 'ab', 'mare', 'adsum', 'ibi', 'vinum', 'Graecus', 'sic', 'facio'], ['mustum', 'Q.', 'XX', 'in', 'aheneum', 'aut', 'plumbeum', 'infundito', 'ignis', 'subditus'], ['ubi', 'bullabit', 'vinum', 'ignis', 'subducito'], ['ubi', 'is', 'vinum', 'refrixerit', 'in', 'dolium', 'quadragenarius', 'infundito'], ['seorsum', 'vas', 'aqua', 'dulcis', 'Q.', 'eo', 'infundito', 'salum', 'mille', 'eo', 'sinito', 'muria', 'fio'], ['ubi', 'muria', 'facio', 'sum', 'idem', 'in', 'dolium', 'infundito'], ['schoenus', 'et', 'calamus', 'in', 'pila', 'contundito', 'quod', 'satis', 'siet', 'sextarius', 'unus', 'idem', 'in', 'dolium', 'infundito', 'ut', 'odoro', 'siet'], ['post', 'dies', 'XXX', 'dolium', 'oblinito'], ['ad', 'ver', 'diffundito', 'in', 'amphora'], ['biennium', 'in', 'sol', 'sinito', 'pono', 'sum'], ['deinde', 'in', 'tego', 'confertus'], ['hic', 'vinum', 'deterius', 'non', 'sum', 'quam#4', 'Coum'], ['aqua', 'marinus', 'concinnatio'], ['aqua', 'marinus', 'Q.', 'eo', 'ex', 'altus', 'sumito', 'quo', 'aqua', 'dulcis', 'non', 'accedo'], ['Sesquilibram', 'salum', 'frigito', 'idem', 'indo', 'et', 'rudis', 'misceto', 'usque', 'adeo#2', 'donec', 'ovum', 'gallinaceus', 'coquo', 'nato', 'desinito', 'misceo'], ['idem', 'vinum', 'vetus', 'vel', 'Aminnii', 'vel', 'miscellus', 'albus', 'congius', 'II', 'infundito', 'misceto', 'probus'], ['postea', 'vas', 'pico', 'confundito', 'et', 'oblinito'], ['siquid', 'plus', 'volo', 'aqua', 'marinus', 'concinno', 'pro', 'portio', 'is', 'omnis', 'facio'], ['quis', 'labrum', 'dolium', 'circumlinas', 'ut', 'bene', 'odoratus', 'sum', 'et', 'nequid', 'vitium', 'in', 'vinum', 'accedo'], ['sapa', 'congius', 'VI', 'quam#4', 'bonus', 'infundito', 'in', 'aheneum', 'aut', 'in', 'plumbeum', 'et', 'iris', 'aridus', 'contundo', 'hemina', 'et', 'serta', 'Campanicus', 'P.', 'V', 'bene', 'odoratus', 'unus', 'cum', 'eo', 'contundo', 'quam#4', 'minuo', 'per', 'cribrum', 'cerno', 'et', 'unus', 'cum', 'sapa', 'coquo', 'sarmentum', 'et', 'levis', 'flamma'], ['Commoveto', 'videto', 'ne#2', 'aduro'], ['usque', 'coquito', 'dum', 'dimidium', 'excoquo'], ['ubi', 'refrixerit', 'confundito', 'in', 'vas', 'pico', 'bene', 'odoro', 'et', 'oblinito', 'et', 'utito', 'in', 'labrum', 'dolium'], ['vinum', 'si', 'volo', 'experior', 'duro', 'sum', 'necne', 'polenta', 'grandis', 'dimidium', 'acetabulum', 'in', 'caliculum', 'novus', 'indo', 'et', 'vinum', 'sextarius', 'de', 'is', 'vinum', 'quod', 'volo', 'experior', 'idem', 'infundito', 'et', 'inponito', 'in', 'carbones', 'facio', 'bis', 'aut', 'ter', 'inferveo'], ['tum', 'is', 'percolo', 'polenta', 'abicito'], ['vinum', 'ponito', 'sub', 'dio'], ['postridie', 'mane', 'gusto'], ['si', 'is', 'sapio', 'quod', 'in', 'dolium', 'sum', 'scio', 'duro', 'si', 'subacidum', 'sum', 'non', 'duro'], ['vinum', 'asper', 'quod', 'sum', 'lenis', 'et', 'suavis', 'si', 'volo', 'facio', 'sic', 'facio'], ['de', 'ervum', 'farina', 'facio', 'libra', 'IIII', 'et', 'vinum', 'cyathus', 'IIII', 'conspargito', 'sapa'], ['postea', 'facio', 'laterculus'], ['Sinito', 'conbibo', 'nox', 'et', 'dies'], ['postea', 'conmisceto', 'cum', 'is', 'vinum', 'in', 'dolium', 'et', 'oblinito', 'post', 'dies', 'LX'], ['is', 'vinum', 'sum', 'lenis', 'et', 'suavis', 'et', 'bonus', 'color', 'et', 'bene', 'odoro'], ['odor', 'deterior', 'demo', 'vinum'], ['Testa', 'de', 'tegula', 'crassus', 'purus', 'calfacito', 'in', 'ignis', 'bene'], ['ubi', 'caleo', 'is', 'pico', 'resticula', 'alligo', 'testa', 'demittito', 'in', 'dolium', 'inferus', 'leniter', 'sinito', 'biduum', 'obliviscor', 'dolium'], ['si', 'demptus', 'sum', 'odor', 'deterior', 'is', 'optime', 'si', 'non', 'saepis', 'facio', 'usque', 'dum', 'odor', 'malus#3', 'demo'], ['si', 'volo', 'scio', 'in', 'vinum', 'aqua', 'addo', 'sum', 'necne', 'vasculum', 'facio', 'de', 'materia', 'hederacia'], ['vinum', 'is', 'quod', 'puto', 'aqua', 'habeo', 'is', 'demittito'], ['si', 'habeo', 'aqua', 'vinum', 'effluo', 'aqua', 'maneo'], ['nam', 'non', 'contineo', 'vinum', 'vas', 'hederaceus'], ['vinum', 'Coum', 'si', 'volo', 'facio', 'aqua', 'ex', 'altus', 'marinus', 'sumito', 'mare', 'tranquillum', 'cum', 'ventus', 'non', 'sum', 'dies', 'LXX', 'ante', 'vindemia', 'quo', 'aqua', 'dulcis', 'non', 'pervenio'], ['ubi', 'haurio', 'de', 'mare', 'in', 'dolium', 'infundito', 'nolito', 'inpleo', 'quadrantalibus', 'quinque', 'parvus', 'sum', 'quam#4', 'plenus'], ['operculum', 'inponito', 'relinquito', 'qui', 'interspiret'], ['ubi', 'dies', 'XXX', 'praetereo', 'transfundito', 'in', 'alter', 'dolium', 'puriter', 'et', 'leniter', 'relinquito', 'in', 'imus', 'quod', 'desiderit'], ['post', 'dies', 'XX', 'in', 'alter', 'dolium', 'item', 'transfundito', 'ita', 'relinquito', 'usque', 'ad', 'vindemia'], ['unde', 'vinum', 'Coum', 'facio', 'volo', 'uva', 'relinquito', 'in', 'vinea', 'sinito', 'bene', 'coquo', 'et', 'ubi', 'pluerit', 'et', 'sicco', 'tum', 'deligito', 'et', 'ponito', 'in', 'sol', 'biduum', 'aut', 'triduum', 'sub', 'dio', 'si', 'pluvia', 'non', 'sum'], ['si', 'pluvius', 'sum', 'in', 'tectum', 'cratis', 'conponito', 'et', 'siqua', 'acinum', 'corrumpo', 'sum', 'depurgato'], ['tum', 'sumito', 'aqua', 'marinus', 'Q.', 'S.', 'S.', 'ex', 'in', 'dolium', 'quinquagenarius', 'infundito', 'aqua', 'marinus', 'Q.', 'tum', 'acinum', 'de', 'uva', 'miscellus', 'decarpito', 'de', 'scopione', 'in', 'idem', 'dolium', 'usque', 'dum', 'inpleo'], ['manus', 'conprimito', 'acinum', 'ut', 'conbibo', 'aqua', 'marinus'], ['ubi', 'inpleo', 'dolium', 'operculum', 'operito', 'relinquito', 'qui', 'interspiret'], ['ubi', 'triduum', 'praetereo', 'eximito', 'de', 'dolium', 'et', 'calco', 'in', 'torcularius', 'et', 'is', 'vinum', 'conditus', 'in', 'dolium', 'lavo', 'et', 'purus', 'et', 'siccus'], ['ut', 'odoro', 'bene', 'sum', 'sic', 'facio'], ['Sumito', 'testa', 'pico', 'is', 'pruna', 'lenis', 'indo', 'suffio', 'serta', 'et', 'schoenus', 'et', 'palma', 'quam#4', 'habeo', 'unguentarium', 'ponito', 'in', 'dolium', 'et', 'operito', 'ne#2', 'odor', 'exeo', 'antequam', 'vinum', 'indo'], ['hic', 'facio', 'pridie', 'quam#4', 'vinum', 'infundo', 'volo'], ['de', 'lacus', 'quam#4', 'primus', 'vinum', 'in', 'dolium', 'indo', 'sinito', 'dies', 'XV', 'operio', 'antequam', 'oblinas', 'relinquito', 'qui', 'interspiret', 'postea', 'oblinito'], ['post', 'dies', 'XL', 'diffundito', 'in', 'amphora', 'et', 'addo', 'in', 'singulus', 'amphora', 'sapa', 'sextarius', 'unus'], ['amphora', 'nolito', 'inpleo', 'nimium', 'ansa', 'infimarum', 'finis', 'et', 'amphora', 'in', 'sol', 'ponito', 'ubi', 'herba', 'non', 'siet', 'et', 'amphora', 'operito', 'ne#2', 'aqua', 'accedo', 'et', 'ne#2', 'plus', 'quadriennium', 'in', 'sol', 'sino'], ['post', 'quadriennium', 'in', 'cuneus', 'conponito', 'et', 'instipato'], ['vinum', 'si', 'volo', 'concinno', 'ut', 'alvus', 'bonus', 'facio', 'secundum', 'vindemia', 'ubi', 'vito', 'ablaqueantur', 'quantum', 'puto', 'is', 'reus', 'satis', 'sum', 'vinum', 'tot', 'vito', 'ablaqueato', 'et', 'signo'], ['is', 'radix', 'circumsecato', 'et', 'purgo'], ['veratrum', 'ater', 'radix', 'contundito', 'in', 'pila', 'is', 'radix', 'do', 'circum', 'vito', 'et', 'stercus', 'vetus', 'et', 'cinis', 'vetus', 'et', 'duo', 'pars', 'terra', 'circumdo', 'radix', 'vitis'], ['terra', 'insuper', 'inicito'], ['hic', 'vinum', 'seorsum', 'lego#2'], ['si', 'volo', 'servo', 'in', 'vetustas', 'ad', 'alvus', 'moveo', 'servo', 'ne#2', 'conmisceas', 'cum', 'etero', 'vinum'], ['de', 'is', 'vinum', 'cyathus', 'sumito', 'et', 'misceto', 'aqua', 'et', 'bibo', 'ante', 'cena'], ['sine', 'periculum', 'alvus', 'moveo'], ['in', 'vinum', 'mustum', 'veratrum', 'ater', 'manipulus', 'coicito', 'in', 'amphora'], ['ubi', 'satis', 'efferverit', 'de', 'vinum', 'manipulus', 'eicito'], ['is', 'vinum', 'servo', 'ad', 'alvus', 'moveo'], ['vinum', 'ad', 'alvus', 'moveo', 'concinno'], ['vito', 'cum', 'ablaqueabuntur', 'signo', 'rubrica', 'ne#2', 'admisceo', 'cum', 'ceterum', 'vinum'], ['Tris', 'fasciculus', 'veratrum', 'ater', 'circumponito', 'circum', 'radix', 'et', 'terra', 'insuper', 'inicito'], ['per', 'vindemia', 'de', 'is', 'vitis', 'quod', 'deligo', 'seorsum', 'servo', 'cyathus', 'in', 'ceterus', 'potio', 'indo'], ['alvus', 'moveo', 'et', 'postridie', 'pepurgabit', 'sine', 'periculum'], ['Lentim', 'quo', 'modus', 'servo', 'oportet'], ['laserpicium', 'acetum', 'diluito', 'permisceto', 'lentim', 'acetum', 'laserpiciato', 'et', 'ponito', 'in', 'sol'], ['postea', 'lentim', 'oleum', 'perfrico', 'sinito', 'aresco'], ['ita', 'integer', 'servo', 'rectus'], ['olea', 'albus', 'quo', 'modus', 'condio'], ['antequam', 'nigrae', 'fio', 'contundo', 'et', 'in', 'aqua', 'deicio'], ['crebro', 'aqua', 'muto'], ['deinde', 'ubi', 'satis', 'macero', 'sum', 'exprimo', 'et', 'in', 'acetum', 'coiciat', 'et', 'oleum', 'addo', 'salum', 'selibra', 'in', 'modius', 'olea'], ['Feniculum', 'et', 'lentiscum', 'seorsum', 'condo', 'in', 'acetum'], ['si', 'unus', 'admisceo', 'volo', 'cito', 'utito'], ['in', 'orculam', 'calco'], ['manus', 'siccus', 'cum', 'uti', 'volo', 'sumito'], ['olea', 'alba', 'quam#4', 'secundum', 'vindemia', 'uti', 'volo', 'sic', 'conditus'], ['mustum', 'tantumdem', 'addo', 'quantum', 'aceti'], ['ceterus', 'item', 'conditus', 'ita', 'uti', 'supra', 'scribo', 'sum'], ['Epityrum', 'albus', 'niger', 'variumque', 'sic', 'facio'], ['ex', 'olea', 'albus', 'niger', 'variisque', 'nucleus', 'eicito'], ['sic', 'conditus'], ['Concidito', 'ipse', 'addo', 'oleum', 'acetum', 'coriandrum', 'cuminum', 'feniculum', 'ruta', 'menta'], ['in', 'orcuam', 'conditus', 'oleum', 'supra', 'siet'], ['ita', 'utito'], ['mustum', 'si', 'volo', 'totus#2', 'annus', 'habeo', 'in', 'amphora', 'mustum', 'indo', 'et', 'corticem', 'oppicato', 'demittito', 'in', 'piscina'], ['post', 'dies', 'XXX', 'eximito'], ['totus#2', 'annus', 'mustum', 'sum'], ['Mustaceos', 'sic', 'facio'], ['farina', 'siligneae', 'modius', 'unus', 'mustum', 'conspargito'], ['Anesum', 'cuminum', 'adipis', 'P.', 'II', 'caseus', 'libra', 'et', 'de', 'virga', 'lauri', 'deradito', 'idem', 'addo', 'et', 'ubi', 'definxeris', 'lauri', 'folium', 'subtus', 'addo', 'cum', 'coquo'], ['vinum', 'concinno', 'si', 'lotium', 'difficilis', 'transeo'], ['Capreidam', 'vel', 'iunipirum', 'contundito', 'in', 'pila', 'libra', 'indo', 'in', 'duo', 'congius', 'vinum', 'vetus', 'in', 'vase', 'aheneo', 'vel', 'in', 'plumbeum', 'defervefacito'], ['ubi', 'refrixerit', 'in', 'lagonam', 'indo'], ['is', 'mane', 'ieiunus', 'sumito', 'cyathus', 'prosum'], ['vinum', 'ad', 'isciacos', 'sic', 'facio'], ['de', 'iunipiro', 'materiem', 'semipedem', 'crassus', 'concidito', 'minutim'], ['is', 'infervefacito', 'cum', 'congius', 'vinum', 'vetus'], ['ubi', 'refrixerit', 'in', 'lagonam', 'confundito', 'et', 'postea', 'is', 'utito', 'cyathus', 'mane', 'ieiunus', 'prosum'], ['canis', 'interdiu', 'claudo', 'sum', 'oportet', 'ut', 'noctu', 'acer', 'et', 'vigilans', 'sum'], ['vinum', 'murteum', 'sic', 'facio'], ['Murtam', 'niger', 'arfacito', 'in', 'umbra'], ['ubi', 'iam', 'patior', 'sum', 'servo', 'ad', 'vindemia', 'in', 'urna', 'mustum', 'contundito', 'murtae', 'semodium', 'is', 'oblinito'], ['is', 'sum', 'ad', 'alvus', 'crudus', 'et', 'ad', 'latus', 'dolor', 'et', 'ad', 'coeliacus'], ['ad', 'tormina', 'et', 'si', 'alvus', 'non', 'consisto', 'et', 'si', 'taenia', 'et', 'lumbricus', 'molestus', 'sum'], ['xxx', 'malus', 'Punicus', 'acerbum', 'sumito', 'contundito', 'indo', 'in', 'urceus', 'et', 'vinum', 'nigrum', 'austerus', 'congius', 'Vas', 'oblinito'], ['post', 'dies', 'XXX', 'aperito', 'et', 'utito', 'ieiunus', 'hemina', 'bibo'], ['ad', 'dyspepsiam', 'et', 'stranguria', 'mederi'], ['malus#3', 'Punicus', 'ubi', 'floreo', 'conligito', 'tris', 'mina', 'in', 'amphora', 'infundito', 'vinum', 'Q.', 'eo', 'vetus', 'addo', 'et', 'feniculi', 'radix', 'purus', 'contundo', 'mina'], ['Oblinito', 'amphora', 'et', 'post', 'dies', 'XXX', 'aperito', 'et', 'utito'], ['ubi', 'volo', 'cibus', 'concoquo', 'et', 'lotium', 'facio', 'hinc', 'bibo', 'quantum', 'volo', 'sine', 'periculum'], ['idem', 'vinum', 'taenia', 'perpurgat', 'et', 'lumbricus', 'si', 'sic', 'concinno'], ['inceno', 'iubeto', 'sum'], ['postridie', 'tus', 'drachmam', 'unus', 'conterito', 'et', 'mel', 'coquo', 'drachmam', 'unus', 'et', 'vinum', 'sextarius', 'origaniti'], ['do', 'ieiuno', 'et', 'puer', 'pro', 'aetas', 'triobolus', 'et', 'vinum', 'hemina'], ['supra', 'pila', 'inscendo', 'et', 'salio', 'decies', 'et', 'deambulo'], ['habitatio', 'delutare'], ['terra', 'quam#4', 'multus', 'cretosus', 'vel', 'rubricosam', 'is', 'amurca', 'infundito', 'palea', 'indo'], ['Sinito', 'quadriduum', 'fracescat'], ['ubi', 'bene', 'fracuerit', 'rutro', 'concidito'], ['ubi', 'concido', 'delutato'], ['ita', 'neque', 'aspergo', 'noceo', 'neque', 'mus', 'cavus', 'facio', 'neque', 'herba', 'nascor', 'neque', 'lutamenta', 'scindo', 'se'], ['area', 'ubi', 'frumentum', 'tero', 'sic', 'facio'], ['confodio', 'minuo', 'terra', 'amurca', 'bene', 'conspargo', 'et', 'conbibo', 'quam#4', 'plurimus'], ['Conminuito', 'terra', 'et', 'cylindro', 'aut', 'pavicula', 'coaequato'], ['ubi', 'coaequata', 'sum', 'neque', 'formica', 'molestus', 'sum', 'et', 'cum', 'pluerit', 'lutum', 'non', 'sum'], ['codicilli', 'oleagineus', 'et', 'ceterus', 'lignum', 'amurca', 'crudus', 'perspargito', 'et', 'in', 'sol', 'ponito', 'perbibo', 'bene'], ['ita', 'neque', 'fumosus', 'sum', 'et', 'ardeo', 'bene'], ['pirum', 'floreo', 'dapem', 'pro', 'bubus', 'facio'], ['postea', 'vernum', 'aro', 'incipito'], ['is', 'locus', 'primus', 'aro', 'quis#2', 'rudectus', 'harenosaque', 'sum'], ['postea', 'uti', 'quisque', 'gravis', 'et', 'aquosus', 'sum', 'ita', 'postremo', 'aro'], ['Dapem', 'hic', 'modus', 'fio', 'oportet'], ['Iuppiter', 'dapalis', 'culignam', 'vinum', 'quantus', 'volo#1', 'polluceto'], ['is', 'dies', 'feriae', 'bubus', 'et', 'bubulcus', 'et', 'quis#2', 'dapem', 'facio'], ['cum', 'pollucere', 'oportet', 'sic', 'facies', 'Iuppiter', 'dapalis', 'quod', 'tu', 'fio', 'oportet', 'in', 'domus', 'familia', 'meus', 'culignam', 'vinum', 'dapi', 'is', 'reus', 'ergo', 'mactus', 'hic', 'illace', 'dape', 'polluo', 'sum'], ['manus', 'interluito', 'postea', 'vinum', 'sumito', 'Iuppiter', 'dapalis', 'mactus', 'istace', 'dape', 'polluo', 'sum', 'mactus', 'vinum', 'inferius', 'sum'], ['Vesta', 'si', 'volo', 'do'], ['Daps', 'Iuppiter', 'assarius', 'pecuinus', 'urna', 'vinum'], ['Iuppiter', 'castus', 'profano', 'suus', 'contagio'], ['postea', 'dape', 'facio', 'serito', 'mille', 'panicum', 'alius', 'lentim'], ['propagatio', 'pomum', 'ceterarumque', 'arbor'], ['arbor', 'ab', 'terra', 'pullus', 'quis#2', 'nascor', 'sum', 'is', 'in', 'terra', 'deprimito', 'extollito', 'uti', 'radix', 'capio', 'possum'], ['inde', 'ubi', 'tempus', 'sum', 'effodito', 'seritoque', 'rectus'], ['ficus', 'olea', 'malus#3', 'Punicus', 'malus', 'strutea', 'cotonea', 'aliaque', 'malus', 'omnis', 'laurum', 'Cypria', 'Delphicus', 'prunum', 'murtum', 'coniugulum', 'et', 'murtum', 'albus', 'et', 'niger', 'nuces', 'Abellanas', 'Praenestinus', 'platanum', 'hic', 'omnis', 'genus', 'ab', 'caput', 'propagari', 'eximique', 'ad', 'hic', 'modus', 'oportet'], ['qui', 'diligenter', 'serum', 'volo', 'in', 'calicibus', 'serum', 'oportet'], ['in', 'arbor', 'radix', 'uti', 'capio', 'calix', 'pertundo', 'sumito', 'tu', 'aut', 'quasillum', 'per', 'is', 'ramulus', 'trasserito', 'is', 'quasillum', 'terra', 'inpleto', 'caecatoque', 'in', 'arbor', 'relinquito'], ['ubi', 'bimus', 'sum', 'ramus', 'tenerum', 'infra', 'praecidito', 'cum', 'quasillo', 'serito'], ['is', 'modus', 'quod', 'volo#1', 'genus', 'arbor', 'facio', 'possum', 'uti', 'radix', 'bene', 'habeo'], ['item', 'vito', 'in', 'quasillum', 'propago', 'terraque', 'bene', 'operito', 'annus', 'post', 'praecidito', 'cum', 'qualus', 'serito'], ['priusquam', 'messim', 'facies', 'porca', 'praecidaneus', 'hic', 'modus', 'fio', 'oportet'], ['Ceres', 'porca', 'praecidaneus', 'porcus', 'femina', 'priusquam', 'hasce', 'fruges', 'condo', 'far', 'triticum', 'hordeum', 'faba', 'semen', 'rapicius'], ['tus', 'vinum', 'Iano', 'Iuppiter', 'iuno', 'praefatus', 'priusquam', 'porcus', 'femina', 'immolo'], ['Iano', 'struem', 'commoveto', 'sic', 'Iane', 'pater', 'tu', 'hic', 'strue', 'commoveo', 'bonus', 'prex', 'precor', 'uti', 'sies', 'volo#1', 'propitius', 'ego', 'liberisque', 'meus', 'domus', 'familiaeque', 'meus'], ['Fertum', 'Iuppiter', 'commoveto', 'et', 'macto', 'sic', 'Iuppiter', 'tu', 'hic', 'ferto', 'obmovendo', 'bonus', 'prex', 'precor', 'uti', 'sies', 'volo#1', 'propitius', 'ego', 'liberisque', 'meus', 'domus', 'familiaeque', 'meaemactus', 'hic', 'ferto'], ['postea', 'Iano', 'vinum', 'do', 'sic', 'Iane', 'pater', 'uti', 'tu', 'strue', 'commoveo', 'bonus', 'prex', 'bene', 'precatus', 'sum', 'idem', 'reus', 'ergo', 'mactus', 'vinum', 'inferius', 'sum'], ['postea', 'porca', 'praecidaneus', 'inmolato'], ['ubi', 'exta', 'proseco', 'sum', 'Iano', 'struem', 'ommoveto', 'mactatoque', 'item', 'uti', 'prius', 'obmoveris'], ['Iuppiter', 'fertum', 'obmoveto', 'mactatoque', 'item', 'uti', 'prius', 'facio'], ['item', 'Iano', 'vinum', 'do', 'et', 'Iuppiter', 'vinum', 'do', 'item', 'uti', 'prius', 'do', 'ob', 'struem', 'obmovendam', 'et', 'fertum', 'libo'], ['postea', 'Ceres', 'exta', 'et', 'vinum', 'do'], ['Roma', 'tunica', 'toga', 'sagum', 'centones', 'sculponeas', 'Calibus', 'et', 'Minturnis', 'cuculliones', 'ferramentum', 'falx', 'pala', 'ligones', 'secures', 'ornamentum', 'murices', 'catella', 'Venafrum', 'pala'], ['Suessa', 'et', 'in', 'Lucanus', 'plostra', 'treblae', 'Alba', 'Roma', 'dolium', 'labrum', 'tegula', 'ex', 'Venafrum'], ['aratrum', 'in', 'terra', 'validus', 'Romanica', 'bonus', 'sum', 'in', 'terra', 'pullus', 'Campanicus', 'iugum', 'Romanica', 'optimum', 'sum', 'vomo', 'indutilis', 'bonus', 'sum'], ['Trapeti', 'Pompeum', 'Nola', 'ad', 'Rufri', 'maceria', 'clavis', 'clostra', 'Roma', 'hama', 'olearius', 'urceus', 'aquarium', 'urna', 'vinarius', 'alius', 'vasum', 'ahenea', 'Capua', 'Nola', 'fiscina', 'Campanicus', 'Capua', 'utilis', 'sum'], ['funis', 'subductarios', 'spartum', 'omnis', 'Capua', 'fiscina', 'Romanicas', 'Suessa', 'Casinus', 'bonus', 'sum', 'Roma'], ['Funem', 'torculus', 'siquis', 'facio', 'Casinus', 'L.', 'Tunnius', 'Venafrum', 'C.', 'Mennius', 'L.', 'f'], ['is', 'indo', 'oportet', 'corium', 'bonus', 'Iius', 'nostratia', 'recens', 'quis#2', 'depsta', 'sient', 'quam#4', 'parvus', 'sallis', 'habeo'], ['is', 'depso', 'et', 'ung(u)o', 'unguine', 'prius', 'oportet', 'tum', 'sicco'], ['Funem', 'exordiri', 'oportet', 'longus', 'P.', 'LXXII'], ['torus', 'Iius', 'habeo', 'lorum', 'in', 'torus', 'singulus', 'VIIII', 'latus', 'digitus', 'cum', 'tortus', 'sum', 'longus', 'P.', 'XLVIIII'], ['in', 'conmissura', 'abeo', 'P.', 'Iius', 'rel'], ['sum', 'P.', 'XLVI'], ['ubi', 'extentus', 'sum', 'accedo', 'P.', 'V', 'longus', 'sum', 'P.', 'LI'], ['Funem', 'torculus', 'extendo', 'longus', 'sum', 'oportet', 'P.', 'LV', 'maximus', 'vasum', 'parvus', 'P.', 'LI'], ['Funem', 'loreus', 'in', 'plostrum', 'iustus', 'P.', 'LX', 'semifunium', 'P.', 'XLV', 'lorum', 'retinacula', 'in', 'plostrum', 'P.', 'XXXVI', 'ad', 'aratrum', 'P.', 'XXVI', 'lorum', 'praeductoria', 'P.', 'XXVII', 'S', 'subiugia', 'in', 'plostrum', 'lorum', 'P.', 'XIX', 'funiculus', 'P.', 'XV', 'in', 'aratrum', 'subiugia', 'lorum', 'P.', 'XII', 'funiculus', 'P.', 'Trapetos', 'latus', 'maximus', 'P.', 'IIII', 'S', 'orbis', 'altus', 'P.', 'Iius', 'S', 'orbis', 'medius', 'ex', 'lapicaedinis', 'cum', 'eximo', 'crassus', 'pes', 'et', 'palmus', 'inter', 'miliarium', 'et', 'labrum#2', 'P.', 'eo', 'digitus', 'II', 'labrum', 'crassus', 'digitus', 'Secundarium', 'trapetum', 'latus', 'P.', 'IIII', 'et', 'palmus', 'inter', 'miliarium', 'et', 'labrum#2', 'pes', 'unus', 'digitus', 'unus', 'labrum', 'crassus', 'digitus', 'V', 'orbis', 'altus', 'P.', 'Iius', 'et', 'digitus', 'V', 'crassus', 'P.', 'eo', 'et', 'digitus', 'foramen', 'in', 'orbis', 'semipedem', 'quoquo', 'versus', 'facio'], ['tertius', 'trapetum', 'latus', 'P.', 'IIII', 'inter', 'miliarium', 'et', 'labrum#2', 'P.', 'eo', 'labrum#2', 'digitus', 'V', 'orbis', 'altus', 'P.', 'Iius', 'digitus', 'Iius', 'crassus', 'P.', 'eo', 'et', 'digitus', 'Trapetum', 'ubi', 'arvectum', 'sum', 'ubi', 'statuo', 'ibi', 'accommodo', 'concinnatoque'], ['Politionem', 'quo', 'pactus', 'partiarius', 'do', 'oportet'], ['in', 'ager', 'Casinate', 'et', 'Venafrum', 'in', 'locus', 'bonus', 'pars', 'octavus', 'corbi', 'divicat', 'satis', 'bonus', 'septimus', 'tertius', 'locus', 'sextus', 'si', 'granum', 'modius', 'divido', 'pars', 'quintus'], ['in', 'Venafrum', 'ager', 'bonus', 'nonus', 'pars', 'corbi', 'divido'], ['si', 'communis', 'pisunt', 'qui', 'ex', 'pars', 'politori', 'pars', 'sum', 'is', 'pars', 'in', 'pistrinum', 'politor'], ['hordeum', 'quintus', 'modius', 'faba', 'quintus', 'modius', 'divido'], ['vinea', 'curo', 'partiarius'], ['curo', 'fundus', 'arbustum', 'ager', 'frumentarius'], ['partiarius', 'faenum', 'et', 'pabulum', 'quod', 'bubus', 'satis', 'siet', 'quis#2', 'illic#2', 'sient'], ['ceterus', 'omnis', 'pro', 'indivisus'], ['bos', 'feriis', 'coniungo', 'licet'], ['hic', 'licet', 'facio', 'arvehant', 'lignum', 'fabalis', 'frumentum', 'quod', 'condio', 'sum'], ['mulus', 'equus', 'asina', 'feriae', 'nullus', 'nisi', 'si', 'in', 'familia', 'sum'], ['Lucus', 'conlucare', 'Romanus', 'mos', 'sic', 'oportet', 'porcus', 'piaculum', 'facio', 'sic', 'verbum', 'concipito', 'si', 'deus', 'si', 'dea', 'sum', 'quoiium', 'ille', 'sacer', 'sum', 'uti', 'tu', 'ius', 'sum', 'porcus', 'piaculum', 'facio', 'illiusce', 'sacer', 'coerceo', 'ergo', 'harumque', 'res', 'ergo', 'sive', 'ego', 'sive', 'quis#2', 'jussus', 'meus', 'facio', 'uti', 'is', 'rectus', 'facio', 'siet', 'is', 'reus', 'ergo', 'hic', 'porcus', 'piaculum', 'immolo', 'bonus', 'prex', 'precor', 'uti', 'sies', 'volo#1', 'propitius', 'ego', 'domus', 'familiaeque', 'meus', 'liberisque', 'meus', 'harumce', 'res', 'ergo', 'mactus', 'hic', 'porcus', 'piaculum', 'immolo', 'sum'], ['si', 'fodio', 'volo', 'alter', 'piaculum', 'idem', 'modus', 'facio', 'hic', 'amplus', 'dico#2', 'opus', 'facio', 'causa'], ['dum', 'opus', 'cottidie', 'per', 'pars', 'facio'], ['si', 'intermitto', 'aut', 'feriae', 'publicus', 'aut', 'familiaris', 'intercedo', 'alter', 'piaculum', 'facio'], ['ager', 'lustro', 'sic', 'oportet'], ['impero', 'suovitaurilia', 'circumagi', 'cum', 'divus', 'volo', 'quisque', 'bene', 'evenio', 'mando', 'tu', 'Manius', 'uti', 'illace', 'suovitaurilia', 'fundus', 'ager', 'terramque', 'meus', 'quotus', 'ex', 'pars', 'sive', 'circumagi', 'sive', 'circumferenda', 'censeo', 'uti', 'curo', 'lustro'], ['Ianum', 'Iovemque', 'vinum', 'praefamino', 'sic', 'dico#2', 'Mars', 'pater', 'tu', 'precor', 'quaesoqueuti', 'sies', 'volo#1', 'propitiusmihi', 'domus', 'familiaeque', 'noster', 'quisque', 'reus', 'ergoagrum', 'terra', 'fundumque', 'meumsuovitaurilia', 'circum', 'ago', 'jubeo', 'uti', 'tuuus', 'morbus', 'viso', 'invisosqueviduertatem', 'vastitudinemque', 'calamitas', 'intemperiasqueprohibessis', 'defendo', 'averruncesque', 'uti', 'tuuus', 'fruges', 'frumentum', 'vinetum', 'virgultaquegrandire', 'dueneque', 'evenio', 'siris', 'pastor', 'pecuaque', 'salvus', 'servassis', 'duisque', 'duonam', 'salus', 'valetudinemquemihi', 'domus', 'familiaeque', 'noster', 'harunce', 'res', 'ergofundi', 'terra', 'agrique', 'meilustrandi', 'lustrique', 'facio', 'ergo', 'sic', 'ut', 'dico#2', 'mactus', 'hic', 'suovitaurilibuslactentibus', 'immolo', 'sum', 'Mars', 'pater', 'idem', 'reus', 'ergomacte', 'hic', 'suovitaurilibuslactentibus', 'immolo', 'sum'], ['item', 'culter', 'facio', 'struem', 'et', 'fertum', 'uti', 'adsiet', 'inde', 'obmoveto'], ['ubi', 'porcus', 'inmolabis', 'agnus', 'vitulumque', 'sic', 'oportet', 'idem', 'reus', 'ergomacte', 'hic', 'suovitaurilibusimmolandis', 'sum'], ['Nominare', 'veto', 'Mars', 'neque', 'agnus', 'vitulumque'], ['si', 'parvus', 'in', 'omnis', 'lito', 'sic', 'verbum', 'concipito', 'Mars', 'pater', 'quod', 'tu', 'ille', 'porcus', 'neque', 'satisfacio', 'sum', 'tu', 'hic', 'porcus', 'piaculum'], ['vilicus', 'officium', 'quis#2', 'sum', 'quis#2', 'dominus', 'praecipio', 'is', 'omnis', 'quis#2', 'in', 'fundus', 'fio', 'oportet', 'quisque', 'emo', 'pararique', 'oportet', 'quo', 'modoque', 'cibarium', 'vestimentum', 'familia', 'do', 'oportet', 'idem', 'uti', 'curo', 'faciatque', 'moneo', 'dominoque', 'dicto', 'audio', 'sum'], ['hic', 'amplus', 'quo', 'modus', 'vilica', 'uti', 'oportet', 'et', 'quo', 'modus', 'eae', 'imperari', 'oportet', 'uti', 'adventus', 'dominium', 'quis#2', 'opus', 'sum', 'pareo', 'curenturque', 'diligenter'], ['vilica', 'quis#2', 'sum', 'officium', 'curo', 'facio', 'si', 'is', 'tu', 'do', 'dominus', 'uxor', 'sum', 'contendo', 'is', 'tu', 'metuo', 'facio', 'ne#2', 'nimium', 'luxuriosus', 'siet', 'vicina', 'aliasque', 'mulier', 'quam#4', 'parvus', 'utor', 'neve', 'domus', 'neve', 'ad', 'se', 'recipio', 'ad', 'coena', 'ne#2', 'quo', 'eo', 'neve', 'ambulatrix', 'siet', 'res', 'divinus', 'ni', 'facio', 'neve', 'mando', 'quis#2', 'pro', 'is', 'facio', 'iniussus', 'dominium', 'aut', 'domina', 'scio', 'dominus', 'pro', 'totus#2', 'familia', 'res', 'divinus', 'facio'], ['mundus', 'siet', 'villa', 'converto', 'mundeque', 'habeo', 'focus', 'purum', 'circumverro', 'cottidie', 'priusquam', 'cubitum', 'eo', 'habeo'], ['Kal'], ['Idus', 'Nona', 'festus', 'dies', 'cum', 'sum', 'corona', 'in', 'focus', 'indo', 'per', 'eosdemque', 'dies', 'larus', 'familiaris', 'pro', 'copia', 'supplico'], ['cibus', 'tu', 'et', 'familia', 'curo', 'uti', 'coquo', 'habeo'], ['Gallina', 'multus', 'et', 'ovum', 'uti', 'habeo'], ['pirum', 'aridus', 'sorbum', 'ficos', 'uva', 'patior', 'sorbum', 'in', 'sapa', 'et', 'piras', 'et', 'uva', 'in', 'dolium', 'et', 'malus', 'strutheus', 'uva', 'in', 'vinaciis', 'et', 'in', 'urceus', 'in', 'terra', 'obruo', 'et', 'nuces', 'Praenestinus', 'recens', 'in', 'urceus', 'in', 'terra', 'obruo', 'habeo'], ['malus', 'Scantiana', 'in', 'dolium', 'et', 'alius', 'quis#2', 'condus', 'solo', 'et', 'silvaticus', 'hic', 'omnis', 'quotannis', 'diligenter', 'uti', 'condio', 'habeo'], ['farina', 'bonus', 'et', 'far', 'suptile', 'scio', 'facio'], ['olea', 'lego', 'hic', 'modus', 'loco', 'oportet'], ['olea', 'cogito', 'rectus', 'omnis', 'arbitratus', 'dominium', 'aut', 'quis#2', 'custodem', 'facio', 'aut', 'quis#2', 'olea', 'venierit'], ['olea', 'ne#2', 'stringito', 'neve', 'Verato', 'iniussus', 'dominium', 'aut', 'custos'], ['si', 'adversus#2', 'is', 'quis#2', 'facio', 'quod', 'ipse', 'is', 'dies', 'deligo', 'pro', 'is', 'nemo', 'solvo', 'neque', 'debeo'], ['qui', 'olea', 'lego', 'omnis', 'iuranto', 'ad', 'dominus', 'aut', 'ad', 'custodem', 'se', 'olea', 'non', 'surripio', 'neque', 'quisquam', 'suus', 'dolo', 'malus', 'is', 'oletate', 'ex', 'fundus', 'L.', 'Manlius'], ['qui', 'is', 'non', 'ita', 'juro', 'quod', 'is', 'lego', 'omnis', 'pro', 'is', 'argentum', 'nemo', 'do', 'neque', 'debeo'], ['Oeam', 'cogo', 'rectus', 'satis', 'do', 'arbitratus', 'L.', 'Manlius'], ['scala', 'ita', 'uti', 'do', 'sum', 'ita', 'reddo', 'nisi', 'quis#2', 'vetustas', 'frango', 'sum'], ['si', 'non', 'sum', 'reddo', 'aequus', 'vir', 'bonus', 'arbitratus', 'deduco'], ['siquid', 'redemptor', 'opus', 'dominus', 'damnum', 'do', 'sum', 'resolvito', 'is', 'vir', 'bonus', 'arbitratus', 'deduco'], ['legulus', 'quot', 'opus', 'sum', 'praebeto', 'et', 'strictores'], ['si', 'non', 'praebeo', 'quantus', 'conduco', 'sum', 'aut', 'loco', 'sum', 'deduco', 'tanto', 'parvus', 'debeo'], ['de', 'fundus', 'lignum', 'et', 'olea', 'ne#2', 'deporto'], ['qui', 'olea', 'lego', 'quis#2', 'deportarit', 'in', 'singulus', 'deportationes', 'SS'], ['N.', 'II', 'deduco', 'neque', 'is', 'debeo'], ['omnis', 'olea', 'purus', 'metior', 'modius', 'olearius'], ['Adsiduos', 'homo', 'L', 'praebeto', 'duo', 'pars', 'stringo', 'praebeto'], ['Nequis', 'concedo', 'quo', 'olea', 'lego', 'et', 'facio', 'carus', 'loco', 'extra', 'quis', 'siquem', 'socius', 'inpraesentiarum', 'dico#2'], ['Siquis', 'adversus', 'is', 'facio', 'si', 'dominus', 'aut', 'custos', 'volo#2', 'iurent', 'omnis', 'socius'], ['si', 'non', 'ita', 'juro', 'pro', 'is', 'olea', 'lego', 'et', 'facio', 'nemo', 'do', 'neque', 'debeo', 'is', 'quis#2', 'non', 'juro'], ['accessio', 'in', 'mille', 'xx', 'CC', 'accedo', 'olea', 'salio', 'mille', 'V', 'oleum', 'purum', 'P.', 'VIIII', 'in', 'totus#2', 'oletate', 'aceti', 'Q.', 'qui', 'olea', 'salio', 'non', 'accipio', 'dum', 'olea', 'lego#2', 'in', 'modius', 'singulus', 'SS'], ['NUMERAL', 'do'], ['olea', 'facio', 'hic', 'lex', 'oportet', 'loco'], ['Facito', 'rectus', 'arbitratus', 'dominium', 'aut', 'custos', 'quis#2', 'is', 'negotium', 'curo'], ['si', 'sex', 'iugum', 'vasum', 'opus', 'sum', 'facio'], ['homo', 'is', 'do', 'quis#2', 'placeo', 'aut', 'custos', 'aut', 'quis#2', 'is', 'olea', 'emo'], ['si', 'opus', 'sum', 'trapetis', 'facio'], ['si', 'operarius', 'conductus', 'sum', 'aut', 'facio', 'locatus', 'sum', 'pro', 'is', 'resolvito', 'aut', 'deduco'], ['oleum', 'ne#2', 'tangito', 'uto', 'causa', 'neque', 'furor', 'causa', 'nisi', 'quod', 'custos', 'do', 'aut', 'dominus'], ['si', 'sumo', 'in', 'singulus', 'sumptiones', 'SS'], ['N.', 'XL', 'deduco', 'neque', 'debeo'], ['factor', 'quis#2', 'oleum', 'facio', 'omnis', 'iuranto', 'aut', 'ad', 'dominus', 'aut', 'ad', 'custodem', 'se', 'de', 'fundus', 'L.', 'Manlius', 'neque', 'alius', 'quisquam', 'suus', 'dolo', 'malus', 'oledum', 'neque', 'olea', 'surripio'], ['qui', 'is', 'ita', 'non', 'juro', 'quis#2', 'is', 'pars', 'sum', 'omnis', 'deduco', 'neque', 'debeo'], ['socius', 'nequem', 'habeo', 'nisi', 'quis#2', 'dominus', 'jubeo', 'aut', 'custos'], ['siquid', 'redemptor', 'opus', 'dominus', 'damnum', 'do', 'sum', 'vir', 'bonus', 'arbitratus', 'deduco'], ['si', 'viridis', 'oleum', 'opus', 'siet', 'facio'], ['accedo', 'oleum', 'et', 'sale', 'suus', 'usio', 'quod', 'satis', 'siet', 'vasarium', 'vict'], ['olea', 'pendeo', 'hic', 'lex', 'venio', 'oportet'], ['olea', 'pendeo', 'in', 'fundus', 'Venafrum', 'venibit'], ['qui', 'olea', 'emo', 'amplus', 'quam#4', 'quantus', 'emo', 'omnis', 'pecunia', 'centesima', 'accedo', 'praeconium', 'praesens', 'SS'], ['L', 'et', 'oleum', 'Romanici', 'P.', 'xx', 'D', 'viridis', 'P.', 'CC', 'olea', 'caducus', 'mille', 'L', 'strictivae', 'mille', 'X', 'modius', 'olearius', 'mensus', 'do', 'unguinis', 'P.', 'X', 'pondus', 'modiisque', 'dominium', 'do', 'frugis', 'primus', 'cotulas', 'duo'], ['dies', 'argentum', 'ex', 'K.', 'Nov'], ['mensus', 'X', 'olea', 'lego', 'facio', 'quis#2', 'locatus', 'sum', 'et', 'si', 'emptor', 'locarit', 'Idus', 'solvo'], ['rectus', 'hic', 'do', 'fierique', 'satisque', 'do', 'dominus', 'aut', 'quis#2', 'jubeo', 'promittito', 'satisque', 'do', 'arbitratus', 'dominium'], ['Donicum', 'solvo', 'sum', 'aut', 'ita', 'satis', 'do', 'sum', 'quis#2', 'in', 'fundus', 'infero', 'sum', 'pigneri', 'sum', 'nequid', 'is', 'de', 'fundus', 'deporto', 'siquid', 'deporto', 'dominium', 'sum'], ['vasum', 'torculus', 'funis', 'scala', 'trapetos', 'siquid', 'et', 'alius', 'do', 'sum', 'salvus', 'rectus', 'reddo', 'nisi', 'quis#2', 'vetustas', 'frango', 'sum'], ['si', 'non', 'reddo', 'aequus', 'solvo'], ['si', 'emptor', 'legulus', 'et', 'factor', 'quis#2', 'illic#2', 'opus', 'facio', 'non', 'solvo', 'quis#2', 'do', 'oportet', 'si', 'dominus', 'volo', 'solvo'], ['emptor', 'dominus', 'debeto', 'et', 'is', 'satis', 'do', 'proque', 'is', 'res', 'ita', 'uti', 'S.', 'S.', 'ex', 'item', 'pignus', 'sum'], ['hic', 'lex', 'vinum', 'pendeo', 'venio', 'oportet'], ['vinaceus', 'inlutos', 'et', 'faecem', 'relinquito'], ['locus', 'vinum', 'ad', 'K.', 'Octob'], ['primus', 'do'], ['si', 'non', 'ante', 'is', 'exportaverit', 'dominus', 'vinum', 'quis#2', 'volo', 'facio'], ['ceterus', 'lex', 'quis#2', 'olea', 'pendeo'], ['vinum', 'in', 'dolium', 'hic', 'modus', 'venio', 'oportet'], ['vinum', 'in', 'culleus', 'singulus', 'quadragenae', 'et', 'singulus', 'urna', 'do'], ['quod', 'neque', 'aceo', 'neque', 'muceat', 'is', 'do'], ['in', 'triduus', 'proxumo', 'vir', 'bonus', 'arbitratus', 'degusto'], ['si', 'non', 'ita', 'facio', 'vinum', 'pro', 'degusto', 'sum'], ['quot', 'dies', 'per', 'dominus', 'mora#3', 'sum', 'quo', 'parvus', 'vinum', 'degusto', 'totidem', 'dies', 'emptor', 'procedo'], ['vinum', 'accipio', 'ante', 'K.', 'Ian'], ['primus'], ['si', 'non', 'ante', 'accipio', 'dominus', 'vinum', 'admetietur'], ['quod', 'admetior', 'sum', 'pro', 'is', 'resolvito'], ['si', 'emptor', 'postularit', 'dominus', 'ius', 'juror', 'do', 'verus', 'facio'], ['locus', 'vinum', 'ad', 'K.', 'Octobres', 'primus', 'do'], ['si', 'ante', 'non', 'deporto', 'dominus', 'vinum', 'quis#2', 'volo', 'facio'], ['ceterus', 'lex', 'quis#2', 'olea', 'pendeo'], ['qui', 'lex', 'pabulum', 'hibernum', 'venio', 'oportet'], ['qui', 'vendo', 'finis', 'dico#2'], ['pabulum', 'fruor', 'occipito', 'ex', 'Kal'], ['Septembribus'], ['pratum', 'siccus', 'decedo', 'ubi', 'prius', 'floreo', 'coepio', 'pratum', 'inriguo', 'ubi', 'super', 'inferque', 'vicinus', 'permitto', 'tum', 'decedito', 'vel', 'dies', 'certus', 'uterque', 'facio'], ['ceterum', 'pabulum', 'Kal'], ['Martius', 'decedito'], ['Bubus', 'domo', 'bini', 'cantherius', 'unus', 'cum', 'emptor', 'pasco', 'dominus', 'pasco', 'recipio'], ['Holeris', 'asparagus', 'lignum', 'aqua', 'iter', 'actus', 'dominium', 'usio', 'recipio'], ['siquid', 'emptor', 'aut', 'pastor', 'aut', 'pecus', 'emptor', 'dominus', 'damnum', 'do', 'vir', 'bonus', 'arbitratus', 'resolvo'], ['siquid', 'dominus', 'aut', 'familia', 'aut', 'pecus', 'emptor', 'damnum', 'do', 'vir', 'bonus', 'arbitratus', 'resolvo'], ['Donicum', 'pecunia', 'solvo', 'aut', 'satisfecerit', 'aut', 'deligarit', 'pecus', 'et', 'familia', 'quis#2', 'illic#2', 'sum', 'pigneri', 'sum'], ['siquid', 'de', 'is', 'res', 'controversia', 'sum', 'Roma', 'iudicium', 'fio'], ['fructus', 'ovis', 'hic', 'lex', 'venio', 'oportet'], ['in', 'singulus', 'caseus', 'P.', 'eo', 'S', 'dimidium', 'aridum', 'lac', 'feriis', 'quod', 'mulceo', 'dimidium', 'et', 'praeterea', 'lac', 'urna', 'unus', 'hic', 'lex', 'agnus', 'dies', 'et', 'nox', 'quis#2', 'vivo', 'in', 'fructus', 'et', 'Kal'], ['Iun'], ['emptor', 'fructus', 'decedo', 'si', 'interkalatum', 'sum', 'K.', 'Maus'], ['agnus', 'XXX', 'ne#2', 'amplus', 'promitto'], ['ovis', 'quis#2', 'non', 'pario', 'bini', 'pro', 'singulus', 'in', 'fructus', 'cedo'], ['ex', 'quo', 'dies', 'lana', 'et', 'agnus', 'vendo', 'mensis', 'X', 'ab', 'coactore', 'relego'], ['porcus', 'serarios', 'in', 'ovis', 'denas', 'singulus', 'pasco'], ['conductor', 'duo', 'mensis', 'pastor', 'praebeo'], ['donec', 'dominus', 'satisfecerit', 'aut', 'solvo', 'pignus', 'sum'], ['semen', 'cupressi', 'quo', 'modus', 'lego#2', 'serum', 'propagarique', 'oportet', 'et', 'quo', 'pactus', 'cupresseta', 'serum', 'oportet', 'Minius', 'Percennius', 'Nolanus', 'ad', 'hic', 'modus', 'monstro'], ['semen', 'cupressi', 'Tarentinus', 'per', 'ver', 'lego#2', 'oportet', 'materiem', 'ubi', 'hordeum', 'flavesco'], ['is', 'ubi', 'lego', 'in', 'sol', 'ponito', 'semen', 'purgo'], ['is', 'aridum', 'conditus', 'uti', 'aridum', 'expono', 'siet'], ['per', 'ver', 'serito', 'in', 'locus', 'ubi', 'terra', 'tener', 'sum', 'quam#4', 'pullus', 'voco', 'ubi', 'aqua', 'propter', 'siet'], ['is', 'locus', 'stercoro', 'primus', 'bene', 'stercus', 'caprinus', 'aut', 'ovillus', 'tum', 'vortito', 'bipalio', 'terra', 'cum', 'stercus', 'bene', 'permisceto', 'depurgato', 'ab', 'herba', 'graminibusque', 'bene', 'terra', 'conminuito'], ['areo', 'facio', 'pes', 'latus', 'quaternos', 'subcavas', 'facio', 'uti', 'aqua', 'contineo', 'possum', 'inter', 'is', 'sulcus', 'facio', 'qui', 'herba', 'de', 'areis', 'purgo', 'possum'], ['ubi', 'Areus', 'facio', 'sum', 'semen', 'serito', 'crebrum', 'ita', 'uti', 'linum', 'serum', 'solo'], ['is', 'cribrum', 'terra', 'incernito', 'dimidio', 'digitus', 'terra', 'altus', 'succernito'], ['is', 'bene', 'tabula', 'aut', 'manus', 'aut', 'pes', 'conplanato'], ['Siquando', 'non', 'pluo', 'uti', 'terra', 'sitio', 'aqua', 'inrigo', 'leniter', 'in', 'areo'], ['si', 'non', 'habeo', 'unde', 'inrigo', 'gerito', 'inditoque', 'leniter'], ['quotiescumque', 'opus', 'sum', 'facio', 'uti', 'aqua', 'addo'], ['si', 'herba', 'nata', 'sum', 'facio', 'uti', 'ab', 'herba', 'purgo'], ['per', 'aestas', 'ita', 'uti', 'dico#2', 'sum', 'fio', 'oportet', 'et', 'ubi', 'semen', 'sero', 'siet', 'stramentum', 'operiri', 'ubi', 'germinascere', 'coepio', 'tum', 'demi'], ['de', 'scopa', 'virgeus', 'Q.', 'A.', 'M.', 'Manlius', 'monstro'], ['in', 'dies', 'XXX', 'quis#2', 'vinum', 'lego', 'aliquotiens', 'facio', 'scopa', 'virgeus', 'ulmeus', 'aridus', 'in', 'asserculus', 'alligo', 'eabus', 'latus#2', 'dolium', 'intrinsecus', 'usque', 'bene', 'perfrico', 'ne#2', 'faex', 'in', 'latus', 'adhaeresco'], ['vinum', 'faecatum', 'sic', 'facio'], ['fiscina', 'olearius', 'Campanicus', 'duo', 'ille', 'reus', 'habeo'], ['is', 'faecis', 'inpleto', 'sub', 'prelumque', 'subditus', 'exprimitoque'], ['vinum', 'emptor', 'sine', 'molestia', 'quo', 'modus', 'admetiaris'], ['labrum#2', 'cullearis', 'ille', 'reus', 'facio'], ['is', 'habeo', 'ad', 'summus', 'ansa', 'IIII', 'uti', 'transferri', 'possitur'], ['is', 'imum', 'pertundito', 'is', 'fistula', 'subditus', 'uti', 'opturarier', 'rectus', 'possum', 'et', 'ad', 'summus', 'qui', 'finis', 'culleus', 'capio', 'pertundito'], ['is', 'in', 'suggestus', 'inter', 'dolium', 'pono', 'habeo', 'uti', 'in', 'culleus', 'de', 'dolium', 'vinum', 'salio', 'possum'], ['is', 'inpleto', 'postea', 'obturo'], ['per', 'hiemen', 'aqua', 'de', 'ager', 'depello', 'oportet'], ['in', 'mons', 'fossa', 'incilis', 'purus', 'habeo', 'oportet'], ['primus', 'autumnitate', 'cum', 'pulvis', 'sum', 'tum', 'multus', 'ab', 'aqua', 'periculum', 'sum'], ['cum', 'pluo', 'incipio', 'familia', 'cum', 'ferreus', 'sarculisque', 'exeo', 'oportet', 'incilis', 'aperio', 'aqua', 'diduco', 'in', 'via', 'et', 'curo', 'oportet', 'uti', 'fluo'], ['in', 'villa', 'cum', 'pluo', 'circumeo', 'oportet', 'sicubi', 'perpluo', 'et', 'signo', 'carbo', 'cum', 'desino', 'pluo', 'uti', 'tegula', 'muto'], ['per', 'seges', 'in', 'frumentum', 'aut', 'in', 'seges', 'aut', 'in', 'fossa', 'sicubi', 'aqua', 'sonstat', 'aut', 'aliquis', 'aqua', 'obsto', 'is', 'emitto', 'patefacio', 'removerique', 'oportet'], ['de', 'brassica', 'quod', 'concoquo'], ['brassica', 'sum', 'quis#2', 'omnis', 'holus', 'antistat'], ['is', 'sum', 'vel', 'cocta', 'vel', 'crudus'], ['crudus', 'si', 'edo', 'in', 'acetum', 'intinguito'], ['mirificus', 'concoquo', 'alvus', 'bonus', 'facio', 'lotiumque', 'ad', 'omnis', 'res', 'salubris', 'sum'], ['si', 'volo', 'in', 'convivium', 'multus', 'bibo', 'cenareque', 'libet', 'ante', 'cena', 'sum', 'crudus', 'quantum', 'volo', 'ex', 'acetum', 'et', 'item', 'ubi', 'ceno', 'comesto', 'aliquis', 'V', 'folium', 'reddo', 'tu', 'quasi', 'nihil', 'edo', 'bibesque', 'quantum', 'volo'], ['alvus', 'si', 'volo', 'deicio', 'superus', 'sumito', 'brassica', 'quis#2', 'levis', 'sum', 'P.', 'IIII', 'inde', 'facio', 'manipulus', 'aequalis', 'tres', 'conligatoque'], ['postea', 'olla', 'statuito', 'cum', 'aqua'], ['ubi', 'occipiet', 'fervo', 'paulisper', 'demittito', 'unus', 'manipulus', 'fervo', 'desisto'], ['postea', 'ubi', 'occipiet', 'fervo', 'paulisper', 'demittito', 'ad', 'modus', 'dum', 'quinque', 'numero', 'eximito'], ['item', 'facio', 'alter', 'manipulus', 'item', 'tertius'], ['postea', 'conicito', 'contundito', 'item', 'eximito', 'in', 'linteum', 'exurgeto', 'sucus', 'quasi', 'hemina', 'in', 'pocillum', 'fictilis'], ['is', 'indo', 'salum', 'mica', 'quasi', 'ervum', 'et', 'cuminum', 'frico', 'tantus', 'quod', 'oleo'], ['postea', 'ponito', 'pocillum', 'in', 'serenus', 'noctu'], ['qui', 'poturus', 'sum', 'lavo', 'calida', 'bibo', 'aqua', 'mulsa', 'cubo', 'incenatus'], ['postea', 'mane', 'bibo', 'sucus', 'deambuletque', 'hora', 'IIII', 'ago', 'negotium', 'siquid', 'habeo'], ['ubi', 'libido', 'venio', 'nausia', 'adprehendo', 'decumbat', 'purgetque', 'se'], ['tantus', 'bilis', 'pituitaeque', 'eicio', 'uti', 'ipse', 'miro', 'unde', 'tantus', 'siet'], ['postea', 'ubi', 'deorsum', 'versus', 'eo', 'hemina', 'aut', 'paulum', 'plus', 'bibo'], ['si', 'amplus', 'eo', 'sumito', 'farina', 'minuo', 'concas', 'duo', 'infriet', 'in', 'aqua', 'paul(l)um', 'bibo', 'constituo'], ['verus', 'quis#2', 'tormina', 'molestus', 'sum', 'brassica', 'in', 'aqua', 'macero', 'oportet'], ['ubi', 'macero', 'sum', 'coicito', 'in', 'aqua', 'calida', 'coquito', 'usque', 'donec', 'conmadebit', 'bene', 'aqua', 'defundito'], ['postea', 'salem', 'addo', 'et', 'cuminum', 'paululum', 'et', 'pollinem', 'polenta', 'idem', 'addo', 'et', 'oleum'], ['postea', 'fervefacito', 'infundito', 'in', 'catinus', 'uti', 'frigescat'], ['is', 'intereo', 'quod', 'volo', 'cibus', 'postea', 'edo'], ['sed', 'si', 'possum', 'solus', 'brassica', 'sum', 'edo'], ['et', 'si', 'sine', 'febre', 'sum', 'do', 'vinum', 'ater', 'durum', 'aquor', 'bibo', 'quam#4', 'parvus', 'si', 'febris', 'sum', 'aqua'], ['is', 'facio', 'cottidie', 'mane'], ['Nolito', 'multus', 'do', 'ne#2', 'pertaedescat', 'uti', 'possum', 'porro', 'libet', 'sum'], ['ad', 'idem', 'modus', 'vir', 'et', 'mulier', 'et', 'puer', 'do'], ['nunc', 'de', 'ille', 'quis#2', 'aegre', 'lotium', 'eo', 'quis', 'substillum', 'sum'], ['Sumito', 'brassica', 'coicito', 'in', 'aqua', 'ferveo', 'coquito', 'paulisper', 'uti', 'subcruda', 'siet'], ['postea', 'aqua', 'defundito', 'non', 'omnis'], ['is', 'addo', 'oleum', 'bene', 'et', 'salem', 'et', 'cuminum', 'paululum', 'infervefacito', 'paulisper'], ['postea', 'inde', 'iusculum', 'frigidus', 'sorbeo', 'et', 'ipse', 'brassica', 'sum', 'uti', 'quam#4', 'primus', 'excoquo'], ['cottidie', 'is', 'facio'], ['de', 'brassica', 'Pythagoreus', 'quis#2', 'in', 'is', 'bonus', 'sum', 'salubritatisque'], ['principium', 'tu', 'cognosco', 'oportet', 'quis#2', 'genus', 'brassica', 'sum', 'et', 'quis#2', 'modus', 'natura', 'habeo'], ['omnis', 'ad', 'salus', 'tempero', 'conmutatque', 'se', 'semper', 'cum', 'calor', 'aridus', 'simul', 'et', 'umidus', 'et', 'dulcis', 'et', 'amarus', 'et', 'acer#2'], ['sed', 'quis#2', 'voco', 'septem', 'bonus', 'in', 'conmixtura', 'natura', 'omnis', 'hic', 'habeo', 'brassica'], ['nunc', 'uti', 'cognosco', 'natura', 'is', 'primus', 'sum', 'levis#2', 'quis#2', 'nomino', 'is', 'sum', 'grandis', 'latus', 'folium', 'caule', 'magnus', 'validus', 'habeo', 'natura', 'et', 'vis', 'magnus', 'habeo'], ['alter', 'sum', 'crispus', 'apiacon', 'voco', 'hic', 'sum', 'natura', 'et', 'aspectus', 'bonus', 'ad', 'curatio', 'validus', 'sum', 'quam#4', 'quis#2', 'supra', 'scribo', 'sum'], ['et', 'item', 'sum', 'tertius', 'quis#2', 'lenis', 'voco', 'minutus', 'caulibus', 'tener', 'et', 'acer', 'omnis', 'sum', 'istarum', 'tenuis', 'sucus', 'vehemens'], ['et', 'primus', 'scio', 'de', 'omnis', 'brassica', 'nullus', 'sum', 'ille', 'modus', 'medicamentum'], ['ad', 'omnis', 'vulnus', 'tumor', 'is', 'contritus', 'inponito'], ['hic', 'omnis', 'ulcus', 'purgo', 'sanaque', 'facio', 'sine', 'dolor'], ['idem', 'tumidus', 'concoquo', 'idem', 'erumpo', 'idem', 'vulnus', 'putidus', 'canceresque', 'purgo', 'sanosque', 'facio', 'quod', 'alius', 'medicamentum', 'facio', 'non', 'possum'], ['verus', 'prius', 'quam#4', 'is', 'inpono', 'aqua', 'calida', 'multus', 'lavo', 'postea', 'bis', 'in', 'dies', 'contritus', 'inponito', 'is', 'omnis', 'putorem', 'adimo'], ['cancer', 'ater', 'is', 'oleo', 'et', 'saniem', 'spurcus', 'mitto', 'albus', 'purulentus', 'sum', 'sed', 'fistulosus', 'et', 'subtus', 'suppuro', 'sub', 'caro'], ['in', 'is', 'vulnus', 'hic', 'modus', 'tero', 'brassica', 'sanus', 'facio', 'optimum', 'sum', 'ad', 'hic', 'modus', 'vulnus'], ['et', 'luxatum', 'siquid', 'sum', 'bis', 'dies', 'aqua', 'calida', 'foveto', 'brassica', 'tritus', 'opponito', 'cito', 'sanus', 'facio', 'bis', 'dies', 'is', 'opponito', 'dolor', 'aufero'], ['et', 'siquid', 'contundo', 'sum', 'erumpo', 'brassica', 'tritus', 'opponito', 'sanus', 'facio'], ['et', 'siquid', 'in', 'mamma', 'ulcus', 'nascor', 'et', 'carcinoma', 'brassica', 'tritus', 'opponito', 'sanus', 'facio'], ['et', 'si', 'ulcus', 'acrimonia', 'is', 'fero', 'non', 'possum', 'farina', 'hordeaceus', 'misceto', 'ita', 'opponito'], ['hic', 'modus', 'ulcus', 'omnis', 'hic', 'sanus', 'facio', 'quod', 'alius', 'medicamentum', 'facio', 'non', 'possum', 'neque', 'purgo'], ['et', 'puer', 'et', 'puella', 'si', 'ulcus', 'sum', 'hic', 'modus', 'farina', 'hordeaceus', 'addo'], ['et', 'si', 'volo', 'is', 'consectus', 'lavo', 'siccus', 'sale', 'acetum', 'spargo', 'sum', 'salubris', 'nihil', 'sum'], ['quis', 'libens', 'edo', 'acetum', 'mulsum', 'spargito', 'lavo', 'siccus', 'et', 'ruta', 'coriandrum', 'secta', 'sale', 'spargo', 'paulum', 'libens', 'edo'], ['is', 'bene', 'facio', 'et', 'malus', 'nihil', 'sino', 'in', 'corpus', 'consisto', 'et', 'alvus', 'bonus', 'facio'], ['hic', 'mane', 'sum', 'oportet', 'ieiunum'], ['et', 'si', 'bilis', 'ater', 'sum', 'et', 'si', 'lienes', 'turgent', 'et', 'si', 'cor', 'doleo', 'et', 'si', 'iecur', 'aut', 'pulmones', 'aut', 'praecordia', 'unus', 'verbum', 'omnis', 'sanus', 'facio', 'intro', 'quis#2', 'dolitabunt'], ['idem', 'silpium', 'inradito', 'bonus', 'sum'], ['nam', 'vena', 'omnis', 'ubi', 'sufflo', 'sum', 'ex', 'cibus', 'non', 'possum', 'perspirare', 'in', 'totus#2', 'corpus', 'inde', 'aliquis', 'morbus', 'nascor'], ['ubi', 'ex', 'multus', 'cibus', 'alvus', 'non', 'eo', 'pro', 'portio', 'brassica', 'si', 'uterus', 'is', 'ut', 'tu', 'moneo', 'nihil', 'iste', 'usus', 'venio', 'morbus'], ['verus', 'morbus', 'articularis', 'nullus', 'res', 'tam', 'purgo', 'quam#4', 'brassica', 'crudus', 'si', 'edo', 'concido', 'et', 'ruta', 'et', 'coriandrum', 'concido', 'siccus', 'et', 'sirpicium', 'inrasum', 'et', 'brassica', 'ex', 'acetum', 'oxymeli', 'et', 'sale', 'spargo'], ['hic', 'si', 'uterus', 'omnis', 'articulus', 'possum', 'experior'], ['nullus', 'sumptus', 'sum', 'et', 'si', 'sumptus', 'sum', 'tamen', 'valetudinis', 'causa', 'experires'], ['hic', 'oportet', 'mane', 'ieiunum', 'sum'], ['insomnis', 'vel', 'siquis', 'sum', 'seniosus', 'hic', 'idem', 'curatio', 'sanus', 'facies'], ['verus', 'assus', 'brassica', 'et', 'unctus', 'calidus', 'salum', 'paul(l)um', 'do', 'homo', 'ieiuno'], ['quam#4', 'plurimus', 'edo', 'tam', 'cito', 'sanus', 'fio', 'ex', 'is', 'morbus'], ['Tormina', 'quis#2', 'molestus', 'sum', 'sic', 'facio'], ['brassica', 'macero', 'bene', 'postea', 'in', 'aula', 'coicito', 'defervefacito', 'bene'], ['ubi', 'coquo', 'sum', 'bene', 'aqua', 'defundito'], ['is', 'addo', 'oleum', 'bene', 'et', 'salum', 'paululum', 'et', 'cuminum', 'et', 'pollinem', 'polenta'], ['postea', 'ferve', 'bene', 'facio'], ['ubi', 'fervo', 'in', 'catinus', 'indo'], ['do', 'edo', 'si', 'possum', 'sine', 'panus', 'si', 'non', 'do', 'panis', 'purum', 'ibidem', 'madefacio'], ['et', 'si', 'febrim', 'non', 'habeo', 'do', 'vinum', 'atrum', 'bibo', 'cito', 'sanus', 'fio'], ['et', 'hic', 'siquando', 'usus', 'venio', 'quis#2', 'debilis', 'sum', 'hic', 'res', 'sanus', 'facio', 'possum', 'brassica', 'edo', 'ita', 'uti', 'S.', 'S.', 'ex'], ['et', 'hic', 'amplus', 'lotium', 'conservo', 'is', 'quis#2', 'brassica', 'essitarit', 'is', 'calfacito', 'is', 'homo', 'demittito', 'cito', 'sanus', 'facies', 'hic', 'cura', 'experior', 'hic', 'sum'], ['item', 'puer', 'pusillus', 'si', 'lavo', 'is', 'lotium', 'numquam', 'debilis', 'fio'], ['et', 'quis#2', 'oculus', 'parus', 'clarus', 'sum', 'is', 'lotium', 'inunguito', 'plus', 'video'], ['si', 'caput', 'aut', 'cervix', 'doleo', 'is', 'lotium', 'caldum', 'lavito', 'desino', 'doleo'], ['is', 'si', 'mulier', 'is', 'lotium', 'locus', 'foveo', 'numquam', 'miser', 'fio', 'et', 'foveo', 'sic', 'oportet', 'ubi', 'in', 'scutra', 'fervefeceris', 'sub', 'sella', 'supponito', 'pertundo'], ['is', 'mulier', 'adsidat', 'operito', 'circum', 'vestimentum', 'is', 'do'], ['brassica', 'erraticus', 'maximus', 'vis', 'habeo'], ['is', 'arfacere', 'et', 'contero', 'oportet', 'bene', 'minuo'], ['Siquem', 'purgo', 'volo', 'pridie', 'ne#2', 'ceno', 'mane', 'ieiuno', 'do', 'brassica', 'tritus', 'aqua', 'cyathus', 'nullus', 'res', 'tam', 'bene', 'purgo', 'neque', 'elleborus', 'neque', 'scamonium', 'et', 'sine', 'periculum', 'et', 'scio', 'salubris', 'sum', 'corpus'], ['quis#2', 'diffido', 'sanus', 'facio', 'facies'], ['qui', 'hic', 'purgatio', 'purgo', 'sum', 'sic', 'is', 'curo'], ['sorbitio', 'liquidum', 'hic', 'per', 'dies', 'septem', 'do'], ['ubi', 'sum', 'volo', 'caro', 'assus', 'do'], ['si', 'sum', 'non', 'volo', 'do', 'brassica', 'cocta', 'et', 'panis', 'et', 'bibo', 'vinum', 'lenis', 'diluo', 'lavo', 'rarus', 'utor', 'unctio'], ['qui', 'sic', 'purgo', 'sum', 'diutinus', 'valetudine', 'utor', 'neque', 'ullus', 'morbus', 'venio', 'nisi', 'suus', 'culpa'], ['et', 'siquis', 'ulcus', 'taeter', 'vel', 'recens', 'habeo', 'hic', 'brassica', 'erraticus', 'aqua', 'spargito', 'opponito', 'sanus', 'facies'], ['et', 'si', 'fistula', 'sum', 'turunda', 'intro', 'trudito'], ['si', 'turunda', 'non', 'recipio', 'diluito', 'indo', 'in', 'vesica', 'is', 'calamus', 'alligo', 'ita', 'premito', 'in', 'fistula', 'introeo', 'is', 'res', 'sanus', 'facio', 'cito'], ['et', 'ad', 'omnis', 'ulcus', 'vetus', 'et', 'novus', 'contritus', 'cum', 'mel', 'opponito', 'sanus', 'facio'], ['et', 'si', 'polypus', 'in', 'nasus', 'intro', 'sum', 'brassica', 'erraticus', 'aridus', 'tritus', 'in', 'manus', 'conicito', 'et', 'ad', 'nasus', 'admoveto', 'ita', 'subducito', 'sursum', 'anima', 'quam#4', 'plurimus', 'possum', 'in', 'triduus', 'polypus', 'excido'], ['et', 'ubi', 'excido', 'tamen', 'aliquot', 'dies', 'idem', 'facio', 'ut', 'radix', 'polypus', 'persano', 'facio'], ['auris', 'si', 'parus', 'audio', 'terito', 'cum', 'vinum', 'brassica', 'sucus', 'exprimito', 'in', 'auris', 'intro', 'tepidus', 'instillo', 'cito', 'tu', 'intellego', 'plus', 'audio'], ['Depetigini', 'spurcus', 'brassica', 'opponito', 'sanus', 'facio', 'et', 'ulcus', 'non', 'facio'], ['alvus', 'deicio', 'hic', 'modus', 'oportet', 'si', 'volo#1', 'bene', 'tu', 'deicio'], ['Sume', 'tu', 'olla', 'addo', 'is', 'aqua', 'sextarius', 'sex', 'et', 'is', 'addo', 'ungula', 'de', 'perna'], ['si', 'ungula', 'non', 'habeo', 'addo', 'de', 'perna', 'frustum', 'P.', 'S', 'quam#4', 'parum', 'pinguis'], ['ubi', 'iam', 'coquo', 'incipio', 'sum', 'is', 'addo', 'brassica', 'coliculos', 'duo', 'beta', 'coliculos', 'duo', 'cum', 'radix', 'suus', 'feliculae', 'pullus', 'herba', 'Mercurialis', 'non', 'multus', 'mitulorum', 'L.', 'II', 'piscis', 'capito', 'et', 'scorpio', 'eo', 'coclea', 'sex', 'et', 'lens', 'pugillum'], ['hic', 'omnis', 'decoquito', 'usque', 'ad', 'sextarius', 'Iius', 'jus'], ['oleum', 'ne#2', 'addo'], ['Indidem', 'sume', 'tu', 'sextarius', 'unus', 'tepidus', 'addo', 'vinum', 'Coum', 'cyathus', 'unus', 'bibo', 'interquiesce', 'deinde', 'iterum', 'idem', 'modus', 'deinde', 'tertius', 'purgo', 'tu', 'bene'], ['et', 'si', 'volo', 'insuper', 'vinum', 'Coum', 'misceo', 'bibo', 'liceo', 'bibo'], ['ex', 'is', 'tot', 'res', 'quod', 'scribo', 'sum', 'unus', 'quod', 'is', 'volo#1', 'alvus', 'deicio', 'possum'], ['verus', 'is', 'res', 'tot', 'res', 'sum', 'uti', 'bene', 'deicio', 'et', 'suavis', 'sum'], ['Intertigini', 'remedium'], ['in', 'via', 'cum', 'eo', 'apsinthi', 'Ponticum', 'surculus', 'sub', 'anulus', 'habeo'], ['luxus', 'siquod', 'sum', 'hic', 'cantio', 'sanus', 'fio'], ['harundo', 'prende', 'tu', 'viridis', 'P.', 'IIII', 'aut', 'quinque', 'longus', 'medius', 'diffinde', 'et', 'duo', 'homo', 'teneo', 'ad', 'coxendices'], ['incipio', 'canto', 'moto', 'uaeta', 'daries', 'dardares', 'astaries', 'dissunapiter', 'usque', 'dum', 'coeo'], ['ferrum', 'insuper', 'iacto'], ['ubi', 'coierint', 'et', 'alter', 'alter', 'tango', 'is', 'manus', 'prehende', 'et', 'dexter', 'sinistra', 'praecide', 'ad', 'luxus', 'aut', 'ad', 'fractura', 'alligo', 'sanus', 'fio'], ['et', 'tamen', 'cottidie', 'canto', 'et', 'luxo', 'vel', 'hic', 'modus', 'huat', 'haut', 'haut', 'istasis', 'tarsis', 'ardannabou', 'dannaustra'], ['asparagus', 'quo', 'modus', 'sero'], ['locus', 'subigo', 'oportet', 'bene', 'quis#2', 'habeo', 'umor', 'aut', 'locus', 'crassus', 'ubi', 'sum', 'subactus', 'areo', 'facio', 'uti', 'possum', 'dexter', 'sinistraque', 'sarire', 'runco', 'ne#2', 'calco', 'cum', 'areo', 'deformo', 'intervallum', 'facio', 'inter', 'areo', 'semipedem', 'latus', 'in', 'omnis', 'pars', 'deinde', 'serito', 'ad', 'linea', 'palum', 'granum', 'bini', 'aut', 'terna', 'demittito', 'et', 'idem', 'palum', 'cavum', 'terra', 'operito', 'deinde', 'supra', 'areo', 'stercus', 'spargito', 'bene', 'serito', 'secundum', 'aequinoctium', 'vernum'], ['ubi', 'sum', 'nascor', 'herba', 'crebro', 'purgo', 'cavetoque', 'ne#2', 'asparagus', 'unus', 'cum', 'herba', 'vello', 'quo', 'annus', 'severus', 'sum', 'stramentum', 'per', 'hiems', 'operito', 'ne#2', 'praeuratur', 'deinde', 'primus', 'verus', 'aperito', 'sarito', 'runcatoque'], ['post', 'annus', 'tertius', 'quam#4', 'severus', 'incendito', 'verus', 'primus', 'deinde', 'ne#2', 'ante', 'sarueris', 'quam#4', 'asparagus', 'nascor', 'sum', 'ne#2', 'in', 'sariendo', 'radix', 'laedo'], ['tertius', 'aut', 'quartus', 'annus', 'asparagus', 'vellito', 'ab', 'radix'], ['nam', 'si', 'defringo', 'stirpes', 'fio', 'et', 'intermorientur'], ['usque', 'liceo', 'vello', 'donicum', 'in', 'semen', 'video', 'eo'], ['semen', 'maturus', 'fio', 'ad', 'autumnum'], ['ita', 'cum', 'sumo', 'semen', 'incendito', 'et', 'cum', 'coepio', 'asparagus', 'nascor', 'sarito', 'et', 'stercoro'], ['post', 'annus', 'VIII', 'aut', 'novem', 'cum', 'iam', 'sum', 'vetus', 'digerito', 'et', 'in', 'quo', 'locus', 'pono', 'sum', 'terra', 'bene', 'subigito', 'et', 'stercoro'], ['deinde', 'fossulas', 'facio', 'quo', 'radix', 'asparagus', 'demitto'], ['intervallum', 'sum', 'ne#2', 'parvus', 'pes', 'singulus', 'inter', 'radix', 'asparagus'], ['Evellito', 'sed', 'circumfodito', 'ut', 'facilis', 'vello', 'possum', 'caveto', 'ne#2', 'frango'], ['Stercus', 'ovillus', 'quam#4', 'plurimus', 'facio', 'ingero', 'is', 'sum', 'bonus', 'ad', 'is', 'res', 'alius', 'stercus', 'herba', 'creo'], ['salsura', 'perna', 'ofella', 'Puteolanus'], ['perna', 'sallire', 'sic', 'oportet', 'in', 'dolium', 'aut', 'in', 'seria'], ['cum', 'perna', 'emo', 'ungula', 'is', 'praecidito'], ['salum', 'Romaniensis', 'molitus', 'in', 'singulus', 'semodios'], ['in', 'fundus', 'dolium', 'aut', 'seria', 'sale', 'sterno', 'deinde', 'perna', 'ponito', 'cutis', 'deorsum', 'specto', 'sale', 'obruito', 'totus#2'], ['deinde', 'alter', 'insuper', 'ponito', 'idem', 'modus', 'obruito'], ['Caveto', 'ne#2', 'caro', 'caro', 'tango'], ['ita', 'omnis', 'obruito'], ['ubi', 'iam', 'omnis', 'conpono', 'sale', 'insuper', 'obrue', 'ne#2', 'caro', 'appareo', 'aequalis', 'facio'], ['ubi', 'iam', 'dies', 'quinque', 'in', 'sale', 'sum', 'eximito', 'omnis', 'cum', 'suus', 'sale'], ['qui', 'tum', 'summus', 'sum', 'imus', 'facio', 'eodemque', 'modus', 'obruito', 'et', 'conponito'], ['post', 'dies', 'omnino', 'XII', 'perna', 'eximito', 'et', 'salem', 'omnis', 'detergeto', 'et', 'suspendito', 'in', 'vento', 'biduum'], ['dies', 'tertius', 'extergeto', 'spongea', 'bene', 'perunguito', 'oleum', 'suspendito', 'in', 'fumus', 'biduum'], ['tertius', 'dies', 'demito', 'perunguito', 'oleum', 'et', 'acetum', 'conmixto', 'suspendito', 'in', 'carnarium'], ['nec', 'tinia', 'nec', 'vermis', 'tango'], ['[', 'Q', '(', 'uintus', ')', ']', 'Marcius', 'L', '(', 'uci', ')', 'f', '(', 'Ilius', ')', 'S', '(', 'purus', ')', 'Postumius', 'L', '(', 'uci', ')', 'f', '(', 'Ilius', ')', 'co', '(', 'n', ')', 's', '(', 'ules', ')', 'senatus', 'consoluerunt', 'n', '(', 'onis', ')', 'Octob', '(', 'ribus', ')', 'apud', 'aedes', 'Duelonai'], ['Sc', '(', 'ribundo', ')', 'arf', '(', 'uerunt', ')', 'mille', '(', 'arcus', ')', 'Claudius', '(', 'us', ')', 'mille', '(', 'arci', ')', 'f', '(', 'Ilius', ')', 'L', '(', 'ucius', ')', 'Valerius', '(', 'us', ')', 'P', '(', 'ubli', ')', 'f', '(', 'Ilius', ')', 'Q', '(', 'uintus', ')', 'Minucius', '(', 'us', ')', 'C', '(', 'ai', ')', 'f', '(', 'Ilius', ')', 'de', 'Bacanalibus', 'quei', 'foideratei', 'esent', 'ita', 'exdeicendum', 'censuere', 'Neiquis', 'is', '[', 'b', ']', 'acanal', 'habuise', 'velo'], ['seiques', 'esent', 'quei', 'sibei', 'deicio', 'necesus', 'esus', 'Bacanal', 'habeo', 'eeis', 'utei', 'ad', 'pr', '(', 'aitorem', ')', 'urbanus', 'Roma', 'venio', 'deque', 'eeis', 'res', 'ubei', 'is', 'v', '[', 'ex', ']', 'R', '[', 'b', ']', 'ab', 'audio', 'esent', 'utei', 'senatus', 'noster', 'decerno', 'dum', 'ne#2', 'parvus', 'senator', '[', 'i', ']', 'bus', 'C', 'adesent', '[', 'quom', 'ex', ']', 'ab', 'res', 'cosoleretur'], ['baca', 'vir', 'nequis', 'adiese', 'velo', 'ceivis', 'Romanus', 'neve', 'nominus', 'Latinum', 'neve', 'socius', 'quisquam', 'nisei', 'pr', '(', 'aitorem', ')', 'urbanus', 'adiesent', 'isque', '[', 'D', ']', 'ex', 'senatuos', 'sententiad', 'dum', 'ne#2', 'parvus', 'senator', 'C', 'adesent', 'quom', 'is', 'res', 'cosoleretur', 'iousisent'], ['Ce', '[', 'n', ']', 'suo'], ['sacerdos', 'nequis', 'vir', 'eset'], ['magister', 'neque', 'vir', 'neque', 'mulier', 'quisquam', 'eset'], ['neve', 'pecunia', 'quisquam', 'is', 'comoine', '[', 'M', 'h', ']', 'abuise', 'velo'], ['neve', 'magistratus', 'neve', 'pro', 'magistratus', '[', 'D', ']', 'neque', 'vir', '[', 'neque', 'mul', ']', 'ierem', 'quis#2', '[', 's', ']', 'quam#4', 'fecise', 'velo'], ['neve', 'post', 'hic', 'inter', 'sed', 'conioura', '[', 'se', 'nev', ']', 'ex', 'comvovise', 'neve', 'conspondise', 'neve', 'conpromesise', 'velo', 'neve', 'quisquam', 'fides', 'inter', 'sed', 'dedise', 'velo'], ['sacer', 'in', '[', 'o', ']', 'quoltod', 'ne#2', 'quisquam', 'fecise', 'velo'], ['neve', 'in', 'poplicod', 'neve', 'in', 'preivatod', 'neve', 'exstrad', 'urbs', 'sacer', 'quisquam', 'fecise', 'velo', 'nisei', 'pr', '(', 'aitorem', ')', 'urbanus', 'adieset', 'isque', 'de', 'senatuos', 'sententiad', 'dum', 'ne#2', 'parvus', 'senator', 'C', 'adesent', 'quom', 'is', 'res', 'cosoleretur', 'iousisent'], ['Censuere'], ['homo', 'plous', 'V', 'oinvorsei', 'virei', 'atque', 'mulier', 'sacer', 'ne#2', 'quisquam', 'fecise', 'velo', 'neve', 'inter', 'ibei', 'virei', 'plous', 'duo', 'mulier', 'plous', 'tres', 'arfuise', 'velo', 'nisei', 'de', 'pr', '(', 'aitoris', ')', 'urbanus', 'senatuosque', 'sententiad', 'utei', 'suprad', 'scribo', 'sum'], ['Haice', 'utei', 'in', 'coventionid', 'exdeicatis', 'ne#2', 'parvus', 'trinus', 'Ndinum', 'senatuosque', 'sententia', 'utei', 'scio', 'esetis', 'is', 'sententia', 'ita', 'sum', 'Sei', 'ques', 'esent', 'quei', 'arvorsum', 'ead', 'fecisent', 'quam#4', 'suprad', 'scribo', 'sum', 'eeis', 'res', 'caputalem', 'facio', 'censuere'], ['atque', 'utei', 'hoce', 'in', 'tabolam', 'ahenam', 'inceideretis', 'ita', 'senatus', 'aiquom', 'censeo', 'uteique', 'is', 'figier', 'ioubeatis', 'ubei', 'facilumed', 'gnoscier', 'potisit'], ['atque', 'utei', 'is', 'Bacanalia', 'seeo', 'qui', 'sum', 'exstrad', 'quam#4', 'seeo', 'quis#2', 'ibei', 'sacer', 'sum', 'ita', 'utei', 'suprad', 'scribo', 'sum', 'in', 'dies', 'X', 'quis#2', 'vobeis', 'tabelai', 'datai', 'sum', 'facio', 'utei', 'dismota', 'sient'], ['in', 'ager', 'Teurano'], ['Q.', 'Marcius', 'Lucius', 'filius', 'spurius', 'Postumius', 'Lucius', 'filius', 'consul', 'senatus', 'consulo', 'Nona', 'Octobribus', 'apud', 'aedes', 'Bellona'], ['scribo', 'adsum', 'M.', 'Claudius', 'Marcus', 'filius', 'L.', 'Valerius', 'Publius', 'filius', 'Q.', 'Minucius', 'Gaius', 'filius'], ['de', 'Bacchanal', 'quis#2', 'foederatus', 'sum', 'ita', 'edico', 'censuere', 'ne', 'quis#2', 'is', 'Bacchanal', 'habeo', 'volo#1'], ['si', 'quis#2', 'sum', 'quis#2', 'se', 'dico#2', 'necesse', 'sum', 'Bacchanal', 'habeo', 'is', 'ut', 'ad', 'praetor', 'urbanus', 'Roma', 'venio', 'deque', 'is', 'res', 'ubi', 'is', 'verbum', 'audio', 'sum', 'ut', 'senatus', 'noster', 'decerno', 'dum', 'ne#2', 'parvus', 'senator', 'centum', 'adsum', 'cum', 'is', 'res', 'consulo'], ['Baccha', 'vir', 'ne#2', 'quis#2', 'adeo', 'volo#1', 'civis', 'Romanus', 'neve', 'nomen', 'Latinum', 'neve', 'socius', 'quisquam', 'nisi', 'praetor', 'urbanus', 'adeo', 'isque', 'de', 'senatus', 'sententia', 'dum', 'ne#2', 'parvus', 'senator', 'centum', 'adsum', 'cum', 'is', 'res', 'consulo', 'jubeo'], ['Censuere'], ['sacerdos', 'ne#2', 'quis#2', 'vir', 'sum'], ['magister', 'neque', 'vir', 'neque', 'mulier', 'quisquam', 'sum'], ['neve', 'pecunia', 'quisquam', 'is', 'communis', 'habeo', 'volo#1'], ['neve', 'magistratus', 'neve', 'pro', 'magistratus', 'neque', 'vir', 'neque', 'mulier', 'quisquam', 'facio', 'volo#1'], ['neve', 'posthac', 'inter', 'se', 'coniuro', 'neve', 'convovisse', 'neve', 'conspondisse', 'neve', 'compromisisse', 'volo#1', 'neve', 'quisquam', 'fides', 'inter', 'se', 'do', 'volo#1'], ['sacer', 'in', 'occultus', 'ne#2', 'quisquam', 'facio', 'volo#1'], ['neve', 'in', 'publicus', 'neve', 'in', 'privo', 'neve', 'extra', 'urbs', 'sacer', 'quisquam', 'facio', 'volo#1', 'nisi', 'praetor', 'urbanus', 'adeo', 'isque', 'de', 'senatus', 'sententia', 'dum', 'ne#2', 'parvus', 'senator', 'centum', 'adsum', 'cum', 'is', 'res', 'consulo', 'jubeo'], ['Censuere'], ['homo', 'plus', 'quinque', 'universus', 'vir', 'atque', 'mulier', 'sacer', 'ne#2', 'quisquam', 'facio', 'volo#1', 'neve', 'interibi', 'vir', 'plus', 'duo', 'mulier', 'plus', 'tres', 'adfuisse', 'volo', 'nisi', 'de', 'praetor', 'urbanus', 'senatusque', 'sententia', 'ut', 'supra', 'scribo', 'sum'], ['hic', 'ut', 'in', 'contio', 'edico', 'ne#2', 'parvus', 'trinus', 'nundinus', 'senatusque', 'sententia', 'ut', 'scio', 'sum', 'is', 'sententia', 'ita', 'sum', 'si', 'quis#2', 'sum', 'quis#2', 'adversus', 'is', 'facio', 'quam#4', 'supra', 'scribo', 'sum', 'is', 'res', 'capitalis', 'facio', 'censuere', 'atque', 'ut', 'hic', 'in', 'tabula', 'aeneus', 'incido', 'ita', 'senatus', 'aequus', 'censeo', 'utque', 'is', 'figi', 'iubeatis', 'ubi', 'facilis', 'nosci', 'possum'], ['atque', 'ut', 'is', 'Bacchanalis', 'si', 'qui', 'sum', 'extra', 'quis', 'si', 'quis#2', 'ibi', 'sacer', 'sum', 'ita', 'ut', 'supra', 'scribo', 'sum', 'in', 'dies', 'decem', 'quis#2', 'vos', 'tabella', 'do', 'sum', 'facio', 'ut', 'dimoveo', 'sum'], ['postremus', 'dico#2', 'primus', 'taceo'], ['apud', 'Latinus', 'Marcius', 'vates', 'primus', 'praeceptum', 'compono', 'ex', 'quis#2', 'sum', 'ille', 'postr'], ['-', 'tac'], [], ['ne', 'ningulus', 'mederi', 'queo', 'Ningulus', 'nullus'], ['Marcius', 'vates', 'ne', '-', 'queo']]\n"
     ]
    }
   ],
   "source": [
    "print(str(time2corpus[2]))"
   ]
  },
  {
   "cell_type": "markdown",
   "metadata": {},
   "source": [
    "Following the findings of Sprugnoli et al. (2019) and Ribary & McGillivray (2020), for each time interval I train a fasttext model:"
   ]
  },
  {
   "cell_type": "markdown",
   "metadata": {
    "id": "ZWZPf_3bUe8n"
   },
   "source": [
    "I train FastText embeddings from the texts. \n",
    "\n",
    "`min_count`: the minimum frequency threshold allowed for a word to be included; set to 3 following Ribary & McGillivray (2020)\n",
    "\n",
    "`vector_size`: the number of dimensions in which we wish to represent our word. This is the size of the word embedding; typically between 100 and 1,000. Set to 100 following Ribary & McGillivray (2020).\n",
    "\n",
    "`window`: The size of the context window determines how many words before and after a given word would be included as context words of the given word.  Typically between 5 and 10. Set to 10 following Sprugnoli et al. (2020).\n",
    "\n",
    "`sg`: – Training algorithm: 1 for skip-gram; otherwise CBOW. Set to 10 following Ribary & McGillivray (2020).\n"
   ]
  },
  {
   "cell_type": "code",
   "execution_count": 183,
   "metadata": {
    "colab": {
     "base_uri": "https://localhost:8080/"
    },
    "id": "U7IjvEPpUfTQ",
    "outputId": "90320e7f-1107-4185-9e7e-c8808d04b65d"
   },
   "outputs": [
    {
     "name": "stdout",
     "output_type": "stream",
     "text": [
      "It has taken 1 seconds\n"
     ]
    }
   ],
   "source": [
    "start = time.time()\n",
    "#model = gensim.models.Word2Vec(time2corpus[0][0], min_count=1, vector_size=300, window = 5, sg = 0)\n",
    "model = FastText(vector_size=100, window=10, min_count=3)  # instantiate\n",
    "model.build_vocab(corpus_iterable=time2corpus[0][0])\n",
    "model.train(corpus_iterable=time2corpus[0][0], total_examples=len(time2corpus[0][0]), epochs=10)  # train\n",
    "#model = fasttext.train_unsupervised(time2corpus[0][0], model='skipgram')\n",
    "end = time.time()\n",
    "print(\"It has taken\", round(end - start), \"seconds\")"
   ]
  },
  {
   "cell_type": "code",
   "execution_count": 184,
   "metadata": {
    "colab": {
     "base_uri": "https://localhost:8080/"
    },
    "id": "-SKoa9tdLH62",
    "outputId": "b3d6c08e-79fa-4832-e899-80933ad395d7"
   },
   "outputs": [
    {
     "name": "stdout",
     "output_type": "stream",
     "text": [
      "word #0/2 is o\n",
      "word #1/2 is i\n"
     ]
    }
   ],
   "source": [
    "print_vocab(model, 100)"
   ]
  },
  {
   "cell_type": "markdown",
   "metadata": {},
   "source": [
    "I now check the similar words to \"dies\":"
   ]
  },
  {
   "cell_type": "code",
   "execution_count": 185,
   "metadata": {},
   "outputs": [
    {
     "data": {
      "text/plain": [
       "[('i', 0.15906298160552979), ('o', -0.1526741087436676)]"
      ]
     },
     "execution_count": 185,
     "metadata": {},
     "output_type": "execute_result"
    }
   ],
   "source": [
    "model.wv.similar_by_word('dies', 10)"
   ]
  },
  {
   "cell_type": "markdown",
   "metadata": {},
   "source": [
    "I now train one model for each time interval:"
   ]
  },
  {
   "cell_type": "code",
   "execution_count": 99,
   "metadata": {},
   "outputs": [
    {
     "name": "stdout",
     "output_type": "stream",
     "text": [
      "0\n",
      "1\n",
      "2\n",
      "3\n",
      "4\n",
      "5\n",
      "6\n",
      "7\n",
      "8\n"
     ]
    },
    {
     "ename": "RuntimeError",
     "evalue": "you must first build vocabulary before training the model",
     "output_type": "error",
     "traceback": [
      "\u001b[0;31m---------------------------------------------------------------------------\u001b[0m",
      "\u001b[0;31mRuntimeError\u001b[0m                              Traceback (most recent call last)",
      "\u001b[0;32m<ipython-input-99-9c041f7dfe4c>\u001b[0m in \u001b[0;36m<module>\u001b[0;34m\u001b[0m\n\u001b[1;32m      7\u001b[0m         \u001b[0mmodel\u001b[0m \u001b[0;34m=\u001b[0m \u001b[0mFastText\u001b[0m\u001b[0;34m(\u001b[0m\u001b[0mvector_size\u001b[0m\u001b[0;34m=\u001b[0m\u001b[0;36m100\u001b[0m\u001b[0;34m,\u001b[0m \u001b[0mwindow\u001b[0m\u001b[0;34m=\u001b[0m\u001b[0;36m10\u001b[0m\u001b[0;34m,\u001b[0m \u001b[0mmin_count\u001b[0m\u001b[0;34m=\u001b[0m\u001b[0;36m3\u001b[0m\u001b[0;34m)\u001b[0m  \u001b[0;31m# instantiate\u001b[0m\u001b[0;34m\u001b[0m\u001b[0;34m\u001b[0m\u001b[0m\n\u001b[1;32m      8\u001b[0m         \u001b[0mmodel\u001b[0m\u001b[0;34m.\u001b[0m\u001b[0mbuild_vocab\u001b[0m\u001b[0;34m(\u001b[0m\u001b[0mcorpus_iterable\u001b[0m\u001b[0;34m=\u001b[0m\u001b[0mtime2corpus\u001b[0m\u001b[0;34m[\u001b[0m\u001b[0mt\u001b[0m\u001b[0;34m]\u001b[0m\u001b[0;34m[\u001b[0m\u001b[0;36m0\u001b[0m\u001b[0;34m]\u001b[0m\u001b[0;34m)\u001b[0m\u001b[0;34m\u001b[0m\u001b[0;34m\u001b[0m\u001b[0m\n\u001b[0;32m----> 9\u001b[0;31m         \u001b[0mmodel\u001b[0m\u001b[0;34m.\u001b[0m\u001b[0mtrain\u001b[0m\u001b[0;34m(\u001b[0m\u001b[0mcorpus_iterable\u001b[0m\u001b[0;34m=\u001b[0m\u001b[0mtime2corpus\u001b[0m\u001b[0;34m[\u001b[0m\u001b[0mt\u001b[0m\u001b[0;34m]\u001b[0m\u001b[0;34m[\u001b[0m\u001b[0;36m0\u001b[0m\u001b[0;34m]\u001b[0m\u001b[0;34m,\u001b[0m \u001b[0mtotal_examples\u001b[0m\u001b[0;34m=\u001b[0m\u001b[0mlen\u001b[0m\u001b[0;34m(\u001b[0m\u001b[0mtime2corpus\u001b[0m\u001b[0;34m[\u001b[0m\u001b[0mt\u001b[0m\u001b[0;34m]\u001b[0m\u001b[0;34m[\u001b[0m\u001b[0;36m0\u001b[0m\u001b[0;34m]\u001b[0m\u001b[0;34m)\u001b[0m\u001b[0;34m,\u001b[0m \u001b[0mepochs\u001b[0m\u001b[0;34m=\u001b[0m\u001b[0;36m10\u001b[0m\u001b[0;34m)\u001b[0m  \u001b[0;31m# train\u001b[0m\u001b[0;34m\u001b[0m\u001b[0;34m\u001b[0m\u001b[0m\n\u001b[0m\u001b[1;32m     10\u001b[0m         \u001b[0mmodels\u001b[0m\u001b[0;34m.\u001b[0m\u001b[0mappend\u001b[0m\u001b[0;34m(\u001b[0m\u001b[0mmodel\u001b[0m\u001b[0;34m)\u001b[0m\u001b[0;34m\u001b[0m\u001b[0;34m\u001b[0m\u001b[0m\n\u001b[1;32m     11\u001b[0m         \u001b[0;31m#model = fasttext.train_unsupervised(time2corpus[0][0], model='skipgram')\u001b[0m\u001b[0;34m\u001b[0m\u001b[0;34m\u001b[0m\u001b[0;34m\u001b[0m\u001b[0m\n",
      "\u001b[0;32m~/opt/anaconda3/lib/python3.8/site-packages/gensim/models/word2vec.py\u001b[0m in \u001b[0;36mtrain\u001b[0;34m(self, corpus_iterable, corpus_file, total_examples, total_words, epochs, start_alpha, end_alpha, word_count, queue_factor, report_delay, compute_loss, callbacks, **kwargs)\u001b[0m\n\u001b[1;32m   1032\u001b[0m         \u001b[0mself\u001b[0m\u001b[0;34m.\u001b[0m\u001b[0mepochs\u001b[0m \u001b[0;34m=\u001b[0m \u001b[0mepochs\u001b[0m\u001b[0;34m\u001b[0m\u001b[0;34m\u001b[0m\u001b[0m\n\u001b[1;32m   1033\u001b[0m \u001b[0;34m\u001b[0m\u001b[0m\n\u001b[0;32m-> 1034\u001b[0;31m         \u001b[0mself\u001b[0m\u001b[0;34m.\u001b[0m\u001b[0m_check_training_sanity\u001b[0m\u001b[0;34m(\u001b[0m\u001b[0mepochs\u001b[0m\u001b[0;34m=\u001b[0m\u001b[0mepochs\u001b[0m\u001b[0;34m,\u001b[0m \u001b[0mtotal_examples\u001b[0m\u001b[0;34m=\u001b[0m\u001b[0mtotal_examples\u001b[0m\u001b[0;34m,\u001b[0m \u001b[0mtotal_words\u001b[0m\u001b[0;34m=\u001b[0m\u001b[0mtotal_words\u001b[0m\u001b[0;34m)\u001b[0m\u001b[0;34m\u001b[0m\u001b[0;34m\u001b[0m\u001b[0m\n\u001b[0m\u001b[1;32m   1035\u001b[0m         \u001b[0mself\u001b[0m\u001b[0;34m.\u001b[0m\u001b[0m_check_corpus_sanity\u001b[0m\u001b[0;34m(\u001b[0m\u001b[0mcorpus_iterable\u001b[0m\u001b[0;34m=\u001b[0m\u001b[0mcorpus_iterable\u001b[0m\u001b[0;34m,\u001b[0m \u001b[0mcorpus_file\u001b[0m\u001b[0;34m=\u001b[0m\u001b[0mcorpus_file\u001b[0m\u001b[0;34m,\u001b[0m \u001b[0mpasses\u001b[0m\u001b[0;34m=\u001b[0m\u001b[0mepochs\u001b[0m\u001b[0;34m)\u001b[0m\u001b[0;34m\u001b[0m\u001b[0;34m\u001b[0m\u001b[0m\n\u001b[1;32m   1036\u001b[0m \u001b[0;34m\u001b[0m\u001b[0m\n",
      "\u001b[0;32m~/opt/anaconda3/lib/python3.8/site-packages/gensim/models/word2vec.py\u001b[0m in \u001b[0;36m_check_training_sanity\u001b[0;34m(self, epochs, total_examples, total_words, **kwargs)\u001b[0m\n\u001b[1;32m   1522\u001b[0m \u001b[0;34m\u001b[0m\u001b[0m\n\u001b[1;32m   1523\u001b[0m         \u001b[0;32mif\u001b[0m \u001b[0;32mnot\u001b[0m \u001b[0mself\u001b[0m\u001b[0;34m.\u001b[0m\u001b[0mwv\u001b[0m\u001b[0;34m.\u001b[0m\u001b[0mkey_to_index\u001b[0m\u001b[0;34m:\u001b[0m  \u001b[0;31m# should be set by `build_vocab`\u001b[0m\u001b[0;34m\u001b[0m\u001b[0;34m\u001b[0m\u001b[0m\n\u001b[0;32m-> 1524\u001b[0;31m             \u001b[0;32mraise\u001b[0m \u001b[0mRuntimeError\u001b[0m\u001b[0;34m(\u001b[0m\u001b[0;34m\"you must first build vocabulary before training the model\"\u001b[0m\u001b[0;34m)\u001b[0m\u001b[0;34m\u001b[0m\u001b[0;34m\u001b[0m\u001b[0m\n\u001b[0m\u001b[1;32m   1525\u001b[0m         \u001b[0;32mif\u001b[0m \u001b[0;32mnot\u001b[0m \u001b[0mlen\u001b[0m\u001b[0;34m(\u001b[0m\u001b[0mself\u001b[0m\u001b[0;34m.\u001b[0m\u001b[0mwv\u001b[0m\u001b[0;34m.\u001b[0m\u001b[0mvectors\u001b[0m\u001b[0;34m)\u001b[0m\u001b[0;34m:\u001b[0m\u001b[0;34m\u001b[0m\u001b[0;34m\u001b[0m\u001b[0m\n\u001b[1;32m   1526\u001b[0m             \u001b[0;32mraise\u001b[0m \u001b[0mRuntimeError\u001b[0m\u001b[0;34m(\u001b[0m\u001b[0;34m\"you must initialize vectors before training the model\"\u001b[0m\u001b[0;34m)\u001b[0m\u001b[0;34m\u001b[0m\u001b[0;34m\u001b[0m\u001b[0m\n",
      "\u001b[0;31mRuntimeError\u001b[0m: you must first build vocabulary before training the model"
     ]
    }
   ],
   "source": [
    "models = list()\n",
    "start = time.time()\n",
    "for t in range(len(time2corpus)):\n",
    "    print(t)\n",
    "    if len(time2corpus[t])>0:\n",
    "        #model = gensim.models.Word2Vec(time2corpus[0][0], min_count=1, vector_size=300, window = 5, sg = 0)\n",
    "        model = FastText(vector_size=100, window=10, min_count=3)  # instantiate\n",
    "        model.build_vocab(corpus_iterable=time2corpus[t][0])\n",
    "        model.train(corpus_iterable=time2corpus[t][0], total_examples=len(time2corpus[t][0]), epochs=10)  # train\n",
    "        models.append(model)\n",
    "        #model = fasttext.train_unsupervised(time2corpus[0][0], model='skipgram')\n",
    "end = time.time()\n",
    "print(\"It has taken\", round(end - start), \"seconds\")"
   ]
  },
  {
   "cell_type": "markdown",
   "metadata": {},
   "source": [
    "Let's check some models:"
   ]
  },
  {
   "cell_type": "code",
   "execution_count": 42,
   "metadata": {},
   "outputs": [
    {
     "name": "stdout",
     "output_type": "stream",
     "text": [
      "word #0/31 is .\n",
      "word #1/31 is ,\n",
      "word #2/31 is ...\n",
      "word #3/31 is si\n",
      "word #4/31 is ;\n",
      "word #5/31 is esto\n",
      "word #6/31 is ne\n",
      "word #7/31 is in\n",
      "word #8/31 is ni\n",
      "word #9/31 is cum\n",
      "word #10/31 is qui\n",
      "word #11/31 is aut\n",
      "word #12/31 is volet\n",
      "word #13/31 is dies\n",
      "word #14/31 is se\n",
      "word #15/31 is escit\n",
      "word #16/31 is dato\n",
      "word #17/31 is ius\n",
      "word #18/31 is neve\n"
     ]
    }
   ],
   "source": [
    "print_vocab(models[0], 20)"
   ]
  },
  {
   "cell_type": "code",
   "execution_count": 49,
   "metadata": {},
   "outputs": [
    {
     "data": {
      "text/plain": [
       "[('volet', 0.24126018583774567),\n",
       " (';', 0.14060211181640625),\n",
       " ('ius', 0.10539568960666656),\n",
       " ('esto', 0.09501276910305023),\n",
       " ('in', 0.08913788944482803),\n",
       " (',', 0.08735428005456924),\n",
       " ('escit', 0.07665599882602692),\n",
       " ('uti', 0.07507738471031189),\n",
       " ('si', 0.05550557002425194),\n",
       " ('se', 0.05193779617547989)]"
      ]
     },
     "execution_count": 49,
     "metadata": {},
     "output_type": "execute_result"
    }
   ],
   "source": [
    "models[0].wv.similar_by_word('dies', 10)"
   ]
  },
  {
   "cell_type": "code",
   "execution_count": 43,
   "metadata": {},
   "outputs": [
    {
     "name": "stdout",
     "output_type": "stream",
     "text": [
      "word #0/31 is .\n",
      "word #1/31 is ,\n",
      "word #2/31 is ...\n",
      "word #3/31 is si\n",
      "word #4/31 is ;\n",
      "word #5/31 is esto\n",
      "word #6/31 is ne\n",
      "word #7/31 is in\n",
      "word #8/31 is ni\n",
      "word #9/31 is cum\n",
      "word #10/31 is qui\n",
      "word #11/31 is aut\n",
      "word #12/31 is volet\n",
      "word #13/31 is dies\n",
      "word #14/31 is se\n",
      "word #15/31 is escit\n",
      "word #16/31 is dato\n",
      "word #17/31 is ius\n",
      "word #18/31 is neve\n"
     ]
    }
   ],
   "source": [
    "print_vocab(models[1], 20)"
   ]
  },
  {
   "cell_type": "code",
   "execution_count": 45,
   "metadata": {},
   "outputs": [
    {
     "name": "stdout",
     "output_type": "stream",
     "text": [
      "word #0/31 is .\n",
      "word #1/31 is ,\n",
      "word #2/31 is ...\n",
      "word #3/31 is si\n",
      "word #4/31 is ;\n",
      "word #5/31 is esto\n",
      "word #6/31 is ne\n",
      "word #7/31 is in\n",
      "word #8/31 is ni\n",
      "word #9/31 is cum\n",
      "word #10/31 is qui\n",
      "word #11/31 is aut\n",
      "word #12/31 is volet\n",
      "word #13/31 is dies\n",
      "word #14/31 is se\n",
      "word #15/31 is escit\n",
      "word #16/31 is dato\n",
      "word #17/31 is ius\n",
      "word #18/31 is neve\n"
     ]
    }
   ],
   "source": [
    "print_vocab(models[25], 20)"
   ]
  },
  {
   "cell_type": "markdown",
   "metadata": {
    "id": "HeSIUxsE8nF7"
   },
   "source": [
    "# Semantic change with cosine similarity"
   ]
  },
  {
   "cell_type": "markdown",
   "metadata": {
    "id": "rD_hjxyy9AP8"
   },
   "source": [
    "I train two word2vec models, one for each dataframe corresponding to a time period. I choose the parameters that led to the best model (see script 1_Corpus_Processing script). This takes approximately 5 minutes. **You can skip this cell.**"
   ]
  },
  {
   "cell_type": "code",
   "execution_count": null,
   "metadata": {
    "colab": {
     "base_uri": "https://localhost:8080/",
     "height": 324
    },
    "id": "PlsqbLKV9GV0",
    "outputId": "d5a12604-75b3-4ce8-9cb7-67e98ffe612f"
   },
   "outputs": [],
   "source": [
    "model1 = gensim.models.Word2Vec(df1['Lemmas_clean'], min_count=1, vector_size=300, window = 5, sg = 1)\n",
    "model2 = gensim.models.Word2Vec(df2['Lemmas_clean'], min_count=1, vector_size=300, window = 5, sg = 1)"
   ]
  },
  {
   "cell_type": "markdown",
   "metadata": {
    "id": "Ou38w-yl9MfQ"
   },
   "source": [
    "Save the models. **You can skip this cell.**"
   ]
  },
  {
   "cell_type": "code",
   "execution_count": null,
   "metadata": {
    "colab": {
     "base_uri": "https://localhost:8080/"
    },
    "id": "5fKbDNDx9NK4",
    "outputId": "3a75bd27-df60-4cdc-f6ec-562fdb3e17bc"
   },
   "outputs": [],
   "source": [
    "models_folder = '/content/drive/My Drive/2021/Darwin paper/Files/Models'\n",
    "models = [model1, model2]\n",
    "models_names = [\"model1\", \"model2\"]\n",
    "for i in range(len(models)):\n",
    "  print(\"Saving model number\", i+1)\n",
    "  models[i].save(os.path.join(models_folder, models_names[i]))"
   ]
  },
  {
   "cell_type": "markdown",
   "metadata": {
    "id": "Ekxdd56L9Q4n"
   },
   "source": [
    "I load the models:"
   ]
  },
  {
   "cell_type": "code",
   "execution_count": null,
   "metadata": {
    "id": "beokoQ3T9SOy"
   },
   "outputs": [],
   "source": [
    "models_folder = '/content/drive/My Drive/2021/Darwin paper/Files/Models'\n",
    "model1 = gensim.models.Word2Vec.load(os.path.join(models_folder, \"model1\"))\n",
    "model2 = gensim.models.Word2Vec.load(os.path.join(models_folder, \"model2\"))\n",
    "models = [model1, model2]\n",
    "models_names = [\"model1\", \"model2\"]"
   ]
  },
  {
   "cell_type": "markdown",
   "metadata": {
    "id": "EJ0JeUIY9UiQ"
   },
   "source": [
    "What are the vocabularies of these models?"
   ]
  },
  {
   "cell_type": "code",
   "execution_count": null,
   "metadata": {
    "colab": {
     "base_uri": "https://localhost:8080/"
    },
    "id": "LF7BWh-43S0-",
    "outputId": "b8b7e5b2-19d0-4746-f5ed-ef2f46837d61"
   },
   "outputs": [],
   "source": [
    "print_vocab(model1, 10)"
   ]
  },
  {
   "cell_type": "code",
   "execution_count": null,
   "metadata": {
    "colab": {
     "base_uri": "https://localhost:8080/"
    },
    "id": "HZWwOnWl3mf4",
    "outputId": "ddfb4633-2249-457a-d92a-227069c2b3fe"
   },
   "outputs": [],
   "source": [
    "print_vocab(model2,10)"
   ]
  },
  {
   "cell_type": "code",
   "execution_count": null,
   "metadata": {
    "colab": {
     "base_uri": "https://localhost:8080/"
    },
    "id": "huhIE_-G9bgx",
    "outputId": "fe5f9743-5098-44ee-ac38-9ab26ef2402e"
   },
   "outputs": [],
   "source": [
    "print(str(len(list(model1.wv.index_to_key))))\n",
    "print(str(len(list(model2.wv.index_to_key))))"
   ]
  },
  {
   "cell_type": "markdown",
   "metadata": {
    "id": "1eXUKgJ2aLGe"
   },
   "source": [
    "The intersection between the vocabularies of the two models:"
   ]
  },
  {
   "cell_type": "code",
   "execution_count": null,
   "metadata": {
    "colab": {
     "base_uri": "https://localhost:8080/"
    },
    "id": "ljpmd1xbaOeN",
    "outputId": "858c2453-16af-4016-fc66-78d4740d2b5f"
   },
   "outputs": [],
   "source": [
    "vocab1 = set(list(model1.wv.index_to_key))\n",
    "vocab2 = set(list(model2.wv.index_to_key))\n",
    "len(vocab1.intersection(vocab2))"
   ]
  },
  {
   "cell_type": "markdown",
   "metadata": {
    "id": "S4rjlshWPPkX"
   },
   "source": [
    "## Step 3. Embedding space alignment"
   ]
  },
  {
   "cell_type": "markdown",
   "metadata": {
    "id": "2-ldNIkIP_ew"
   },
   "source": [
    "I will be using code from https://gist.github.com/zhicongchen/9e23d5c3f1e5b1293b16133485cd17d8, ported from HistWords <https://github.com/williamleif/histwords>."
   ]
  },
  {
   "cell_type": "markdown",
   "metadata": {
    "id": "lMCblsx5QZTl"
   },
   "source": [
    "First, I define a function to find the intersection between the vocabularies of two word2vec models:"
   ]
  },
  {
   "cell_type": "code",
   "execution_count": null,
   "metadata": {
    "id": "8OeU87DWPbse"
   },
   "outputs": [],
   "source": [
    "def intersection_align_gensim(m1, m2, words=None):\n",
    "    \"\"\"\n",
    "    Intersect two gensim word2vec models, m1 and m2.\n",
    "    Only the shared vocabulary between them is kept.\n",
    "    If 'words' is set (as list or set), then the vocabulary is intersected with this list as well.\n",
    "    Indices are re-organized from 0..N in order of descending frequency (=sum of counts from both m1 and m2).\n",
    "    These indices correspond to the new syn0 and syn0norm objects in both gensim models:\n",
    "        -- so that Row 0 of m1.syn0 will be for the same word as Row 0 of m2.syn0\n",
    "        -- you can find the index of any word on the .index2word list: model.index2word.index(word) => 2\n",
    "    The .vocab dictionary is also updated for each model, preserving the count but updating the index.\n",
    "    \"\"\"\n",
    "\n",
    "    # Get the vocab for each model\n",
    "    vocab_m1 = set(m1.wv.index_to_key)\n",
    "    vocab_m2 = set(m2.wv.index_to_key)\n",
    "\n",
    "    # Find the common vocabulary\n",
    "    common_vocab = vocab_m1 & vocab_m2\n",
    "    if words: common_vocab &= set(words)\n",
    "\n",
    "    # If no alignment necessary because vocab is identical...\n",
    "    if not vocab_m1 - common_vocab and not vocab_m2 - common_vocab:\n",
    "        return (m1,m2)\n",
    "\n",
    "    # Otherwise sort by frequency (summed for both)\n",
    "    common_vocab = list(common_vocab)\n",
    "    common_vocab.sort(key=lambda w: m1.wv.get_vecattr(w, \"count\") + m2.wv.get_vecattr(w, \"count\"), reverse=True)\n",
    "    # print(len(common_vocab))\n",
    "\n",
    "    # Then for each model...\n",
    "    for m in [m1, m2]:\n",
    "        # Replace old syn0norm array with new one (with common vocab)\n",
    "        indices = [m.wv.key_to_index[w] for w in common_vocab]\n",
    "        old_arr = m.wv.vectors\n",
    "        new_arr = np.array([old_arr[index] for index in indices])\n",
    "        m.wv.vectors = new_arr\n",
    "\n",
    "        # Replace old vocab dictionary with new one (with common vocab)\n",
    "        # and old index2word with new one\n",
    "        new_key_to_index = {}\n",
    "        new_index_to_key = []\n",
    "        for new_index, key in enumerate(common_vocab):\n",
    "            new_key_to_index[key] = new_index\n",
    "            new_index_to_key.append(key)\n",
    "        m.wv.key_to_index = new_key_to_index\n",
    "        m.wv.index_to_key = new_index_to_key\n",
    "        \n",
    "        print(len(m.wv.key_to_index), len(m.wv.vectors))\n",
    "        \n",
    "    return (m1,m2)"
   ]
  },
  {
   "cell_type": "markdown",
   "metadata": {
    "id": "1le410lRPWhz"
   },
   "source": [
    "Then, I define a function for aligning two spaces with [Orthogonal Procrustes](https://simonensemble.github.io/2018-10/orthogonal-procrustes.html):"
   ]
  },
  {
   "cell_type": "code",
   "execution_count": null,
   "metadata": {
    "id": "BQGkiPKjQrus"
   },
   "outputs": [],
   "source": [
    "def smart_procrustes_align_gensim(base_embed, other_embed, words=None):\n",
    "    \"\"\"\n",
    "    Original script: https://gist.github.com/quadrismegistus/09a93e219a6ffc4f216fb85235535faf\n",
    "    Procrustes align two gensim word2vec models (to allow for comparison between same word across models).\n",
    "    Code ported from HistWords <https://github.com/williamleif/histwords> by William Hamilton <wleif@stanford.edu>.\n",
    "        \n",
    "    First, intersect the vocabularies (see `intersection_align_gensim` documentation).\n",
    "    Then do the alignment on the other_embed model.\n",
    "    Replace the other_embed model's syn0 and syn0norm numpy matrices with the aligned version.\n",
    "    Return other_embed.\n",
    "    If `words` is set, intersect the two models' vocabulary with the vocabulary in words (see `intersection_align_gensim` documentation).\n",
    "    \"\"\"\n",
    "\n",
    "    # make sure vocabulary and indices are aligned\n",
    "    in_base_embed, in_other_embed = intersection_align_gensim(base_embed, other_embed, words=words)\n",
    "\n",
    "    # get the (normalized) embedding matrices\n",
    "    base_vecs = in_base_embed.wv.get_normed_vectors()\n",
    "    other_vecs = in_other_embed.wv.get_normed_vectors()\n",
    "\n",
    "    # just a matrix dot product with numpy\n",
    "    m = other_vecs.T.dot(base_vecs) \n",
    "    # SVD method from numpy\n",
    "    u, _, v = np.linalg.svd(m)\n",
    "    # another matrix operation\n",
    "    ortho = u.dot(v) \n",
    "    # Replace original array with modified one, i.e. multiplying the embedding matrix by \"ortho\"\n",
    "    other_embed.wv.vectors = (other_embed.wv.vectors).dot(ortho)    \n",
    "    \n",
    "    return other_embed"
   ]
  },
  {
   "cell_type": "markdown",
   "metadata": {
    "id": "mhvxxR7qQ3Hc"
   },
   "source": [
    "Now I can apply the function to my models:"
   ]
  },
  {
   "cell_type": "code",
   "execution_count": null,
   "metadata": {
    "colab": {
     "base_uri": "https://localhost:8080/"
    },
    "id": "oI3tPmmNRXcU",
    "outputId": "c347bdb8-ad34-4133-fecb-f37416bbcf2f"
   },
   "outputs": [],
   "source": [
    "smart_procrustes_align_gensim(model1, model2, words=None)"
   ]
  },
  {
   "cell_type": "markdown",
   "metadata": {
    "id": "EKGD6NZPbxza"
   },
   "source": [
    "Now the two models have been aligned and have the same vocabulary:"
   ]
  },
  {
   "cell_type": "code",
   "execution_count": null,
   "metadata": {
    "colab": {
     "base_uri": "https://localhost:8080/"
    },
    "id": "drWn32avbcju",
    "outputId": "46b2c80a-9d1c-4ae2-f0df-4b61cc8895ae"
   },
   "outputs": [],
   "source": [
    "len(model1.wv.index_to_key)"
   ]
  },
  {
   "cell_type": "code",
   "execution_count": null,
   "metadata": {
    "colab": {
     "base_uri": "https://localhost:8080/"
    },
    "id": "HdPZFhTcbtXN",
    "outputId": "67fd1a9b-365b-487c-9cee-1049d65e7b03"
   },
   "outputs": [],
   "source": [
    "len(model2.wv.index_to_key)"
   ]
  },
  {
   "cell_type": "code",
   "execution_count": null,
   "metadata": {
    "colab": {
     "base_uri": "https://localhost:8080/"
    },
    "id": "Q9zqjWWmb7GE",
    "outputId": "b5c928f6-9734-4de0-f920-986420aabdab"
   },
   "outputs": [],
   "source": [
    "model1.wv.index_to_key == model2.wv.index_to_key"
   ]
  },
  {
   "cell_type": "markdown",
   "metadata": {
    "id": "EZEq7aRCbLiC"
   },
   "source": [
    "I print the vocabulary:"
   ]
  },
  {
   "cell_type": "code",
   "execution_count": null,
   "metadata": {
    "id": "sbcY4CXkcAZ-"
   },
   "outputs": [],
   "source": [
    "model1.wv.index_to_key"
   ]
  },
  {
   "cell_type": "markdown",
   "metadata": {
    "id": "1MKJmJccbO_3"
   },
   "source": [
    "I save the aligned models:"
   ]
  },
  {
   "cell_type": "code",
   "execution_count": null,
   "metadata": {
    "colab": {
     "base_uri": "https://localhost:8080/"
    },
    "id": "tybKgXYj9sHm",
    "outputId": "b62668eb-a747-4f25-847c-b4bc83efd9a9"
   },
   "outputs": [],
   "source": [
    "for i in range(len(models)):\n",
    "  print(models_names[i])\n",
    "  models[i].save(os.path.join(models_folder, models_names[i] + \"_aligned\"))"
   ]
  },
  {
   "cell_type": "markdown",
   "metadata": {
    "id": "S1cOEvel_kkD"
   },
   "source": [
    "Let's look at the similarity between two words in the two spaces:"
   ]
  },
  {
   "cell_type": "code",
   "execution_count": null,
   "metadata": {
    "colab": {
     "base_uri": "https://localhost:8080/"
    },
    "id": "HOkOOvUR_cvG",
    "outputId": "8f350bd0-88ff-4916-e427-f09d74a3a089"
   },
   "outputs": [],
   "source": [
    "model1.wv.similarity(\"letter\", \"note\")"
   ]
  },
  {
   "cell_type": "code",
   "execution_count": null,
   "metadata": {
    "colab": {
     "base_uri": "https://localhost:8080/"
    },
    "id": "5E8vT0c__iJt",
    "outputId": "1c027a0c-78d4-4a02-f125-fd863172a47e"
   },
   "outputs": [],
   "source": [
    "model2.wv.similarity(\"letter\", \"note\")"
   ]
  },
  {
   "cell_type": "markdown",
   "metadata": {
    "id": "YzRXv3DX-jRn"
   },
   "source": [
    "## Step 4: Measure change"
   ]
  },
  {
   "cell_type": "markdown",
   "metadata": {
    "id": "UoGHlv8M-lje"
   },
   "source": [
    "Now I can measure the cosine similarity between the embedding of a word in the first time period and the embedding of the same word in the second time period. "
   ]
  },
  {
   "cell_type": "markdown",
   "metadata": {
    "id": "j2hcRfD-Bkm0"
   },
   "source": [
    "Let's define a function that calculates the cosine similarity between the embedding of a word in t1 and the embedding of the same word in t2:"
   ]
  },
  {
   "cell_type": "code",
   "execution_count": null,
   "metadata": {
    "id": "qTFtfuLkCUJN"
   },
   "outputs": [],
   "source": [
    "def cosine_similarity(word):\n",
    "  sc = 1-spatial.distance.cosine(model1.wv[word], model2.wv[word])\n",
    "  return sc"
   ]
  },
  {
   "cell_type": "markdown",
   "metadata": {
    "id": "WtrQJ2QwCaZA"
   },
   "source": [
    "Now I calculate the semantic similarity for all words in the vocabulary, and store this in the dataframe cosine_similarity; I also add a column for the frequency of the word in the first space and another one for its frequency in the second space:"
   ]
  },
  {
   "cell_type": "code",
   "execution_count": null,
   "metadata": {
    "colab": {
     "base_uri": "https://localhost:8080/",
     "height": 419
    },
    "id": "usdtS7hxCiDc",
    "outputId": "97b22c9e-c219-4750-84df-5cf7988e168b"
   },
   "outputs": [],
   "source": [
    "cosine_similarity_df = pd.DataFrame(([w, cosine_similarity(w), model1.wv.get_vecattr(w, \"count\") , model2.wv.get_vecattr(w, \"count\") ] for w in model1.wv.index_to_key), columns = ('Word', 'Cosine_similarity', \"Frequency_t1\", \"Frequency_t2\"))\n",
    "cosine_similarity_df"
   ]
  },
  {
   "cell_type": "markdown",
   "metadata": {
    "id": "A7ztnymCHzuk"
   },
   "source": [
    "Visualise the distribution of the semantic similarity scores with a histogram:"
   ]
  },
  {
   "cell_type": "code",
   "execution_count": null,
   "metadata": {
    "colab": {
     "base_uri": "https://localhost:8080/",
     "height": 268
    },
    "id": "fXq_oDpmH21j",
    "outputId": "f7facee9-335c-40a6-d832-98f9bd6266e1"
   },
   "outputs": [],
   "source": [
    "hist = cosine_similarity_df['Cosine_similarity'].hist()"
   ]
  },
  {
   "cell_type": "markdown",
   "metadata": {
    "id": "esWwpTRWFd5E"
   },
   "source": [
    "Now I sort by decreasing semantic change score:"
   ]
  },
  {
   "cell_type": "code",
   "execution_count": null,
   "metadata": {
    "colab": {
     "base_uri": "https://localhost:8080/",
     "height": 204
    },
    "id": "y_Xd7GIZFg37",
    "outputId": "c459088f-5290-4a88-e629-8a290ecc49bf"
   },
   "outputs": [],
   "source": [
    "cosine_similarity_df_sorted = cosine_similarity_df.sort_values(by='Cosine_similarity', ascending=True)\n",
    "cosine_similarity_df_sorted.head()"
   ]
  },
  {
   "cell_type": "markdown",
   "metadata": {
    "id": "NsRvkamuUgRd"
   },
   "source": [
    "I add the total frequency:"
   ]
  },
  {
   "cell_type": "code",
   "execution_count": null,
   "metadata": {
    "colab": {
     "base_uri": "https://localhost:8080/",
     "height": 419
    },
    "id": "MzVHc5vWUjN-",
    "outputId": "4f8a9512-6587-4a21-f1aa-ac4ca3e98209"
   },
   "outputs": [],
   "source": [
    "cosine_similarity_df_sorted[\"Total_Frequency\"] = cosine_similarity_df_sorted[\"Frequency_t1\"]+cosine_similarity_df_sorted[\"Frequency_t2\"]\n",
    "cosine_similarity_df_sorted"
   ]
  },
  {
   "cell_type": "markdown",
   "metadata": {
    "id": "F8DORQZ2lUWP"
   },
   "source": [
    "I add a column with the category (function word, foreign word, numeral, and proper noun)."
   ]
  },
  {
   "cell_type": "markdown",
   "metadata": {
    "id": "_JPiipUCn9rZ"
   },
   "source": [
    "List of function words (from https://www.eltconcourse.com/training/initial/lexis/function_words.html)"
   ]
  },
  {
   "cell_type": "code",
   "execution_count": null,
   "metadata": {
    "id": "Y0q6J4H2n_gQ"
   },
   "outputs": [],
   "source": [
    "function_words = ['after', 'although', 'and', 'as', 'because', 'before', 'both', 'but', 'either', 'for', 'however', 'if','neither','nor','once','or','since','so','than','that','therefore','though','thus','till','unless','until','when','whenever','where','wherever','whether','while','yet\ta','all','another','any','both','each','either','every','her','his','its','my','neither','no','other','our','per','some','that','the','their','these','this','those','whatever','whichever','your\tabout','above','across','after','against','ahead','along','among','amongst','around','as','at','bar','before','behind','below','beneath','beside','besides','between','beyond','but','by','down','during','except','for','from','in','inside','into','less','like\tnear','of','off','on','onto','opposite','outside','over','past','per','round','save','since','through','till','to','toward','under','underneath','until','up','upon','with','within','without\tall','another','any','anybody','anyone','anything','both','each','either','everybody','everyone','everything','few','he','I','it','many','mine','neither','nobody','none','nothing','one','other','several','she','some','somebody','someone','something','that','these','they\tthis','those','we','what','whatever','which','whichever','who','whoever','whom','whose','you']"
   ]
  },
  {
   "cell_type": "markdown",
   "metadata": {
    "id": "suuoGhkh2hrw"
   },
   "source": [
    "Applying the detect package doesn't work on individual words so I use the NLTK's English dictionary instead:"
   ]
  },
  {
   "cell_type": "code",
   "execution_count": null,
   "metadata": {
    "colab": {
     "base_uri": "https://localhost:8080/"
    },
    "id": "VjAL1Kspxb8Q",
    "outputId": "c31cc6b6-d81b-43f8-ffc0-b2247cdfe70e"
   },
   "outputs": [],
   "source": [
    "#semantic_change.df.sorted['Language'] = semantic_change.df.sorted['Word'].apply(detect) \n",
    "import nltk\n",
    "nltk.download('words')\n",
    "english_vocab = set(w.lower() for w in nltk.corpus.words.words())\n",
    "len(english_vocab)"
   ]
  },
  {
   "cell_type": "code",
   "execution_count": null,
   "metadata": {
    "colab": {
     "base_uri": "https://localhost:8080/",
     "height": 419
    },
    "id": "TYLErVYbuK9B",
    "outputId": "f56b6d1f-2b86-48b1-8849-50b8f4aa4859"
   },
   "outputs": [],
   "source": [
    "# create a list of our conditions\n",
    "conditions = [\n",
    "    (cosine_similarity_df_sorted['Word'].isin(function_words)), # function words\n",
    "    ((cosine_similarity_df_sorted.Word.str.isdigit()) | (cosine_similarity_df_sorted['Word'].str.match('^\\d*?1st$')) | (cosine_similarity_df_sorted['Word'].str.match('^\\d*?2nd$')) | (cosine_similarity_df_sorted['Word'].str.match('^\\d*?3rd$')) | (cosine_similarity_df_sorted['Word'].str.match('^\\d*[^123]th$'))), # numbers\n",
    "    (cosine_similarity_df_sorted['Word'].apply(lambda x: x[0].isupper() and x[1:len(x)].islower())), # proper nouns\n",
    "    (np.invert(cosine_similarity_df_sorted['Word'].str.lower().isin(english_vocab))) # foreign words\n",
    "    ]\n",
    "\n",
    "# create a list of the values we want to assign for each condition\n",
    "values = ['Function word','Numeral', 'Proper noun', 'Foreign word']\n",
    "\n",
    "# create a new column and use np.select to assign values to it using our lists as arguments\n",
    "cosine_similarity_df_sorted['Category_automatic'] = np.select(conditions, values, default = \"\")\n",
    "cosine_similarity_df_sorted"
   ]
  },
  {
   "cell_type": "markdown",
   "metadata": {
    "id": "RNghUTXgF6JS"
   },
   "source": [
    "I save this to a file:"
   ]
  },
  {
   "cell_type": "code",
   "execution_count": null,
   "metadata": {
    "id": "neiDlSneF-Nc"
   },
   "outputs": [],
   "source": [
    "output_folder = '/content/drive/MyDrive/2021/Darwin paper/Files/Semantic_change_output/'\n",
    "if not os.path.exists(output_folder):\n",
    "  os.makedirs(output_folder)\n",
    "cosine_similarity_df_sorted.to_csv(os.path.join(output_folder, 'Cosine_similarity_all_words.csv'), encoding='utf-8')"
   ]
  },
  {
   "cell_type": "markdown",
   "metadata": {
    "id": "1qq3y2bLFzEO"
   },
   "source": [
    "The top most changed words:"
   ]
  },
  {
   "cell_type": "code",
   "execution_count": null,
   "metadata": {
    "colab": {
     "base_uri": "https://localhost:8080/",
     "height": 419
    },
    "id": "wdLX3acPFn8g",
    "outputId": "1ca52968-093f-4b5b-ad2c-46ea6f557669"
   },
   "outputs": [],
   "source": [
    "cosine_similarity_df_sorted.head(100)"
   ]
  },
  {
   "cell_type": "code",
   "execution_count": null,
   "metadata": {
    "colab": {
     "base_uri": "https://localhost:8080/",
     "height": 80
    },
    "id": "CtRGJvCmSRPR",
    "outputId": "8ff2b316-1a28-41bf-fdf4-8ce0a6198948"
   },
   "outputs": [],
   "source": [
    "cosine_similarity_df_sorted[cosine_similarity_df_sorted['Word'] ==\"scientist\"]"
   ]
  },
  {
   "cell_type": "markdown",
   "metadata": {
    "id": "hTaeKriwU1NA"
   },
   "source": [
    "I plot the terms by their total frequency and semantic change score:"
   ]
  },
  {
   "cell_type": "code",
   "execution_count": null,
   "metadata": {
    "colab": {
     "base_uri": "https://localhost:8080/",
     "height": 280
    },
    "id": "UQTXISnnU5JP",
    "outputId": "458ea3b4-bc81-477c-dc85-624dca7dc5bb"
   },
   "outputs": [],
   "source": [
    "ax = cosine_similarity_df_sorted.set_index('Cosine_similarity')['Total_Frequency'].plot(style='o')"
   ]
  },
  {
   "cell_type": "markdown",
   "metadata": {
    "id": "0HUsnjAgehab"
   },
   "source": [
    "Which words are the outliers? Function words and *Darwin*:"
   ]
  },
  {
   "cell_type": "code",
   "execution_count": null,
   "metadata": {
    "colab": {
     "base_uri": "https://localhost:8080/"
    },
    "id": "13as3ptbek3A",
    "outputId": "fbf8da29-7102-4573-df3d-e86c99cf3ba2"
   },
   "outputs": [],
   "source": [
    "cosine_similarity_df_sorted.loc[cosine_similarity_df_sorted['Total_Frequency'] > 10000].Word.tolist()"
   ]
  },
  {
   "cell_type": "markdown",
   "metadata": {
    "id": "N3czF1s6fg6M"
   },
   "source": [
    "I exclude the outliers:"
   ]
  },
  {
   "cell_type": "code",
   "execution_count": null,
   "metadata": {
    "colab": {
     "base_uri": "https://localhost:8080/"
    },
    "id": "iGydr4Vwfmgc",
    "outputId": "37678dde-8017-4990-a494-294fc923ae71"
   },
   "outputs": [],
   "source": [
    "cosine_similarity_df_sorted_nooutliers = cosine_similarity_df_sorted.loc[cosine_similarity_df_sorted['Total_Frequency'] < 10000]\n",
    "cosine_similarity_df_sorted_nooutliers.shape"
   ]
  },
  {
   "cell_type": "markdown",
   "metadata": {
    "id": "pEUKL06P11t0"
   },
   "source": [
    "Plot:"
   ]
  },
  {
   "cell_type": "code",
   "execution_count": null,
   "metadata": {
    "colab": {
     "base_uri": "https://localhost:8080/",
     "height": 280
    },
    "id": "MFgBQ6E0126I",
    "outputId": "6e951096-1876-439f-c9d0-a9e29633af06"
   },
   "outputs": [],
   "source": [
    "ax = cosine_similarity_df_sorted_nooutliers.set_index('Cosine_similarity')['Total_Frequency'].plot(style='o')"
   ]
  },
  {
   "cell_type": "markdown",
   "metadata": {
    "id": "ecevJ4CO-a9f"
   },
   "source": [
    "What is the semantic change of the words we have chosen?"
   ]
  },
  {
   "cell_type": "code",
   "execution_count": null,
   "metadata": {
    "id": "KJnVV70g59ql"
   },
   "outputs": [],
   "source": [
    "words_chosen = ['protoplasm', 'curious', 'fertilisation', 'fertilise', 'analogy', 'analogous', 'homology', 'homologous', 'cleistogamic', 'physiology', 'physiological', 'ferment', 'science', 'scientist', 'scientific', 'evolution', 'evolutionary', 'evolve']"
   ]
  },
  {
   "cell_type": "code",
   "execution_count": null,
   "metadata": {
    "colab": {
     "base_uri": "https://localhost:8080/",
     "height": 80
    },
    "id": "8VCbOMAc5qv4",
    "outputId": "0f2d8066-05eb-4eef-b9d1-9d3d9e5b85bc"
   },
   "outputs": [],
   "source": [
    "cosine_similarity_df_sorted[cosine_similarity_df_sorted['Word'] == \"scientist\"]\n"
   ]
  },
  {
   "cell_type": "code",
   "execution_count": null,
   "metadata": {
    "colab": {
     "base_uri": "https://localhost:8080/",
     "height": 545
    },
    "id": "9zn40M5a-4Jv",
    "outputId": "00f6d1f9-c64b-4336-bf8c-b6b2519225d3"
   },
   "outputs": [],
   "source": [
    "cosine_similarity_chosen = cosine_similarity_df_sorted[cosine_similarity_df_sorted['Word'].isin(words_chosen)]\n",
    "cosine_similarity_chosen.to_csv(os.path.join(output_folder, 'cosine_similarity_chosen_words.csv'), encoding='utf-8')\n",
    "cosine_similarity_chosen"
   ]
  },
  {
   "cell_type": "code",
   "execution_count": null,
   "metadata": {
    "colab": {
     "base_uri": "https://localhost:8080/"
    },
    "id": "BZZy0Rbk2cqq",
    "outputId": "9b7677d0-490a-461c-9d43-655b77a05553"
   },
   "outputs": [],
   "source": [
    "min(cosine_similarity_chosen.Cosine_similarity)"
   ]
  },
  {
   "cell_type": "code",
   "execution_count": null,
   "metadata": {
    "colab": {
     "base_uri": "https://localhost:8080/"
    },
    "id": "XKHTQwSF2gys",
    "outputId": "bc2621ca-6fc1-4777-d286-2f49a3b315d5"
   },
   "outputs": [],
   "source": [
    "min(cosine_similarity_chosen.Total_Frequency)"
   ]
  },
  {
   "cell_type": "code",
   "execution_count": null,
   "metadata": {
    "colab": {
     "base_uri": "https://localhost:8080/"
    },
    "id": "6y-EDiyKMamL",
    "outputId": "8f1d3d28-5ff9-4bfa-e434-694cf09f0a7b"
   },
   "outputs": [],
   "source": [
    "min(cosine_similarity_df_sorted.Cosine_similarity)"
   ]
  },
  {
   "cell_type": "markdown",
   "metadata": {
    "id": "0GuntCYYg7cS"
   },
   "source": [
    "Now I focus on those words that have a frequency higher than min(semantic_change_chosen.Total_Frequency). How many are there?"
   ]
  },
  {
   "cell_type": "code",
   "execution_count": null,
   "metadata": {
    "colab": {
     "base_uri": "https://localhost:8080/"
    },
    "id": "XtCUX_MGhE5H",
    "outputId": "4bce5a86-946c-42e7-8148-95414c726948"
   },
   "outputs": [],
   "source": [
    "cosine_similarity_df_sorted_filtered = cosine_similarity_df_sorted_nooutliers.loc[(cosine_similarity_df_sorted_nooutliers['Total_Frequency'] >= min(cosine_similarity_chosen.Total_Frequency))]\n",
    "cosine_similarity_df_sorted_filtered.shape"
   ]
  },
  {
   "cell_type": "markdown",
   "metadata": {
    "id": "yUnP9qJmhrtk"
   },
   "source": [
    "Which words are these words?"
   ]
  },
  {
   "cell_type": "code",
   "execution_count": null,
   "metadata": {
    "colab": {
     "base_uri": "https://localhost:8080/",
     "height": 419
    },
    "id": "act3DZ6fhtdH",
    "outputId": "c1570d9d-f1d8-48ef-890d-0fdd8e1131de"
   },
   "outputs": [],
   "source": [
    "cosine_similarity_df_sorted_filtered"
   ]
  },
  {
   "cell_type": "markdown",
   "metadata": {
    "id": "IaQf5AJk2u3A"
   },
   "source": [
    "Neighbours of *fertilisation* in the two time periods:"
   ]
  },
  {
   "cell_type": "code",
   "execution_count": null,
   "metadata": {
    "colab": {
     "base_uri": "https://localhost:8080/",
     "height": 134
    },
    "id": "f4yUdAMp5KBs",
    "outputId": "de6140a9-5c9c-4a43-f434-e4a81eafa880"
   },
   "outputs": [],
   "source": [
    "print(model1.wv.similar_by_word(\"fertilisation\", 10))\n",
    "print(model2.wv.similar_by_word(\"fertilisation\", 10))\n",
    "cosine_similarity_df_sorted_filtered[cosine_similarity_df_sorted_filtered['Word'] == \"fertilisation\"]"
   ]
  },
  {
   "cell_type": "markdown",
   "metadata": {
    "id": "Djk1QuvMiaRK"
   },
   "source": [
    "I create a list for these words:"
   ]
  },
  {
   "cell_type": "code",
   "execution_count": null,
   "metadata": {
    "colab": {
     "base_uri": "https://localhost:8080/"
    },
    "id": "FeyKOudwicWy",
    "outputId": "bfe82b09-8955-4aeb-d195-48bb9d61a187"
   },
   "outputs": [],
   "source": [
    "highfreq_words = cosine_similarity_df_sorted_filtered.Word.tolist()\n",
    "highfreq_words[:10]"
   ]
  },
  {
   "cell_type": "markdown",
   "metadata": {
    "id": "lY2pzonjhFFy"
   },
   "source": [
    "Now I annotate the plot with these:"
   ]
  },
  {
   "cell_type": "code",
   "execution_count": null,
   "metadata": {
    "id": "Yj5Yw5WbaeZC"
   },
   "outputs": [],
   "source": [
    "cosine_similarity_df_sorted_filtered_p = cosine_similarity_df_sorted_filtered[['Word','Cosine_similarity', 'Total_Frequency']]\n",
    "fig, ax = plt.subplots()\n",
    "cosine_similarity_df_sorted_filtered_p.plot('Cosine_similarity', 'Total_Frequency', kind='scatter', ax=ax)\n",
    "for k, v in cosine_similarity_df_sorted_filtered_p.iterrows():\n",
    "  word = v['Word']\n",
    "  sc = v['Cosine_similarity']\n",
    "  f = v['Total_Frequency']\n",
    "  #print(\"w\", v['Word'])\n",
    "  #print(\"sc:\", str(sc))\n",
    "  #print(\"f:\", str(f))\n",
    "  ax.annotate(word, xy=(sc,f))"
   ]
  },
  {
   "cell_type": "markdown",
   "metadata": {
    "id": "51UEstlEiNeJ"
   },
   "source": [
    "What are the neighbours of these words in the two spaces?"
   ]
  },
  {
   "cell_type": "code",
   "execution_count": null,
   "metadata": {
    "id": "6ifSX158iQO3"
   },
   "outputs": [],
   "source": [
    "count = 0\n",
    "for word in highfreq_words:\n",
    "  count += 1\n",
    "  if count < 10:\n",
    "    print(word)\n",
    "    print(\"Neighbours in first space:\")\n",
    "    print(model1.wv.similar_by_word(word, 10))\n",
    "    print(\"Neighbours in second space:\")\n",
    "    print(model2.wv.similar_by_word(word, 10))"
   ]
  },
  {
   "cell_type": "markdown",
   "metadata": {
    "id": "3EgDeP0Qi9aE"
   },
   "source": [
    "I print this to an output file:"
   ]
  },
  {
   "cell_type": "code",
   "execution_count": null,
   "metadata": {
    "id": "MqqyXdujjFVH"
   },
   "outputs": [],
   "source": [
    "outfile = open(os.path.join(output_folder, 'Neighbours_freq_words.csv'), 'w+')\n",
    "\n",
    "# Write header row:\n",
    "outfile.write(\"Word, followed by  neighbours in first space and neighbours in second space\\n\") \n",
    "for word in highfreq_words:\n",
    "  #print(word)\n",
    "  #print(\"Neighbours in first space:\")\n",
    "  #print(model1.wv.similar_by_word(word, 10))\n",
    "  #print(\"Neighbours in second space:\")\n",
    "  #print(model2.wv.similar_by_word(word, 10))\n",
    "  for (w,c) in model1.wv.similar_by_word(word, 10):\n",
    "    outfile.write(word+\"\\t\" + w+\"\\t\"+str(c))\n",
    "  outfile.write(\"\\n\")\n",
    "  for (w,c) in model2.wv.similar_by_word(word, 10):\n",
    "    outfile.write(word+\"\\t\"+w+\"\\t\"+str(c))\n",
    "  outfile.write(\"\\n\")\n",
    "  \n",
    "outfile.close()"
   ]
  },
  {
   "cell_type": "markdown",
   "metadata": {
    "id": "RI6kthbqaEsD"
   },
   "source": [
    "## Semantic change detection using neighbours"
   ]
  },
  {
   "cell_type": "markdown",
   "metadata": {
    "id": "9zi0MzFNaJWy"
   },
   "source": [
    "We're going to implement the method proposed by Gonen, H., Jawahar, G., Seddah, D., & Goldberg, Y. (2020). Simple, Interpretable and Stable Method for Detecting Words with Usage Change across Corpora. In Proceedings of the 58th Annual Meeting of the Association for Computational Linguistics (pp. 538–555). https://doi.org/10.18653/v1/2020.acl-main.51 "
   ]
  },
  {
   "cell_type": "markdown",
   "metadata": {
    "id": "YXfljFwWe0Lc"
   },
   "source": [
    "Print the histogram of the frequency of the words in the corpus:"
   ]
  },
  {
   "cell_type": "code",
   "execution_count": null,
   "metadata": {
    "colab": {
     "base_uri": "https://localhost:8080/",
     "height": 468
    },
    "id": "VbPkhceRfLaj",
    "outputId": "6ee57f65-651b-44f2-e2ee-544dd48a46d6"
   },
   "outputs": [],
   "source": [
    "model = sg_w5_f1\n",
    "vocab = model.wv.index_to_key\n",
    "frequencies = list()\n",
    "for w in vocab:\n",
    "  frequencies.append(model.wv.get_vecattr(w, \"count\"))\n",
    "print(pd.DataFrame({'Word':vocab,'Freq':frequencies}).describe())\n",
    "pd.DataFrame({'Word':vocab,'Freq':frequencies}).hist()"
   ]
  },
  {
   "cell_type": "markdown",
   "metadata": {
    "id": "iqp46rC7aOP8"
   },
   "source": [
    "I exclude all words with frequency lower than min_freq and higher than max_freq:"
   ]
  },
  {
   "cell_type": "code",
   "execution_count": null,
   "metadata": {
    "id": "YJ4EguRYVAjt"
   },
   "outputs": [],
   "source": [
    "def filter_words(model, min_freq, max_freq):\n",
    "  vocab = model.wv.index_to_key\n",
    "  vocab_filtered = []\n",
    "  for w in vocab:\n",
    "    if model.wv.get_vecattr(w, \"count\") <max_freq and model.wv.get_vecattr(w, \"count\")>min_freq:\n",
    "      vocab_filtered.append(w)\n",
    "  return vocab_filtered\n",
    "\n",
    "vocab1_filtered = filter_words(model1,2,50000)\n",
    "vocab2_filtered = filter_words(model2,2,50000)\n",
    "vocab_filtered = list(set(vocab1_filtered) & set(vocab2_filtered))"
   ]
  },
  {
   "cell_type": "markdown",
   "metadata": {
    "id": "_gLjcAvLTk1l"
   },
   "source": [
    "How many words?"
   ]
  },
  {
   "cell_type": "code",
   "execution_count": null,
   "metadata": {
    "colab": {
     "base_uri": "https://localhost:8080/"
    },
    "id": "4WTrJxl6TmiI",
    "outputId": "3c25ac08-95bc-47fb-b2b3-115349dbd58e"
   },
   "outputs": [],
   "source": [
    "print(str(len(vocab_filtered)))"
   ]
  },
  {
   "cell_type": "markdown",
   "metadata": {
    "id": "0PV2tkQPhaBM"
   },
   "source": [
    "Distribution of filtered word frequencies:"
   ]
  },
  {
   "cell_type": "code",
   "execution_count": null,
   "metadata": {
    "colab": {
     "base_uri": "https://localhost:8080/",
     "height": 468
    },
    "id": "6rxKUZOThcNt",
    "outputId": "f813f924-c1f5-4548-8631-329584882666"
   },
   "outputs": [],
   "source": [
    "word2freq = pd.DataFrame({'Word':vocab,'Freq':frequencies})\n",
    "print(word2freq[(word2freq.Freq<100000) & (word2freq.Freq>3)].describe())\n",
    "word2freq[(word2freq.Freq<50000) & (word2freq.Freq>2)].hist()"
   ]
  },
  {
   "cell_type": "markdown",
   "metadata": {
    "id": "hE4aKzJuTt7M"
   },
   "source": [
    "I extract the top_n neighbours and save them in a dictionary mapping a word to the list of its 100 neighbours:"
   ]
  },
  {
   "cell_type": "code",
   "execution_count": null,
   "metadata": {
    "id": "i4JzSdeyUmrQ"
   },
   "outputs": [],
   "source": [
    "def extract_neighbours(w2vmodel, vocab_list, top_n):\n",
    "  count = 0\n",
    "  word2neighbours = dict()\n",
    "  for w in vocab_list:\n",
    "    count += 1\n",
    "    #if (count % 100) == 0:\n",
    "    #  print(str(count), \"out of\", str(len(vocab_list)), w)\n",
    "    neighbours = w2vmodel.wv.similar_by_word(w, top_n)\n",
    "    #print(str(neighbours))\n",
    "    neighbour_list = list()\n",
    "    for n in neighbours:\n",
    "      neighbour_list.append(n[0])\n",
    "    word2neighbours[w] = neighbour_list\n",
    "  return word2neighbours"
   ]
  },
  {
   "cell_type": "markdown",
   "metadata": {
    "id": "qNlucnnHYTZU"
   },
   "source": [
    "I apply this to model1 and model2 for filtered words:"
   ]
  },
  {
   "cell_type": "code",
   "execution_count": null,
   "metadata": {
    "colab": {
     "base_uri": "https://localhost:8080/"
    },
    "id": "8MyQQOIuYqaq",
    "outputId": "f7ac31ac-e079-4114-dfb4-35b621ea09a3"
   },
   "outputs": [],
   "source": [
    "#word2neighbours1 = extract_neighbours(model1, model1.wv.index_to_key)\n",
    "word2neighbours1 = extract_neighbours(model1, vocab1_filtered, 100)\n",
    "#word2neighbours2 = extract_neighbours(model2, model2.wv.index_to_key)\n",
    "word2neighbours2 = extract_neighbours(model2, vocab2_filtered, 100)"
   ]
  },
  {
   "cell_type": "markdown",
   "metadata": {
    "id": "7tPkHAkwYA6J"
   },
   "source": [
    "For every word in the intersection between the two vocabularies, compare its neighbours in t1 and its neighbours in t2; the semantic change score is the number of shared neighbours between the two divided by 100.\n",
    "NB This is different from the formula in Gonen et al. (2020), who take the negative of the overlap."
   ]
  },
  {
   "cell_type": "code",
   "execution_count": null,
   "metadata": {
    "id": "XV4M2cVfYLl2"
   },
   "outputs": [],
   "source": [
    "#vocab_12 = list(set(model1.wv.index_to_key) & set(model2.wv.index_to_key))\n",
    "w2sc = dict()\n",
    "for w in vocab_filtered:\n",
    "  sc = len(list(set(word2neighbours1[w]) & set(word2neighbours2[w])))/100\n",
    "  w2sc[w] = sc"
   ]
  },
  {
   "cell_type": "markdown",
   "metadata": {
    "id": "CweZkNdPag-g"
   },
   "source": [
    "I have saved these scores in the w2sc dictionary. Now I sort it by decreasing score to see which words changed the most:"
   ]
  },
  {
   "cell_type": "code",
   "execution_count": null,
   "metadata": {
    "colab": {
     "base_uri": "https://localhost:8080/"
    },
    "id": "DmvVWTxyaokt",
    "outputId": "8a0ea841-faea-4dd3-e205-4f4e96188a58"
   },
   "outputs": [],
   "source": [
    "w2sc_sorted = sorted(w2sc.items(), key=lambda kv: kv[1], reverse=False)\n",
    "w2sc_sorted[:10]"
   ]
  },
  {
   "cell_type": "markdown",
   "metadata": {
    "id": "5z2cxTQzbmhh"
   },
   "source": [
    "What are the most changed words?"
   ]
  },
  {
   "cell_type": "code",
   "execution_count": null,
   "metadata": {
    "colab": {
     "base_uri": "https://localhost:8080/"
    },
    "id": "LROKrzxibolH",
    "outputId": "3dd9cf5c-8834-4653-aece-6977d8a13c14"
   },
   "outputs": [],
   "source": [
    "top_changed = [i[0] for i in w2sc_sorted][:20]\n",
    "top_changed"
   ]
  },
  {
   "cell_type": "markdown",
   "metadata": {
    "id": "3KZlBbEDbj1z"
   },
   "source": [
    "What are their neighbours?"
   ]
  },
  {
   "cell_type": "code",
   "execution_count": null,
   "metadata": {
    "colab": {
     "base_uri": "https://localhost:8080/"
    },
    "id": "caIiP6ESbq1H",
    "outputId": "d84882ff-b6dd-406c-8017-43fa0e7ae2dc"
   },
   "outputs": [],
   "source": [
    "for w in top_changed:\n",
    "  print(w)\n",
    "  print(str(word2neighbours1[w]))\n",
    "  print(str(word2neighbours2[w]))"
   ]
  },
  {
   "cell_type": "code",
   "execution_count": null,
   "metadata": {
    "colab": {
     "base_uri": "https://localhost:8080/",
     "height": 297
    },
    "id": "f5AXTSaoWUPP",
    "outputId": "71aa5041-8c3c-4368-885b-a47607bab27b"
   },
   "outputs": [],
   "source": [
    "neighbours_df = pd.DataFrame(([w, w2sc[w], model1.wv.get_vecattr(w, \"count\") , model2.wv.get_vecattr(w, \"count\") ] for w in vocab_filtered), columns = ('Word', 'Neighbour_score', \"Frequency_t1\", \"Frequency_t2\"))\n",
    "neighbours_df.describe()"
   ]
  },
  {
   "cell_type": "markdown",
   "metadata": {
    "id": "da1Qi0OtWUPV"
   },
   "source": [
    "Visualise the distribution of the semantic change scores with a histogram:"
   ]
  },
  {
   "cell_type": "code",
   "execution_count": null,
   "metadata": {
    "colab": {
     "base_uri": "https://localhost:8080/",
     "height": 265
    },
    "id": "2ghdve2tWUPW",
    "outputId": "4a337b5f-8879-4511-9756-eee598ec6b7e"
   },
   "outputs": [],
   "source": [
    "hist = neighbours_df['Neighbour_score'].hist()"
   ]
  },
  {
   "cell_type": "markdown",
   "metadata": {
    "id": "YrBABO7pWUPW"
   },
   "source": [
    "Now I sort by increasing neighbour score:"
   ]
  },
  {
   "cell_type": "code",
   "execution_count": null,
   "metadata": {
    "colab": {
     "base_uri": "https://localhost:8080/",
     "height": 1000
    },
    "id": "myMUQACLWUPW",
    "outputId": "c06af804-813f-4761-9d02-dacd4059a388"
   },
   "outputs": [],
   "source": [
    "neighbours_df_sorted = neighbours_df.sort_values(by='Neighbour_score', ascending=True)\n",
    "neighbours_df_sorted.head(50)"
   ]
  },
  {
   "cell_type": "markdown",
   "metadata": {
    "id": "-zG9V-grWUPW"
   },
   "source": [
    "I add the total frequency:"
   ]
  },
  {
   "cell_type": "code",
   "execution_count": null,
   "metadata": {
    "colab": {
     "base_uri": "https://localhost:8080/",
     "height": 419
    },
    "id": "R-SYY-JhWUPW",
    "outputId": "7f2af20d-5b4b-44d8-9e56-c2478b3c1523"
   },
   "outputs": [],
   "source": [
    "neighbours_df_sorted[\"Total_Frequency\"] = neighbours_df_sorted[\"Frequency_t1\"]+neighbours_df_sorted[\"Frequency_t2\"]\n",
    "neighbours_df_sorted"
   ]
  },
  {
   "cell_type": "markdown",
   "metadata": {
    "id": "EeAEgWOHWUPW"
   },
   "source": [
    "I add a column with the category (function word, foreign word, numeral, and proper noun)."
   ]
  },
  {
   "cell_type": "code",
   "execution_count": null,
   "metadata": {
    "colab": {
     "base_uri": "https://localhost:8080/",
     "height": 419
    },
    "id": "S2Gac0WvWUPX",
    "outputId": "eaae6bf4-e7f6-457c-83c9-a910bf9f80c9"
   },
   "outputs": [],
   "source": [
    "# create a list of our conditions\n",
    "conditions = [\n",
    "    (neighbours_df_sorted['Word'].isin(function_words)), # function words\n",
    "    ((neighbours_df_sorted.Word.str.isdigit()) | (neighbours_df_sorted['Word'].str.match('^\\d*?1st$')) | (neighbours_df_sorted['Word'].str.match('^\\d*?2nd$')) | (neighbours_df_sorted['Word'].str.match('^\\d*?3rd$')) | (neighbours_df_sorted['Word'].str.match('^\\d*[^123]th$'))), # numbers\n",
    "    (neighbours_df_sorted['Word'].apply(lambda x: x[0].isupper() and x[1:len(x)].islower())), # proper nouns\n",
    "    (np.invert(neighbours_df_sorted['Word'].str.lower().isin(english_vocab))) # foreign words\n",
    "    ]\n",
    "\n",
    "# create a list of the values we want to assign for each condition\n",
    "values = ['Function word','Numeral', 'Proper noun', 'Foreign word']\n",
    "\n",
    "# create a new column and use np.select to assign values to it using our lists as arguments\n",
    "neighbours_df_sorted['Category_automatic'] = np.select(conditions, values, default = \"\")\n",
    "neighbours_df_sorted"
   ]
  },
  {
   "cell_type": "markdown",
   "metadata": {
    "id": "PFUitkPpWUPX"
   },
   "source": [
    "I save this to a file:"
   ]
  },
  {
   "cell_type": "code",
   "execution_count": null,
   "metadata": {
    "id": "RfRG5TS0WUPX"
   },
   "outputs": [],
   "source": [
    "output_folder = '/content/drive/MyDrive/2021/Darwin paper/Files/Semantic_change_output/'\n",
    "if not os.path.exists(output_folder):\n",
    "  os.makedirs(output_folder)\n",
    "neighbours_df_sorted.to_csv(os.path.join(output_folder, 'all_words_neighbourscore.csv'), encoding='utf-8')"
   ]
  },
  {
   "cell_type": "markdown",
   "metadata": {
    "id": "b2sXbIKoWUPX"
   },
   "source": [
    "## Comparison of the two methods for semantic change detection"
   ]
  },
  {
   "cell_type": "code",
   "execution_count": null,
   "metadata": {
    "colab": {
     "base_uri": "https://localhost:8080/",
     "height": 419
    },
    "id": "lI46M6c5WUPX",
    "outputId": "11834b1f-a660-4b3d-f700-882cb83f8d26"
   },
   "outputs": [],
   "source": [
    "neighbours_df_sorted.sort_values(by='Word', ascending=True)"
   ]
  },
  {
   "cell_type": "code",
   "execution_count": null,
   "metadata": {
    "colab": {
     "base_uri": "https://localhost:8080/",
     "height": 419
    },
    "id": "3hIRgbreu-vZ",
    "outputId": "1da303bd-4224-45bb-bd4d-d174d78ac543"
   },
   "outputs": [],
   "source": [
    "cosine_similarity_df_sorted.sort_values(by='Word', ascending=True)"
   ]
  },
  {
   "cell_type": "code",
   "execution_count": null,
   "metadata": {
    "colab": {
     "base_uri": "https://localhost:8080/",
     "height": 419
    },
    "id": "v-SNmOddvgCq",
    "outputId": "7a6f0cde-6465-4347-ec4c-c8881cde6f6e"
   },
   "outputs": [],
   "source": [
    "semantic_change_2methods = cosine_similarity_df_sorted.merge(neighbours_df_sorted, how = 'inner')\n",
    "semantic_change_2methods"
   ]
  },
  {
   "cell_type": "markdown",
   "metadata": {
    "id": "BbsY3voMxGXN"
   },
   "source": [
    "I integrate the neighbour score in the file:"
   ]
  },
  {
   "cell_type": "code",
   "execution_count": null,
   "metadata": {
    "colab": {
     "base_uri": "https://localhost:8080/",
     "height": 419
    },
    "id": "1uD7-CCdxK9V",
    "outputId": "fa7bbf81-ad9d-4edf-f319-161a876145f6"
   },
   "outputs": [],
   "source": [
    "semantic_change_2methods_all = cosine_similarity_df_sorted.merge(neighbours_df_sorted, how = 'outer')\n",
    "semantic_change_2methods_all.to_csv(os.path.join(output_folder, 'all_words_2scores.csv'), encoding='utf-8')\n",
    "semantic_change_2methods_all"
   ]
  },
  {
   "cell_type": "code",
   "execution_count": null,
   "metadata": {
    "colab": {
     "base_uri": "https://localhost:8080/",
     "height": 80
    },
    "id": "zpQp4qRCRe4I",
    "outputId": "cdb5c822-4077-463c-9a9c-aecd31f2e7af"
   },
   "outputs": [],
   "source": [
    "semantic_change_2methods_all[semantic_change_2methods_all['Word'] ==\"scientist\"]"
   ]
  },
  {
   "cell_type": "markdown",
   "metadata": {
    "id": "KfJlUJRpWUPX"
   },
   "source": [
    "I plot the terms by two semantic change scores:"
   ]
  },
  {
   "cell_type": "code",
   "execution_count": null,
   "metadata": {
    "colab": {
     "base_uri": "https://localhost:8080/",
     "height": 283
    },
    "id": "5P8PptneWUPY",
    "outputId": "3ba5b231-de1a-438c-a471-9f4c13d7756e"
   },
   "outputs": [],
   "source": [
    "ax = semantic_change_2methods.set_index('Cosine_similarity')['Neighbour_score'].plot(style='o')"
   ]
  },
  {
   "cell_type": "code",
   "execution_count": null,
   "metadata": {
    "colab": {
     "base_uri": "https://localhost:8080/",
     "height": 204
    },
    "id": "r4gfyTtuYB0r",
    "outputId": "55584f69-6cc5-4ef7-8850-b37e85756a11"
   },
   "outputs": [],
   "source": [
    "semantic_change_2methods_all.corr(method=\"spearman\")"
   ]
  },
  {
   "cell_type": "markdown",
   "metadata": {
    "id": "LqEt1d3_wUSC"
   },
   "source": [
    "There seems to be a positive correlation: the higher the cosine similarity the higher the neighbour similarity.\n",
    "\n"
   ]
  },
  {
   "cell_type": "code",
   "execution_count": null,
   "metadata": {
    "colab": {
     "base_uri": "https://localhost:8080/",
     "height": 297
    },
    "id": "X6GBffxgUnVi",
    "outputId": "36647ba3-5301-41f5-9e74-1d9749e28926"
   },
   "outputs": [],
   "source": [
    "semantic_change_2methods_all.describe()"
   ]
  },
  {
   "cell_type": "markdown",
   "metadata": {
    "id": "SGxWm1xdZ9OB"
   },
   "source": [
    "Scores for chosen words:"
   ]
  },
  {
   "cell_type": "code",
   "execution_count": null,
   "metadata": {
    "colab": {
     "base_uri": "https://localhost:8080/",
     "height": 297
    },
    "id": "82sgdmrjZRky",
    "outputId": "b7f7e822-aa15-451e-84ff-cc39832cf490"
   },
   "outputs": [],
   "source": [
    "semantic_change_2methods_all[semantic_change_2methods_all['Word'].isin(words_chosen)].describe()"
   ]
  },
  {
   "cell_type": "markdown",
   "metadata": {
    "id": "pFcjuQrsaBrS"
   },
   "source": [
    "Scores for not chosen words:"
   ]
  },
  {
   "cell_type": "code",
   "execution_count": null,
   "metadata": {
    "colab": {
     "base_uri": "https://localhost:8080/",
     "height": 297
    },
    "id": "aax2tQleZmup",
    "outputId": "4ceb4761-0f62-4237-d9eb-4500a36d4957"
   },
   "outputs": [],
   "source": [
    "semantic_change_2methods_all[~semantic_change_2methods_all['Word'].isin(words_chosen)].describe()"
   ]
  },
  {
   "cell_type": "markdown",
   "metadata": {
    "id": "NrCpoqBCfAsv"
   },
   "source": [
    "Compare the two means:"
   ]
  },
  {
   "cell_type": "code",
   "execution_count": null,
   "metadata": {
    "colab": {
     "base_uri": "https://localhost:8080/"
    },
    "id": "nCoun2yPajJa",
    "outputId": "36df6afa-69c3-40b9-f733-d363b45127c4"
   },
   "outputs": [],
   "source": [
    "semantic_change_2methods_all[semantic_change_2methods_all['Word'].isin(words_chosen)].mean()[[0,4]]"
   ]
  },
  {
   "cell_type": "markdown",
   "metadata": {
    "id": "WvLL11EzmUiJ"
   },
   "source": [
    "I define a list of words that I expect did not change:"
   ]
  },
  {
   "cell_type": "code",
   "execution_count": null,
   "metadata": {
    "id": "w8akuJ_cmhZ8"
   },
   "outputs": [],
   "source": [
    "not_changed = ['the', 'it', 'for', 'a', 'at', 'in', 'be', 'of', 'on', 'over', 'under']"
   ]
  },
  {
   "cell_type": "markdown",
   "metadata": {
    "id": "xCjs9t3Rmjo7"
   },
   "source": [
    "Then I look at their scores:"
   ]
  },
  {
   "cell_type": "code",
   "execution_count": null,
   "metadata": {
    "colab": {
     "base_uri": "https://localhost:8080/",
     "height": 359
    },
    "id": "JfRqMw43mnSj",
    "outputId": "eb577620-ee20-45c9-91ff-6008dfe9d106"
   },
   "outputs": [],
   "source": [
    "semantic_change_2methods_all[semantic_change_2methods_all['Word'].isin(not_changed)]"
   ]
  },
  {
   "cell_type": "code",
   "execution_count": null,
   "metadata": {
    "colab": {
     "base_uri": "https://localhost:8080/",
     "height": 297
    },
    "id": "kTUZ4d0dnXvd",
    "outputId": "154a3eb3-bb2c-4ddc-e4b9-a8eb71298ac7"
   },
   "outputs": [],
   "source": [
    "semantic_change_2methods_all[semantic_change_2methods_all['Word'].isin(not_changed)].describe()"
   ]
  },
  {
   "cell_type": "code",
   "execution_count": null,
   "metadata": {
    "colab": {
     "base_uri": "https://localhost:8080/",
     "height": 297
    },
    "id": "LoB9mxn5naBu",
    "outputId": "dddc2cfa-405d-4533-d009-a2ffb7adedba"
   },
   "outputs": [],
   "source": [
    "semantic_change_2methods_all[semantic_change_2methods_all['Word'].isin(words_chosen)].describe()"
   ]
  },
  {
   "cell_type": "markdown",
   "metadata": {
    "id": "Vo_ETdUtn5Ee"
   },
   "source": [
    "Let's look at species:"
   ]
  },
  {
   "cell_type": "code",
   "execution_count": null,
   "metadata": {
    "colab": {
     "base_uri": "https://localhost:8080/",
     "height": 80
    },
    "id": "S2idTOrWn8Gu",
    "outputId": "c05462b7-914f-4662-f8d4-c6d6c836231c"
   },
   "outputs": [],
   "source": [
    "semantic_change_2methods_all[semantic_change_2methods_all['Word']=='species']"
   ]
  },
  {
   "cell_type": "code",
   "execution_count": null,
   "metadata": {
    "colab": {
     "base_uri": "https://localhost:8080/",
     "height": 80
    },
    "id": "OafnIIwDoI5v",
    "outputId": "ada11751-919a-4190-a0d8-298572c99207"
   },
   "outputs": [],
   "source": [
    "semantic_change_2methods_all[semantic_change_2methods_all['Word']=='descent']"
   ]
  },
  {
   "cell_type": "markdown",
   "metadata": {
    "id": "rXE6sNn5fppq"
   },
   "source": [
    "I compare the means:"
   ]
  },
  {
   "cell_type": "code",
   "execution_count": null,
   "metadata": {
    "colab": {
     "base_uri": "https://localhost:8080/"
    },
    "id": "zjE2usQSfq06",
    "outputId": "38b5fbf8-e9c8-4944-9f2c-8559cc23f2f2"
   },
   "outputs": [],
   "source": [
    "semantic_change_2methods_all[semantic_change_2methods_all['Word'].isin(not_changed)].mean()[[0,4]]"
   ]
  },
  {
   "cell_type": "markdown",
   "metadata": {
    "id": "VNeosLSdf0sn"
   },
   "source": [
    "### Systematic comparison of cosine similarity and neighbour similarity by different values of parameters"
   ]
  },
  {
   "cell_type": "markdown",
   "metadata": {
    "id": "MWhQSZofnM9F"
   },
   "source": [
    "This is the list of non-scientific words currently analysed in the article:"
   ]
  },
  {
   "cell_type": "code",
   "execution_count": null,
   "metadata": {
    "id": "Ib-fraEdnQx4"
   },
   "outputs": [],
   "source": [
    "nonsci_analysed = ['lunch', 'presentation', 'herewith', 'heartfelt', 'presentation', 'inconvenient']"
   ]
  },
  {
   "cell_type": "markdown",
   "metadata": {
    "id": "SqIbprHinXkL"
   },
   "source": [
    "This is the list of scientific words currently analysed in the article:"
   ]
  },
  {
   "cell_type": "code",
   "execution_count": null,
   "metadata": {
    "id": "OtwKi0bznaBx"
   },
   "outputs": [],
   "source": [
    "sci_analysed = ['molecule', 'fundamental', 'spiritual', 'latent', 'wriggle', 'sediment']"
   ]
  },
  {
   "cell_type": "markdown",
   "metadata": {
    "id": "7jdvk25Ii4J1"
   },
   "source": [
    "I define a function that, given a minimum frequency, a maximum frequency and the number of top neighbours, does the following: filter the vocabularies, apply this to model1 and model2 for filtered words, calculates the neghbour similarity score, define a dataframe with this score, save to a file, combine the dataframe with the cosine similarity score, I plot the terms by two semantic change scores, calculate Spearman correlation between the two scores, compares the means of the two scores for the chosen words (gold standard), the words that did not change, the words that were not in the gold standard, the non-scientific words currently analysed in the article and the scientific words currently analysed in the article."
   ]
  },
  {
   "cell_type": "code",
   "execution_count": null,
   "metadata": {
    "id": "uq771BgogctR"
   },
   "outputs": [],
   "source": [
    "def compare_two_methods(min_freq, max_freq, top_n):\n",
    "  vocab1_filtered = filter_words(model1,min_freq, max_freq)\n",
    "  vocab2_filtered = filter_words(model2,min_freq, max_freq)\n",
    "  #print(\"Vocabulary 1 filtered: \"+str(len(vocab1_filtered)))\n",
    "  #print(\"Vocabulary 2 filtered: \"+str(len(vocab2_filtered)))\n",
    "  vocab_filtered = list(set(vocab1_filtered) & set(vocab2_filtered))\n",
    "  #print(\"1\")\n",
    "  word2neighbours1 = extract_neighbours(model1, vocab1_filtered, top_n)\n",
    "  #print(\"2\")\n",
    "  word2neighbours2 = extract_neighbours(model2, vocab2_filtered, top_n)\n",
    "  #print(\"3\")\n",
    "  w2sc = dict()\n",
    "  for w in vocab_filtered:\n",
    "    sc = len(list(set(word2neighbours1[w]) & set(word2neighbours2[w])))/100\n",
    "    w2sc[w] = sc\n",
    "  #print(\"4\")\n",
    "  w2sc_sorted = sorted(w2sc.items(), key=lambda kv: kv[1], reverse=False)\n",
    "  neighbours_df = pd.DataFrame(([w, w2sc[w], model1.wv.get_vecattr(w, \"count\") , model2.wv.get_vecattr(w, \"count\") ] for w in vocab_filtered), columns = ('Word', 'Neighbour_score', \"Frequency_t1\", \"Frequency_t2\"))\n",
    "  #print(\"5\")\n",
    "  #print(\"6\")\n",
    "  neighbours_df_sorted = neighbours_df.sort_values(by='Neighbour_score', ascending=True)\n",
    "  #print(\"7\")\n",
    "  neighbours_df_sorted[\"Total_Frequency\"] = neighbours_df_sorted[\"Frequency_t1\"]+neighbours_df_sorted[\"Frequency_t2\"]\n",
    "  #print(\"8\")\n",
    "  conditions = [\n",
    "    (neighbours_df_sorted['Word'].isin(function_words)), # function words\n",
    "    ((neighbours_df_sorted.Word.str.isdigit()) | (neighbours_df_sorted['Word'].str.match('^\\d*?1st$')) | (neighbours_df_sorted['Word'].str.match('^\\d*?2nd$')) | (neighbours_df_sorted['Word'].str.match('^\\d*?3rd$')) | (neighbours_df_sorted['Word'].str.match('^\\d*[^123]th$'))), # numbers\n",
    "    (neighbours_df_sorted['Word'].apply(lambda x: x[0].isupper() and x[1:len(x)].islower())), # proper nouns\n",
    "    (np.invert(neighbours_df_sorted['Word'].str.lower().isin(english_vocab))) # foreign words\n",
    "    ]\n",
    "  # create a list of the values we want to assign for each condition\n",
    "  values = ['Function word','Numeral', 'Proper noun', 'Foreign word']\n",
    "  neighbours_df_sorted['Category_automatic'] = np.select(conditions, values, default = \"\")\n",
    "  #print(\"9\")\n",
    "  neighbours_df_sorted.to_csv(os.path.join(output_folder, 'all_words_neighbourscore'+str(min_freq)+'-'+str(max_freq)+'-'+str(top_n)+'.csv'), encoding='utf-8')\n",
    "  #print(\"10\")\n",
    "  semantic_change_2methods = cosine_similarity_df_sorted.merge(neighbours_df_sorted, how = 'inner')\n",
    "  #print(\"11\")\n",
    "  semantic_change_2methods_all = cosine_similarity_df_sorted.merge(neighbours_df_sorted, how = 'outer')\n",
    "  #print(\"12\")\n",
    "  semantic_change_2methods_all.to_csv(os.path.join(output_folder, 'all_words_2scores'+str(min_freq)+'-'+str(max_freq)+'-'+str(top_n)+'.csv'), encoding='utf-8')\n",
    "  #print(\"13\")\n",
    "  ax = semantic_change_2methods.set_index('Cosine_similarity')['Neighbour_score'].plot(style='o')\n",
    "  #print(\"14\")\n",
    "  corr = (semantic_change_2methods_all.corr(method=\"spearman\")).Neighbour_score[0]\n",
    "  #print(\"Correlation:\",corr)\n",
    "  #print(\"Means of chosen words:\")\n",
    "  mean_cos_chosen = semantic_change_2methods_all[semantic_change_2methods_all['Word'].isin(words_chosen)].mean()[[0]][0]\n",
    "  mean_nei_chosen = semantic_change_2methods_all[semantic_change_2methods_all['Word'].isin(words_chosen)].mean()[[4]][0]\n",
    "  median_cos_chosen = semantic_change_2methods_all[semantic_change_2methods_all['Word'].isin(words_chosen)].median()[[0]][0]\n",
    "  median_nei_chosen = semantic_change_2methods_all[semantic_change_2methods_all['Word'].isin(words_chosen)].median()[[4]][0]\n",
    "  #print(semantic_change_2methods_all[semantic_change_2methods_all['Word'].isin(words_chosen)].mean()[[0,4]])\n",
    "  #print(\"Means of all other words:\")\n",
    "  mean_cos_other = semantic_change_2methods_all[~semantic_change_2methods_all['Word'].isin(words_chosen)].mean()[[0]][0]\n",
    "  mean_nei_other = semantic_change_2methods_all[~semantic_change_2methods_all['Word'].isin(words_chosen)].mean()[[4]][0]\n",
    "  median_cos_other = semantic_change_2methods_all[~semantic_change_2methods_all['Word'].isin(words_chosen)].median()[[0]][0]\n",
    "  median_nei_other = semantic_change_2methods_all[~semantic_change_2methods_all['Word'].isin(words_chosen)].median()[[4]][0]\n",
    "  #print(semantic_change_2methods_all[~semantic_change_2methods_all['Word'].isin(words_chosen)].mean()[[0,4]])\n",
    "  #print(\"Means of not changed words:\")\n",
    "  mean_cos_unchanged = semantic_change_2methods_all[~semantic_change_2methods_all['Word'].isin(not_changed)].mean()[[0]][0]\n",
    "  mean_nei_unchanged = semantic_change_2methods_all[~semantic_change_2methods_all['Word'].isin(not_changed)].mean()[[4]][0]\n",
    "  median_cos_unchanged = semantic_change_2methods_all[~semantic_change_2methods_all['Word'].isin(not_changed)].median()[[0]][0]\n",
    "  median_nei_unchanged = semantic_change_2methods_all[~semantic_change_2methods_all['Word'].isin(not_changed)].median()[[4]][0]\n",
    "  #print(semantic_change_2methods_all[semantic_change_2methods_all['Word'].isin(not_changed)].mean()[[0,4]])\n",
    "  #print(\"Means of non-scientific words currently analysed in the article:\")\n",
    "  mean_cos_nonscian = semantic_change_2methods_all[~semantic_change_2methods_all['Word'].isin(nonsci_analysed)].mean()[[0]][0]\n",
    "  mean_nei_nonscian = semantic_change_2methods_all[~semantic_change_2methods_all['Word'].isin(nonsci_analysed)].mean()[[4]][0]\n",
    "  median_cos_nonscian = semantic_change_2methods_all[~semantic_change_2methods_all['Word'].isin(nonsci_analysed)].median()[[0]][0]\n",
    "  median_nei_nonscian = semantic_change_2methods_all[~semantic_change_2methods_all['Word'].isin(nonsci_analysed)].median()[[4]][0]\n",
    "  #print(semantic_change_2methods_all[semantic_change_2methods_all['Word'].isin(nonsci_analysed)].mean()[[0,4]])\n",
    "  #print(\"Means of scientific words currently analysed in the article:\")\n",
    "  mean_cos_scian = semantic_change_2methods_all[~semantic_change_2methods_all['Word'].isin(sci_analysed)].mean()[[0]][0]\n",
    "  mean_nei_scian = semantic_change_2methods_all[~semantic_change_2methods_all['Word'].isin(sci_analysed)].mean()[[4]][0]\n",
    "  median_cos_scian = semantic_change_2methods_all[~semantic_change_2methods_all['Word'].isin(sci_analysed)].median()[[0]][0]\n",
    "  median_nei_scian = semantic_change_2methods_all[~semantic_change_2methods_all['Word'].isin(sci_analysed)].median()[[4]][0]\n",
    "  #print(semantic_change_2methods_all[semantic_change_2methods_all['Word'].isin(sci_analysed)].mean()[[0,4]])\n",
    "  return [vocab1_filtered, vocab2_filtered, vocab_filtered, corr, \n",
    "          mean_cos_chosen, mean_nei_chosen, mean_cos_other, mean_nei_other, mean_cos_unchanged, mean_nei_unchanged, mean_cos_nonscian, mean_nei_nonscian, mean_cos_scian, mean_nei_scian, \n",
    "          median_cos_chosen, median_nei_chosen, median_cos_other, median_nei_other, median_cos_unchanged, median_nei_unchanged, median_cos_nonscian, median_nei_nonscian, median_cos_scian,median_nei_scian]"
   ]
  },
  {
   "cell_type": "markdown",
   "metadata": {
    "id": "wGgmduVklhg2"
   },
   "source": [
    "I try different parameters:"
   ]
  },
  {
   "cell_type": "code",
   "execution_count": null,
   "metadata": {
    "colab": {
     "background_save": true,
     "base_uri": "https://localhost:8080/"
    },
    "id": "SNA_uH89ljRv",
    "outputId": "37608f86-bd93-4a6d-d749-907962a1926d"
   },
   "outputs": [],
   "source": [
    "summary = open(os.path.join(output_folder, 'summary_results.csv'), 'w+')\n",
    "writer = csv.writer(summary, delimiter=',', quotechar='|', quoting=csv.QUOTE_MINIMAL)\n",
    "writer.writerow(['min_freq','max_freq', 'top_n', 'vocab1_filtered', 'vocab2_filtered', \n",
    "                 'Spearman correlation cosine_sim-neighbour_sim', \n",
    "                 'mean_neighbourscore_chosen_words','mean_cosinescore_chosen_words',\n",
    "                 'mean_neighbourscore_other_words','mean_cosinescore_other_words',\n",
    "                 'mean_neighbourscore_unchanged_words','mean_cosinescore_unchanged_words',\n",
    "                 'mean_neighbourscore_non_sci_words_analysed','mean_cosinescore_non_sci_words_analysed',\n",
    "                 'mean_neighbourscore_sci_words_analysed','mean_cosinescore_sci_words_analysed',\n",
    "                 'median_neighbourscore_chosen_words','median_cosinescore_chosen_words',\n",
    "                 'median_neighbourscore_other_words','median_cosinescore_other_words',\n",
    "                 'median_neighbourscore_unchanged_words','median_cosinescore_unchanged_words',\n",
    "                 'median_neighbourscore_non_sci_words_analysed','median_cosinescore_non_sci_words_analysed',\n",
    "                 'median_neighbourscore_sci_words_analysed','median_cosinescore_sci_words_analysed'])\n",
    "min_freq_values = [0,1,5,10,50]\n",
    "max_freq_values = [10000,100000,200000]\n",
    "top_n_values = [10,50,100,1000]\n",
    "for min_freq in min_freq_values:\n",
    "  for max_freq in max_freq_values:\n",
    "    for top_n in top_n_values:\n",
    "      print(min_freq, max_freq, top_n)\n",
    "      [vocab1_filtered, vocab2_filtered, vocab_filtered, corr, \n",
    "       mean_cos_chosen, mean_nei_chosen, mean_cos_other, mean_nei_other, mean_cos_unchanged, mean_nei_unchanged, mean_cos_nonscian, mean_nei_nonscian, mean_cos_scian, mean_nei_scian, \n",
    "       median_cos_chosen, median_nei_chosen, median_cos_other, median_nei_other, median_cos_unchanged, median_nei_unchanged, median_cos_nonscian, median_nei_nonscian, median_cos_scian, median_nei_scian] = compare_two_methods(min_freq, max_freq, top_n)\n",
    "      writer.writerow([min_freq, max_freq, top_n, len(vocab1_filtered), len(vocab2_filtered), corr,\n",
    "                 mean_cos_chosen,mean_nei_chosen,mean_cos_other,mean_nei_other,mean_cos_unchanged,mean_nei_unchanged, mean_cos_nonscian, mean_nei_nonscian,mean_cos_scian,mean_nei_scian,\n",
    "                 median_cos_chosen,median_nei_chosen,median_cos_other,median_nei_other,median_cos_unchanged,median_nei_unchanged, median_cos_nonscian, median_nei_nonscian,median_cos_scian,median_nei_scian])\n",
    "summary.close()"
   ]
  },
  {
   "cell_type": "code",
   "execution_count": null,
   "metadata": {
    "id": "1FZ-HjxvQEqI"
   },
   "outputs": [],
   "source": [
    "\n",
    "\n"
   ]
  }
 ],
 "metadata": {
  "colab": {
   "collapsed_sections": [],
   "name": "Semantic_change.ipynb",
   "provenance": []
  },
  "kernelspec": {
   "display_name": "Python 3",
   "language": "python",
   "name": "python3"
  },
  "language_info": {
   "codemirror_mode": {
    "name": "ipython",
    "version": 3
   },
   "file_extension": ".py",
   "mimetype": "text/x-python",
   "name": "python",
   "nbconvert_exporter": "python",
   "pygments_lexer": "ipython3",
   "version": "3.8.8"
  }
 },
 "nbformat": 4,
 "nbformat_minor": 1
}
